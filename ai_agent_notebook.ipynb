{
 "cells": [
  {
   "cell_type": "markdown",
   "id": "c98d8869",
   "metadata": {},
   "source": [
    "# Ethereum Request for Comments (ERCs) AI Agent"
   ]
  },
  {
   "cell_type": "code",
   "execution_count": 25,
   "id": "ce029fcb",
   "metadata": {},
   "outputs": [],
   "source": [
    "import time\n",
    "from datetime import date, datetime\n",
    "import pandas as pd\n",
    "from typing import List, Any\n",
    "from pydantic_ai import Agent\n",
    "from pydantic import BaseModel\n",
    "from pydantic_ai.messages import ModelMessagesTypeAdapter\n",
    "\n",
    "import random\n",
    "import json\n",
    "import secrets\n",
    "from pathlib import Path\n",
    "from datetime import datetime\n",
    "\n",
    "import io\n",
    "import zipfile\n",
    "import requests\n",
    "import frontmatter\n",
    "import re\n",
    "import textwrap\n",
    "import numpy as np\n",
    "\n",
    "import google.generativeai as genai\n",
    "import os\n",
    "\n",
    "from tqdm.auto import tqdm\n",
    "\n",
    "from minsearch import Index, VectorSearch\n",
    "\n",
    "from sentence_transformers import SentenceTransformer"
   ]
  },
  {
   "cell_type": "markdown",
   "id": "25a76c10",
   "metadata": {},
   "source": [
    "## 1. Ingest and Index Documents"
   ]
  },
  {
   "cell_type": "code",
   "execution_count": 1,
   "id": "bccfa56e",
   "metadata": {},
   "outputs": [],
   "source": [
    "import io\n",
    "import logging\n",
    "import zipfile\n",
    "\n",
    "import frontmatter\n",
    "import requests\n",
    "\n",
    "logging.basicConfig(level=logging.INFO)\n",
    "logger = logging.getLogger(__name__)"
   ]
  },
  {
   "cell_type": "code",
   "execution_count": 2,
   "id": "44ff300a",
   "metadata": {},
   "outputs": [],
   "source": [
    "def read_repo_data(repo_owner, repo_name):\n",
    "    \"\"\"\n",
    "    Download and parse all markdown files from a GitHub repository.\n",
    "\n",
    "    Args:\n",
    "        repo_owner: GitHub username or organization\n",
    "        repo_name: Repository name\n",
    "\n",
    "    Returns:\n",
    "        List of dictionaries containing file content and metadata\n",
    "    \"\"\"\n",
    "    prefix = \"https://github.com\"\n",
    "    url = f\"{prefix}/{repo_owner}/{repo_name}/archive/refs/heads/master.zip\"\n",
    "    resp = requests.get(url)\n",
    "\n",
    "    if resp.status_code != 200:\n",
    "        raise Exception(f\"Failed to download repository: {resp.status_code}\")\n",
    "\n",
    "    repository_data = []\n",
    "    zf = zipfile.ZipFile(io.BytesIO(resp.content))\n",
    "\n",
    "    for file_info in zf.infolist():\n",
    "        filename = file_info.filename\n",
    "        filename_lower = filename.lower()\n",
    "\n",
    "        if not ((filename_lower.endswith(\".md\")) and (filename_lower.startswith(\"ercs-master/ercs\"))):\n",
    "            continue\n",
    "\n",
    "        try:\n",
    "            with zf.open(file_info) as f_in:\n",
    "                content = f_in.read().decode(\"utf-8\", errors=\"ignore\")\n",
    "                post = frontmatter.loads(content)\n",
    "                data = post.to_dict()\n",
    "                data[\"filename\"] = filename\n",
    "                repository_data.append(data)\n",
    "        except Exception as e:\n",
    "            logger.error(f\"Error processing {filename}: {e}\")\n",
    "            continue\n",
    "\n",
    "    zf.close()\n",
    "\n",
    "    return repository_data"
   ]
  },
  {
   "cell_type": "code",
   "execution_count": 3,
   "id": "eaba7796",
   "metadata": {},
   "outputs": [],
   "source": [
    "erc_data = read_repo_data(\"ethereum\", \"ERCs\")"
   ]
  },
  {
   "cell_type": "code",
   "execution_count": 4,
   "id": "363fbb37",
   "metadata": {},
   "outputs": [
    {
     "data": {
      "text/plain": [
       "540"
      ]
     },
     "execution_count": 4,
     "metadata": {},
     "output_type": "execute_result"
    }
   ],
   "source": [
    "len(erc_data)"
   ]
  },
  {
   "cell_type": "code",
   "execution_count": 36,
   "id": "63bd63dc",
   "metadata": {},
   "outputs": [
    {
     "data": {
      "text/plain": [
       "{'eip': 1,\n",
       " 'title': 'EIP Purpose and Guidelines',\n",
       " 'status': 'Living',\n",
       " 'type': 'Meta',\n",
       " 'author': 'Martin Becze <mb@ethereum.org>, Hudson Jameson <hudson@ethereum.org>, et al.',\n",
       " 'created': datetime.date(2015, 10, 27),\n",
       " 'content': '## What is an EIP?\\n\\nEIP stands for Ethereum Improvement Proposal. An EIP is a design document providing information to the Ethereum community, or describing a new feature for Ethereum or its processes or environment. The EIP should provide a concise technical specification of the feature and a rationale for the feature. The EIP author is responsible for building consensus within the community and documenting dissenting opinions.\\n\\n## EIP Rationale\\n\\nWe intend EIPs to be the primary mechanisms for proposing new features, for collecting community technical input on an issue, and for documenting the design decisions that have gone into Ethereum. Because the EIPs are maintained as text files in a versioned repository, their revision history is the historical record of the feature proposal.\\n\\nFor Ethereum implementers, EIPs are a convenient way to track the progress of their implementation. Ideally each implementation maintainer would list the EIPs that they have implemented. This will give end users a convenient way to know the current status of a given implementation or library.\\n\\n## EIP Types\\n\\nThere are three types of EIP:\\n\\n- A **Standards Track EIP** describes any change that affects most or all Ethereum implementations, such as—a change to the network protocol, a change in block or transaction validity rules, proposed application standards/conventions, or any change or addition that affects the interoperability of applications using Ethereum. Standards Track EIPs consist of three parts—a design document, an implementation, and (if warranted) an update to the [formal specification](https://github.com/ethereum/yellowpaper). Furthermore, Standards Track EIPs can be broken down into the following categories:\\n  - **Core**: improvements requiring a consensus fork (e.g. [EIP-5](./eip-5.md), [EIP-101](./eip-101.md)), as well as changes that are not necessarily consensus critical but may be relevant to [“core dev” discussions](https://github.com/ethereum/pm) (for example, [EIP-90], and the miner/node strategy changes 2, 3, and 4 of [EIP-86](./eip-86.md)).\\n  - **Networking**: includes improvements around [devp2p](https://github.com/ethereum/devp2p/blob/readme-spec-links/rlpx.md) ([EIP-8](./eip-8.md)) and [Light Ethereum Subprotocol](https://ethereum.org/en/developers/docs/nodes-and-clients/#light-node), as well as proposed improvements to network protocol specifications of [whisper](https://github.com/ethereum/go-ethereum/issues/16013#issuecomment-364639309) and [swarm](https://github.com/ethereum/go-ethereum/pull/2959).\\n  - **Interface**: includes improvements around language-level standards like method names ([EIP-6](./eip-6.md)) and [contract ABIs](https://docs.soliditylang.org/en/develop/abi-spec.html).\\n  - **ERC**: application-level standards and conventions, including contract standards such as token standards ([ERC-20](./eip-20.md)), name registries ([ERC-137](./eip-137.md)), URI schemes, library/package formats, and wallet formats.\\n\\n- A **Meta EIP** describes a process surrounding Ethereum or proposes a change to (or an event in) a process. Process EIPs are like Standards Track EIPs but apply to areas other than the Ethereum protocol itself. They may propose an implementation, but not to Ethereum\\'s codebase; they often require community consensus; unlike Informational EIPs, they are more than recommendations, and users are typically not free to ignore them. Examples include procedures, guidelines, changes to the decision-making process, and changes to the tools or environment used in Ethereum development. Any meta-EIP is also considered a Process EIP.\\n\\n- An **Informational EIP** describes an Ethereum design issue, or provides general guidelines or information to the Ethereum community, but does not propose a new feature. Informational EIPs do not necessarily represent Ethereum community consensus or a recommendation, so users and implementers are free to ignore Informational EIPs or follow their advice.\\n\\nIt is highly recommended that a single EIP contain a single key proposal or new idea. The more focused the EIP, the more successful it tends to be. A change to one client doesn\\'t require an EIP; a change that affects multiple clients, or defines a standard for multiple apps to use, does.\\n\\nAn EIP must meet certain minimum criteria. It must be a clear and complete description of the proposed enhancement. The enhancement must represent a net improvement. The proposed implementation, if applicable, must be solid and must not complicate the protocol unduly.\\n\\n### Special requirements for Core EIPs\\n\\nIf a **Core** EIP mentions or proposes changes to the EVM (Ethereum Virtual Machine), it should refer to the instructions by their mnemonics and define the opcodes of those mnemonics at least once. A preferred way is the following:\\n\\n```\\nREVERT (0xfe)\\n```\\n\\n## EIP Work Flow\\n\\n### Shepherding an EIP\\n\\nParties involved in the process are you, the champion or *EIP author*, the [*EIP editors*](#eip-editors), and the [*Ethereum Core Developers*](https://github.com/ethereum/pm).\\n\\nBefore you begin writing a formal EIP, you should vet your idea. Ask the Ethereum community first if an idea is original to avoid wasting time on something that will be rejected based on prior research. It is thus recommended to open a discussion thread on [the Ethereum Magicians forum](https://ethereum-magicians.org/) to do this.\\n\\nOnce the idea has been vetted, your next responsibility will be to present (by means of an EIP) the idea to the reviewers and all interested parties, invite editors, developers, and the community to give feedback on the aforementioned channels. You should try and gauge whether the interest in your EIP is commensurate with both the work involved in implementing it and how many parties will have to conform to it. For example, the work required for implementing a Core EIP will be much greater than for an ERC and the EIP will need sufficient interest from the Ethereum client teams. Negative community feedback will be taken into consideration and may prevent your EIP from moving past the Draft stage.\\n\\n### Core EIPs\\n\\nFor Core EIPs, given that they require client implementations to be considered **Final** (see \"EIPs Process\" below), you will need to either provide an implementation for clients or convince clients to implement your EIP.\\n\\nThe best way to get client implementers to review your EIP is to present it on an AllCoreDevs call. You can request to do so by posting a comment linking your EIP on an [AllCoreDevs agenda GitHub Issue](https://github.com/ethereum/pm/issues).  \\n\\nThe AllCoreDevs call serves as a way for client implementers to do three things. First, to discuss the technical merits of EIPs. Second, to gauge what other clients will be implementing. Third, to coordinate EIP implementation for network upgrades.\\n\\nThese calls generally result in a \"rough consensus\" around what EIPs should be implemented. This \"rough consensus\" rests on the assumptions that EIPs are not contentious enough to cause a network split and that they are technically sound.\\n\\n:warning: The EIPs process and AllCoreDevs call were not designed to address contentious non-technical issues, but, due to the lack of other ways to address these, often end up entangled in them. This puts the burden on client implementers to try and gauge community sentiment, which hinders the technical coordination function of EIPs and AllCoreDevs calls. If you are shepherding an EIP, you can make the process of building community consensus easier by making sure that [the Ethereum Magicians forum](https://ethereum-magicians.org/) thread for your EIP includes or links to as much of the community discussion as possible and that various stakeholders are well-represented.\\n\\n*In short, your role as the champion is to write the EIP using the style and format described below, shepherd the discussions in the appropriate forums, and build community consensus around the idea.*\\n\\n### EIP Process\\n\\nThe following is the standardization process for all EIPs in all tracks:\\n\\n![EIP Status Diagram](../assets/eip-1/EIP-process-update.jpg)\\n\\n**Idea** - An idea that is pre-draft. This is not tracked within the EIP Repository.\\n\\n**Draft** - The first formally tracked stage of an EIP in development. An EIP is merged by an EIP Editor into the EIP repository when properly formatted.\\n\\n**Review** - An EIP Author marks an EIP as ready for and requesting Peer Review.\\n\\n**Last Call** - This is the final review window for an EIP before moving to `Final`. An EIP editor will assign `Last Call` status and set a review end date (`last-call-deadline`), typically 14 days later.\\n\\nIf this period results in necessary normative changes it will revert the EIP to `Review`.\\n\\n**Final** - This EIP represents the final standard. A Final EIP exists in a state of finality and should only be updated to correct errata and add non-normative clarifications.\\n\\nA PR moving an EIP from Last Call to Final SHOULD contain no changes other than the status update. Any content or editorial proposed change SHOULD be separate from this status-updating PR and committed prior to it.\\n\\n**Stagnant** - Any EIP in `Draft` or `Review` or `Last Call` if inactive for a period of 6 months or greater is moved to `Stagnant`. An EIP may be resurrected from this state by Authors or EIP Editors through moving it back to `Draft` or its earlier status. If not resurrected, a proposal may stay forever in this status.\\n\\n>*EIP Authors are notified of any algorithmic change to the status of their EIP*\\n\\n**Withdrawn** - The EIP Author(s) have withdrawn the proposed EIP. This state has finality and can no longer be resurrected using this EIP number. If the idea is pursued at later date it is considered a new proposal.\\n\\n**Living** - A special status for EIPs that are designed to be continually updated and not reach a state of finality. This includes most notably EIP-1.\\n\\n## What belongs in a successful EIP?\\n\\nEach EIP should have the following parts:\\n\\n- Preamble - RFC 822 style headers containing metadata about the EIP, including the EIP number, a short descriptive title (limited to a maximum of 44 characters), a description (limited to a maximum of 140 characters), and the author details. Irrespective of the category, the title and description should not include EIP number. See [below](./eip-1.md#eip-header-preamble) for details.\\n- Abstract - Abstract is a multi-sentence (short paragraph) technical summary. This should be a very terse and human-readable version of the specification section. Someone should be able to read only the abstract to get the gist of what this specification does.\\n- Motivation *(optional)* - A motivation section is critical for EIPs that want to change the Ethereum protocol. It should clearly explain why the existing protocol specification is inadequate to address the problem that the EIP solves. This section may be omitted if the motivation is evident.\\n- Specification - The technical specification should describe the syntax and semantics of any new feature. The specification should be detailed enough to allow competing, interoperable implementations for any of the current Ethereum platforms (besu, erigon, ethereumjs, go-ethereum, nethermind, or others).\\n- Rationale - The rationale fleshes out the specification by describing what motivated the design and why particular design decisions were made. It should describe alternate designs that were considered and related work, e.g. how the feature is supported in other languages. The rationale should discuss important objections or concerns raised during discussion around the EIP.\\n- Backwards Compatibility *(optional)* - All EIPs that introduce backwards incompatibilities must include a section describing these incompatibilities and their consequences. The EIP must explain how the author proposes to deal with these incompatibilities. This section may be omitted if the proposal does not introduce any backwards incompatibilities, but this section must be included if backward incompatibilities exist.\\n- Test Cases *(optional)* - Test cases for an implementation are mandatory for EIPs that are affecting consensus changes. Tests should either be inlined in the EIP as data (such as input/expected output pairs) or included in `../assets/eip-###/<filename>`. This section may be omitted for non-Core proposals.\\n- Reference Implementation *(optional)* - An optional section that contains a reference/example implementation that people can use to assist in understanding or implementing this specification. This section may be omitted for all EIPs.\\n- Security Considerations - All EIPs must contain a section that discusses the security implications/considerations relevant to the proposed change. Include information that might be important for security discussions, surfaces risks and can be used throughout the life-cycle of the proposal. E.g. include security-relevant design decisions, concerns, important discussions, implementation-specific guidance and pitfalls, an outline of threats and risks and how they are being addressed. EIP submissions missing the \"Security Considerations\" section will be rejected. An EIP cannot proceed to status \"Final\" without a Security Considerations discussion deemed sufficient by the reviewers.\\n- Copyright Waiver - All EIPs must be in the public domain. The copyright waiver MUST link to the license file and use the following wording: `Copyright and related rights waived via [CC0](../LICENSE.md).`\\n\\n## EIP Formats and Templates\\n\\nEIPs should be written in [markdown](https://github.com/adam-p/markdown-here/wiki/Markdown-Cheatsheet) format. There is a [template](https://github.com/ethereum/EIPs/blob/master/eip-template.md) to follow.\\n\\n## EIP Header Preamble\\n\\nEach EIP must begin with an [RFC 822](https://www.ietf.org/rfc/rfc822.txt) style header preamble, preceded and followed by three hyphens (`---`). This header is also termed [\"front matter\" by Jekyll](https://jekyllrb.com/docs/front-matter/). The headers must appear in the following order.\\n\\n`eip`: *EIP number*\\n\\n`title`: *The EIP title is a few words, not a complete sentence*\\n\\n`description`: *Description is one full (short) sentence*\\n\\n`author`: *The list of the author\\'s or authors\\' name(s) and/or username(s), or name(s) and email(s). Details are below.*\\n\\n`discussions-to`: *The url pointing to the official discussion thread*\\n\\n`status`: *Draft, Review, Last Call, Final, Stagnant, Withdrawn, Living*\\n\\n`last-call-deadline`: *The date last call period ends on* (Optional field, only needed when status is `Last Call`)\\n\\n`type`: *One of `Standards Track`, `Meta`, or `Informational`*\\n\\n`category`: *One of `Core`, `Networking`, `Interface`, or `ERC`* (Optional field, only needed for `Standards Track` EIPs)\\n\\n`created`: *Date the EIP was created on*\\n\\n`requires`: *EIP number(s)* (Optional field)\\n\\n`withdrawal-reason`: *A sentence explaining why the EIP was withdrawn.* (Optional field, only needed when status is `Withdrawn`)\\n\\nHeaders that permit lists must separate elements with commas.\\n\\nHeaders requiring dates will always do so in the format of ISO 8601 (yyyy-mm-dd).\\n\\n### `author` header\\n\\nThe `author` header lists the names, email addresses or usernames of the authors/owners of the EIP. Those who prefer anonymity may use a username only, or a first name and a username. The format of the `author` header value must be:\\n\\n> Random J. User &lt;address@dom.ain&gt;\\n\\nor\\n\\n> Random J. User (@username)\\n\\nor\\n\\n> Random J. User (@username) &lt;address@dom.ain&gt;\\n\\nif the email address and/or GitHub username is included, and\\n\\n> Random J. User\\n\\nif neither the email address nor the GitHub username are given.\\n\\nAt least one author must use a GitHub username, in order to get notified on change requests and have the capability to approve or reject them.\\n\\n### `discussions-to` header\\n\\nWhile an EIP is a draft, a `discussions-to` header will indicate the URL where the EIP is being discussed.\\n\\nThe preferred discussion URL is a topic on [Ethereum Magicians](https://ethereum-magicians.org/). The URL cannot point to Github pull requests, any URL which is ephemeral, and any URL which can get locked over time (i.e. Reddit topics).\\n\\n### `type` header\\n\\nThe `type` header specifies the type of EIP: Standards Track, Meta, or Informational. If the track is Standards please include the subcategory (core, networking, interface, or ERC).\\n\\n### `category` header\\n\\nThe `category` header specifies the EIP\\'s category. This is required for standards-track EIPs only.\\n\\n### `created` header\\n\\nThe `created` header records the date that the EIP was assigned a number. Both headers should be in yyyy-mm-dd format, e.g. 2001-08-14.\\n\\n### `requires` header\\n\\nEIPs may have a `requires` header, indicating the EIP numbers that this EIP depends on. If such a dependency exists, this field is required.\\n\\nA `requires` dependency is created when the current EIP cannot be understood or implemented without a concept or technical element from another EIP. Merely mentioning another EIP does not necessarily create such a dependency.\\n\\n## Linking to External Resources\\n\\nOther than the specific exceptions listed below, links to external resources **SHOULD NOT** be included. External resources may disappear, move, or change unexpectedly.\\n\\nThe process governing permitted external resources is described in [EIP-5757](./eip-5757.md).\\n\\n### Execution Client Specifications\\n\\nLinks to the Ethereum Execution Client Specifications may be included using normal markdown syntax, such as:\\n\\n```markdown\\n[Ethereum Execution Client Specifications](https://github.com/ethereum/execution-specs/blob/9a1f22311f517401fed6c939a159b55600c454af/README.md)\\n```\\n\\nWhich renders to:\\n\\n[Ethereum Execution Client Specifications](https://github.com/ethereum/execution-specs/blob/9a1f22311f517401fed6c939a159b55600c454af/README.md)\\n\\nPermitted Execution Client Specifications URLs must anchor to a specific commit, and so must match this regular expression:\\n\\n```regex\\n^(https://github.com/ethereum/execution-specs/(blob|commit)/[0-9a-f]{40}/.*|https://github.com/ethereum/execution-specs/tree/[0-9a-f]{40}/.*)$\\n```\\n\\n### Execution Specification Tests\\n\\nLinks to the Ethereum Execution Specification Tests (EEST) may be included using normal markdown syntax, such as:\\n\\n```markdown\\n[Ethereum Execution Specification Tests](https://github.com/ethereum/execution-spec-tests/blob/c9b9307ff320c9bb0ecb9a951aeab0da4d9d1684/README.md)\\n```\\n\\nWhich renders to:\\n\\n[Ethereum Execution Specification Tests](https://github.com/ethereum/execution-spec-tests/blob/c9b9307ff320c9bb0ecb9a951aeab0da4d9d1684/README.md)\\n\\nPermitted Execution Specification Tests URLs must anchor to a specific commit, and so must match one of these regular expressions:\\n\\n```regex\\n^https://(www\\\\.)?github\\\\.com/ethereum/execution-spec-tests/(blob|tree)/[a-f0-9]{40}/.+$\\n```\\n\\n```regex\\n^https://(www\\\\.)?github\\\\.com/ethereum/execution-spec-tests/commit/[a-f0-9]{40}$\\n```\\n\\n### Consensus Layer Specifications\\n\\nLinks to specific commits of files within the Ethereum Consensus Layer Specifications may be included using normal markdown syntax, such as:\\n\\n```markdown\\n[Beacon Chain](https://github.com/ethereum/consensus-specs/blob/26695a9fdb747ecbe4f0bb9812fedbc402e5e18c/specs/sharding/beacon-chain.md)\\n```\\n\\nWhich renders to:\\n\\n[Beacon Chain](https://github.com/ethereum/consensus-specs/blob/26695a9fdb747ecbe4f0bb9812fedbc402e5e18c/specs/sharding/beacon-chain.md)\\n\\nPermitted Consensus Layer Specifications URLs must anchor to a specific commit, and so must match this regular expression:\\n\\n```regex\\n^https://github.com/ethereum/consensus-specs/(blob|commit)/[0-9a-f]{40}/.*$\\n```\\n\\n### Networking Specifications\\n\\nLinks to specific commits of files within the Ethereum Networking Specifications may be included using normal markdown syntax, such as:\\n\\n```markdown\\n[Ethereum Wire Protocol](https://github.com/ethereum/devp2p/blob/40ab248bf7e017e83cc9812a4e048446709623e8/caps/eth.md)\\n```\\n\\nWhich renders as:\\n\\n[Ethereum Wire Protocol](https://github.com/ethereum/devp2p/blob/40ab248bf7e017e83cc9812a4e048446709623e8/caps/eth.md)\\n\\nPermitted Networking Specifications URLs must anchor to a specific commit, and so must match this regular expression:\\n\\n```regex\\n^https://github.com/ethereum/devp2p/(blob|commit)/[0-9a-f]{40}/.*$\\n```\\n\\n### Portal Specifications\\n\\nLinks to specific commits of files within the Ethereum Portal Specifications may be included using normal markdown syntax, such as:\\n\\n```markdown\\n[Portal Wire Protocol](https://github.com/ethereum/portal-network-specs/blob/5e321567b67bded7527355be714993c24371de1a/portal-wire-protocol.md)\\n```\\n\\nWhich renders as:\\n\\n[Portal Wire Protocol](https://github.com/ethereum/portal-network-specs/blob/5e321567b67bded7527355be714993c24371de1a/portal-wire-protocol.md)\\n\\nPermitted Networking Specifications URLs must anchor to a specific commit, and so must match this regular expression:\\n\\n```regex\\n^https://github.com/ethereum/portal-network-specs/(blob|commit)/[0-9a-f]{40}/.*$\\n```\\n\\n### World Wide Web Consortium (W3C)\\n\\nLinks to a W3C \"Recommendation\" status specification may be included using normal markdown syntax. For example, the following link would be allowed:\\n\\n```markdown\\n[Secure Contexts](https://www.w3.org/TR/2021/CRD-secure-contexts-20210918/)\\n```\\n\\nWhich renders as:\\n\\n[Secure Contexts](https://www.w3.org/TR/2021/CRD-secure-contexts-20210918/)\\n\\nPermitted W3C recommendation URLs MUST anchor to a specification in the technical reports namespace with a date, and so MUST match this regular expression:\\n\\n```regex\\n^https://www\\\\.w3\\\\.org/TR/[0-9][0-9][0-9][0-9]/.*$\\n```\\n\\n### Web Hypertext Application Technology Working Group (WHATWG)\\n\\nLinks to WHATWG specifications may be included using normal markdown syntax, such as:\\n\\n```markdown\\n[HTML](https://html.spec.whatwg.org/commit-snapshots/578def68a9735a1e36610a6789245ddfc13d24e0/)\\n```\\n\\nWhich renders as:\\n\\n[HTML](https://html.spec.whatwg.org/commit-snapshots/578def68a9735a1e36610a6789245ddfc13d24e0/)\\n\\nPermitted WHATWG specification URLs must anchor to a specification defined in the `spec` subdomain (idea specifications are not allowed) and to a commit snapshot, and so must match this regular expression:\\n\\n```regex\\n^https:\\\\/\\\\/[a-z]*\\\\.spec\\\\.whatwg\\\\.org/commit-snapshots/[0-9a-f]{40}/$\\n```\\n\\nAlthough not recommended by WHATWG, EIPs must anchor to a particular commit so that future readers can refer to the exact version of the living standard that existed at the time the EIP was finalized. This gives readers sufficient information to maintain compatibility, if they so choose, with the version referenced by the EIP and the current living standard.\\n\\n### Internet Engineering Task Force (IETF)\\n\\nLinks to an IETF Request For Comment (RFC) specification may be included using normal markdown syntax, such as:\\n\\n```markdown\\n[RFC 8446](https://www.rfc-editor.org/rfc/rfc8446)\\n```\\n\\nWhich renders as:\\n\\n[RFC 8446](https://www.rfc-editor.org/rfc/rfc8446)\\n\\nPermitted IETF specification URLs MUST anchor to a specification with an assigned RFC number (meaning cannot reference internet drafts), and so MUST match this regular expression:\\n\\n```regex\\n^https:\\\\/\\\\/www.rfc-editor.org\\\\/rfc\\\\/.*$\\n```\\n\\n### Bitcoin Improvement Proposal\\n\\nLinks to Bitcoin Improvement Proposals may be included using normal markdown syntax, such as:\\n\\n```markdown\\n[BIP 38](https://github.com/bitcoin/bips/blob/3db736243cd01389a4dfd98738204df1856dc5b9/bip-0038.mediawiki)\\n```\\n\\nWhich renders to:\\n\\n[BIP 38](https://github.com/bitcoin/bips/blob/3db736243cd01389a4dfd98738204df1856dc5b9/bip-0038.mediawiki)\\n\\nPermitted Bitcoin Improvement Proposal URLs must anchor to a specific commit, and so must match this regular expression:\\n\\n```regex\\n^(https://github.com/bitcoin/bips/blob/[0-9a-f]{40}/bip-[0-9]+\\\\.mediawiki)$\\n```\\n\\n### National Vulnerability Database (NVD)\\n\\nLinks to the Common Vulnerabilities and Exposures (CVE) system as published by the National Institute of Standards and Technology (NIST) may be included, provided they are qualified by the date of the most recent change, using the following syntax:\\n\\n```markdown\\n[CVE-2023-29638 (2023-10-17T10:14:15)](https://nvd.nist.gov/vuln/detail/CVE-2023-29638)\\n```\\n\\nWhich renders to:\\n\\n[CVE-2023-29638 (2023-10-17T10:14:15)](https://nvd.nist.gov/vuln/detail/CVE-2023-29638)\\n\\n### Chain Agnostic Improvement Proposals (CAIPs)\\n\\nLinks to a Chain Agnostic Improvement Proposals (CAIPs) specification may be included using normal markdown syntax, such as:\\n\\n```markdown\\n[CAIP 10](https://github.com/ChainAgnostic/CAIPs/blob/5dd3a2f541d399a82bb32590b52ca4340b09f08b/CAIPs/caip-10.md)\\n```\\n\\nWhich renders to:\\n\\n[CAIP 10](https://github.com/ChainAgnostic/CAIPs/blob/5dd3a2f541d399a82bb32590b52ca4340b09f08b/CAIPs/caip-10.md)\\n\\nPermitted Chain Agnostic URLs must anchor to a specific commit, and so must match this regular expression:\\n\\n```regex\\n^(https://github.com/ChainAgnostic/CAIPs/blob/[0-9a-f]{40}/CAIPs/caip-[0-9]+\\\\.md)$\\n```\\n\\n### Ethereum Yellow Paper\\n\\nLinks to the Ethereum Yellow Paper may be included using normal markdown syntax, such as:\\n\\n```markdown\\n[Ethereum Yellow Paper](https://github.com/ethereum/yellowpaper/blob/9c601d6a58c44928d4f2b837c0350cec9d9259ed/paper.pdf)\\n```\\n\\nWhich renders to:\\n\\n[Ethereum Yellow Paper](https://github.com/ethereum/yellowpaper/blob/9c601d6a58c44928d4f2b837c0350cec9d9259ed/paper.pdf)\\n\\nPermitted Yellow Paper URLs must anchor to a specific commit, and so must match this regular expression:\\n\\n```regex\\n^(https://github\\\\.com/ethereum/yellowpaper/blob/[0-9a-f]{40}/paper\\\\.pdf)$\\n```\\n\\n### Execution Client Specification Tests\\n\\nLinks to the Ethereum Execution Client Specification Tests may be included using normal markdown syntax, such as:\\n\\n```markdown\\n[Ethereum Execution Client Specification Tests](https://github.com/ethereum/execution-spec-tests/blob/d5a3188f122912e137aa2e21ed2a1403e806e424/README.md)\\n```\\n\\nWhich renders to:\\n\\n[Ethereum Execution Client Specification Tests](https://github.com/ethereum/execution-spec-tests/blob/d5a3188f122912e137aa2e21ed2a1403e806e424/README.md)\\n\\nPermitted Execution Client Specification Tests URLs must anchor to a specific commit, and so must match this regular expression:\\n\\n```regex\\n^(https://github.com/ethereum/execution-spec-tests/(blob|commit)/[0-9a-f]{40}/.*|https://github.com/ethereum/execution-spec-tests/tree/[0-9a-f]{40}/.*)$\\n```\\n\\n### Digital Object Identifier System\\n\\nLinks qualified with a Digital Object Identifier (DOI) may be included using the following syntax:\\n\\n````markdown\\nThis is a sentence with a footnote.[^1]\\n\\n[^1]:\\n    ```csl-json\\n    {\\n      \"type\": \"article\",\\n      \"id\": 1,\\n      \"author\": [\\n        {\\n          \"family\": \"Jameson\",\\n          \"given\": \"Hudson\"\\n        }\\n      ],\\n      \"DOI\": \"00.0000/a00000-000-0000-y\",\\n      \"title\": \"An Interesting Article\",\\n      \"original-date\": {\\n        \"date-parts\": [\\n          [2022, 12, 31]\\n        ]\\n      },\\n      \"URL\": \"https://sly-hub.invalid/00.0000/a00000-000-0000-y\",\\n      \"custom\": {\\n        \"additional-urls\": [\\n          \"https://example.com/an-interesting-article.pdf\"\\n        ]\\n      }\\n    }\\n    ```\\n````\\n\\nWhich renders to:\\n\\n<!-- markdownlint-capture -->\\n<!-- markdownlint-disable code-block-style -->\\n\\nThis is a sentence with a footnote.[^1]\\n\\n[^1]:\\n    ```csl-json\\n    {\\n      \"type\": \"article\",\\n      \"id\": 1,\\n      \"author\": [\\n        {\\n          \"family\": \"Jameson\",\\n          \"given\": \"Hudson\"\\n        }\\n      ],\\n      \"DOI\": \"00.0000/a00000-000-0000-y\",\\n      \"title\": \"An Interesting Article\",\\n      \"original-date\": {\\n        \"date-parts\": [\\n          [2022, 12, 31]\\n        ]\\n      },\\n      \"URL\": \"https://sly-hub.invalid/00.0000/a00000-000-0000-y\",\\n      \"custom\": {\\n        \"additional-urls\": [\\n          \"https://example.com/an-interesting-article.pdf\"\\n        ]\\n      }\\n    }\\n    ```\\n\\n<!-- markdownlint-restore -->\\n\\nSee the [Citation Style Language Schema](https://resource.citationstyles.org/schema/v1.0/input/json/csl-data.json) for the supported fields. In addition to passing validation against that schema, references must include a DOI and at least one URL.\\n\\nThe top-level URL field must resolve to a copy of the referenced document which can be viewed at zero cost. Values under `additional-urls` must also resolve to a copy of the referenced document, but may charge a fee.\\n\\n### Execution API Specification\\n\\nLinks to the Ethereum Execution API Specification may be included using normal markdown syntax, such as:\\n\\n```markdown\\n[Ethereum Execution API Specification](https://github.com/ethereum/execution-apis/blob/dd00287101e368752ba264950585dde4b61cdc17/README.md)\\n```\\n\\nWhich renders to:\\n\\n[Ethereum Execution API Specification](https://github.com/ethereum/execution-apis/blob/dd00287101e368752ba264950585dde4b61cdc17/README.md)\\n\\nPermitted Execution API Specification URLs must anchor to a specific commit, and so must match this regular expression:\\n\\n```regex\\n^(https://github.com/ethereum/execution-apis/(blob|commit)/[0-9a-f]{40}/.*|https://github.com/ethereum/execution-apis/tree/[0-9a-f]{40}/.*)$\\n```\\n\\n## Linking to other EIPs\\n\\nReferences to other EIPs should follow the format `EIP-N` where `N` is the EIP number you are referring to.  Each EIP that is referenced in an EIP **MUST** be accompanied by a relative markdown link the first time it is referenced, and **MAY** be accompanied by a link on subsequent references.  The link **MUST** always be done via relative paths so that the links work in this GitHub repository, forks of this repository, the main EIPs site, mirrors of the main EIP site, etc.  For example, you would link to this EIP as `./eip-1.md`.\\n\\n## Auxiliary Files\\n\\nImages, diagrams and auxiliary files should be included in a subdirectory of the `assets` folder for that EIP as follows: `assets/eip-N` (where **N** is to be replaced with the EIP number). When linking to an image in the EIP, use relative links such as `../assets/eip-1/image.png`.\\n\\n## Transferring EIP Ownership\\n\\nIt occasionally becomes necessary to transfer ownership of EIPs to a new champion. In general, we\\'d like to retain the original author as a co-author of the transferred EIP, but that\\'s really up to the original author. A good reason to transfer ownership is because the original author no longer has the time or interest in updating it or following through with the EIP process, or has fallen off the face of the \\'net (i.e. is unreachable or isn\\'t responding to email). A bad reason to transfer ownership is because you don\\'t agree with the direction of the EIP. We try to build consensus around an EIP, but if that\\'s not possible, you can always submit a competing EIP.\\n\\nIf you are interested in assuming ownership of an EIP, send a message asking to take over, addressed to both the original author and the EIP editor. If the original author doesn\\'t respond to the email in a timely manner, the EIP editor will make a unilateral decision (it\\'s not like such decisions can\\'t be reversed :)).\\n\\n## EIP Editors\\n\\nThe current EIP editors are\\n\\n- Matt Garnett (@lightclient)\\n- Sam Wilson (@SamWilsn)\\n- Zainan Victor Zhou (@xinbenlv)\\n- Gajinder Singh (@g11tech)\\n\\nEmeritus EIP editors are\\n\\n- Alex Beregszaszi (@axic)\\n- Casey Detrio (@cdetrio)\\n- Gavin John (@Pandapip1)\\n- Greg Colvin (@gcolvin)\\n- Hudson Jameson (@Souptacular)\\n- Martin Becze (@wanderer)\\n- Micah Zoltu (@MicahZoltu)\\n- Nick Johnson (@arachnid)\\n- Nick Savers (@nicksavers)\\n- Vitalik Buterin (@vbuterin)\\n\\nIf you would like to become an EIP editor, please check [EIP-5069](./eip-5069.md).\\n\\n## EIP Editor Responsibilities\\n\\nFor each new EIP that comes in, an editor does the following:\\n\\n- Read the EIP to check if it is ready: sound and complete. The ideas must make technical sense, even if they don\\'t seem likely to get to final status.\\n- The title should accurately describe the content.\\n- Check the EIP for language (spelling, grammar, sentence structure, etc.), markup (GitHub flavored Markdown), code style\\n\\nIf the EIP isn\\'t ready, the editor will send it back to the author for revision, with specific instructions.\\n\\nOnce the EIP is ready for the repository, the EIP editor will:\\n\\n- Assign an EIP number (generally incremental; editors can reassign if number sniping is suspected)\\n- Merge the corresponding [pull request](https://github.com/ethereum/EIPs/pulls)\\n- Send a message back to the EIP author with the next step.\\n\\nMany EIPs are written and maintained by developers with write access to the Ethereum codebase. The EIP editors monitor EIP changes, and correct any structure, grammar, spelling, or markup mistakes we see.\\n\\nThe editors don\\'t pass judgment on EIPs. We merely do the administrative & editorial part.\\n\\n## Style Guide\\n\\n### Titles\\n\\nThe `title` field in the preamble:\\n\\n- Should not include the word \"standard\" or any variation thereof; and\\n- Should not include the EIP\\'s number.\\n\\n### Descriptions\\n\\nThe `description` field in the preamble:\\n\\n- Should not include the word \"standard\" or any variation thereof; and\\n- Should not include the EIP\\'s number.\\n\\n### EIP numbers\\n\\nWhen referring to an EIP with a `category` of `ERC`, it must be written in the hyphenated form `ERC-X` where `X` is that EIP\\'s assigned number. When referring to EIPs with any other `category`, it must be written in the hyphenated form `EIP-X` where `X` is that EIP\\'s assigned number.\\n\\n### RFC 2119 and RFC 8174\\n\\nEIPs are encouraged to follow [RFC 2119](https://www.ietf.org/rfc/rfc2119.html) and [RFC 8174](https://www.ietf.org/rfc/rfc8174.html) for terminology and to insert the following at the beginning of the Specification section:\\n\\n> The key words \"MUST\", \"MUST NOT\", \"REQUIRED\", \"SHALL\", \"SHALL NOT\", \"SHOULD\", \"SHOULD NOT\", \"RECOMMENDED\", \"NOT RECOMMENDED\", \"MAY\", and \"OPTIONAL\" in this document are to be interpreted as described in RFC 2119 and RFC 8174.\\n\\n## History\\n\\nThis document was derived heavily from [Bitcoin\\'s BIP-0001](https://github.com/bitcoin/bips) written by Amir Taaki which in turn was derived from [Python\\'s PEP-0001](https://peps.python.org/). In many places text was simply copied and modified. Although the PEP-0001 text was written by Barry Warsaw, Jeremy Hylton, and David Goodger, they are not responsible for its use in the Ethereum Improvement Process, and should not be bothered with technical questions specific to Ethereum or the EIP. Please direct all comments to the EIP editors.\\n\\n## Copyright\\n\\nCopyright and related rights waived via [CC0](../LICENSE.md).',\n",
       " 'filename': 'ERCs-master/ERCS/eip-1.md'}"
      ]
     },
     "execution_count": 36,
     "metadata": {},
     "output_type": "execute_result"
    }
   ],
   "source": [
    "erc_data[0]"
   ]
  },
  {
   "cell_type": "code",
   "execution_count": 69,
   "id": "f0d27bd5",
   "metadata": {},
   "outputs": [
    {
     "data": {
      "text/plain": [
       "{'eip': 1387,\n",
       " 'title': 'Merkle Tree Attestations with Privacy enabled',\n",
       " 'author': 'Weiwu Zhang <a@colourful.land>, James Sangalli <j.l.sangalli@gmail.com>',\n",
       " 'discussions-to': 'https://github.com/ethereum/EIPs/issues/1387',\n",
       " 'status': 'Stagnant',\n",
       " 'type': 'Standards Track',\n",
       " 'category': 'ERC',\n",
       " 'created': datetime.date(2018, 9, 8),\n",
       " 'content': '### Introduction\\n\\nIt\\'s often needed that an Ethereum smart contract must verify a claim (I live in Australia) attested by a valid attester.\\n\\nFor example, an ICO contract might require that the participant, Alice, lives in Australia before she participates. Alice\\'s claim of residency could come from a local Justice of the Peace who could attest that \"Alice is a resident of Australia in NSW\".\\n\\nUnlike previous attempts, we assume that the attestation is signed and issued off the blockchain in a Merkle Tree format. Only a part of the Merkle tree is revealed by Alice at each use. Therefore we avoid the privacy problem often associated with issuing attestations on chain. We also assume that Alice has multiple signed Merkle Trees for the same factual claim to avoid her transactions being linkable.\\n\\n## Purpose\\nThis ERC provides an interface and reference implementation for smart contracts that need users to provide an attestation and validate it.\\n\\n### Draft implementation\\n```solidity\\ncontract MerkleTreeAttestationInterface {\\n    struct Attestation\\n    {\\n        bytes32[] merklePath;\\n        bool valid;\\n        uint8 v;\\n        bytes32 r;\\n        bytes32 s;\\n        address attester;\\n        address recipient;\\n        bytes32 salt;\\n        bytes32 key;\\n        bytes32 val;\\n    }\\n\\n    function validate(Attestation attestation) public returns(bool);\\n}\\n\\n```\\n### Relevant implementation examples\\n[Here](https://github.com/alpha-wallet/blockchain-attestation/blob/master/ethereum/lib/MerkleTreeAttestation.sol) is an example implementation of the MerkleTreeAttestationInterface\\n[Here](https://github.com/alpha-wallet/blockchain-attestation/blob/master/ethereum/example-james-squire/james-squire.sol) is an example service which would use such a merkle tree attestation\\n\\n### Related ERC\\'s\\n#1388 #1386',\n",
       " 'filename': 'ERCs-master/ERCS/erc-1387.md'}"
      ]
     },
     "execution_count": 69,
     "metadata": {},
     "output_type": "execute_result"
    }
   ],
   "source": [
    "erc_data[30]"
   ]
  },
  {
   "cell_type": "code",
   "execution_count": 70,
   "id": "163d5745",
   "metadata": {},
   "outputs": [
    {
     "name": "stdout",
     "output_type": "stream",
     "text": [
      "ERCs-master/ERCS/eip-1.md\n",
      "ERCs-master/ERCS/erc-1046.md\n",
      "ERCs-master/ERCS/erc-1056.md\n",
      "ERCs-master/ERCS/erc-1062.md\n",
      "ERCs-master/ERCS/erc-1066.md\n",
      "ERCs-master/ERCS/erc-1077.md\n",
      "ERCs-master/ERCS/erc-1078.md\n",
      "ERCs-master/ERCS/erc-1080.md\n",
      "ERCs-master/ERCS/erc-1081.md\n",
      "ERCs-master/ERCS/erc-1123.md\n",
      "ERCs-master/ERCS/erc-1129.md\n",
      "ERCs-master/ERCS/erc-1132.md\n",
      "ERCs-master/ERCS/erc-1154.md\n",
      "ERCs-master/ERCS/erc-1155.md\n",
      "ERCs-master/ERCS/erc-1167.md\n",
      "ERCs-master/ERCS/erc-1175.md\n",
      "ERCs-master/ERCS/erc-1178.md\n",
      "ERCs-master/ERCS/erc-1185.md\n",
      "ERCs-master/ERCS/erc-1191.md\n",
      "ERCs-master/ERCS/erc-1202.md\n",
      "ERCs-master/ERCS/erc-1203.md\n",
      "ERCs-master/ERCS/erc-1207.md\n",
      "ERCs-master/ERCS/erc-1261.md\n",
      "ERCs-master/ERCS/erc-1271.md\n",
      "ERCs-master/ERCS/erc-1319.md\n",
      "ERCs-master/ERCS/erc-1328.md\n",
      "ERCs-master/ERCS/erc-1337.md\n",
      "ERCs-master/ERCS/erc-1363.md\n",
      "ERCs-master/ERCS/erc-137.md\n",
      "ERCs-master/ERCS/erc-1386.md\n",
      "ERCs-master/ERCS/erc-1387.md\n",
      "ERCs-master/ERCS/erc-1388.md\n",
      "ERCs-master/ERCS/erc-1417.md\n",
      "ERCs-master/ERCS/erc-1438.md\n",
      "ERCs-master/ERCS/erc-1444.md\n",
      "ERCs-master/ERCS/erc-1450.md\n",
      "ERCs-master/ERCS/erc-1462.md\n",
      "ERCs-master/ERCS/erc-1484.md\n",
      "ERCs-master/ERCS/erc-1491.md\n",
      "ERCs-master/ERCS/erc-1504.md\n",
      "ERCs-master/ERCS/erc-1523.md\n",
      "ERCs-master/ERCS/erc-1538.md\n",
      "ERCs-master/ERCS/erc-1577.md\n",
      "ERCs-master/ERCS/erc-1581.md\n",
      "ERCs-master/ERCS/erc-1592.md\n",
      "ERCs-master/ERCS/erc-1613.md\n",
      "ERCs-master/ERCS/erc-1616.md\n",
      "ERCs-master/ERCS/erc-162.md\n",
      "ERCs-master/ERCS/erc-1620.md\n",
      "ERCs-master/ERCS/erc-1633.md\n",
      "ERCs-master/ERCS/erc-165.md\n",
      "ERCs-master/ERCS/erc-1710.md\n",
      "ERCs-master/ERCS/erc-173.md\n",
      "ERCs-master/ERCS/erc-1753.md\n",
      "ERCs-master/ERCS/erc-1761.md\n",
      "ERCs-master/ERCS/erc-1775.md\n",
      "ERCs-master/ERCS/erc-181.md\n",
      "ERCs-master/ERCS/erc-1812.md\n",
      "ERCs-master/ERCS/erc-1820.md\n",
      "ERCs-master/ERCS/erc-1822.md\n",
      "ERCs-master/ERCS/erc-1844.md\n",
      "ERCs-master/ERCS/erc-190.md\n",
      "ERCs-master/ERCS/erc-1900.md\n",
      "ERCs-master/ERCS/erc-191.md\n",
      "ERCs-master/ERCS/erc-1921.md\n",
      "ERCs-master/ERCS/erc-1922.md\n",
      "ERCs-master/ERCS/erc-1923.md\n",
      "ERCs-master/ERCS/erc-1948.md\n",
      "ERCs-master/ERCS/erc-1967.md\n",
      "ERCs-master/ERCS/erc-1973.md\n",
      "ERCs-master/ERCS/erc-1996.md\n",
      "ERCs-master/ERCS/erc-20.md\n",
      "ERCs-master/ERCS/erc-2009.md\n",
      "ERCs-master/ERCS/erc-2018.md\n",
      "ERCs-master/ERCS/erc-2019.md\n",
      "ERCs-master/ERCS/erc-2020.md\n",
      "ERCs-master/ERCS/erc-2021.md\n",
      "ERCs-master/ERCS/erc-205.md\n",
      "ERCs-master/ERCS/erc-2098.md\n",
      "ERCs-master/ERCS/erc-2135.md\n",
      "ERCs-master/ERCS/erc-2157.md\n",
      "ERCs-master/ERCS/erc-2193.md\n",
      "ERCs-master/ERCS/erc-223.md\n",
      "ERCs-master/ERCS/erc-2266.md\n",
      "ERCs-master/ERCS/erc-2304.md\n",
      "ERCs-master/ERCS/erc-2309.md\n",
      "ERCs-master/ERCS/erc-2333.md\n",
      "ERCs-master/ERCS/erc-2334.md\n",
      "ERCs-master/ERCS/erc-2335.md\n",
      "ERCs-master/ERCS/erc-2386.md\n",
      "ERCs-master/ERCS/erc-2390.md\n",
      "ERCs-master/ERCS/erc-2400.md\n",
      "ERCs-master/ERCS/erc-2470.md\n",
      "ERCs-master/ERCS/erc-2477.md\n",
      "ERCs-master/ERCS/erc-2494.md\n",
      "ERCs-master/ERCS/erc-2520.md\n",
      "ERCs-master/ERCS/erc-2525.md\n",
      "ERCs-master/ERCS/erc-2535.md\n",
      "ERCs-master/ERCS/erc-2544.md\n",
      "ERCs-master/ERCS/erc-2569.md\n",
      "ERCs-master/ERCS/erc-2612.md\n",
      "ERCs-master/ERCS/erc-2615.md\n",
      "ERCs-master/ERCS/erc-2645.md\n",
      "ERCs-master/ERCS/erc-2678.md\n",
      "ERCs-master/ERCS/erc-2680.md\n",
      "ERCs-master/ERCS/erc-2746.md\n",
      "ERCs-master/ERCS/erc-2767.md\n",
      "ERCs-master/ERCS/erc-2770.md\n",
      "ERCs-master/ERCS/erc-2771.md\n",
      "ERCs-master/ERCS/erc-2848.md\n",
      "ERCs-master/ERCS/erc-2876.md\n",
      "ERCs-master/ERCS/erc-2917.md\n",
      "ERCs-master/ERCS/erc-2942.md\n",
      "ERCs-master/ERCS/erc-2980.md\n",
      "ERCs-master/ERCS/erc-2981.md\n",
      "ERCs-master/ERCS/erc-3000.md\n",
      "ERCs-master/ERCS/erc-3005.md\n",
      "ERCs-master/ERCS/erc-3009.md\n",
      "ERCs-master/ERCS/erc-3135.md\n",
      "ERCs-master/ERCS/erc-3156.md\n",
      "ERCs-master/ERCS/erc-3224.md\n",
      "ERCs-master/ERCS/erc-3234.md\n",
      "ERCs-master/ERCS/erc-3386.md\n",
      "ERCs-master/ERCS/erc-3440.md\n",
      "ERCs-master/ERCS/erc-3448.md\n",
      "ERCs-master/ERCS/erc-3450.md\n",
      "ERCs-master/ERCS/erc-3475.md\n",
      "ERCs-master/ERCS/erc-3525.md\n",
      "ERCs-master/ERCS/erc-3561.md\n",
      "ERCs-master/ERCS/erc-3569.md\n",
      "ERCs-master/ERCS/erc-3589.md\n",
      "ERCs-master/ERCS/erc-3643.md\n",
      "ERCs-master/ERCS/erc-3668.md\n",
      "ERCs-master/ERCS/erc-3722.md\n",
      "ERCs-master/ERCS/erc-3754.md\n",
      "ERCs-master/ERCS/erc-3770.md\n",
      "ERCs-master/ERCS/erc-3772.md\n",
      "ERCs-master/ERCS/erc-4337.md\n",
      "ERCs-master/ERCS/erc-4341.md\n",
      "ERCs-master/ERCS/erc-4353.md\n",
      "ERCs-master/ERCS/erc-4361.md\n",
      "ERCs-master/ERCS/erc-4393.md\n",
      "ERCs-master/ERCS/erc-4400.md\n",
      "ERCs-master/ERCS/erc-4430.md\n",
      "ERCs-master/ERCS/erc-4494.md\n",
      "ERCs-master/ERCS/erc-4519.md\n",
      "ERCs-master/ERCS/erc-4521.md\n",
      "ERCs-master/ERCS/erc-4524.md\n",
      "ERCs-master/ERCS/erc-4527.md\n",
      "ERCs-master/ERCS/erc-4546.md\n",
      "ERCs-master/ERCS/erc-4626.md\n",
      "ERCs-master/ERCS/erc-4671.md\n",
      "ERCs-master/ERCS/erc-4675.md\n",
      "ERCs-master/ERCS/erc-4799.md\n",
      "ERCs-master/ERCS/erc-4804.md\n",
      "ERCs-master/ERCS/erc-4824.md\n",
      "ERCs-master/ERCS/erc-4834.md\n",
      "ERCs-master/ERCS/erc-4883.md\n",
      "ERCs-master/ERCS/erc-4885.md\n",
      "ERCs-master/ERCS/erc-4886.md\n",
      "ERCs-master/ERCS/erc-4906.md\n",
      "ERCs-master/ERCS/erc-4907.md\n",
      "ERCs-master/ERCS/erc-4910.md\n",
      "ERCs-master/ERCS/erc-4931.md\n",
      "ERCs-master/ERCS/erc-4944.md\n",
      "ERCs-master/ERCS/erc-4950.md\n",
      "ERCs-master/ERCS/erc-4955.md\n",
      "ERCs-master/ERCS/erc-4972.md\n",
      "ERCs-master/ERCS/erc-4973.md\n",
      "ERCs-master/ERCS/erc-4974.md\n",
      "ERCs-master/ERCS/erc-4987.md\n",
      "ERCs-master/ERCS/erc-5005.md\n",
      "ERCs-master/ERCS/erc-5006.md\n",
      "ERCs-master/ERCS/erc-5007.md\n",
      "ERCs-master/ERCS/erc-5008.md\n",
      "ERCs-master/ERCS/erc-5018.md\n",
      "ERCs-master/ERCS/erc-5023.md\n",
      "ERCs-master/ERCS/erc-5050.md\n",
      "ERCs-master/ERCS/erc-5058.md\n",
      "ERCs-master/ERCS/erc-5094.md\n",
      "ERCs-master/ERCS/erc-5095.md\n",
      "ERCs-master/ERCS/erc-5114.md\n",
      "ERCs-master/ERCS/erc-5115.md\n",
      "ERCs-master/ERCS/erc-5131.md\n",
      "ERCs-master/ERCS/erc-5139.md\n",
      "ERCs-master/ERCS/erc-5143.md\n",
      "ERCs-master/ERCS/erc-5164.md\n",
      "ERCs-master/ERCS/erc-5169.md\n",
      "ERCs-master/ERCS/erc-5173.md\n",
      "ERCs-master/ERCS/erc-5185.md\n",
      "ERCs-master/ERCS/erc-5187.md\n",
      "ERCs-master/ERCS/erc-5189.md\n",
      "ERCs-master/ERCS/erc-5192.md\n",
      "ERCs-master/ERCS/erc-5202.md\n",
      "ERCs-master/ERCS/erc-5216.md\n",
      "ERCs-master/ERCS/erc-5218.md\n",
      "ERCs-master/ERCS/erc-5219.md\n",
      "ERCs-master/ERCS/erc-5247.md\n",
      "ERCs-master/ERCS/erc-5252.md\n",
      "ERCs-master/ERCS/erc-5267.md\n",
      "ERCs-master/ERCS/erc-5269.md\n",
      "ERCs-master/ERCS/erc-5289.md\n",
      "ERCs-master/ERCS/erc-5298.md\n",
      "ERCs-master/ERCS/erc-5313.md\n",
      "ERCs-master/ERCS/erc-5334.md\n",
      "ERCs-master/ERCS/erc-5375.md\n",
      "ERCs-master/ERCS/erc-5380.md\n",
      "ERCs-master/ERCS/erc-5409.md\n",
      "ERCs-master/ERCS/erc-5437.md\n",
      "ERCs-master/ERCS/erc-5453.md\n",
      "ERCs-master/ERCS/erc-5484.md\n",
      "ERCs-master/ERCS/erc-5485.md\n",
      "ERCs-master/ERCS/erc-5489.md\n",
      "ERCs-master/ERCS/erc-5496.md\n",
      "ERCs-master/ERCS/erc-55.md\n",
      "ERCs-master/ERCS/erc-5501.md\n",
      "ERCs-master/ERCS/erc-5505.md\n",
      "ERCs-master/ERCS/erc-5507.md\n",
      "ERCs-master/ERCS/erc-5516.md\n",
      "ERCs-master/ERCS/erc-5521.md\n",
      "ERCs-master/ERCS/erc-5528.md\n",
      "ERCs-master/ERCS/erc-5539.md\n",
      "ERCs-master/ERCS/erc-5553.md\n",
      "ERCs-master/ERCS/erc-5554.md\n",
      "ERCs-master/ERCS/erc-5559.md\n",
      "ERCs-master/ERCS/erc-5560.md\n",
      "ERCs-master/ERCS/erc-5564.md\n",
      "ERCs-master/ERCS/erc-5568.md\n",
      "ERCs-master/ERCS/erc-5570.md\n",
      "ERCs-master/ERCS/erc-5573.md\n",
      "ERCs-master/ERCS/erc-5585.md\n",
      "ERCs-master/ERCS/erc-5604.md\n",
      "ERCs-master/ERCS/erc-5606.md\n",
      "ERCs-master/ERCS/erc-5615.md\n",
      "ERCs-master/ERCS/erc-5625.md\n",
      "ERCs-master/ERCS/erc-5630.md\n",
      "ERCs-master/ERCS/erc-5633.md\n",
      "ERCs-master/ERCS/erc-5635.md\n",
      "ERCs-master/ERCS/erc-5639.md\n",
      "ERCs-master/ERCS/erc-5643.md\n",
      "ERCs-master/ERCS/erc-5646.md\n",
      "ERCs-master/ERCS/erc-5679.md\n",
      "ERCs-master/ERCS/erc-5700.md\n",
      "ERCs-master/ERCS/erc-5719.md\n",
      "ERCs-master/ERCS/erc-5725.md\n",
      "ERCs-master/ERCS/erc-5727.md\n",
      "ERCs-master/ERCS/erc-5732.md\n",
      "ERCs-master/ERCS/erc-5744.md\n",
      "ERCs-master/ERCS/erc-5750.md\n",
      "ERCs-master/ERCS/erc-5753.md\n",
      "ERCs-master/ERCS/erc-5773.md\n",
      "ERCs-master/ERCS/erc-5791.md\n",
      "ERCs-master/ERCS/erc-5805.md\n",
      "ERCs-master/ERCS/erc-5827.md\n",
      "ERCs-master/ERCS/erc-5850.md\n",
      "ERCs-master/ERCS/erc-5851.md\n",
      "ERCs-master/ERCS/erc-5883.md\n",
      "ERCs-master/ERCS/erc-5902.md\n",
      "ERCs-master/ERCS/erc-5982.md\n",
      "ERCs-master/ERCS/erc-600.md\n",
      "ERCs-master/ERCS/erc-601.md\n",
      "ERCs-master/ERCS/erc-6047.md\n",
      "ERCs-master/ERCS/erc-6059.md\n",
      "ERCs-master/ERCS/erc-6065.md\n",
      "ERCs-master/ERCS/erc-6066.md\n",
      "ERCs-master/ERCS/erc-6093.md\n",
      "ERCs-master/ERCS/erc-6105.md\n",
      "ERCs-master/ERCS/erc-6120.md\n",
      "ERCs-master/ERCS/erc-6123.md\n",
      "ERCs-master/ERCS/erc-6147.md\n",
      "ERCs-master/ERCS/erc-6150.md\n",
      "ERCs-master/ERCS/erc-6170.md\n",
      "ERCs-master/ERCS/erc-6220.md\n",
      "ERCs-master/ERCS/erc-6224.md\n",
      "ERCs-master/ERCS/erc-6229.md\n",
      "ERCs-master/ERCS/erc-6239.md\n",
      "ERCs-master/ERCS/erc-6268.md\n",
      "ERCs-master/ERCS/erc-6315.md\n",
      "ERCs-master/ERCS/erc-6327.md\n",
      "ERCs-master/ERCS/erc-634.md\n",
      "ERCs-master/ERCS/erc-6353.md\n",
      "ERCs-master/ERCS/erc-6357.md\n",
      "ERCs-master/ERCS/erc-6358.md\n",
      "ERCs-master/ERCS/erc-6366.md\n",
      "ERCs-master/ERCS/erc-6372.md\n",
      "ERCs-master/ERCS/erc-6381.md\n",
      "ERCs-master/ERCS/erc-6384.md\n",
      "ERCs-master/ERCS/erc-6454.md\n",
      "ERCs-master/ERCS/erc-6464.md\n",
      "ERCs-master/ERCS/erc-6492.md\n",
      "ERCs-master/ERCS/erc-6506.md\n",
      "ERCs-master/ERCS/erc-6538.md\n",
      "ERCs-master/ERCS/erc-6551.md\n",
      "ERCs-master/ERCS/erc-6596.md\n",
      "ERCs-master/ERCS/erc-6604.md\n",
      "ERCs-master/ERCS/erc-6617.md\n",
      "ERCs-master/ERCS/erc-6662.md\n",
      "ERCs-master/ERCS/erc-6672.md\n",
      "ERCs-master/ERCS/erc-6682.md\n",
      "ERCs-master/ERCS/erc-67.md\n",
      "ERCs-master/ERCS/erc-6734.md\n",
      "ERCs-master/ERCS/erc-6735.md\n",
      "ERCs-master/ERCS/erc-6785.md\n",
      "ERCs-master/ERCS/erc-6786.md\n",
      "ERCs-master/ERCS/erc-6787.md\n",
      "ERCs-master/ERCS/erc-6806.md\n",
      "ERCs-master/ERCS/erc-6808.md\n",
      "ERCs-master/ERCS/erc-6809.md\n",
      "ERCs-master/ERCS/erc-681.md\n",
      "ERCs-master/ERCS/erc-6821.md\n",
      "ERCs-master/ERCS/erc-6823.md\n",
      "ERCs-master/ERCS/erc-6860.md\n",
      "ERCs-master/ERCS/erc-6864.md\n",
      "ERCs-master/ERCS/erc-6865.md\n",
      "ERCs-master/ERCS/erc-6900.md\n",
      "ERCs-master/ERCS/erc-6909.md\n",
      "ERCs-master/ERCS/erc-6932.md\n",
      "ERCs-master/ERCS/erc-6944.md\n",
      "ERCs-master/ERCS/erc-6956.md\n",
      "ERCs-master/ERCS/erc-6960.md\n",
      "ERCs-master/ERCS/erc-6981.md\n",
      "ERCs-master/ERCS/erc-6982.md\n",
      "ERCs-master/ERCS/erc-6997.md\n",
      "ERCs-master/ERCS/erc-7007.md\n",
      "ERCs-master/ERCS/erc-7015.md\n",
      "ERCs-master/ERCS/erc-7053.md\n",
      "ERCs-master/ERCS/erc-7066.md\n",
      "ERCs-master/ERCS/erc-7085.md\n",
      "ERCs-master/ERCS/erc-7087.md\n",
      "ERCs-master/ERCS/erc-7092.md\n",
      "ERCs-master/ERCS/erc-7093.md\n",
      "ERCs-master/ERCS/erc-7144.md\n",
      "ERCs-master/ERCS/erc-7160.md\n",
      "ERCs-master/ERCS/erc-7196.md\n",
      "ERCs-master/ERCS/erc-7201.md\n",
      "ERCs-master/ERCS/erc-7204.md\n",
      "ERCs-master/ERCS/erc-7208.md\n",
      "ERCs-master/ERCS/erc-721.md\n",
      "ERCs-master/ERCS/erc-7231.md\n",
      "ERCs-master/ERCS/erc-7246.md\n",
      "ERCs-master/ERCS/erc-725.md\n",
      "ERCs-master/ERCS/erc-7254.md\n",
      "ERCs-master/ERCS/erc-7272.md\n",
      "ERCs-master/ERCS/erc-7280.md\n",
      "ERCs-master/ERCS/erc-7291.md\n",
      "ERCs-master/ERCS/erc-7303.md\n",
      "ERCs-master/ERCS/erc-7390.md\n",
      "ERCs-master/ERCS/erc-7399.md\n",
      "ERCs-master/ERCS/erc-7401.md\n",
      "ERCs-master/ERCS/erc-7405.md\n",
      "ERCs-master/ERCS/erc-7406.md\n",
      "ERCs-master/ERCS/erc-7409.md\n",
      "ERCs-master/ERCS/erc-7410.md\n",
      "ERCs-master/ERCS/erc-7412.md\n",
      "ERCs-master/ERCS/erc-7417.md\n",
      "ERCs-master/ERCS/erc-7425.md\n",
      "ERCs-master/ERCS/erc-7432.md\n",
      "ERCs-master/ERCS/erc-7439.md\n",
      "ERCs-master/ERCS/erc-7444.md\n",
      "ERCs-master/ERCS/erc-7484.md\n",
      "ERCs-master/ERCS/erc-7496.md\n",
      "ERCs-master/ERCS/erc-7498.md\n",
      "ERCs-master/ERCS/erc-7506.md\n",
      "ERCs-master/ERCS/erc-7507.md\n",
      "ERCs-master/ERCS/erc-7508.md\n",
      "ERCs-master/ERCS/erc-7509.md\n",
      "ERCs-master/ERCS/erc-7510.md\n",
      "ERCs-master/ERCS/erc-7511.md\n",
      "ERCs-master/ERCS/erc-7512.md\n",
      "ERCs-master/ERCS/erc-7513.md\n",
      "ERCs-master/ERCS/erc-7517.md\n",
      "ERCs-master/ERCS/erc-7518.md\n",
      "ERCs-master/ERCS/erc-7521.md\n",
      "ERCs-master/ERCS/erc-7522.md\n",
      "ERCs-master/ERCS/erc-7524.md\n",
      "ERCs-master/ERCS/erc-7527.md\n",
      "ERCs-master/ERCS/erc-7528.md\n",
      "ERCs-master/ERCS/erc-7529.md\n",
      "ERCs-master/ERCS/erc-7531.md\n",
      "ERCs-master/ERCS/erc-7533.md\n",
      "ERCs-master/ERCS/erc-7535.md\n",
      "ERCs-master/ERCS/erc-7538.md\n",
      "ERCs-master/ERCS/erc-7540.md\n",
      "ERCs-master/ERCS/erc-7546.md\n",
      "ERCs-master/ERCS/erc-7548.md\n",
      "ERCs-master/ERCS/erc-7555.md\n",
      "ERCs-master/ERCS/erc-7561.md\n",
      "ERCs-master/ERCS/erc-7562.md\n",
      "ERCs-master/ERCS/erc-7564.md\n",
      "ERCs-master/ERCS/erc-7565.md\n",
      "ERCs-master/ERCS/erc-7566.md\n",
      "ERCs-master/ERCS/erc-7572.md\n",
      "ERCs-master/ERCS/erc-7573.md\n",
      "ERCs-master/ERCS/erc-7575.md\n",
      "ERCs-master/ERCS/erc-7578.md\n",
      "ERCs-master/ERCS/erc-7579.md\n",
      "ERCs-master/ERCS/erc-7580.md\n",
      "ERCs-master/ERCS/erc-7582.md\n",
      "ERCs-master/ERCS/erc-7585.md\n",
      "ERCs-master/ERCS/erc-7586.md\n",
      "ERCs-master/ERCS/erc-7588.md\n",
      "ERCs-master/ERCS/erc-7589.md\n",
      "ERCs-master/ERCS/erc-7590.md\n",
      "ERCs-master/ERCS/erc-7595.md\n",
      "ERCs-master/ERCS/erc-7597.md\n",
      "ERCs-master/ERCS/erc-7598.md\n",
      "ERCs-master/ERCS/erc-7603.md\n",
      "ERCs-master/ERCS/erc-7604.md\n",
      "ERCs-master/ERCS/erc-7613.md\n",
      "ERCs-master/ERCS/erc-7615.md\n",
      "ERCs-master/ERCS/erc-7617.md\n",
      "ERCs-master/ERCS/erc-7618.md\n",
      "ERCs-master/ERCS/erc-7621.md\n",
      "ERCs-master/ERCS/erc-7627.md\n",
      "ERCs-master/ERCS/erc-7628.md\n",
      "ERCs-master/ERCS/erc-7629.md\n",
      "ERCs-master/ERCS/erc-7631.md\n",
      "ERCs-master/ERCS/erc-7632.md\n",
      "ERCs-master/ERCS/erc-7634.md\n",
      "ERCs-master/ERCS/erc-7638.md\n",
      "ERCs-master/ERCS/erc-7641.md\n",
      "ERCs-master/ERCS/erc-7644.md\n",
      "ERCs-master/ERCS/erc-7649.md\n",
      "ERCs-master/ERCS/erc-7651.md\n",
      "ERCs-master/ERCS/erc-7652.md\n",
      "ERCs-master/ERCS/erc-7654.md\n",
      "ERCs-master/ERCS/erc-7656.md\n",
      "ERCs-master/ERCS/erc-7662.md\n",
      "ERCs-master/ERCS/erc-7673.md\n",
      "ERCs-master/ERCS/erc-7674.md\n",
      "ERCs-master/ERCS/erc-7677.md\n",
      "ERCs-master/ERCS/erc-7679.md\n",
      "ERCs-master/ERCS/erc-7681.md\n",
      "ERCs-master/ERCS/erc-7682.md\n",
      "ERCs-master/ERCS/erc-7683.md\n",
      "ERCs-master/ERCS/erc-7694.md\n",
      "ERCs-master/ERCS/erc-7695.md\n",
      "ERCs-master/ERCS/erc-7699.md\n",
      "ERCs-master/ERCS/erc-7700.md\n",
      "ERCs-master/ERCS/erc-7710.md\n",
      "ERCs-master/ERCS/erc-7715.md\n",
      "ERCs-master/ERCS/erc-7720.md\n",
      "ERCs-master/ERCS/erc-7721.md\n",
      "ERCs-master/ERCS/erc-7722.md\n",
      "ERCs-master/ERCS/erc-7726.md\n",
      "ERCs-master/ERCS/erc-7729.md\n",
      "ERCs-master/ERCS/erc-7730.md\n",
      "ERCs-master/ERCS/erc-7734.md\n",
      "ERCs-master/ERCS/erc-7738.md\n",
      "ERCs-master/ERCS/erc-7739.md\n",
      "ERCs-master/ERCS/erc-7741.md\n",
      "ERCs-master/ERCS/erc-7743.md\n",
      "ERCs-master/ERCS/erc-7744.md\n",
      "ERCs-master/ERCS/erc-7746.md\n",
      "ERCs-master/ERCS/erc-7750.md\n",
      "ERCs-master/ERCS/erc-7751.md\n",
      "ERCs-master/ERCS/erc-7754.md\n",
      "ERCs-master/ERCS/erc-7758.md\n",
      "ERCs-master/ERCS/erc-7760.md\n",
      "ERCs-master/ERCS/erc-7765.md\n",
      "ERCs-master/ERCS/erc-7766.md\n",
      "ERCs-master/ERCS/erc-7769.md\n",
      "ERCs-master/ERCS/erc-777.md\n",
      "ERCs-master/ERCS/erc-7770.md\n",
      "ERCs-master/ERCS/erc-7774.md\n",
      "ERCs-master/ERCS/erc-7776.md\n",
      "ERCs-master/ERCS/erc-7777.md\n",
      "ERCs-master/ERCS/erc-7779.md\n",
      "ERCs-master/ERCS/erc-7780.md\n",
      "ERCs-master/ERCS/erc-7785.md\n",
      "ERCs-master/ERCS/erc-7786.md\n",
      "ERCs-master/ERCS/erc-7787.md\n",
      "ERCs-master/ERCS/erc-7794.md\n",
      "ERCs-master/ERCS/erc-7795.md\n",
      "ERCs-master/ERCS/erc-7796.md\n",
      "ERCs-master/ERCS/erc-7802.md\n",
      "ERCs-master/ERCS/erc-7803.md\n",
      "ERCs-master/ERCS/erc-7806.md\n",
      "ERCs-master/ERCS/erc-7811.md\n",
      "ERCs-master/ERCS/erc-7812.md\n",
      "ERCs-master/ERCS/erc-7813.md\n",
      "ERCs-master/ERCS/erc-7818.md\n",
      "ERCs-master/ERCS/erc-7820.md\n",
      "ERCs-master/ERCS/erc-7821.md\n",
      "ERCs-master/ERCS/erc-7828.md\n",
      "ERCs-master/ERCS/erc-7829.md\n",
      "ERCs-master/ERCS/erc-7831.md\n",
      "ERCs-master/ERCS/erc-7832.md\n",
      "ERCs-master/ERCS/erc-7836.md\n",
      "ERCs-master/ERCS/erc-7837.md\n",
      "ERCs-master/ERCS/erc-7845.md\n",
      "ERCs-master/ERCS/erc-7846.md\n",
      "ERCs-master/ERCS/erc-7847.md\n",
      "ERCs-master/ERCS/erc-7856.md\n",
      "ERCs-master/ERCS/erc-7857.md\n",
      "ERCs-master/ERCS/erc-7858.md\n",
      "ERCs-master/ERCS/erc-7861.md\n",
      "ERCs-master/ERCS/erc-7866.md\n",
      "ERCs-master/ERCS/erc-7871.md\n",
      "ERCs-master/ERCS/erc-7878.md\n",
      "ERCs-master/ERCS/erc-7884.md\n",
      "ERCs-master/ERCS/erc-7887.md\n",
      "ERCs-master/ERCS/erc-7888.md\n",
      "ERCs-master/ERCS/erc-7891.md\n",
      "ERCs-master/ERCS/erc-7893.md\n",
      "ERCs-master/ERCS/erc-7895.md\n",
      "ERCs-master/ERCS/erc-7897.md\n",
      "ERCs-master/ERCS/erc-7902.md\n",
      "ERCs-master/ERCS/erc-7908.md\n",
      "ERCs-master/ERCS/erc-7913.md\n",
      "ERCs-master/ERCS/erc-7920.md\n",
      "ERCs-master/ERCS/erc-7929.md\n",
      "ERCs-master/ERCS/erc-7930.md\n",
      "ERCs-master/ERCS/erc-7936.md\n",
      "ERCs-master/ERCS/erc-7943.md\n",
      "ERCs-master/ERCS/erc-7946.md\n",
      "ERCs-master/ERCS/erc-7947.md\n",
      "ERCs-master/ERCS/erc-7950.md\n",
      "ERCs-master/ERCS/erc-7955.md\n",
      "ERCs-master/ERCS/erc-7964.md\n",
      "ERCs-master/ERCS/erc-7965.md\n",
      "ERCs-master/ERCS/erc-7968.md\n",
      "ERCs-master/ERCS/erc-7969.md\n",
      "ERCs-master/ERCS/erc-7985.md\n",
      "ERCs-master/ERCS/erc-8001.md\n",
      "ERCs-master/ERCS/erc-8004.md\n",
      "ERCs-master/ERCS/erc-801.md\n",
      "ERCs-master/ERCS/erc-820.md\n",
      "ERCs-master/ERCS/erc-823.md\n",
      "ERCs-master/ERCS/erc-831.md\n",
      "ERCs-master/ERCS/erc-838.md\n",
      "ERCs-master/ERCS/erc-875.md\n",
      "ERCs-master/ERCS/erc-884.md\n",
      "ERCs-master/ERCS/erc-897.md\n",
      "ERCs-master/ERCS/erc-900.md\n",
      "ERCs-master/ERCS/erc-902.md\n",
      "ERCs-master/ERCS/erc-918.md\n",
      "ERCs-master/ERCS/erc-926.md\n",
      "ERCs-master/ERCS/erc-927.md\n",
      "ERCs-master/ERCS/erc-998.md\n"
     ]
    }
   ],
   "source": [
    "for record in erc_data:\n",
    "    print(record['filename'])"
   ]
  },
  {
   "cell_type": "markdown",
   "id": "02cc6461",
   "metadata": {},
   "source": [
    "## 2. Chunking and Intelligent Processing for Data"
   ]
  },
  {
   "cell_type": "markdown",
   "id": "b4ce418c",
   "metadata": {},
   "source": [
    "### 2.1 Splitting by Paragraphs"
   ]
  },
  {
   "cell_type": "code",
   "execution_count": 113,
   "id": "8b1e7345",
   "metadata": {},
   "outputs": [],
   "source": [
    "import re\n",
    "import textwrap\n",
    "\n",
    "text = erc_data[45]['content']\n",
    "paragraphs = re.split(r\"\\n\\s*\\n\", text.strip())"
   ]
  },
  {
   "cell_type": "code",
   "execution_count": 114,
   "id": "2631fc6c",
   "metadata": {},
   "outputs": [
    {
     "data": {
      "text/plain": [
       "60"
      ]
     },
     "execution_count": 114,
     "metadata": {},
     "output_type": "execute_result"
    }
   ],
   "source": [
    "len(paragraphs)"
   ]
  },
  {
   "cell_type": "code",
   "execution_count": 115,
   "id": "eed13322",
   "metadata": {},
   "outputs": [
    {
     "data": {
      "text/plain": [
       "'## Simple Summary\\nMake smart contracts (e.g. dapps) accessible to non-ether users by allowing contracts to accept \"[collect-calls](https://en.wikipedia.org/wiki/Collect_call)\", paying for incoming calls. \\nLet contracts \"listen\" on publicly accessible channels (e.g. web URL or a whisper address). \\nIncentivize nodes to run \"gas stations\" to facilitate this. \\nRequire no network changes, and minimal contract changes.'"
      ]
     },
     "execution_count": 115,
     "metadata": {},
     "output_type": "execute_result"
    }
   ],
   "source": [
    "paragraphs[0]"
   ]
  },
  {
   "cell_type": "code",
   "execution_count": 116,
   "id": "cc02f5c0",
   "metadata": {},
   "outputs": [
    {
     "name": "stdout",
     "output_type": "stream",
     "text": [
      "## Simple Summary Make smart contracts (e.g. dapps) accessible to non-ether users by allowing\n",
      "contracts to accept \"[collect-calls](https://en.wikipedia.org/wiki/Collect_call)\", paying for\n",
      "incoming calls.  Let contracts \"listen\" on publicly accessible channels (e.g. web URL or a whisper\n",
      "address).  Incentivize nodes to run \"gas stations\" to facilitate this.  Require no network changes,\n",
      "and minimal contract changes.\n"
     ]
    }
   ],
   "source": [
    "print(textwrap.fill(paragraphs[0], width=100))"
   ]
  },
  {
   "cell_type": "code",
   "execution_count": 117,
   "id": "ca7e96fc",
   "metadata": {},
   "outputs": [
    {
     "name": "stdout",
     "output_type": "stream",
     "text": [
      "## Abstract Communicating with dapps currently requires paying ETH for gas, which limits dapp\n",
      "adoption to ether users.  Therefore, contract owners may wish to pay for the gas to increase user\n",
      "acquisition, or let their users pay for gas with fiat money.  Alternatively, a 3rd party may wish to\n",
      "subsidize the gas costs of certain contracts.  Solutions such as described in\n",
      "[EIP-1077](./eip-1077.md) could allow transactions from addresses that hold no ETH.\n"
     ]
    }
   ],
   "source": [
    "print(textwrap.fill(paragraphs[1], width=100))"
   ]
  },
  {
   "cell_type": "code",
   "execution_count": 120,
   "id": "34616d9d",
   "metadata": {},
   "outputs": [
    {
     "name": "stdout",
     "output_type": "stream",
     "text": [
      "A working implementation of the [**gas stations network**](https://github.com/tabookey-dev/tabookey-\n",
      "gasless) is being developed by **TabooKey**. It consists of `RelayHub`, `RelayRecipient`, `web3\n",
      "hooks`, an implementation of a gas station inside `geth`, and sample dapps using the gas stations\n",
      "network.\n"
     ]
    }
   ],
   "source": [
    "print(textwrap.fill(paragraphs[58], width=100))"
   ]
  },
  {
   "cell_type": "code",
   "execution_count": 121,
   "id": "0527f9a4",
   "metadata": {},
   "outputs": [
    {
     "name": "stdout",
     "output_type": "stream",
     "text": [
      "## Copyright Copyright and related rights waived via [CC0](../LICENSE.md).\n"
     ]
    }
   ],
   "source": [
    "print(textwrap.fill(paragraphs[59], width=100))"
   ]
  },
  {
   "cell_type": "markdown",
   "id": "a5917a4f",
   "metadata": {},
   "source": [
    "The spliting by paragraphs doens't make sense because the text subject is lost."
   ]
  },
  {
   "cell_type": "markdown",
   "id": "c6a1428f",
   "metadata": {},
   "source": [
    "### 2.2 Sliding Window Chunking"
   ]
  },
  {
   "cell_type": "code",
   "execution_count": 4,
   "id": "54118c3d",
   "metadata": {},
   "outputs": [],
   "source": [
    "def sliding_window(seq, size, step):\n",
    "    if size <= 0 or step <= 0:\n",
    "        raise ValueError(\"size and step must be positive\")\n",
    "\n",
    "    n = len(seq)\n",
    "    result = []\n",
    "    for i in range(0, n, step):\n",
    "        chunk = seq[i:i+size]\n",
    "        result.append({'start': i, 'chunk': chunk})\n",
    "        if i + size >= n:\n",
    "            break\n",
    "\n",
    "    return result"
   ]
  },
  {
   "cell_type": "code",
   "execution_count": 5,
   "id": "67a851cb",
   "metadata": {},
   "outputs": [],
   "source": [
    "erc_data_chunks = []\n",
    "\n",
    "for doc in erc_data:\n",
    "    doc_copy = doc.copy()\n",
    "    doc_content = doc_copy.pop('content')\n",
    "    chunks = sliding_window(doc_content, 2000, 1000)\n",
    "    for chunk in chunks:\n",
    "        chunk.update(doc_copy)\n",
    "    erc_data_chunks.extend(chunks)"
   ]
  },
  {
   "cell_type": "code",
   "execution_count": 6,
   "id": "98d03c80",
   "metadata": {},
   "outputs": [
    {
     "data": {
      "text/plain": [
       "7022"
      ]
     },
     "execution_count": 6,
     "metadata": {},
     "output_type": "execute_result"
    }
   ],
   "source": [
    "len(erc_data_chunks)"
   ]
  },
  {
   "cell_type": "code",
   "execution_count": 92,
   "id": "7b638bfe",
   "metadata": {},
   "outputs": [
    {
     "data": {
      "text/plain": [
       "{'start': 0,\n",
       " 'chunk': '## What is an EIP?\\n\\nEIP stands for Ethereum Improvement Proposal. An EIP is a design document providing information to the Ethereum community, or describing a new feature for Ethereum or its processes or environment. The EIP should provide a concise technical specification of the feature and a rationale for the feature. The EIP author is responsible for building consensus within the community and documenting dissenting opinions.\\n\\n## EIP Rationale\\n\\nWe intend EIPs to be the primary mechanisms for proposing new features, for collecting community technical input on an issue, and for documenting the design decisions that have gone into Ethereum. Because the EIPs are maintained as text files in a versioned repository, their revision history is the historical record of the feature proposal.\\n\\nFor Ethereum implementers, EIPs are a convenient way to track the progress of their implementation. Ideally each implementation maintainer would list the EIPs that they have implemented. This will give end users a convenient way to know the current status of a given implementation or library.\\n\\n## EIP Types\\n\\nThere are three types of EIP:\\n\\n- A **Standards Track EIP** describes any change that affects most or all Ethereum implementations, such as—a change to the network protocol, a change in block or transaction validity rules, proposed application standards/conventions, or any change or addition that affects the interoperability of applications using Ethereum. Standards Track EIPs consist of three parts—a design document, an implementation, and (if warranted) an update to the [formal specification](https://github.com/ethereum/yellowpaper). Furthermore, Standards Track EIPs can be broken down into the following categories:\\n  - **Core**: improvements requiring a consensus fork (e.g. [EIP-5](./eip-5.md), [EIP-101](./eip-101.md)), as well as changes that are not necessarily consensus critical but may be relevant to [“core dev” discussions](https://github.com/ethereum/pm) (for example, [EIP-9',\n",
       " 'eip': 1,\n",
       " 'title': 'EIP Purpose and Guidelines',\n",
       " 'status': 'Living',\n",
       " 'type': 'Meta',\n",
       " 'author': 'Martin Becze <mb@ethereum.org>, Hudson Jameson <hudson@ethereum.org>, et al.',\n",
       " 'created': datetime.date(2015, 10, 27),\n",
       " 'filename': 'ERCs-master/ERCS/eip-1.md'}"
      ]
     },
     "execution_count": 92,
     "metadata": {},
     "output_type": "execute_result"
    }
   ],
   "source": [
    "erc_data_chunks[0]"
   ]
  },
  {
   "cell_type": "code",
   "execution_count": 93,
   "id": "0fa259d4",
   "metadata": {},
   "outputs": [
    {
     "data": {
      "text/plain": [
       "2000"
      ]
     },
     "execution_count": 93,
     "metadata": {},
     "output_type": "execute_result"
    }
   ],
   "source": [
    "len(erc_data_chunks[0][\"chunk\"])"
   ]
  },
  {
   "cell_type": "code",
   "execution_count": 96,
   "id": "0f7953c3",
   "metadata": {},
   "outputs": [
    {
     "name": "stdout",
     "output_type": "stream",
     "text": [
      "## What is an EIP?\n",
      "\n",
      "EIP stands for Ethereum Improvement Proposal. An EIP is a design document providing information to the Ethereum community, or describing a new feature for Ethereum or its processes or environment. The EIP should provide a concise technical specification of the feature and a rationale for the feature. The EIP author is responsible for building consensus within the community and documenting dissenting opinions.\n",
      "\n",
      "## EIP Rationale\n",
      "\n",
      "We intend EIPs to be the primary mechanisms for proposing new features, for collecting community technical input on an issue, and for documenting the design decisions that have gone into Ethereum. Because the EIPs are maintained as text files in a versioned repository, their revision history is the historical record of the feature proposal.\n",
      "\n",
      "For Ethereum implementers, EIPs are a convenient way to track the progress of their implementation. Ideally each implementation maintainer would list the EIPs that they have implemented. This will give end users a convenient way to know the current status of a given implementation or library.\n",
      "\n",
      "## EIP Types\n",
      "\n",
      "There are three types of EIP:\n",
      "\n",
      "- A **Standards Track EIP** describes any change that affects most or all Ethereum implementations, such as—a change to the network protocol, a change in block or transaction validity rules, proposed application standards/conventions, or any change or addition that affects the interoperability of applications using Ethereum. Standards Track EIPs consist of three parts—a design document, an implementation, and (if warranted) an update to the [formal specification](https://github.com/ethereum/yellowpaper). Furthermore, Standards Track EIPs can be broken down into the following categories:\n",
      "  - **Core**: improvements requiring a consensus fork (e.g. [EIP-5](./eip-5.md), [EIP-101](./eip-101.md)), as well as changes that are not necessarily consensus critical but may be relevant to [“core dev” discussions](https://github.com/ethereum/pm) (for example, [EIP-9\n"
     ]
    }
   ],
   "source": [
    "print(erc_data_chunks[0][\"chunk\"], sep=\"\\n\")"
   ]
  },
  {
   "cell_type": "code",
   "execution_count": 81,
   "id": "9653636f",
   "metadata": {},
   "outputs": [
    {
     "name": "stdout",
     "output_type": "stream",
     "text": [
      "d users a convenient way to know the current status of a given implementation or library.\n",
      "\n",
      "## EIP Types\n",
      "\n",
      "There are three types of EIP:\n",
      "\n",
      "- A **Standards Track EIP** describes any change that affects most or all Ethereum implementations, such as—a change to the network protocol, a change in block or transaction validity rules, proposed application standards/conventions, or any change or addition that affects the interoperability of applications using Ethereum. Standards Track EIPs consist of three parts—a design document, an implementation, and (if warranted) an update to the [formal specification](https://github.com/ethereum/yellowpaper). Furthermore, Standards Track EIPs can be broken down into the following categories:\n",
      "  - **Core**: improvements requiring a consensus fork (e.g. [EIP-5](./eip-5.md), [EIP-101](./eip-101.md)), as well as changes that are not necessarily consensus critical but may be relevant to [“core dev” discussions](https://github.com/ethereum/pm) (for example, [EIP-90], and the miner/node strategy changes 2, 3, and 4 of [EIP-86](./eip-86.md)).\n",
      "  - **Networking**: includes improvements around [devp2p](https://github.com/ethereum/devp2p/blob/readme-spec-links/rlpx.md) ([EIP-8](./eip-8.md)) and [Light Ethereum Subprotocol](https://ethereum.org/en/developers/docs/nodes-and-clients/#light-node), as well as proposed improvements to network protocol specifications of [whisper](https://github.com/ethereum/go-ethereum/issues/16013#issuecomment-364639309) and [swarm](https://github.com/ethereum/go-ethereum/pull/2959).\n",
      "  - **Interface**: includes improvements around language-level standards like method names ([EIP-6](./eip-6.md)) and [contract ABIs](https://docs.soliditylang.org/en/develop/abi-spec.html).\n",
      "  - **ERC**: application-level standards and conventions, including contract standards such as token standards ([ERC-20](./eip-20.md)), name registries ([ERC-137](./eip-137.md)), URI schemes, library/package formats, and wallet formats.\n",
      "\n",
      "- A **Meta EIP** de\n"
     ]
    }
   ],
   "source": [
    "print(erc_data_chunks[1][\"chunk\"], sep=\"\\n\")"
   ]
  },
  {
   "cell_type": "code",
   "execution_count": 82,
   "id": "2dc09e49",
   "metadata": {},
   "outputs": [
    {
     "name": "stdout",
     "output_type": "stream",
     "text": [
      "0], and the miner/node strategy changes 2, 3, and 4 of [EIP-86](./eip-86.md)).\n",
      "  - **Networking**: includes improvements around [devp2p](https://github.com/ethereum/devp2p/blob/readme-spec-links/rlpx.md) ([EIP-8](./eip-8.md)) and [Light Ethereum Subprotocol](https://ethereum.org/en/developers/docs/nodes-and-clients/#light-node), as well as proposed improvements to network protocol specifications of [whisper](https://github.com/ethereum/go-ethereum/issues/16013#issuecomment-364639309) and [swarm](https://github.com/ethereum/go-ethereum/pull/2959).\n",
      "  - **Interface**: includes improvements around language-level standards like method names ([EIP-6](./eip-6.md)) and [contract ABIs](https://docs.soliditylang.org/en/develop/abi-spec.html).\n",
      "  - **ERC**: application-level standards and conventions, including contract standards such as token standards ([ERC-20](./eip-20.md)), name registries ([ERC-137](./eip-137.md)), URI schemes, library/package formats, and wallet formats.\n",
      "\n",
      "- A **Meta EIP** describes a process surrounding Ethereum or proposes a change to (or an event in) a process. Process EIPs are like Standards Track EIPs but apply to areas other than the Ethereum protocol itself. They may propose an implementation, but not to Ethereum's codebase; they often require community consensus; unlike Informational EIPs, they are more than recommendations, and users are typically not free to ignore them. Examples include procedures, guidelines, changes to the decision-making process, and changes to the tools or environment used in Ethereum development. Any meta-EIP is also considered a Process EIP.\n",
      "\n",
      "- An **Informational EIP** describes an Ethereum design issue, or provides general guidelines or information to the Ethereum community, but does not propose a new feature. Informational EIPs do not necessarily represent Ethereum community consensus or a recommendation, so users and implementers are free to ignore Informational EIPs or follow their advice.\n",
      "\n",
      "It is highly recommended tha\n"
     ]
    }
   ],
   "source": [
    "print(erc_data_chunks[2][\"chunk\"], sep=\"\\n\")"
   ]
  },
  {
   "cell_type": "markdown",
   "id": "f38a3b76",
   "metadata": {},
   "source": [
    "It's clear that the chunking strategy didn't work well for this dataset. The chunks often start or end in the middle of sentences, making them less coherent. A better approach would be to split the text at natural boundaries, such as paragraphs or sentences, rather than using fixed character counts. This would help maintain the context and meaning of the content within each chunk."
   ]
  },
  {
   "cell_type": "markdown",
   "id": "ca8e0279",
   "metadata": {},
   "source": [
    "### 2.3 Splitting by Sections"
   ]
  },
  {
   "cell_type": "code",
   "execution_count": 97,
   "id": "b159e1c8",
   "metadata": {},
   "outputs": [],
   "source": [
    "import re\n",
    "\n",
    "def split_markdown_by_level(text, level=2):\n",
    "    \"\"\"\n",
    "    Split markdown text by a specific header level.\n",
    "    \n",
    "    :param text: Markdown text as a string\n",
    "    :param level: Header level to split on\n",
    "    :return: List of sections as strings\n",
    "    \"\"\"\n",
    "    # This regex matches markdown headers\n",
    "    # For level 2, it matches lines starting with \"## \"\n",
    "    header_pattern = r'^(#{' + str(level) + r'} )(.+)$'\n",
    "    pattern = re.compile(header_pattern, re.MULTILINE)\n",
    "\n",
    "    # Split and keep the headers\n",
    "    parts = pattern.split(text)\n",
    "    \n",
    "    sections = []\n",
    "    for i in range(1, len(parts), 3):\n",
    "        # We step by 3 because regex.split() with\n",
    "        # capturing groups returns:\n",
    "        # [before_match, group1, group2, after_match, ...]\n",
    "        # here group1 is \"## \", group2 is the header text\n",
    "        header = parts[i] + parts[i+1]  # \"## \" + \"Title\"\n",
    "        header = header.strip()\n",
    "\n",
    "        # Get the content after this header\n",
    "        content = \"\"\n",
    "        if i+2 < len(parts):\n",
    "            content = parts[i+2].strip()\n",
    "\n",
    "        if content:\n",
    "            section = f'{header}\\n\\n{content}'\n",
    "        else:\n",
    "            section = header\n",
    "        sections.append(section)\n",
    "    \n",
    "    return sections"
   ]
  },
  {
   "cell_type": "code",
   "execution_count": 99,
   "id": "5281169d",
   "metadata": {},
   "outputs": [],
   "source": [
    "erc_data_chunks_sections = []\n",
    "\n",
    "for doc in erc_data:\n",
    "    doc_copy = doc.copy()\n",
    "    doc_content = doc_copy.pop('content')\n",
    "    sections = split_markdown_by_level(doc_content, level=2)\n",
    "    for section in sections:\n",
    "        section_doc = doc_copy.copy()\n",
    "        section_doc['section'] = section\n",
    "        erc_data_chunks_sections.append(section_doc)"
   ]
  },
  {
   "cell_type": "code",
   "execution_count": 100,
   "id": "008ec849",
   "metadata": {},
   "outputs": [
    {
     "data": {
      "text/plain": [
       "4141"
      ]
     },
     "execution_count": 100,
     "metadata": {},
     "output_type": "execute_result"
    }
   ],
   "source": [
    "len(erc_data_chunks_sections)"
   ]
  },
  {
   "cell_type": "code",
   "execution_count": 101,
   "id": "ba32fbbf",
   "metadata": {},
   "outputs": [
    {
     "data": {
      "text/plain": [
       "{'eip': 1,\n",
       " 'title': 'EIP Purpose and Guidelines',\n",
       " 'status': 'Living',\n",
       " 'type': 'Meta',\n",
       " 'author': 'Martin Becze <mb@ethereum.org>, Hudson Jameson <hudson@ethereum.org>, et al.',\n",
       " 'created': datetime.date(2015, 10, 27),\n",
       " 'filename': 'ERCs-master/ERCS/eip-1.md',\n",
       " 'section': '## What is an EIP?\\n\\nEIP stands for Ethereum Improvement Proposal. An EIP is a design document providing information to the Ethereum community, or describing a new feature for Ethereum or its processes or environment. The EIP should provide a concise technical specification of the feature and a rationale for the feature. The EIP author is responsible for building consensus within the community and documenting dissenting opinions.'}"
      ]
     },
     "execution_count": 101,
     "metadata": {},
     "output_type": "execute_result"
    }
   ],
   "source": [
    "erc_data_chunks_sections[0]"
   ]
  },
  {
   "cell_type": "code",
   "execution_count": 103,
   "id": "0920158e",
   "metadata": {},
   "outputs": [],
   "source": [
    "import textwrap"
   ]
  },
  {
   "cell_type": "code",
   "execution_count": 104,
   "id": "38c3c8f3",
   "metadata": {},
   "outputs": [
    {
     "name": "stdout",
     "output_type": "stream",
     "text": [
      "## What is an EIP?  EIP stands for Ethereum Improvement Proposal. An EIP is a design document\n",
      "providing information to the Ethereum community, or describing a new feature for Ethereum or its\n",
      "processes or environment. The EIP should provide a concise technical specification of the feature\n",
      "and a rationale for the feature. The EIP author is responsible for building consensus within the\n",
      "community and documenting dissenting opinions.\n"
     ]
    }
   ],
   "source": [
    "print(textwrap.fill(erc_data_chunks_sections[0][\"section\"], width=100))"
   ]
  },
  {
   "cell_type": "code",
   "execution_count": 106,
   "id": "8e2ff2ed",
   "metadata": {},
   "outputs": [
    {
     "name": "stdout",
     "output_type": "stream",
     "text": [
      "## EIP Rationale  We intend EIPs to be the primary mechanisms for proposing new features, for\n",
      "collecting community technical input on an issue, and for documenting the design decisions that have\n",
      "gone into Ethereum. Because the EIPs are maintained as text files in a versioned repository, their\n",
      "revision history is the historical record of the feature proposal.  For Ethereum implementers, EIPs\n",
      "are a convenient way to track the progress of their implementation. Ideally each implementation\n",
      "maintainer would list the EIPs that they have implemented. This will give end users a convenient way\n",
      "to know the current status of a given implementation or library.\n"
     ]
    }
   ],
   "source": [
    "print(textwrap.fill(erc_data_chunks_sections[1][\"section\"], width=100))"
   ]
  },
  {
   "cell_type": "code",
   "execution_count": 107,
   "id": "589eaa7c",
   "metadata": {},
   "outputs": [
    {
     "name": "stdout",
     "output_type": "stream",
     "text": [
      "## EIP Work Flow  ### Shepherding an EIP  Parties involved in the process are you, the champion or\n",
      "*EIP author*, the [*EIP editors*](#eip-editors), and the [*Ethereum Core\n",
      "Developers*](https://github.com/ethereum/pm).  Before you begin writing a formal EIP, you should vet\n",
      "your idea. Ask the Ethereum community first if an idea is original to avoid wasting time on\n",
      "something that will be rejected based on prior research. It is thus recommended to open a discussion\n",
      "thread on [the Ethereum Magicians forum](https://ethereum-magicians.org/) to do this.  Once the idea\n",
      "has been vetted, your next responsibility will be to present (by means of an EIP) the idea to the\n",
      "reviewers and all interested parties, invite editors, developers, and the community to give feedback\n",
      "on the aforementioned channels. You should try and gauge whether the interest in your EIP is\n",
      "commensurate with both the work involved in implementing it and how many parties will have to\n",
      "conform to it. For example, the work required for implementing a Core EIP will be much greater than\n",
      "for an ERC and the EIP will need sufficient interest from the Ethereum client teams. Negative\n",
      "community feedback will be taken into consideration and may prevent your EIP from moving past the\n",
      "Draft stage.  ### Core EIPs  For Core EIPs, given that they require client implementations to be\n",
      "considered **Final** (see \"EIPs Process\" below), you will need to either provide an implementation\n",
      "for clients or convince clients to implement your EIP.  The best way to get client implementers to\n",
      "review your EIP is to present it on an AllCoreDevs call. You can request to do so by posting a\n",
      "comment linking your EIP on an [AllCoreDevs agenda GitHub\n",
      "Issue](https://github.com/ethereum/pm/issues).    The AllCoreDevs call serves as a way for client\n",
      "implementers to do three things. First, to discuss the technical merits of EIPs. Second, to gauge\n",
      "what other clients will be implementing. Third, to coordinate EIP implementation for network\n",
      "upgrades.  These calls generally result in a \"rough consensus\" around what EIPs should be\n",
      "implemented. This \"rough consensus\" rests on the assumptions that EIPs are not contentious enough to\n",
      "cause a network split and that they are technically sound.  :warning: The EIPs process and\n",
      "AllCoreDevs call were not designed to address contentious non-technical issues, but, due to the lack\n",
      "of other ways to address these, often end up entangled in them. This puts the burden on client\n",
      "implementers to try and gauge community sentiment, which hinders the technical coordination function\n",
      "of EIPs and AllCoreDevs calls. If you are shepherding an EIP, you can make the process of building\n",
      "community consensus easier by making sure that [the Ethereum Magicians forum](https://ethereum-\n",
      "magicians.org/) thread for your EIP includes or links to as much of the community discussion as\n",
      "possible and that various stakeholders are well-represented.  *In short, your role as the champion\n",
      "is to write the EIP using the style and format described below, shepherd the discussions in the\n",
      "appropriate forums, and build community consensus around the idea.*  ### EIP Process  The following\n",
      "is the standardization process for all EIPs in all tracks:  ![EIP Status\n",
      "Diagram](../assets/eip-1/EIP-process-update.jpg)  **Idea** - An idea that is pre-draft. This is not\n",
      "tracked within the EIP Repository.  **Draft** - The first formally tracked stage of an EIP in\n",
      "development. An EIP is merged by an EIP Editor into the EIP repository when properly formatted.\n",
      "**Review** - An EIP Author marks an EIP as ready for and requesting Peer Review.  **Last Call** -\n",
      "This is the final review window for an EIP before moving to `Final`. An EIP editor will assign `Last\n",
      "Call` status and set a review end date (`last-call-deadline`), typically 14 days later.  If this\n",
      "period results in necessary normative changes it will revert the EIP to `Review`.  **Final** - This\n",
      "EIP represents the final standard. A Final EIP exists in a state of finality and should only be\n",
      "updated to correct errata and add non-normative clarifications.  A PR moving an EIP from Last Call\n",
      "to Final SHOULD contain no changes other than the status update. Any content or editorial proposed\n",
      "change SHOULD be separate from this status-updating PR and committed prior to it.  **Stagnant** -\n",
      "Any EIP in `Draft` or `Review` or `Last Call` if inactive for a period of 6 months or greater is\n",
      "moved to `Stagnant`. An EIP may be resurrected from this state by Authors or EIP Editors through\n",
      "moving it back to `Draft` or its earlier status. If not resurrected, a proposal may stay forever in\n",
      "this status.  >*EIP Authors are notified of any algorithmic change to the status of their EIP*\n",
      "**Withdrawn** - The EIP Author(s) have withdrawn the proposed EIP. This state has finality and can\n",
      "no longer be resurrected using this EIP number. If the idea is pursued at later date it is\n",
      "considered a new proposal.  **Living** - A special status for EIPs that are designed to be\n",
      "continually updated and not reach a state of finality. This includes most notably EIP-1.\n"
     ]
    }
   ],
   "source": [
    "print(textwrap.fill(erc_data_chunks_sections[3][\"section\"], width=100))"
   ]
  },
  {
   "cell_type": "code",
   "execution_count": 108,
   "id": "7ec4158c",
   "metadata": {},
   "outputs": [
    {
     "name": "stdout",
     "output_type": "stream",
     "text": [
      "## EIP Work Flow\n",
      "\n",
      "### Shepherding an EIP\n",
      "\n",
      "Parties involved in the process are you, the champion or *EIP author*, the [*EIP editors*](#eip-editors), and the [*Ethereum Core Developers*](https://github.com/ethereum/pm).\n",
      "\n",
      "Before you begin writing a formal EIP, you should vet your idea. Ask the Ethereum community first if an idea is original to avoid wasting time on something that will be rejected based on prior research. It is thus recommended to open a discussion thread on [the Ethereum Magicians forum](https://ethereum-magicians.org/) to do this.\n",
      "\n",
      "Once the idea has been vetted, your next responsibility will be to present (by means of an EIP) the idea to the reviewers and all interested parties, invite editors, developers, and the community to give feedback on the aforementioned channels. You should try and gauge whether the interest in your EIP is commensurate with both the work involved in implementing it and how many parties will have to conform to it. For example, the work required for implementing a Core EIP will be much greater than for an ERC and the EIP will need sufficient interest from the Ethereum client teams. Negative community feedback will be taken into consideration and may prevent your EIP from moving past the Draft stage.\n",
      "\n",
      "### Core EIPs\n",
      "\n",
      "For Core EIPs, given that they require client implementations to be considered **Final** (see \"EIPs Process\" below), you will need to either provide an implementation for clients or convince clients to implement your EIP.\n",
      "\n",
      "The best way to get client implementers to review your EIP is to present it on an AllCoreDevs call. You can request to do so by posting a comment linking your EIP on an [AllCoreDevs agenda GitHub Issue](https://github.com/ethereum/pm/issues).  \n",
      "\n",
      "The AllCoreDevs call serves as a way for client implementers to do three things. First, to discuss the technical merits of EIPs. Second, to gauge what other clients will be implementing. Third, to coordinate EIP implementation for network upgrades.\n",
      "\n",
      "These calls generally result in a \"rough consensus\" around what EIPs should be implemented. This \"rough consensus\" rests on the assumptions that EIPs are not contentious enough to cause a network split and that they are technically sound.\n",
      "\n",
      ":warning: The EIPs process and AllCoreDevs call were not designed to address contentious non-technical issues, but, due to the lack of other ways to address these, often end up entangled in them. This puts the burden on client implementers to try and gauge community sentiment, which hinders the technical coordination function of EIPs and AllCoreDevs calls. If you are shepherding an EIP, you can make the process of building community consensus easier by making sure that [the Ethereum Magicians forum](https://ethereum-magicians.org/) thread for your EIP includes or links to as much of the community discussion as possible and that various stakeholders are well-represented.\n",
      "\n",
      "*In short, your role as the champion is to write the EIP using the style and format described below, shepherd the discussions in the appropriate forums, and build community consensus around the idea.*\n",
      "\n",
      "### EIP Process\n",
      "\n",
      "The following is the standardization process for all EIPs in all tracks:\n",
      "\n",
      "![EIP Status Diagram](../assets/eip-1/EIP-process-update.jpg)\n",
      "\n",
      "**Idea** - An idea that is pre-draft. This is not tracked within the EIP Repository.\n",
      "\n",
      "**Draft** - The first formally tracked stage of an EIP in development. An EIP is merged by an EIP Editor into the EIP repository when properly formatted.\n",
      "\n",
      "**Review** - An EIP Author marks an EIP as ready for and requesting Peer Review.\n",
      "\n",
      "**Last Call** - This is the final review window for an EIP before moving to `Final`. An EIP editor will assign `Last Call` status and set a review end date (`last-call-deadline`), typically 14 days later.\n",
      "\n",
      "If this period results in necessary normative changes it will revert the EIP to `Review`.\n",
      "\n",
      "**Final** - This EIP represents the final standard. A Final EIP exists in a state of finality and should only be updated to correct errata and add non-normative clarifications.\n",
      "\n",
      "A PR moving an EIP from Last Call to Final SHOULD contain no changes other than the status update. Any content or editorial proposed change SHOULD be separate from this status-updating PR and committed prior to it.\n",
      "\n",
      "**Stagnant** - Any EIP in `Draft` or `Review` or `Last Call` if inactive for a period of 6 months or greater is moved to `Stagnant`. An EIP may be resurrected from this state by Authors or EIP Editors through moving it back to `Draft` or its earlier status. If not resurrected, a proposal may stay forever in this status.\n",
      "\n",
      ">*EIP Authors are notified of any algorithmic change to the status of their EIP*\n",
      "\n",
      "**Withdrawn** - The EIP Author(s) have withdrawn the proposed EIP. This state has finality and can no longer be resurrected using this EIP number. If the idea is pursued at later date it is considered a new proposal.\n",
      "\n",
      "**Living** - A special status for EIPs that are designed to be continually updated and not reach a state of finality. This includes most notably EIP-1.\n"
     ]
    }
   ],
   "source": [
    "print(erc_data_chunks_sections[3][\"section\"], sep=\"\\n\")"
   ]
  },
  {
   "cell_type": "code",
   "execution_count": 122,
   "id": "6f01f0d2",
   "metadata": {},
   "outputs": [
    {
     "data": {
      "text/plain": [
       "5057"
      ]
     },
     "execution_count": 122,
     "metadata": {},
     "output_type": "execute_result"
    }
   ],
   "source": [
    "len(erc_data_chunks_sections[3][\"section\"])"
   ]
  },
  {
   "cell_type": "markdown",
   "id": "224d54bc",
   "metadata": {},
   "source": [
    "I think it worked well, but I need to verify more cases. The last section seens to be big."
   ]
  },
  {
   "cell_type": "markdown",
   "id": "5a5ba37e",
   "metadata": {},
   "source": []
  },
  {
   "cell_type": "markdown",
   "id": "0ab9da0c",
   "metadata": {},
   "source": [
    "### 2.4 Intelligent Chunking with LLM"
   ]
  },
  {
   "cell_type": "code",
   "execution_count": 7,
   "id": "3557bc5d",
   "metadata": {},
   "outputs": [
    {
     "name": "stdout",
     "output_type": "stream",
     "text": [
      "✅ Google AI configured successfully!\n"
     ]
    }
   ],
   "source": [
    "import google.generativeai as genai\n",
    "import os\n",
    "\n",
    "from dotenv import load_dotenv\n",
    "\n",
    "load_dotenv()\n",
    "\n",
    "try:\n",
    "    api_key = os.getenv(\"GOOGLE_API_KEY\")\n",
    "    if not api_key:\n",
    "        raise ValueError(\"The environment variable GOOGLE_API_KEY was not found.\")\n",
    "    \n",
    "    genai.configure(api_key=api_key)\n",
    "    print(\"✅ Google AI configured successfully!\")\n",
    "\n",
    "except ValueError as e:\n",
    "    logger.error(e)"
   ]
  },
  {
   "cell_type": "code",
   "execution_count": 8,
   "id": "2c5ebd55",
   "metadata": {},
   "outputs": [],
   "source": [
    "def llm(prompt, model='gemini-2.5-flash'):\n",
    "    \"\"\"\n",
    "    Sends a prompt to the Gemini model and returns the response as text.\n",
    "\n",
    "    Args:\n",
    "        prompt (str): The text to send to the model.\n",
    "        model (str): The Gemini model name to use.\n",
    "                     'gemini-1.5-flash' is a great fast and capable option.\n",
    "\n",
    "    Returns:\n",
    "        str: The generated text response from the model.\n",
    "    \"\"\"\n",
    "    model_instance = genai.GenerativeModel(model)\n",
    "\n",
    "    response = model_instance.generate_content(prompt)\n",
    "    \n",
    "    return response.text"
   ]
  },
  {
   "cell_type": "code",
   "execution_count": 9,
   "id": "92c380cd",
   "metadata": {},
   "outputs": [],
   "source": [
    "prompt_template = \"\"\"\n",
    "    Split the provided document into logical sections that make sense for a Q&A system.\n",
    "    \n",
    "    Each section should be self-contained and cover a specific topic or concept.\n",
    "    \n",
    "    <DOCUMENT>\n",
    "    {document}\n",
    "    </DOCUMENT>\n",
    "    \n",
    "    Use this format:\n",
    "    \n",
    "    ## Section Name\n",
    "    \n",
    "    Section content with all relevant details\n",
    "    \n",
    "    ---\n",
    "    \n",
    "    ## Another Section Name\n",
    "    \n",
    "    Another section content\n",
    "    \n",
    "    ---\n",
    "\"\"\".strip()\n"
   ]
  },
  {
   "cell_type": "code",
   "execution_count": null,
   "id": "65c6b493",
   "metadata": {},
   "outputs": [],
   "source": [
    "def intelligent_chunking(text):\n",
    "    prompt = prompt_template.format(document=text)\n",
    "    response = llm(prompt)\n",
    "    sections = response.split('---')\n",
    "    sections = [s.strip() for s in sections if s.strip()]\n",
    "\n",
    "    return sections"
   ]
  },
  {
   "cell_type": "code",
   "execution_count": 21,
   "id": "38293e28",
   "metadata": {},
   "outputs": [
    {
     "data": {
      "application/vnd.jupyter.widget-view+json": {
       "model_id": "361b59ee1f79450abca9a3daf38855f1",
       "version_major": 2,
       "version_minor": 0
      },
      "text/plain": [
       "  0%|          | 0/10 [00:00<?, ?it/s]"
      ]
     },
     "metadata": {},
     "output_type": "display_data"
    }
   ],
   "source": [
    "from tqdm.auto import tqdm\n",
    "\n",
    "erc_data_ai_chunks = []\n",
    "\n",
    "for doc in tqdm(erc_data[:10]):  # Limiting to first 10 documents for cost and time control\n",
    "    doc_copy = doc.copy()\n",
    "    doc_content = doc_copy.pop('content')\n",
    "\n",
    "    sections = intelligent_chunking(doc_content)\n",
    "    for section in sections:\n",
    "        count += 1\n",
    "        section_doc = doc_copy.copy()\n",
    "        section_doc['section'] = section\n",
    "        erc_data_ai_chunks.append(section_doc)"
   ]
  },
  {
   "cell_type": "code",
   "execution_count": 22,
   "id": "ae2bd175",
   "metadata": {},
   "outputs": [
    {
     "data": {
      "text/plain": [
       "256"
      ]
     },
     "execution_count": 22,
     "metadata": {},
     "output_type": "execute_result"
    }
   ],
   "source": [
    "len(erc_data_ai_chunks)"
   ]
  },
  {
   "cell_type": "code",
   "execution_count": 23,
   "id": "c40a0f79",
   "metadata": {},
   "outputs": [
    {
     "data": {
      "text/plain": [
       "{'eip': 1,\n",
       " 'title': 'EIP Purpose and Guidelines',\n",
       " 'status': 'Living',\n",
       " 'type': 'Meta',\n",
       " 'author': 'Martin Becze <mb@ethereum.org>, Hudson Jameson <hudson@ethereum.org>, et al.',\n",
       " 'created': datetime.date(2015, 10, 27),\n",
       " 'filename': 'ERCs-master/ERCS/eip-1.md',\n",
       " 'section': '## What is an EIP?\\n\\nAn EIP, or Ethereum Improvement Proposal, is a design document that provides information to the Ethereum community or describes a new feature for Ethereum, its processes, or environment. It should contain a concise technical specification of the feature and its rationale. The EIP author is responsible for building community consensus and documenting dissenting opinions.'}"
      ]
     },
     "execution_count": 23,
     "metadata": {},
     "output_type": "execute_result"
    }
   ],
   "source": [
    "erc_data_ai_chunks[0]"
   ]
  },
  {
   "cell_type": "code",
   "execution_count": 24,
   "id": "a950a23e",
   "metadata": {},
   "outputs": [
    {
     "data": {
      "text/plain": [
       "{'eip': 1,\n",
       " 'title': 'EIP Purpose and Guidelines',\n",
       " 'status': 'Living',\n",
       " 'type': 'Meta',\n",
       " 'author': 'Martin Becze <mb@ethereum.org>, Hudson Jameson <hudson@ethereum.org>, et al.',\n",
       " 'created': datetime.date(2015, 10, 27),\n",
       " 'filename': 'ERCs-master/ERCS/eip-1.md',\n",
       " 'section': \"## EIP Rationale and Purpose\\n\\nEIPs are intended to be the primary mechanism for proposing new features, gathering technical input from the community, and documenting Ethereum's design decisions. Since EIPs are maintained as text files in a versioned repository, their revision history serves as a historical record of feature proposals. For Ethereum implementers, EIPs offer a convenient way to track implementation progress, allowing them to list implemented EIPs for end-users to check the status of a given implementation or library.\"}"
      ]
     },
     "execution_count": 24,
     "metadata": {},
     "output_type": "execute_result"
    }
   ],
   "source": [
    "erc_data_ai_chunks[1]"
   ]
  },
  {
   "cell_type": "code",
   "execution_count": 25,
   "id": "8499e8ba",
   "metadata": {},
   "outputs": [
    {
     "data": {
      "text/plain": [
       "{'eip': 1,\n",
       " 'title': 'EIP Purpose and Guidelines',\n",
       " 'status': 'Living',\n",
       " 'type': 'Meta',\n",
       " 'author': 'Martin Becze <mb@ethereum.org>, Hudson Jameson <hudson@ethereum.org>, et al.',\n",
       " 'created': datetime.date(2015, 10, 27),\n",
       " 'filename': 'ERCs-master/ERCS/eip-1.md',\n",
       " 'section': '## EIP Types\\n\\nThere are three main types of EIPs, each serving a distinct purpose:\\n\\n*   **Standards Track EIP**: Describes changes affecting most or all Ethereum implementations. This includes network protocol changes, block/transaction validity rules, application standards, or any change impacting interoperability. Standards Track EIPs comprise a design document, an implementation, and sometimes an update to the formal specification. They are further categorized into:\\n    *   **Core**: Improvements requiring a consensus fork or relevant to \"core dev\" discussions (e.g., EIP-5, EIP-101). If a Core EIP proposes changes to the EVM, it must refer to instructions by their mnemonics and define their opcodes (e.g., `REVERT (0xfe)`).\\n    *   **Networking**: Improvements related to devp2p, Light Ethereum Subprotocol, whisper, and swarm network protocol specifications (e.g., EIP-8).\\n    *   **Interface**: Improvements concerning language-level standards like method names (e.g., EIP-6) and contract ABIs.\\n    *   **ERC**: Application-level standards and conventions, including token standards (e.g., ERC-20), name registries (e.g., ERC-137), URI schemes, library/package formats, and wallet formats.\\n*   **Meta EIP**: Describes a process surrounding Ethereum or proposes a change to an existing process or an event within it. These apply to areas outside the Ethereum protocol itself, may require community consensus, and are typically not optional to ignore. Examples include procedures, guidelines, changes to decision-making processes, and changes to development tools or environment. Any meta-EIP is also considered a Process EIP.\\n*   **Informational EIP**: Describes an Ethereum design issue, or provides general guidelines or information, but does not propose a new feature. Informational EIPs do not necessarily represent community consensus or a recommendation; users and implementers are free to ignore or follow their advice.\\n\\n**General EIP Criteria:**\\nIt is highly recommended that a single EIP focuses on a single key proposal or idea. An EIP must be a clear, complete description of the proposed enhancement, represent a net improvement, and its proposed implementation (if applicable) must be solid and not unduly complicate the protocol. A change affecting multiple clients or defining a standard for multiple applications requires an EIP, whereas a change to only one client does not.'}"
      ]
     },
     "execution_count": 25,
     "metadata": {},
     "output_type": "execute_result"
    }
   ],
   "source": [
    "erc_data_ai_chunks[2]"
   ]
  },
  {
   "cell_type": "code",
   "execution_count": 26,
   "id": "dae98a3b",
   "metadata": {},
   "outputs": [
    {
     "data": {
      "text/plain": [
       "{'eip': 1,\n",
       " 'title': 'EIP Purpose and Guidelines',\n",
       " 'status': 'Living',\n",
       " 'type': 'Meta',\n",
       " 'author': 'Martin Becze <mb@ethereum.org>, Hudson Jameson <hudson@ethereum.org>, et al.',\n",
       " 'created': datetime.date(2015, 10, 27),\n",
       " 'filename': 'ERCs-master/ERCS/eip-1.md',\n",
       " 'section': \"## EIP Work Flow: Shepherding an EIP\\n\\nThe EIP work flow involves the EIP author (champion), EIP editors, and Ethereum Core Developers.\\n\\n1.  **Vetting the Idea**: Before writing a formal EIP, authors should vet their idea by opening a discussion thread on the Ethereum Magicians forum to check for originality and avoid redundant work.\\n2.  **Presenting the Idea and Gathering Feedback**: Once vetted, the author presents the idea via an EIP to reviewers and interested parties, inviting feedback from editors, developers, and the community. Authors should gauge if community interest justifies the implementation work and the number of parties required to conform. Negative community feedback can prevent an EIP from advancing past the Draft stage.\\n3.  **Community Consensus**: The champion's role is to write the EIP in the prescribed format, lead discussions in appropriate forums, and build community consensus around the idea.\"}"
      ]
     },
     "execution_count": 26,
     "metadata": {},
     "output_type": "execute_result"
    }
   ],
   "source": [
    "erc_data_ai_chunks[3]"
   ]
  },
  {
   "cell_type": "code",
   "execution_count": 27,
   "id": "1c3ff66a",
   "metadata": {},
   "outputs": [
    {
     "name": "stdout",
     "output_type": "stream",
     "text": [
      "## EIP Work Flow: Shepherding an EIP\n",
      "\n",
      "The EIP work flow involves the EIP author (champion), EIP editors, and Ethereum Core Developers.\n",
      "\n",
      "1.  **Vetting the Idea**: Before writing a formal EIP, authors should vet their idea by opening a discussion thread on the Ethereum Magicians forum to check for originality and avoid redundant work.\n",
      "2.  **Presenting the Idea and Gathering Feedback**: Once vetted, the author presents the idea via an EIP to reviewers and interested parties, inviting feedback from editors, developers, and the community. Authors should gauge if community interest justifies the implementation work and the number of parties required to conform. Negative community feedback can prevent an EIP from advancing past the Draft stage.\n",
      "3.  **Community Consensus**: The champion's role is to write the EIP in the prescribed format, lead discussions in appropriate forums, and build community consensus around the idea.\n"
     ]
    }
   ],
   "source": [
    "print(erc_data_ai_chunks[3][\"section\"], sep=\"\\n\")"
   ]
  },
  {
   "cell_type": "code",
   "execution_count": 28,
   "id": "707adbb9",
   "metadata": {},
   "outputs": [
    {
     "data": {
      "text/plain": [
       "929"
      ]
     },
     "execution_count": 28,
     "metadata": {},
     "output_type": "execute_result"
    }
   ],
   "source": [
    "len(erc_data_ai_chunks[3][\"section\"])"
   ]
  },
  {
   "cell_type": "markdown",
   "id": "3a0978be",
   "metadata": {},
   "source": [
    "The result using AI seems to have been smaller than the previous method. Did we lose a lot of information?"
   ]
  },
  {
   "cell_type": "markdown",
   "id": "9109a864",
   "metadata": {},
   "source": []
  },
  {
   "cell_type": "markdown",
   "id": "4e999ac7",
   "metadata": {},
   "source": [
    "## 3. Add Search"
   ]
  },
  {
   "cell_type": "markdown",
   "id": "95f767f8",
   "metadata": {},
   "source": [
    "### 3.1 Lexical Indexing with MinSearch"
   ]
  },
  {
   "cell_type": "code",
   "execution_count": 6,
   "id": "cc7f1c08",
   "metadata": {},
   "outputs": [
    {
     "data": {
      "text/plain": [
       "<minsearch.minsearch.Index at 0x14d6b0d70>"
      ]
     },
     "execution_count": 6,
     "metadata": {},
     "output_type": "execute_result"
    }
   ],
   "source": [
    "from minsearch import Index\n",
    "\n",
    "index = Index(\n",
    "    text_fields=[\"chunk\", \"title\", \"description\", \"author\", \"status\", \"type\", \"filename\"],\n",
    "    keyword_fields=[]\n",
    ")\n",
    "\n",
    "index.fit(erc_data_chunks)"
   ]
  },
  {
   "cell_type": "code",
   "execution_count": 31,
   "id": "559a0583",
   "metadata": {},
   "outputs": [],
   "source": [
    "query = \"What is ERC-4337?\"\n",
    "text_results = index.search(query)"
   ]
  },
  {
   "cell_type": "code",
   "execution_count": 33,
   "id": "26c3cfe1",
   "metadata": {},
   "outputs": [
    {
     "data": {
      "text/plain": [
       "{'start': 2000,\n",
       " 'chunk': \"This MUST be true if this is ERC-1155 Token Metadata, otherwise, this MUST be omitted.\\n     * Setting this to true indicates to wallets that the address should be treated as an ERC-1155 token.\\n     **/\\n    erc1155?: boolean | undefined;\\n}\\n```\\n\\n### ERC-20 Extension\\n\\n#### ERC-20 Interface Extension\\n\\nCompliant contracts MUST implement the following Solidity interface:\\n\\n```solidity\\npragma solidity ^0.8.0;\\n\\n/// @title  ERC-20 Metadata Extension\\ninterface ERC20TokenMetadata /* is ERC20 */ {\\n    /// @notice     Gets an ERC-721-like token URI\\n    /// @dev        The resolved data MUST be in JSON format and support ERC-1046's ERC-20 Token Metadata Schema\\n    function tokenURI() external view returns (string);\\n}\\n```\\n\\n#### ERC-20 Token Metadata Schema\\n\\nThe resolved JSON of the `tokenURI` described in the ERC-20 Interface Extension section MUST conform to the following TypeScript interface:\\n\\n```typescript\\n/**\\n * Asset Metadata\\n */\\ninterface ERC20TokenMetadata {\\n    /**\\n     * Interoperability, to differentiate between different types of tokens and their corresponding URIs.\\n     **/\\n    interop: InteroperabilityMetadata;\\n    \\n    /**\\n     * The name of the ERC-20 token. \\n     * If the `name()` function is present in the ERC-20 token and returns a nonempty string, these MUST be the same value.\\n     */\\n    name?: string;\\n    \\n    /**\\n     * The symbol of the ERC-20 token. \\n     * If the `symbol()` function is present in the ERC-20 token and returns a nonempty string, these MUST be the same value.\\n     */\\n    symbol?: string;\\n    \\n    /**\\n     * The decimals of the ERC-20 token. \\n     * If the `decimals()` function is present in the ERC-20 token, these MUST be the same value.\\n     * Defaults to 18 if neither this parameter nor the ERC-20 `decimals()` function are present.\\n     */\\n    decimals?: number;\\n    \\n    /**\\n     * Provides a short one-paragraph description of the ERC-20 token, without any markup or newlines.\\n     */\\n    description?: string;\\n    \\n    /**\\n     * A URI pointi\",\n",
       " 'eip': 1046,\n",
       " 'title': 'tokenURI Interoperability',\n",
       " 'description': 'Extends ERC-20 with an ERC-721-like tokenURI, and extends ERC-721 and ERC-1155 with interoperability',\n",
       " 'author': 'Tommy Nicholas (@tomasienrbc), Matt Russo (@mateosu), John Zettler (@JohnZettler), Matt Condon (@shrugs), Gavin John (@Pandapip1)',\n",
       " 'discussions-to': 'https://ethereum-magicians.org/t/eip-1046-erc-20-metadata-extension/13036',\n",
       " 'status': 'Final',\n",
       " 'type': 'Standards Track',\n",
       " 'category': 'ERC',\n",
       " 'created': datetime.date(2018, 4, 13),\n",
       " 'requires': '20, 721, 1155',\n",
       " 'filename': 'ERCs-master/ERCS/erc-1046.md'}"
      ]
     },
     "execution_count": 33,
     "metadata": {},
     "output_type": "execute_result"
    }
   ],
   "source": [
    "text_results[0]"
   ]
  },
  {
   "cell_type": "markdown",
   "id": "e1bd2810",
   "metadata": {},
   "source": [
    "### 3.2 Vector Search"
   ]
  },
  {
   "cell_type": "code",
   "execution_count": 14,
   "id": "fdc86bed",
   "metadata": {},
   "outputs": [
    {
     "name": "stderr",
     "output_type": "stream",
     "text": [
      "INFO:sentence_transformers.SentenceTransformer:Use pytorch device_name: mps\n",
      "INFO:sentence_transformers.SentenceTransformer:Load pretrained SentenceTransformer: multi-qa-distilbert-cos-v1\n"
     ]
    }
   ],
   "source": [
    "from sentence_transformers import SentenceTransformer\n",
    "\n",
    "embedding_model = SentenceTransformer('multi-qa-distilbert-cos-v1')"
   ]
  },
  {
   "cell_type": "code",
   "execution_count": null,
   "id": "d7b164ab",
   "metadata": {},
   "outputs": [
    {
     "data": {
      "application/vnd.jupyter.widget-view+json": {
       "model_id": "a510ce015063489fb264b6f8d443f31b",
       "version_major": 2,
       "version_minor": 0
      },
      "text/plain": [
       "  0%|          | 0/100 [00:00<?, ?it/s]"
      ]
     },
     "metadata": {},
     "output_type": "display_data"
    },
    {
     "data": {
      "application/vnd.jupyter.widget-view+json": {
       "model_id": "ebe4708e9c2e4f9798b141a38d96bc27",
       "version_major": 2,
       "version_minor": 0
      },
      "text/plain": [
       "Batches:   0%|          | 0/1 [00:00<?, ?it/s]"
      ]
     },
     "metadata": {},
     "output_type": "display_data"
    },
    {
     "data": {
      "application/vnd.jupyter.widget-view+json": {
       "model_id": "ee55a4c3777146bbb14e50cca5bdd1d3",
       "version_major": 2,
       "version_minor": 0
      },
      "text/plain": [
       "Batches:   0%|          | 0/1 [00:00<?, ?it/s]"
      ]
     },
     "metadata": {},
     "output_type": "display_data"
    },
    {
     "data": {
      "application/vnd.jupyter.widget-view+json": {
       "model_id": "73aa6f6132ff48f5a6ef48f70048791d",
       "version_major": 2,
       "version_minor": 0
      },
      "text/plain": [
       "Batches:   0%|          | 0/1 [00:00<?, ?it/s]"
      ]
     },
     "metadata": {},
     "output_type": "display_data"
    },
    {
     "data": {
      "application/vnd.jupyter.widget-view+json": {
       "model_id": "2d9365e988ec41e58a440d2a80debc0f",
       "version_major": 2,
       "version_minor": 0
      },
      "text/plain": [
       "Batches:   0%|          | 0/1 [00:00<?, ?it/s]"
      ]
     },
     "metadata": {},
     "output_type": "display_data"
    },
    {
     "data": {
      "application/vnd.jupyter.widget-view+json": {
       "model_id": "519850d584064a1c84a75f79e1b1b5df",
       "version_major": 2,
       "version_minor": 0
      },
      "text/plain": [
       "Batches:   0%|          | 0/1 [00:00<?, ?it/s]"
      ]
     },
     "metadata": {},
     "output_type": "display_data"
    },
    {
     "data": {
      "application/vnd.jupyter.widget-view+json": {
       "model_id": "827162c52c674838a682eaef96913b2d",
       "version_major": 2,
       "version_minor": 0
      },
      "text/plain": [
       "Batches:   0%|          | 0/1 [00:00<?, ?it/s]"
      ]
     },
     "metadata": {},
     "output_type": "display_data"
    },
    {
     "data": {
      "application/vnd.jupyter.widget-view+json": {
       "model_id": "507524320b414957b955495ff4cdc05b",
       "version_major": 2,
       "version_minor": 0
      },
      "text/plain": [
       "Batches:   0%|          | 0/1 [00:00<?, ?it/s]"
      ]
     },
     "metadata": {},
     "output_type": "display_data"
    },
    {
     "data": {
      "application/vnd.jupyter.widget-view+json": {
       "model_id": "63723336df4f428186d879e67f09b2a1",
       "version_major": 2,
       "version_minor": 0
      },
      "text/plain": [
       "Batches:   0%|          | 0/1 [00:00<?, ?it/s]"
      ]
     },
     "metadata": {},
     "output_type": "display_data"
    },
    {
     "data": {
      "application/vnd.jupyter.widget-view+json": {
       "model_id": "38c9ba0511d346b7811b0fa2ff14fd29",
       "version_major": 2,
       "version_minor": 0
      },
      "text/plain": [
       "Batches:   0%|          | 0/1 [00:00<?, ?it/s]"
      ]
     },
     "metadata": {},
     "output_type": "display_data"
    },
    {
     "data": {
      "application/vnd.jupyter.widget-view+json": {
       "model_id": "1a2d7dd1dab54dd4950fe5f52f3d8fce",
       "version_major": 2,
       "version_minor": 0
      },
      "text/plain": [
       "Batches:   0%|          | 0/1 [00:00<?, ?it/s]"
      ]
     },
     "metadata": {},
     "output_type": "display_data"
    },
    {
     "data": {
      "application/vnd.jupyter.widget-view+json": {
       "model_id": "dffed886c9b14ef185097ad0453366c9",
       "version_major": 2,
       "version_minor": 0
      },
      "text/plain": [
       "Batches:   0%|          | 0/1 [00:00<?, ?it/s]"
      ]
     },
     "metadata": {},
     "output_type": "display_data"
    },
    {
     "data": {
      "application/vnd.jupyter.widget-view+json": {
       "model_id": "d8247031f74b4196ae1d125ae74762ee",
       "version_major": 2,
       "version_minor": 0
      },
      "text/plain": [
       "Batches:   0%|          | 0/1 [00:00<?, ?it/s]"
      ]
     },
     "metadata": {},
     "output_type": "display_data"
    },
    {
     "data": {
      "application/vnd.jupyter.widget-view+json": {
       "model_id": "15b5d5cb81ad4f158295b219b5e623ac",
       "version_major": 2,
       "version_minor": 0
      },
      "text/plain": [
       "Batches:   0%|          | 0/1 [00:00<?, ?it/s]"
      ]
     },
     "metadata": {},
     "output_type": "display_data"
    },
    {
     "data": {
      "application/vnd.jupyter.widget-view+json": {
       "model_id": "cd800a7b90ed43a8beae695361cc981e",
       "version_major": 2,
       "version_minor": 0
      },
      "text/plain": [
       "Batches:   0%|          | 0/1 [00:00<?, ?it/s]"
      ]
     },
     "metadata": {},
     "output_type": "display_data"
    },
    {
     "data": {
      "application/vnd.jupyter.widget-view+json": {
       "model_id": "973385790bde489aa9be6d0a14ac4cc9",
       "version_major": 2,
       "version_minor": 0
      },
      "text/plain": [
       "Batches:   0%|          | 0/1 [00:00<?, ?it/s]"
      ]
     },
     "metadata": {},
     "output_type": "display_data"
    },
    {
     "data": {
      "application/vnd.jupyter.widget-view+json": {
       "model_id": "7c82634004424f91ae7f86089c86f71c",
       "version_major": 2,
       "version_minor": 0
      },
      "text/plain": [
       "Batches:   0%|          | 0/1 [00:00<?, ?it/s]"
      ]
     },
     "metadata": {},
     "output_type": "display_data"
    },
    {
     "data": {
      "application/vnd.jupyter.widget-view+json": {
       "model_id": "05d5b63a6f264e008af76e5c277282d2",
       "version_major": 2,
       "version_minor": 0
      },
      "text/plain": [
       "Batches:   0%|          | 0/1 [00:00<?, ?it/s]"
      ]
     },
     "metadata": {},
     "output_type": "display_data"
    },
    {
     "data": {
      "application/vnd.jupyter.widget-view+json": {
       "model_id": "0a9aac47776f456fa9b47c40c21d138b",
       "version_major": 2,
       "version_minor": 0
      },
      "text/plain": [
       "Batches:   0%|          | 0/1 [00:00<?, ?it/s]"
      ]
     },
     "metadata": {},
     "output_type": "display_data"
    },
    {
     "data": {
      "application/vnd.jupyter.widget-view+json": {
       "model_id": "17c50221e6944ce89e9c31761f1e6de5",
       "version_major": 2,
       "version_minor": 0
      },
      "text/plain": [
       "Batches:   0%|          | 0/1 [00:00<?, ?it/s]"
      ]
     },
     "metadata": {},
     "output_type": "display_data"
    },
    {
     "data": {
      "application/vnd.jupyter.widget-view+json": {
       "model_id": "b2a87c94d1e84a16bec8390fa05b91ba",
       "version_major": 2,
       "version_minor": 0
      },
      "text/plain": [
       "Batches:   0%|          | 0/1 [00:00<?, ?it/s]"
      ]
     },
     "metadata": {},
     "output_type": "display_data"
    },
    {
     "data": {
      "application/vnd.jupyter.widget-view+json": {
       "model_id": "b8b9290016714ac1a3597ffec197ec41",
       "version_major": 2,
       "version_minor": 0
      },
      "text/plain": [
       "Batches:   0%|          | 0/1 [00:00<?, ?it/s]"
      ]
     },
     "metadata": {},
     "output_type": "display_data"
    },
    {
     "data": {
      "application/vnd.jupyter.widget-view+json": {
       "model_id": "5099abb1cfa2448396d03f7c7cf06b53",
       "version_major": 2,
       "version_minor": 0
      },
      "text/plain": [
       "Batches:   0%|          | 0/1 [00:00<?, ?it/s]"
      ]
     },
     "metadata": {},
     "output_type": "display_data"
    },
    {
     "data": {
      "application/vnd.jupyter.widget-view+json": {
       "model_id": "7570525a54a341339348a26f55ac9ca3",
       "version_major": 2,
       "version_minor": 0
      },
      "text/plain": [
       "Batches:   0%|          | 0/1 [00:00<?, ?it/s]"
      ]
     },
     "metadata": {},
     "output_type": "display_data"
    },
    {
     "data": {
      "application/vnd.jupyter.widget-view+json": {
       "model_id": "ce2d9987179e4f2fb2ef45cbdf2786f2",
       "version_major": 2,
       "version_minor": 0
      },
      "text/plain": [
       "Batches:   0%|          | 0/1 [00:00<?, ?it/s]"
      ]
     },
     "metadata": {},
     "output_type": "display_data"
    },
    {
     "data": {
      "application/vnd.jupyter.widget-view+json": {
       "model_id": "dd8ddb0a4cc14b79a1aa690b3f4b39cc",
       "version_major": 2,
       "version_minor": 0
      },
      "text/plain": [
       "Batches:   0%|          | 0/1 [00:00<?, ?it/s]"
      ]
     },
     "metadata": {},
     "output_type": "display_data"
    },
    {
     "data": {
      "application/vnd.jupyter.widget-view+json": {
       "model_id": "7ad37565093849d5958360b54b38036a",
       "version_major": 2,
       "version_minor": 0
      },
      "text/plain": [
       "Batches:   0%|          | 0/1 [00:00<?, ?it/s]"
      ]
     },
     "metadata": {},
     "output_type": "display_data"
    },
    {
     "data": {
      "application/vnd.jupyter.widget-view+json": {
       "model_id": "269743e214f449dd8ab227502acd8e9a",
       "version_major": 2,
       "version_minor": 0
      },
      "text/plain": [
       "Batches:   0%|          | 0/1 [00:00<?, ?it/s]"
      ]
     },
     "metadata": {},
     "output_type": "display_data"
    },
    {
     "data": {
      "application/vnd.jupyter.widget-view+json": {
       "model_id": "5135843dfc8747e1b2a77140ae9c9114",
       "version_major": 2,
       "version_minor": 0
      },
      "text/plain": [
       "Batches:   0%|          | 0/1 [00:00<?, ?it/s]"
      ]
     },
     "metadata": {},
     "output_type": "display_data"
    },
    {
     "data": {
      "application/vnd.jupyter.widget-view+json": {
       "model_id": "b77b5aea03334eef9d0898146da76492",
       "version_major": 2,
       "version_minor": 0
      },
      "text/plain": [
       "Batches:   0%|          | 0/1 [00:00<?, ?it/s]"
      ]
     },
     "metadata": {},
     "output_type": "display_data"
    },
    {
     "data": {
      "application/vnd.jupyter.widget-view+json": {
       "model_id": "28e2ec8cd7864bd49d17b951fbf8973c",
       "version_major": 2,
       "version_minor": 0
      },
      "text/plain": [
       "Batches:   0%|          | 0/1 [00:00<?, ?it/s]"
      ]
     },
     "metadata": {},
     "output_type": "display_data"
    },
    {
     "data": {
      "application/vnd.jupyter.widget-view+json": {
       "model_id": "72c6c4186e474103b078922212b785a4",
       "version_major": 2,
       "version_minor": 0
      },
      "text/plain": [
       "Batches:   0%|          | 0/1 [00:00<?, ?it/s]"
      ]
     },
     "metadata": {},
     "output_type": "display_data"
    },
    {
     "data": {
      "application/vnd.jupyter.widget-view+json": {
       "model_id": "7b0bebb93d4c430bbd035fbabf57d432",
       "version_major": 2,
       "version_minor": 0
      },
      "text/plain": [
       "Batches:   0%|          | 0/1 [00:00<?, ?it/s]"
      ]
     },
     "metadata": {},
     "output_type": "display_data"
    },
    {
     "data": {
      "application/vnd.jupyter.widget-view+json": {
       "model_id": "1ea879b6a0f24cf9933ced49b445cd3a",
       "version_major": 2,
       "version_minor": 0
      },
      "text/plain": [
       "Batches:   0%|          | 0/1 [00:00<?, ?it/s]"
      ]
     },
     "metadata": {},
     "output_type": "display_data"
    },
    {
     "data": {
      "application/vnd.jupyter.widget-view+json": {
       "model_id": "2bd0494b648a4dfc901ffa33c8513aa7",
       "version_major": 2,
       "version_minor": 0
      },
      "text/plain": [
       "Batches:   0%|          | 0/1 [00:00<?, ?it/s]"
      ]
     },
     "metadata": {},
     "output_type": "display_data"
    },
    {
     "data": {
      "application/vnd.jupyter.widget-view+json": {
       "model_id": "5f324e50b0cf4bde997d788950cd3e9d",
       "version_major": 2,
       "version_minor": 0
      },
      "text/plain": [
       "Batches:   0%|          | 0/1 [00:00<?, ?it/s]"
      ]
     },
     "metadata": {},
     "output_type": "display_data"
    },
    {
     "data": {
      "application/vnd.jupyter.widget-view+json": {
       "model_id": "c4e54bb8e04a45a5a23d5dec6c8d7141",
       "version_major": 2,
       "version_minor": 0
      },
      "text/plain": [
       "Batches:   0%|          | 0/1 [00:00<?, ?it/s]"
      ]
     },
     "metadata": {},
     "output_type": "display_data"
    },
    {
     "data": {
      "application/vnd.jupyter.widget-view+json": {
       "model_id": "78dbbd7b04f94182bac54a12fe00e6d0",
       "version_major": 2,
       "version_minor": 0
      },
      "text/plain": [
       "Batches:   0%|          | 0/1 [00:00<?, ?it/s]"
      ]
     },
     "metadata": {},
     "output_type": "display_data"
    },
    {
     "data": {
      "application/vnd.jupyter.widget-view+json": {
       "model_id": "5edee97d203340e08303a11a633005d2",
       "version_major": 2,
       "version_minor": 0
      },
      "text/plain": [
       "Batches:   0%|          | 0/1 [00:00<?, ?it/s]"
      ]
     },
     "metadata": {},
     "output_type": "display_data"
    },
    {
     "data": {
      "application/vnd.jupyter.widget-view+json": {
       "model_id": "0a9d9c0ee98a440b9325d31dbc0c1af8",
       "version_major": 2,
       "version_minor": 0
      },
      "text/plain": [
       "Batches:   0%|          | 0/1 [00:00<?, ?it/s]"
      ]
     },
     "metadata": {},
     "output_type": "display_data"
    },
    {
     "data": {
      "application/vnd.jupyter.widget-view+json": {
       "model_id": "340768e6e14b45dab5abb5baae2ff358",
       "version_major": 2,
       "version_minor": 0
      },
      "text/plain": [
       "Batches:   0%|          | 0/1 [00:00<?, ?it/s]"
      ]
     },
     "metadata": {},
     "output_type": "display_data"
    },
    {
     "data": {
      "application/vnd.jupyter.widget-view+json": {
       "model_id": "1f288f4ea7114d619a215c98155a94fe",
       "version_major": 2,
       "version_minor": 0
      },
      "text/plain": [
       "Batches:   0%|          | 0/1 [00:00<?, ?it/s]"
      ]
     },
     "metadata": {},
     "output_type": "display_data"
    },
    {
     "data": {
      "application/vnd.jupyter.widget-view+json": {
       "model_id": "9162761eaf634915bf008f9d6b827e29",
       "version_major": 2,
       "version_minor": 0
      },
      "text/plain": [
       "Batches:   0%|          | 0/1 [00:00<?, ?it/s]"
      ]
     },
     "metadata": {},
     "output_type": "display_data"
    },
    {
     "data": {
      "application/vnd.jupyter.widget-view+json": {
       "model_id": "64fe305f35a849eabeb979fb23b4e72b",
       "version_major": 2,
       "version_minor": 0
      },
      "text/plain": [
       "Batches:   0%|          | 0/1 [00:00<?, ?it/s]"
      ]
     },
     "metadata": {},
     "output_type": "display_data"
    },
    {
     "data": {
      "application/vnd.jupyter.widget-view+json": {
       "model_id": "1d0775e533ee4d0ea0e27b3ca1e8dcd2",
       "version_major": 2,
       "version_minor": 0
      },
      "text/plain": [
       "Batches:   0%|          | 0/1 [00:00<?, ?it/s]"
      ]
     },
     "metadata": {},
     "output_type": "display_data"
    },
    {
     "data": {
      "application/vnd.jupyter.widget-view+json": {
       "model_id": "09f0810f8e7448ed90caaec33884face",
       "version_major": 2,
       "version_minor": 0
      },
      "text/plain": [
       "Batches:   0%|          | 0/1 [00:00<?, ?it/s]"
      ]
     },
     "metadata": {},
     "output_type": "display_data"
    },
    {
     "data": {
      "application/vnd.jupyter.widget-view+json": {
       "model_id": "1978f7a8b62d47fcb9c4435077aa04c6",
       "version_major": 2,
       "version_minor": 0
      },
      "text/plain": [
       "Batches:   0%|          | 0/1 [00:00<?, ?it/s]"
      ]
     },
     "metadata": {},
     "output_type": "display_data"
    },
    {
     "data": {
      "application/vnd.jupyter.widget-view+json": {
       "model_id": "5d01aa7e25734c9597ab43abbe1164e1",
       "version_major": 2,
       "version_minor": 0
      },
      "text/plain": [
       "Batches:   0%|          | 0/1 [00:00<?, ?it/s]"
      ]
     },
     "metadata": {},
     "output_type": "display_data"
    },
    {
     "data": {
      "application/vnd.jupyter.widget-view+json": {
       "model_id": "984af56065bf478395de061eea9e1b32",
       "version_major": 2,
       "version_minor": 0
      },
      "text/plain": [
       "Batches:   0%|          | 0/1 [00:00<?, ?it/s]"
      ]
     },
     "metadata": {},
     "output_type": "display_data"
    },
    {
     "data": {
      "application/vnd.jupyter.widget-view+json": {
       "model_id": "8c5f928f9f4044ee92e6cd00f827ae7e",
       "version_major": 2,
       "version_minor": 0
      },
      "text/plain": [
       "Batches:   0%|          | 0/1 [00:00<?, ?it/s]"
      ]
     },
     "metadata": {},
     "output_type": "display_data"
    },
    {
     "data": {
      "application/vnd.jupyter.widget-view+json": {
       "model_id": "fb0ec7aa47c34228af9d6d3cdfe1f830",
       "version_major": 2,
       "version_minor": 0
      },
      "text/plain": [
       "Batches:   0%|          | 0/1 [00:00<?, ?it/s]"
      ]
     },
     "metadata": {},
     "output_type": "display_data"
    },
    {
     "data": {
      "application/vnd.jupyter.widget-view+json": {
       "model_id": "0a0b4f492efa48b586511b22df5afef1",
       "version_major": 2,
       "version_minor": 0
      },
      "text/plain": [
       "Batches:   0%|          | 0/1 [00:00<?, ?it/s]"
      ]
     },
     "metadata": {},
     "output_type": "display_data"
    },
    {
     "data": {
      "application/vnd.jupyter.widget-view+json": {
       "model_id": "8a0e7cbc392d451195d69241c4d63db2",
       "version_major": 2,
       "version_minor": 0
      },
      "text/plain": [
       "Batches:   0%|          | 0/1 [00:00<?, ?it/s]"
      ]
     },
     "metadata": {},
     "output_type": "display_data"
    },
    {
     "data": {
      "application/vnd.jupyter.widget-view+json": {
       "model_id": "3d4279a878114a9c9a9247361fb4eb75",
       "version_major": 2,
       "version_minor": 0
      },
      "text/plain": [
       "Batches:   0%|          | 0/1 [00:00<?, ?it/s]"
      ]
     },
     "metadata": {},
     "output_type": "display_data"
    },
    {
     "data": {
      "application/vnd.jupyter.widget-view+json": {
       "model_id": "ae8b9d4f8ce24393814d7ca8e6b35cde",
       "version_major": 2,
       "version_minor": 0
      },
      "text/plain": [
       "Batches:   0%|          | 0/1 [00:00<?, ?it/s]"
      ]
     },
     "metadata": {},
     "output_type": "display_data"
    },
    {
     "data": {
      "application/vnd.jupyter.widget-view+json": {
       "model_id": "eedf99474c4a4d1da7c4f2fdbd18a877",
       "version_major": 2,
       "version_minor": 0
      },
      "text/plain": [
       "Batches:   0%|          | 0/1 [00:00<?, ?it/s]"
      ]
     },
     "metadata": {},
     "output_type": "display_data"
    },
    {
     "data": {
      "application/vnd.jupyter.widget-view+json": {
       "model_id": "1235312814414a8bb44879b9a85adb37",
       "version_major": 2,
       "version_minor": 0
      },
      "text/plain": [
       "Batches:   0%|          | 0/1 [00:00<?, ?it/s]"
      ]
     },
     "metadata": {},
     "output_type": "display_data"
    },
    {
     "data": {
      "application/vnd.jupyter.widget-view+json": {
       "model_id": "f5a0e012c9b440a7940f6cdc7b28acd2",
       "version_major": 2,
       "version_minor": 0
      },
      "text/plain": [
       "Batches:   0%|          | 0/1 [00:00<?, ?it/s]"
      ]
     },
     "metadata": {},
     "output_type": "display_data"
    },
    {
     "data": {
      "application/vnd.jupyter.widget-view+json": {
       "model_id": "df50154f162b4cabbb4f6fed376fe248",
       "version_major": 2,
       "version_minor": 0
      },
      "text/plain": [
       "Batches:   0%|          | 0/1 [00:00<?, ?it/s]"
      ]
     },
     "metadata": {},
     "output_type": "display_data"
    },
    {
     "data": {
      "application/vnd.jupyter.widget-view+json": {
       "model_id": "656635a5c8f94a19b8433d8fe2024502",
       "version_major": 2,
       "version_minor": 0
      },
      "text/plain": [
       "Batches:   0%|          | 0/1 [00:00<?, ?it/s]"
      ]
     },
     "metadata": {},
     "output_type": "display_data"
    },
    {
     "data": {
      "application/vnd.jupyter.widget-view+json": {
       "model_id": "b166fa2cd02e449c9c91e1f29487e356",
       "version_major": 2,
       "version_minor": 0
      },
      "text/plain": [
       "Batches:   0%|          | 0/1 [00:00<?, ?it/s]"
      ]
     },
     "metadata": {},
     "output_type": "display_data"
    },
    {
     "data": {
      "application/vnd.jupyter.widget-view+json": {
       "model_id": "760c3206313546b4a7fa29b44b099c18",
       "version_major": 2,
       "version_minor": 0
      },
      "text/plain": [
       "Batches:   0%|          | 0/1 [00:00<?, ?it/s]"
      ]
     },
     "metadata": {},
     "output_type": "display_data"
    },
    {
     "data": {
      "application/vnd.jupyter.widget-view+json": {
       "model_id": "ed311be230e54fb4bcd22ba90151f47b",
       "version_major": 2,
       "version_minor": 0
      },
      "text/plain": [
       "Batches:   0%|          | 0/1 [00:00<?, ?it/s]"
      ]
     },
     "metadata": {},
     "output_type": "display_data"
    },
    {
     "data": {
      "application/vnd.jupyter.widget-view+json": {
       "model_id": "8ee8473be3324d1f848c46c28417406c",
       "version_major": 2,
       "version_minor": 0
      },
      "text/plain": [
       "Batches:   0%|          | 0/1 [00:00<?, ?it/s]"
      ]
     },
     "metadata": {},
     "output_type": "display_data"
    },
    {
     "data": {
      "application/vnd.jupyter.widget-view+json": {
       "model_id": "a8be3d39648b4c45905236063edb1a32",
       "version_major": 2,
       "version_minor": 0
      },
      "text/plain": [
       "Batches:   0%|          | 0/1 [00:00<?, ?it/s]"
      ]
     },
     "metadata": {},
     "output_type": "display_data"
    },
    {
     "data": {
      "application/vnd.jupyter.widget-view+json": {
       "model_id": "e2c3f87893224805aff99fa0bc83d1af",
       "version_major": 2,
       "version_minor": 0
      },
      "text/plain": [
       "Batches:   0%|          | 0/1 [00:00<?, ?it/s]"
      ]
     },
     "metadata": {},
     "output_type": "display_data"
    },
    {
     "data": {
      "application/vnd.jupyter.widget-view+json": {
       "model_id": "a7c2a109d0ff4ebaaf0edf859715ff1b",
       "version_major": 2,
       "version_minor": 0
      },
      "text/plain": [
       "Batches:   0%|          | 0/1 [00:00<?, ?it/s]"
      ]
     },
     "metadata": {},
     "output_type": "display_data"
    },
    {
     "data": {
      "application/vnd.jupyter.widget-view+json": {
       "model_id": "0219c2688ede49ffb9b153d74d53ba19",
       "version_major": 2,
       "version_minor": 0
      },
      "text/plain": [
       "Batches:   0%|          | 0/1 [00:00<?, ?it/s]"
      ]
     },
     "metadata": {},
     "output_type": "display_data"
    },
    {
     "data": {
      "application/vnd.jupyter.widget-view+json": {
       "model_id": "85b8406f00cc430aa4914821d1011382",
       "version_major": 2,
       "version_minor": 0
      },
      "text/plain": [
       "Batches:   0%|          | 0/1 [00:00<?, ?it/s]"
      ]
     },
     "metadata": {},
     "output_type": "display_data"
    },
    {
     "data": {
      "application/vnd.jupyter.widget-view+json": {
       "model_id": "5f2025d2eae740a1b06a018bb990acd2",
       "version_major": 2,
       "version_minor": 0
      },
      "text/plain": [
       "Batches:   0%|          | 0/1 [00:00<?, ?it/s]"
      ]
     },
     "metadata": {},
     "output_type": "display_data"
    },
    {
     "data": {
      "application/vnd.jupyter.widget-view+json": {
       "model_id": "0ea2bb9e572d425ca5d4a1f84bcd295d",
       "version_major": 2,
       "version_minor": 0
      },
      "text/plain": [
       "Batches:   0%|          | 0/1 [00:00<?, ?it/s]"
      ]
     },
     "metadata": {},
     "output_type": "display_data"
    },
    {
     "data": {
      "application/vnd.jupyter.widget-view+json": {
       "model_id": "cbae34178e6e480a9695ea234099bf34",
       "version_major": 2,
       "version_minor": 0
      },
      "text/plain": [
       "Batches:   0%|          | 0/1 [00:00<?, ?it/s]"
      ]
     },
     "metadata": {},
     "output_type": "display_data"
    },
    {
     "data": {
      "application/vnd.jupyter.widget-view+json": {
       "model_id": "746364d60bf54fd8b54acb7d536770dd",
       "version_major": 2,
       "version_minor": 0
      },
      "text/plain": [
       "Batches:   0%|          | 0/1 [00:00<?, ?it/s]"
      ]
     },
     "metadata": {},
     "output_type": "display_data"
    },
    {
     "data": {
      "application/vnd.jupyter.widget-view+json": {
       "model_id": "257e899313b44093a0180064702b9a61",
       "version_major": 2,
       "version_minor": 0
      },
      "text/plain": [
       "Batches:   0%|          | 0/1 [00:00<?, ?it/s]"
      ]
     },
     "metadata": {},
     "output_type": "display_data"
    },
    {
     "data": {
      "application/vnd.jupyter.widget-view+json": {
       "model_id": "c48b7a3e5b634f01879a5d35a8c8146a",
       "version_major": 2,
       "version_minor": 0
      },
      "text/plain": [
       "Batches:   0%|          | 0/1 [00:00<?, ?it/s]"
      ]
     },
     "metadata": {},
     "output_type": "display_data"
    },
    {
     "data": {
      "application/vnd.jupyter.widget-view+json": {
       "model_id": "9edeb445a258401b88a7e18dbafd3f2d",
       "version_major": 2,
       "version_minor": 0
      },
      "text/plain": [
       "Batches:   0%|          | 0/1 [00:00<?, ?it/s]"
      ]
     },
     "metadata": {},
     "output_type": "display_data"
    },
    {
     "data": {
      "application/vnd.jupyter.widget-view+json": {
       "model_id": "9472d094812d4d48a4d6ceb9ffbf8b0f",
       "version_major": 2,
       "version_minor": 0
      },
      "text/plain": [
       "Batches:   0%|          | 0/1 [00:00<?, ?it/s]"
      ]
     },
     "metadata": {},
     "output_type": "display_data"
    },
    {
     "data": {
      "application/vnd.jupyter.widget-view+json": {
       "model_id": "d8aa42e099d940c0967bc0aba6c64639",
       "version_major": 2,
       "version_minor": 0
      },
      "text/plain": [
       "Batches:   0%|          | 0/1 [00:00<?, ?it/s]"
      ]
     },
     "metadata": {},
     "output_type": "display_data"
    },
    {
     "data": {
      "application/vnd.jupyter.widget-view+json": {
       "model_id": "2c20349e05c3446590a0dae9b7943c8d",
       "version_major": 2,
       "version_minor": 0
      },
      "text/plain": [
       "Batches:   0%|          | 0/1 [00:00<?, ?it/s]"
      ]
     },
     "metadata": {},
     "output_type": "display_data"
    },
    {
     "data": {
      "application/vnd.jupyter.widget-view+json": {
       "model_id": "699b7f67fe5c435c805470921c64cc37",
       "version_major": 2,
       "version_minor": 0
      },
      "text/plain": [
       "Batches:   0%|          | 0/1 [00:00<?, ?it/s]"
      ]
     },
     "metadata": {},
     "output_type": "display_data"
    },
    {
     "data": {
      "application/vnd.jupyter.widget-view+json": {
       "model_id": "8fe575a8671447f98a3a0bca0ce2b169",
       "version_major": 2,
       "version_minor": 0
      },
      "text/plain": [
       "Batches:   0%|          | 0/1 [00:00<?, ?it/s]"
      ]
     },
     "metadata": {},
     "output_type": "display_data"
    },
    {
     "data": {
      "application/vnd.jupyter.widget-view+json": {
       "model_id": "3cecd5d87c4842acbbdc1728a05a0a9b",
       "version_major": 2,
       "version_minor": 0
      },
      "text/plain": [
       "Batches:   0%|          | 0/1 [00:00<?, ?it/s]"
      ]
     },
     "metadata": {},
     "output_type": "display_data"
    },
    {
     "data": {
      "application/vnd.jupyter.widget-view+json": {
       "model_id": "e8c23e193f54483ab38bddc3a37b2696",
       "version_major": 2,
       "version_minor": 0
      },
      "text/plain": [
       "Batches:   0%|          | 0/1 [00:00<?, ?it/s]"
      ]
     },
     "metadata": {},
     "output_type": "display_data"
    },
    {
     "data": {
      "application/vnd.jupyter.widget-view+json": {
       "model_id": "35088583cf0149f6b09ad4f7b91bb068",
       "version_major": 2,
       "version_minor": 0
      },
      "text/plain": [
       "Batches:   0%|          | 0/1 [00:00<?, ?it/s]"
      ]
     },
     "metadata": {},
     "output_type": "display_data"
    },
    {
     "data": {
      "application/vnd.jupyter.widget-view+json": {
       "model_id": "e5ef1248bdbf42a48ad058028b34c7d0",
       "version_major": 2,
       "version_minor": 0
      },
      "text/plain": [
       "Batches:   0%|          | 0/1 [00:00<?, ?it/s]"
      ]
     },
     "metadata": {},
     "output_type": "display_data"
    },
    {
     "data": {
      "application/vnd.jupyter.widget-view+json": {
       "model_id": "6b12fb3a21f7476eb21a8b4070d4065e",
       "version_major": 2,
       "version_minor": 0
      },
      "text/plain": [
       "Batches:   0%|          | 0/1 [00:00<?, ?it/s]"
      ]
     },
     "metadata": {},
     "output_type": "display_data"
    },
    {
     "data": {
      "application/vnd.jupyter.widget-view+json": {
       "model_id": "b1ced8ee2fc7434ba8d29170b317be7b",
       "version_major": 2,
       "version_minor": 0
      },
      "text/plain": [
       "Batches:   0%|          | 0/1 [00:00<?, ?it/s]"
      ]
     },
     "metadata": {},
     "output_type": "display_data"
    },
    {
     "data": {
      "application/vnd.jupyter.widget-view+json": {
       "model_id": "e6cff75c92674687a16b2037bedee3f9",
       "version_major": 2,
       "version_minor": 0
      },
      "text/plain": [
       "Batches:   0%|          | 0/1 [00:00<?, ?it/s]"
      ]
     },
     "metadata": {},
     "output_type": "display_data"
    },
    {
     "data": {
      "application/vnd.jupyter.widget-view+json": {
       "model_id": "cf87f265085a429b88af3b5e64ae7072",
       "version_major": 2,
       "version_minor": 0
      },
      "text/plain": [
       "Batches:   0%|          | 0/1 [00:00<?, ?it/s]"
      ]
     },
     "metadata": {},
     "output_type": "display_data"
    },
    {
     "data": {
      "application/vnd.jupyter.widget-view+json": {
       "model_id": "be94bb845a3f43ffa0d96af400a37988",
       "version_major": 2,
       "version_minor": 0
      },
      "text/plain": [
       "Batches:   0%|          | 0/1 [00:00<?, ?it/s]"
      ]
     },
     "metadata": {},
     "output_type": "display_data"
    },
    {
     "data": {
      "application/vnd.jupyter.widget-view+json": {
       "model_id": "03cc9b9d41b448c4a465b1f8ce955048",
       "version_major": 2,
       "version_minor": 0
      },
      "text/plain": [
       "Batches:   0%|          | 0/1 [00:00<?, ?it/s]"
      ]
     },
     "metadata": {},
     "output_type": "display_data"
    },
    {
     "data": {
      "application/vnd.jupyter.widget-view+json": {
       "model_id": "995dcfa7301b45579d97a5fbef8ccea1",
       "version_major": 2,
       "version_minor": 0
      },
      "text/plain": [
       "Batches:   0%|          | 0/1 [00:00<?, ?it/s]"
      ]
     },
     "metadata": {},
     "output_type": "display_data"
    },
    {
     "data": {
      "application/vnd.jupyter.widget-view+json": {
       "model_id": "565cae164cba4c7198811de2301d482a",
       "version_major": 2,
       "version_minor": 0
      },
      "text/plain": [
       "Batches:   0%|          | 0/1 [00:00<?, ?it/s]"
      ]
     },
     "metadata": {},
     "output_type": "display_data"
    },
    {
     "data": {
      "application/vnd.jupyter.widget-view+json": {
       "model_id": "b0da8e57b7d04b08a7068d03c5543d01",
       "version_major": 2,
       "version_minor": 0
      },
      "text/plain": [
       "Batches:   0%|          | 0/1 [00:00<?, ?it/s]"
      ]
     },
     "metadata": {},
     "output_type": "display_data"
    },
    {
     "data": {
      "application/vnd.jupyter.widget-view+json": {
       "model_id": "cdd00139369145ac831909b8031be6a3",
       "version_major": 2,
       "version_minor": 0
      },
      "text/plain": [
       "Batches:   0%|          | 0/1 [00:00<?, ?it/s]"
      ]
     },
     "metadata": {},
     "output_type": "display_data"
    },
    {
     "data": {
      "application/vnd.jupyter.widget-view+json": {
       "model_id": "2b2523b1ceb74ce2b69fb720220e451c",
       "version_major": 2,
       "version_minor": 0
      },
      "text/plain": [
       "Batches:   0%|          | 0/1 [00:00<?, ?it/s]"
      ]
     },
     "metadata": {},
     "output_type": "display_data"
    },
    {
     "data": {
      "application/vnd.jupyter.widget-view+json": {
       "model_id": "96a0c30f5a7042358c1de1e69ec5f7dc",
       "version_major": 2,
       "version_minor": 0
      },
      "text/plain": [
       "Batches:   0%|          | 0/1 [00:00<?, ?it/s]"
      ]
     },
     "metadata": {},
     "output_type": "display_data"
    },
    {
     "data": {
      "application/vnd.jupyter.widget-view+json": {
       "model_id": "948d769b05994a4a8076e8619c5a7789",
       "version_major": 2,
       "version_minor": 0
      },
      "text/plain": [
       "Batches:   0%|          | 0/1 [00:00<?, ?it/s]"
      ]
     },
     "metadata": {},
     "output_type": "display_data"
    },
    {
     "data": {
      "application/vnd.jupyter.widget-view+json": {
       "model_id": "c8f0c96c1e914db0b8aa2929b222841d",
       "version_major": 2,
       "version_minor": 0
      },
      "text/plain": [
       "Batches:   0%|          | 0/1 [00:00<?, ?it/s]"
      ]
     },
     "metadata": {},
     "output_type": "display_data"
    },
    {
     "data": {
      "application/vnd.jupyter.widget-view+json": {
       "model_id": "c73ad03f1d95401dbfa1ca61a754588c",
       "version_major": 2,
       "version_minor": 0
      },
      "text/plain": [
       "Batches:   0%|          | 0/1 [00:00<?, ?it/s]"
      ]
     },
     "metadata": {},
     "output_type": "display_data"
    },
    {
     "data": {
      "application/vnd.jupyter.widget-view+json": {
       "model_id": "ccb151117939471abb3760ee839fda6d",
       "version_major": 2,
       "version_minor": 0
      },
      "text/plain": [
       "Batches:   0%|          | 0/1 [00:00<?, ?it/s]"
      ]
     },
     "metadata": {},
     "output_type": "display_data"
    },
    {
     "data": {
      "text/plain": [
       "<minsearch.vector.VectorSearch at 0x17288eba0>"
      ]
     },
     "execution_count": 19,
     "metadata": {},
     "output_type": "execute_result"
    }
   ],
   "source": [
    "import numpy as np\n",
    "\n",
    "from minsearch import VectorSearch\n",
    "from tqdm.auto import tqdm\n",
    "\n",
    "erc_data_embeddings = []\n",
    "\n",
    "\n",
    "erc_data_chunks = erc_data_chunks[0:100]  # Limiting to first 100 chunks for cost and time control\n",
    "\n",
    "for d in tqdm(erc_data_chunks):\n",
    "    v = embedding_model.encode(d[\"chunk\"])\n",
    "    erc_data_embeddings.append(v)\n",
    "\n",
    "erc_data_embeddings = np.array(erc_data_embeddings)\n",
    "\n",
    "erc_data_vindex = VectorSearch()\n",
    "erc_data_vindex.fit(erc_data_embeddings, erc_data_chunks)"
   ]
  },
  {
   "cell_type": "code",
   "execution_count": 28,
   "id": "7d7d195f",
   "metadata": {},
   "outputs": [
    {
     "data": {
      "application/vnd.jupyter.widget-view+json": {
       "model_id": "9671f441cb474981a7399f25cfdbccc3",
       "version_major": 2,
       "version_minor": 0
      },
      "text/plain": [
       "Batches:   0%|          | 0/1 [00:00<?, ?it/s]"
      ]
     },
     "metadata": {},
     "output_type": "display_data"
    }
   ],
   "source": [
    "query = \"What is the main purpose of the ERC-20?\"\n",
    "q = embedding_model.encode(query)\n",
    "vector_results = erc_data_vindex.search(q)"
   ]
  },
  {
   "cell_type": "code",
   "execution_count": 29,
   "id": "5cdd062b",
   "metadata": {},
   "outputs": [
    {
     "data": {
      "text/plain": [
       "[{'start': 7000,\n",
       "  'chunk': \"` field in the metadata.\\n\\n## Rationale\\n\\nThis ERC makes adding metadata to ERC-20 tokens more straightforward for developers, with minimal to no disruption to the overall ecosystem. Using the same parameter name makes it easier to reuse code.\\n\\nAdditionally, the recommendations not to use ERC-20's `name`, `symbol`, and `decimals` functions save gas.\\n\\nBuilt-in interoperability is useful as otherwise it might not be easy to differentiate the type of the token. Interoperability could be done using [ERC-165](./eip-165.md), but static calls are time-inefficient for wallets and websites, and is generally inflexible. Instead, including interoperability data in the token URI increases flexibility while also giving a performance increase.\\n\\n## Backwards Compatibility\\n\\nThis EIP is fully backwards compatible as its implementation simply extends the functionality of ERC-20 tokens and is optional. Additionally, it makes backward compatible recommendations for ERC-721 and ERC-1155 tokens.\\n\\n## Security Considerations\\n\\n### Server-Side Request Forgery (SSRF)\\n\\nWallets should be careful about making arbitrary requests to URLs. As such, it is recommended for wallets to sanitize the URI by whitelisting specific schemes and ports. A vulnerable wallet could be tricked into, for example, modifying data on a locally-hosted redis database.\\n\\n## Copyright\\n\\nCopyright and related rights waived via [CC0](../LICENSE.md).\",\n",
       "  'eip': 1046,\n",
       "  'title': 'tokenURI Interoperability',\n",
       "  'description': 'Extends ERC-20 with an ERC-721-like tokenURI, and extends ERC-721 and ERC-1155 with interoperability',\n",
       "  'author': 'Tommy Nicholas (@tomasienrbc), Matt Russo (@mateosu), John Zettler (@JohnZettler), Matt Condon (@shrugs), Gavin John (@Pandapip1)',\n",
       "  'discussions-to': 'https://ethereum-magicians.org/t/eip-1046-erc-20-metadata-extension/13036',\n",
       "  'status': 'Final',\n",
       "  'type': 'Standards Track',\n",
       "  'category': 'ERC',\n",
       "  'created': datetime.date(2018, 4, 13),\n",
       "  'requires': '20, 721, 1155',\n",
       "  'filename': 'ERCs-master/ERCS/erc-1046.md'},\n",
       " {'start': 1000,\n",
       "  'chunk': 'OMMENDED\", \"MAY\", and \"OPTIONAL\" in this document are to be interpreted as described in RFC 2119 and RFC 8174.\\n\\n### Interoperability Metadata\\n\\nThe following TypeScript interface is used in later sections:\\n\\n```typescript\\n/**\\n * Interoperability metadata.\\n * This can be extended by other proposals.\\n * \\n * All fields MUST be optional.\\n * **Not every field has to be a boolean.** Any optional JSON-serializable object can be used by extensions.\\n */\\ninterface InteroperabilityMetadata {\\n    /**\\n     * This MUST be true if this is ERC-1046 Token Metadata, otherwise, this MUST be omitted.\\n     * Setting this to true indicates to wallets that the address should be treated as an ERC-20 token.\\n     **/\\n    erc1046?: boolean | undefined;\\n\\n    /**\\n     * This MUST be true if this is ERC-721 Token Metadata, otherwise, this MUST be omitted.\\n     * Setting this to true indicates to wallets that the address should be treated as an ERC-721 token.\\n     **/\\n    erc721?: boolean | undefined;\\n\\n    /**\\n     * This MUST be true if this is ERC-1155 Token Metadata, otherwise, this MUST be omitted.\\n     * Setting this to true indicates to wallets that the address should be treated as an ERC-1155 token.\\n     **/\\n    erc1155?: boolean | undefined;\\n}\\n```\\n\\n### ERC-20 Extension\\n\\n#### ERC-20 Interface Extension\\n\\nCompliant contracts MUST implement the following Solidity interface:\\n\\n```solidity\\npragma solidity ^0.8.0;\\n\\n/// @title  ERC-20 Metadata Extension\\ninterface ERC20TokenMetadata /* is ERC20 */ {\\n    /// @notice     Gets an ERC-721-like token URI\\n    /// @dev        The resolved data MUST be in JSON format and support ERC-1046\\'s ERC-20 Token Metadata Schema\\n    function tokenURI() external view returns (string);\\n}\\n```\\n\\n#### ERC-20 Token Metadata Schema\\n\\nThe resolved JSON of the `tokenURI` described in the ERC-20 Interface Extension section MUST conform to the following TypeScript interface:\\n\\n```typescript\\n/**\\n * Asset Metadata\\n */\\ninterface ERC20TokenMetadata {\\n    /**\\n     * Interoperability, to ',\n",
       "  'eip': 1046,\n",
       "  'title': 'tokenURI Interoperability',\n",
       "  'description': 'Extends ERC-20 with an ERC-721-like tokenURI, and extends ERC-721 and ERC-1155 with interoperability',\n",
       "  'author': 'Tommy Nicholas (@tomasienrbc), Matt Russo (@mateosu), John Zettler (@JohnZettler), Matt Condon (@shrugs), Gavin John (@Pandapip1)',\n",
       "  'discussions-to': 'https://ethereum-magicians.org/t/eip-1046-erc-20-metadata-extension/13036',\n",
       "  'status': 'Final',\n",
       "  'type': 'Standards Track',\n",
       "  'category': 'ERC',\n",
       "  'created': datetime.date(2018, 4, 13),\n",
       "  'requires': '20, 721, 1155',\n",
       "  'filename': 'ERCs-master/ERCS/erc-1046.md'},\n",
       " {'start': 0,\n",
       "  'chunk': '## Abstract\\n\\n[ERC-721](./eip-721.md) introduced a `tokenURI` function for non-fungible tokens to handle miscellaneous metadata such as:\\n\\n- thumbnail image\\n- title\\n- description\\n- special asset properties\\n- etc.\\n\\nThis ERC adds a `tokenURI` function to [ERC-20](./eip-20.md), and extends [ERC-721](./eip-721.md) and [ERC-1155](./eip-1155.md) to enable interoperability between all three types of token URI.\\n\\n## Motivation\\n\\nSee the note about the metadata extension in [ERC-721](./eip-721.md#rationale). The same arguments apply to ERC-20.\\n\\nBeing able to use similar mechanisms to extract metadata for ERC-20, ERC-721, ERC-1155, and future standards is useful for determining:\\n\\n- What type of token a contract is (if any);\\n- How to display a token to a user, either in an asset listing page or on a dedicated token page; and\\n- Determining the capabilities of the token\\n\\n## Specification\\n\\nThe key words \"MUST\", \"MUST NOT\", \"REQUIRED\", \"SHALL\", \"SHALL NOT\", \"SHOULD\", \"SHOULD NOT\", \"RECOMMENDED\", \"NOT RECOMMENDED\", \"MAY\", and \"OPTIONAL\" in this document are to be interpreted as described in RFC 2119 and RFC 8174.\\n\\n### Interoperability Metadata\\n\\nThe following TypeScript interface is used in later sections:\\n\\n```typescript\\n/**\\n * Interoperability metadata.\\n * This can be extended by other proposals.\\n * \\n * All fields MUST be optional.\\n * **Not every field has to be a boolean.** Any optional JSON-serializable object can be used by extensions.\\n */\\ninterface InteroperabilityMetadata {\\n    /**\\n     * This MUST be true if this is ERC-1046 Token Metadata, otherwise, this MUST be omitted.\\n     * Setting this to true indicates to wallets that the address should be treated as an ERC-20 token.\\n     **/\\n    erc1046?: boolean | undefined;\\n\\n    /**\\n     * This MUST be true if this is ERC-721 Token Metadata, otherwise, this MUST be omitted.\\n     * Setting this to true indicates to wallets that the address should be treated as an ERC-721 token.\\n     **/\\n    erc721?: boolean | undefined;\\n\\n    /**\\n     * ',\n",
       "  'eip': 1046,\n",
       "  'title': 'tokenURI Interoperability',\n",
       "  'description': 'Extends ERC-20 with an ERC-721-like tokenURI, and extends ERC-721 and ERC-1155 with interoperability',\n",
       "  'author': 'Tommy Nicholas (@tomasienrbc), Matt Russo (@mateosu), John Zettler (@JohnZettler), Matt Condon (@shrugs), Gavin John (@Pandapip1)',\n",
       "  'discussions-to': 'https://ethereum-magicians.org/t/eip-1046-erc-20-metadata-extension/13036',\n",
       "  'status': 'Final',\n",
       "  'type': 'Standards Track',\n",
       "  'category': 'ERC',\n",
       "  'created': datetime.date(2018, 4, 13),\n",
       "  'requires': '20, 721, 1155',\n",
       "  'filename': 'ERCs-master/ERCS/erc-1046.md'},\n",
       " {'start': 37000,\n",
       "  'chunk': 'ke how HTTP 200 has a different meaning from HTTP 201, ERC-1066 status codes can relay information between contract beyond simply pass or fail. They can be thought of as the edges in a graph that has smart contracts as nodes.\\n\\n### Fully `revert`able\\n\\n_This spec is fully compatible with `revert`-with-reason and does not intend to supplant it in any way._ Both by reverting with a common code, the developer can determine what went wrong from a set of known error states.\\n\\nFurther, by leveraging ERC-1066 and a translation table (such as in ERC-1444) in conjunction, developers and end users alike can receive fully automated human-readable error messages in the language and phrasing of their choice.\\n\\n### Nibble Order\\n\\nNibble order makes no difference to the machine, and is purely mnemonic. This design was originally in opposite order, but changed it for a few convenience factors. Since it\\'s a different scheme from HTTP, it may feel strange initially, but becomes very natural after a couple hours of use.\\n\\n#### Short Forms\\n\\nGeneric is `0x0*`, general codes are consistent with their integer representations\\n\\n```solidity\\nhex\"1\" == hex\"01\" == 1 // with casting\\n```\\n\\n#### Contract Categories\\n\\nMany applications will always be part of the same category. For instance, validation will generally be in the `0x10` range.\\n\\n```solidity\\ncontract Whitelist {\\n    mapping(address => bool) private whitelist;\\n    uint256 private deadline;\\n    byte constant private prefix = hex\"10\";\\n\\n    check(address _, address _user) returns (byte _status) {\\n        if (now >= deadline)  { return prefix | 5; }\\n        if (whitelist[_user]) { return prefix | 1; }\\n        return prefix;\\n    }\\n}\\n```\\n\\n#### Helpers\\n\\nThis above also means that working with app-specific enums is slightly easier, and also saves gas (fewer operations required).\\n\\n```solidity\\nenum Sleep {\\n    Awake,\\n    Asleep,\\n    BedOccupied,\\n    WindingDown\\n}\\n\\n// From the helper library\\n\\nfunction appCode(Sleep _state) returns (byte code) {\\n    return b',\n",
       "  'eip': 1066,\n",
       "  'title': 'Status Codes',\n",
       "  'author': 'Brooklyn Zelenka (@expede), Tom Carchrae (@carchrae), Gleb Naumenko (@naumenkogs)',\n",
       "  'discussions-to': 'https://ethereum-magicians.org/t/erc-1066-ethereum-status-codes-esc/',\n",
       "  'status': 'Stagnant',\n",
       "  'type': 'Standards Track',\n",
       "  'category': 'ERC',\n",
       "  'created': datetime.date(2018, 5, 5),\n",
       "  'filename': 'ERCs-master/ERCS/erc-1066.md'},\n",
       " {'start': 11000,\n",
       "  'chunk': 'f any new feature. The specification should be detailed enough to allow competing, interoperable implementations for any of the current Ethereum platforms (besu, erigon, ethereumjs, go-ethereum, nethermind, or others).\\n- Rationale - The rationale fleshes out the specification by describing what motivated the design and why particular design decisions were made. It should describe alternate designs that were considered and related work, e.g. how the feature is supported in other languages. The rationale should discuss important objections or concerns raised during discussion around the EIP.\\n- Backwards Compatibility *(optional)* - All EIPs that introduce backwards incompatibilities must include a section describing these incompatibilities and their consequences. The EIP must explain how the author proposes to deal with these incompatibilities. This section may be omitted if the proposal does not introduce any backwards incompatibilities, but this section must be included if backward incompatibilities exist.\\n- Test Cases *(optional)* - Test cases for an implementation are mandatory for EIPs that are affecting consensus changes. Tests should either be inlined in the EIP as data (such as input/expected output pairs) or included in `../assets/eip-###/<filename>`. This section may be omitted for non-Core proposals.\\n- Reference Implementation *(optional)* - An optional section that contains a reference/example implementation that people can use to assist in understanding or implementing this specification. This section may be omitted for all EIPs.\\n- Security Considerations - All EIPs must contain a section that discusses the security implications/considerations relevant to the proposed change. Include information that might be important for security discussions, surfaces risks and can be used throughout the life-cycle of the proposal. E.g. include security-relevant design decisions, concerns, important discussions, implementation-specific guidance and pitfalls, an outline ',\n",
       "  'eip': 1,\n",
       "  'title': 'EIP Purpose and Guidelines',\n",
       "  'status': 'Living',\n",
       "  'type': 'Meta',\n",
       "  'author': 'Martin Becze <mb@ethereum.org>, Hudson Jameson <hudson@ethereum.org>, et al.',\n",
       "  'created': datetime.date(2015, 10, 27),\n",
       "  'filename': 'ERCs-master/ERCS/eip-1.md'},\n",
       " {'start': 36000,\n",
       "  'chunk': \"egory is reserved for application-specific statuses. In the case that 256 codes become insufficient, `bytes1` may be embedded in larger byte arrays.\\n\\n### EVM Codes\\n\\nThe EVM also returns a status code in transactions; specifically `0x00` and `0x01`. This proposal both matches the meanings of those two codes, and could later be used at the EVM level.\\n\\n### Empty Space\\n\\nMuch like how HTTP status codes have large unused ranges, there are totally empty sections in this proposal. The intent is to not impose a complete set of codes up front, and to allow users to suggest uses for these spaces as time progresses.\\n\\n### Beyond Errors\\n\\nThis spec is intended to be much more than a set of common errors. One design goal is to enable easier contract-to-contract communication, protocols built on top of status codes, and flows that cross off-chain. Many of these cases include either expected kinds of exception state (as opposed to true errors), neutral states, time logic, and various successes.\\n\\nJust like how HTTP 200 has a different meaning from HTTP 201, ERC-1066 status codes can relay information between contract beyond simply pass or fail. They can be thought of as the edges in a graph that has smart contracts as nodes.\\n\\n### Fully `revert`able\\n\\n_This spec is fully compatible with `revert`-with-reason and does not intend to supplant it in any way._ Both by reverting with a common code, the developer can determine what went wrong from a set of known error states.\\n\\nFurther, by leveraging ERC-1066 and a translation table (such as in ERC-1444) in conjunction, developers and end users alike can receive fully automated human-readable error messages in the language and phrasing of their choice.\\n\\n### Nibble Order\\n\\nNibble order makes no difference to the machine, and is purely mnemonic. This design was originally in opposite order, but changed it for a few convenience factors. Since it's a different scheme from HTTP, it may feel strange initially, but becomes very natural after a couple ho\",\n",
       "  'eip': 1066,\n",
       "  'title': 'Status Codes',\n",
       "  'author': 'Brooklyn Zelenka (@expede), Tom Carchrae (@carchrae), Gleb Naumenko (@naumenkogs)',\n",
       "  'discussions-to': 'https://ethereum-magicians.org/t/erc-1066-ethereum-status-codes-esc/',\n",
       "  'status': 'Stagnant',\n",
       "  'type': 'Standards Track',\n",
       "  'category': 'ERC',\n",
       "  'created': datetime.date(2018, 5, 5),\n",
       "  'filename': 'ERCs-master/ERCS/erc-1066.md'},\n",
       " {'start': 0,\n",
       "  'chunk': \"## Simple Summary\\n\\nA standard interface for gas abstraction in top of smart contracts. \\n\\nAllows users to offer [EIP-20] token for paying the gas used in a call. \\n\\n## Abstract\\n\\nA main barrier for the adoption of DApps is the requirement of multiple tokens for executing in chain actions. Allowing users to sign messages to show intent of execution, but allowing a third party relayer to execute them can circumvent this problem, while ETH will always be required for ethereum transactions, it's possible for smart contract to take [EIP-191] signatures and forward a payment incentive to an untrusted party with ETH for executing the transaction. \\n\\n## Motivation\\n\\nStandardizing a common format for them, as well as a way in which the user allows the transaction to be paid in tokens, gives app developers a lot of flexibility and can become the main way in which app users interact with the Blockchain.\\n\\n\\n## Specification \\n\\n### Methods\\n\\n#### executeGasRelay\\n\\nExecutes `_execData` with current `lastNonce()` and pays `msg.sender` the gas used in specified `_gasToken`.\\n\\n```solidity\\nfunction executeGasRelay(bytes calldata _execData, uint256 _gasPrice, uint256 _gasLimit, address _gasToken, address _gasRelayer, bytes calldata _signature) external;\\t\\n```\\n\\n### executeGasRelayMsg\\n\\nReturns the `executeGasRelay` message used for signing messages..\\n\\n```solidity\\nfunction executeGasRelayMsg(uint256 _nonce, bytes memory _execData, uint256 _gasPrice, uint256 _gasLimit, address _gasToken, address _gasRelayer) public pure returns (bytes memory);\\n```\\n\\n#### executeGasRelayERC191Msg\\n\\nReturns the [EIP-191] of `executeGasRelayMsg` used for signing messages and for verifying the execution.\\n\\n```solidity\\nfunction executeGasRelayERC191Msg(uint256 _nonce, bytes memory _execData, uint256 _gasPrice, uint256 _gasLimit, address _gasToken, address _gasRelayer) public view returns (bytes memory);\\n```\\n\\n#### lastNonce\\n\\nReturns the current nonce for the gas relayed messages.\\n\\n```solidity\\nfunction lastNonce() public retu\",\n",
       "  'eip': 1077,\n",
       "  'title': 'Gas relay for contract calls',\n",
       "  'author': 'Alex Van de Sande <avsa@ethereum.org>, Ricardo Guilherme Schmidt (@3esmit)',\n",
       "  'discussions-to': 'https://ethereum-magicians.org/t/erc1077-and-1078-the-magic-of-executable-signed-messages-to-login-and-do-actions/351',\n",
       "  'status': 'Stagnant',\n",
       "  'type': 'Standards Track',\n",
       "  'category': 'ERC',\n",
       "  'created': datetime.date(2018, 5, 4),\n",
       "  'requires': '20, 191, 1271, 1344',\n",
       "  'filename': 'ERCs-master/ERCS/erc-1077.md'},\n",
       " {'start': 3000,\n",
       "  'chunk': 'verhead in building smart contracts, and helping raise code quality with trusted shared components.\\n\\nWe also see a desire for this [in transactions](./eip-658.md), and there\\'s no reason that these status codes couldn\\'t be used by the EVM itself.\\n\\n### Smart Contract Autonomy\\n\\n_Smart contracts don’t know much about the result of a request beyond pass/fail; they can be smarter with more context._\\n\\nSmart contracts are largely intended to be autonomous. While each contract may define a specific interface, having a common set of semantic codes can help developers write code that can react appropriately to various situations.\\n\\nWhile clearly related, status codes are complementary to `revert`-with-reason. Status codes are not limited to rolling back the transaction, and may represent known error states without halting execution. They may also represent off-chain conditions, supply a string to revert, signal time delays, and more.\\n\\nAll of this enables contracts to share a common vocabulary of state transitions, results, and internal changes, without having to deeply understand custom status enums or the internal business logic of collaborator contracts.\\n\\n## Specification\\n\\n### Format\\n\\nCodes are returned either on their own, or as the first value of a multiple return.\\n\\n```solidity\\n// Status only\\n\\nfunction isInt(uint num) public pure returns (byte status) {\\n    return hex\"01\";\\n}\\n\\n// Status and value\\n\\nuint8 private counter;\\n\\nfunction safeIncrement(uint8 interval) public returns (byte status, uint8 newCounter) {\\n    uint8 updated = counter + interval;\\n\\n    if (updated >= counter) {\\n        counter = updated;\\n        return (hex\"01\", updated);\\n    } else {\\n        return (hex\"00\", counter);\\n    }\\n}\\n```\\n\\n### Code Table\\n\\nCodes break nicely into a 16x16 matrix, represented as a 2-digit hex number. The high nibble represents the code\\'s kind or \"category\", and the low nibble contains the state or \"reason\". We present them below as separate tables per range for explanatory and layout re',\n",
       "  'eip': 1066,\n",
       "  'title': 'Status Codes',\n",
       "  'author': 'Brooklyn Zelenka (@expede), Tom Carchrae (@carchrae), Gleb Naumenko (@naumenkogs)',\n",
       "  'discussions-to': 'https://ethereum-magicians.org/t/erc-1066-ethereum-status-codes-esc/',\n",
       "  'status': 'Stagnant',\n",
       "  'type': 'Standards Track',\n",
       "  'category': 'ERC',\n",
       "  'created': datetime.date(2018, 5, 5),\n",
       "  'filename': 'ERCs-master/ERCS/erc-1066.md'},\n",
       " {'start': 0,\n",
       "  'chunk': '## What is an EIP?\\n\\nEIP stands for Ethereum Improvement Proposal. An EIP is a design document providing information to the Ethereum community, or describing a new feature for Ethereum or its processes or environment. The EIP should provide a concise technical specification of the feature and a rationale for the feature. The EIP author is responsible for building consensus within the community and documenting dissenting opinions.\\n\\n## EIP Rationale\\n\\nWe intend EIPs to be the primary mechanisms for proposing new features, for collecting community technical input on an issue, and for documenting the design decisions that have gone into Ethereum. Because the EIPs are maintained as text files in a versioned repository, their revision history is the historical record of the feature proposal.\\n\\nFor Ethereum implementers, EIPs are a convenient way to track the progress of their implementation. Ideally each implementation maintainer would list the EIPs that they have implemented. This will give end users a convenient way to know the current status of a given implementation or library.\\n\\n## EIP Types\\n\\nThere are three types of EIP:\\n\\n- A **Standards Track EIP** describes any change that affects most or all Ethereum implementations, such as—a change to the network protocol, a change in block or transaction validity rules, proposed application standards/conventions, or any change or addition that affects the interoperability of applications using Ethereum. Standards Track EIPs consist of three parts—a design document, an implementation, and (if warranted) an update to the [formal specification](https://github.com/ethereum/yellowpaper). Furthermore, Standards Track EIPs can be broken down into the following categories:\\n  - **Core**: improvements requiring a consensus fork (e.g. [EIP-5](./eip-5.md), [EIP-101](./eip-101.md)), as well as changes that are not necessarily consensus critical but may be relevant to [“core dev” discussions](https://github.com/ethereum/pm) (for example, [EIP-9',\n",
       "  'eip': 1,\n",
       "  'title': 'EIP Purpose and Guidelines',\n",
       "  'status': 'Living',\n",
       "  'type': 'Meta',\n",
       "  'author': 'Martin Becze <mb@ethereum.org>, Hudson Jameson <hudson@ethereum.org>, et al.',\n",
       "  'created': datetime.date(2015, 10, 27),\n",
       "  'filename': 'ERCs-master/ERCS/eip-1.md'},\n",
       " {'start': 3000,\n",
       "  'chunk': 'differentiate between different types of tokens and their corresponding URIs.\\n     **/\\n    interop: InteroperabilityMetadata;\\n    \\n    /**\\n     * The name of the ERC-20 token. \\n     * If the `name()` function is present in the ERC-20 token and returns a nonempty string, these MUST be the same value.\\n     */\\n    name?: string;\\n    \\n    /**\\n     * The symbol of the ERC-20 token. \\n     * If the `symbol()` function is present in the ERC-20 token and returns a nonempty string, these MUST be the same value.\\n     */\\n    symbol?: string;\\n    \\n    /**\\n     * The decimals of the ERC-20 token. \\n     * If the `decimals()` function is present in the ERC-20 token, these MUST be the same value.\\n     * Defaults to 18 if neither this parameter nor the ERC-20 `decimals()` function are present.\\n     */\\n    decimals?: number;\\n    \\n    /**\\n     * Provides a short one-paragraph description of the ERC-20 token, without any markup or newlines.\\n     */\\n    description?: string;\\n    \\n    /**\\n     * A URI pointing to a resource with mime type `image/*` that represents this token.\\n     * If the image is a bitmap, it SHOULD have a width between 320 and 1080 pixels\\n     * The image SHOULD have an aspect ratio between 1.91:1 and 4:5 inclusive.\\n     */\\n    image?: string;\\n    \\n    /**\\n     * One or more URIs each pointing to a resource with mime type `image/*` that represents this token.\\n     * If an image is a bitmap, it SHOULD have a width between 320 and 1080 pixels\\n     * Images SHOULD have an aspect ratio between 1.91:1 and 4:5 inclusive.\\n     */\\n    images?: string[];\\n    \\n    /**\\n     * One or more URIs each pointing to a resource with mime type `image/*` that represent an icon for this token.\\n     * If an image is a bitmap, it SHOULD have a width between 320 and 1080 pixels, and MUST have a height equal to its width\\n     * Images MUST have an aspect ratio of 1:1, and use a transparent background\\n     */\\n    icons?: string[];\\n}\\n```\\n\\n### ERC-721 Extension\\n\\n#### Extension to the ERC-721 Metad',\n",
       "  'eip': 1046,\n",
       "  'title': 'tokenURI Interoperability',\n",
       "  'description': 'Extends ERC-20 with an ERC-721-like tokenURI, and extends ERC-721 and ERC-1155 with interoperability',\n",
       "  'author': 'Tommy Nicholas (@tomasienrbc), Matt Russo (@mateosu), John Zettler (@JohnZettler), Matt Condon (@shrugs), Gavin John (@Pandapip1)',\n",
       "  'discussions-to': 'https://ethereum-magicians.org/t/eip-1046-erc-20-metadata-extension/13036',\n",
       "  'status': 'Final',\n",
       "  'type': 'Standards Track',\n",
       "  'category': 'ERC',\n",
       "  'created': datetime.date(2018, 4, 13),\n",
       "  'requires': '20, 721, 1155',\n",
       "  'filename': 'ERCs-master/ERCS/erc-1046.md'}]"
      ]
     },
     "execution_count": 29,
     "metadata": {},
     "output_type": "execute_result"
    }
   ],
   "source": [
    "vector_results"
   ]
  },
  {
   "cell_type": "code",
   "execution_count": null,
   "id": "27c3c202",
   "metadata": {},
   "outputs": [],
   "source": []
  },
  {
   "cell_type": "markdown",
   "id": "40b34fcd",
   "metadata": {},
   "source": [
    "### 3.3 Hybrid Search"
   ]
  },
  {
   "cell_type": "code",
   "execution_count": 34,
   "id": "403938d0",
   "metadata": {},
   "outputs": [
    {
     "data": {
      "application/vnd.jupyter.widget-view+json": {
       "model_id": "fd46e13d18054650925d17802d52e2d1",
       "version_major": 2,
       "version_minor": 0
      },
      "text/plain": [
       "Batches:   0%|          | 0/1 [00:00<?, ?it/s]"
      ]
     },
     "metadata": {},
     "output_type": "display_data"
    }
   ],
   "source": [
    "query = \"What is the main purpose of the ERC-20?\"\n",
    "\n",
    "text_results = index.search(query, num_results=5)\n",
    "\n",
    "q = embedding_model.encode(query)\n",
    "vector_results = erc_data_vindex.search(q, num_results=5)\n",
    "\n",
    "final_results = text_results + vector_results"
   ]
  },
  {
   "cell_type": "code",
   "execution_count": 35,
   "id": "80e59b20",
   "metadata": {},
   "outputs": [
    {
     "data": {
      "text/plain": [
       "10"
      ]
     },
     "execution_count": 35,
     "metadata": {},
     "output_type": "execute_result"
    }
   ],
   "source": [
    "len(final_results)"
   ]
  },
  {
   "cell_type": "code",
   "execution_count": 36,
   "id": "566ecc5f",
   "metadata": {},
   "outputs": [
    {
     "data": {
      "text/plain": [
       "[{'start': 2000,\n",
       "  'chunk': \"This MUST be true if this is ERC-1155 Token Metadata, otherwise, this MUST be omitted.\\n     * Setting this to true indicates to wallets that the address should be treated as an ERC-1155 token.\\n     **/\\n    erc1155?: boolean | undefined;\\n}\\n```\\n\\n### ERC-20 Extension\\n\\n#### ERC-20 Interface Extension\\n\\nCompliant contracts MUST implement the following Solidity interface:\\n\\n```solidity\\npragma solidity ^0.8.0;\\n\\n/// @title  ERC-20 Metadata Extension\\ninterface ERC20TokenMetadata /* is ERC20 */ {\\n    /// @notice     Gets an ERC-721-like token URI\\n    /// @dev        The resolved data MUST be in JSON format and support ERC-1046's ERC-20 Token Metadata Schema\\n    function tokenURI() external view returns (string);\\n}\\n```\\n\\n#### ERC-20 Token Metadata Schema\\n\\nThe resolved JSON of the `tokenURI` described in the ERC-20 Interface Extension section MUST conform to the following TypeScript interface:\\n\\n```typescript\\n/**\\n * Asset Metadata\\n */\\ninterface ERC20TokenMetadata {\\n    /**\\n     * Interoperability, to differentiate between different types of tokens and their corresponding URIs.\\n     **/\\n    interop: InteroperabilityMetadata;\\n    \\n    /**\\n     * The name of the ERC-20 token. \\n     * If the `name()` function is present in the ERC-20 token and returns a nonempty string, these MUST be the same value.\\n     */\\n    name?: string;\\n    \\n    /**\\n     * The symbol of the ERC-20 token. \\n     * If the `symbol()` function is present in the ERC-20 token and returns a nonempty string, these MUST be the same value.\\n     */\\n    symbol?: string;\\n    \\n    /**\\n     * The decimals of the ERC-20 token. \\n     * If the `decimals()` function is present in the ERC-20 token, these MUST be the same value.\\n     * Defaults to 18 if neither this parameter nor the ERC-20 `decimals()` function are present.\\n     */\\n    decimals?: number;\\n    \\n    /**\\n     * Provides a short one-paragraph description of the ERC-20 token, without any markup or newlines.\\n     */\\n    description?: string;\\n    \\n    /**\\n     * A URI pointi\",\n",
       "  'eip': 1046,\n",
       "  'title': 'tokenURI Interoperability',\n",
       "  'description': 'Extends ERC-20 with an ERC-721-like tokenURI, and extends ERC-721 and ERC-1155 with interoperability',\n",
       "  'author': 'Tommy Nicholas (@tomasienrbc), Matt Russo (@mateosu), John Zettler (@JohnZettler), Matt Condon (@shrugs), Gavin John (@Pandapip1)',\n",
       "  'discussions-to': 'https://ethereum-magicians.org/t/eip-1046-erc-20-metadata-extension/13036',\n",
       "  'status': 'Final',\n",
       "  'type': 'Standards Track',\n",
       "  'category': 'ERC',\n",
       "  'created': datetime.date(2018, 4, 13),\n",
       "  'requires': '20, 721, 1155',\n",
       "  'filename': 'ERCs-master/ERCS/erc-1046.md'},\n",
       " {'start': 3000,\n",
       "  'chunk': 'differentiate between different types of tokens and their corresponding URIs.\\n     **/\\n    interop: InteroperabilityMetadata;\\n    \\n    /**\\n     * The name of the ERC-20 token. \\n     * If the `name()` function is present in the ERC-20 token and returns a nonempty string, these MUST be the same value.\\n     */\\n    name?: string;\\n    \\n    /**\\n     * The symbol of the ERC-20 token. \\n     * If the `symbol()` function is present in the ERC-20 token and returns a nonempty string, these MUST be the same value.\\n     */\\n    symbol?: string;\\n    \\n    /**\\n     * The decimals of the ERC-20 token. \\n     * If the `decimals()` function is present in the ERC-20 token, these MUST be the same value.\\n     * Defaults to 18 if neither this parameter nor the ERC-20 `decimals()` function are present.\\n     */\\n    decimals?: number;\\n    \\n    /**\\n     * Provides a short one-paragraph description of the ERC-20 token, without any markup or newlines.\\n     */\\n    description?: string;\\n    \\n    /**\\n     * A URI pointing to a resource with mime type `image/*` that represents this token.\\n     * If the image is a bitmap, it SHOULD have a width between 320 and 1080 pixels\\n     * The image SHOULD have an aspect ratio between 1.91:1 and 4:5 inclusive.\\n     */\\n    image?: string;\\n    \\n    /**\\n     * One or more URIs each pointing to a resource with mime type `image/*` that represents this token.\\n     * If an image is a bitmap, it SHOULD have a width between 320 and 1080 pixels\\n     * Images SHOULD have an aspect ratio between 1.91:1 and 4:5 inclusive.\\n     */\\n    images?: string[];\\n    \\n    /**\\n     * One or more URIs each pointing to a resource with mime type `image/*` that represent an icon for this token.\\n     * If an image is a bitmap, it SHOULD have a width between 320 and 1080 pixels, and MUST have a height equal to its width\\n     * Images MUST have an aspect ratio of 1:1, and use a transparent background\\n     */\\n    icons?: string[];\\n}\\n```\\n\\n### ERC-721 Extension\\n\\n#### Extension to the ERC-721 Metad',\n",
       "  'eip': 1046,\n",
       "  'title': 'tokenURI Interoperability',\n",
       "  'description': 'Extends ERC-20 with an ERC-721-like tokenURI, and extends ERC-721 and ERC-1155 with interoperability',\n",
       "  'author': 'Tommy Nicholas (@tomasienrbc), Matt Russo (@mateosu), John Zettler (@JohnZettler), Matt Condon (@shrugs), Gavin John (@Pandapip1)',\n",
       "  'discussions-to': 'https://ethereum-magicians.org/t/eip-1046-erc-20-metadata-extension/13036',\n",
       "  'status': 'Final',\n",
       "  'type': 'Standards Track',\n",
       "  'category': 'ERC',\n",
       "  'created': datetime.date(2018, 4, 13),\n",
       "  'requires': '20, 721, 1155',\n",
       "  'filename': 'ERCs-master/ERCS/erc-1046.md'},\n",
       " {'start': 6000,\n",
       "  'chunk': \"be the same URI as the `uri(tokenId)` function, if present.\\n    function tokenURI(uint256 tokenId) external view returns (string);\\n}\\n```\\n\\n#### Extension to the ERC-1155 Metadata Schema\\n\\nContracts that implement ERC-1155 and use its token metadata URI are RECOMMENDED to use the following extension to the metadata URI. Contracts that implement the interface described in the ERC-1155 Interface Extension section MUST use the following TypeScript extension:\\n\\n```typescript\\ninterface ERC1155TokenMetadataInterop extends ERC1155TokenMetadata {\\n    /**\\n     * Interoperability, to avoid confusion between different token URIs\\n     **/\\n    interop: InteroperabilityMetadata;\\n}\\n```\\n\\n### Miscellaneous Recommendations\\n\\nTo save gas, it is RECOMMENDED for compliant contracts not to implement the `name()`, `symbol()`, or `decimals()` functions, and instead to only include them in the metadata URI. Additionally, for ERC-20 tokens, if the decimals is `18`, then it is NOT RECOMMENDED to include the `decimals` field in the metadata.\\n\\n## Rationale\\n\\nThis ERC makes adding metadata to ERC-20 tokens more straightforward for developers, with minimal to no disruption to the overall ecosystem. Using the same parameter name makes it easier to reuse code.\\n\\nAdditionally, the recommendations not to use ERC-20's `name`, `symbol`, and `decimals` functions save gas.\\n\\nBuilt-in interoperability is useful as otherwise it might not be easy to differentiate the type of the token. Interoperability could be done using [ERC-165](./eip-165.md), but static calls are time-inefficient for wallets and websites, and is generally inflexible. Instead, including interoperability data in the token URI increases flexibility while also giving a performance increase.\\n\\n## Backwards Compatibility\\n\\nThis EIP is fully backwards compatible as its implementation simply extends the functionality of ERC-20 tokens and is optional. Additionally, it makes backward compatible recommendations for ERC-721 and ERC-1155 tokens.\\n\\n## Security \",\n",
       "  'eip': 1046,\n",
       "  'title': 'tokenURI Interoperability',\n",
       "  'description': 'Extends ERC-20 with an ERC-721-like tokenURI, and extends ERC-721 and ERC-1155 with interoperability',\n",
       "  'author': 'Tommy Nicholas (@tomasienrbc), Matt Russo (@mateosu), John Zettler (@JohnZettler), Matt Condon (@shrugs), Gavin John (@Pandapip1)',\n",
       "  'discussions-to': 'https://ethereum-magicians.org/t/eip-1046-erc-20-metadata-extension/13036',\n",
       "  'status': 'Final',\n",
       "  'type': 'Standards Track',\n",
       "  'category': 'ERC',\n",
       "  'created': datetime.date(2018, 4, 13),\n",
       "  'requires': '20, 721, 1155',\n",
       "  'filename': 'ERCs-master/ERCS/erc-1046.md'},\n",
       " {'start': 1000,\n",
       "  'chunk': 'OMMENDED\", \"MAY\", and \"OPTIONAL\" in this document are to be interpreted as described in RFC 2119 and RFC 8174.\\n\\n### Interoperability Metadata\\n\\nThe following TypeScript interface is used in later sections:\\n\\n```typescript\\n/**\\n * Interoperability metadata.\\n * This can be extended by other proposals.\\n * \\n * All fields MUST be optional.\\n * **Not every field has to be a boolean.** Any optional JSON-serializable object can be used by extensions.\\n */\\ninterface InteroperabilityMetadata {\\n    /**\\n     * This MUST be true if this is ERC-1046 Token Metadata, otherwise, this MUST be omitted.\\n     * Setting this to true indicates to wallets that the address should be treated as an ERC-20 token.\\n     **/\\n    erc1046?: boolean | undefined;\\n\\n    /**\\n     * This MUST be true if this is ERC-721 Token Metadata, otherwise, this MUST be omitted.\\n     * Setting this to true indicates to wallets that the address should be treated as an ERC-721 token.\\n     **/\\n    erc721?: boolean | undefined;\\n\\n    /**\\n     * This MUST be true if this is ERC-1155 Token Metadata, otherwise, this MUST be omitted.\\n     * Setting this to true indicates to wallets that the address should be treated as an ERC-1155 token.\\n     **/\\n    erc1155?: boolean | undefined;\\n}\\n```\\n\\n### ERC-20 Extension\\n\\n#### ERC-20 Interface Extension\\n\\nCompliant contracts MUST implement the following Solidity interface:\\n\\n```solidity\\npragma solidity ^0.8.0;\\n\\n/// @title  ERC-20 Metadata Extension\\ninterface ERC20TokenMetadata /* is ERC20 */ {\\n    /// @notice     Gets an ERC-721-like token URI\\n    /// @dev        The resolved data MUST be in JSON format and support ERC-1046\\'s ERC-20 Token Metadata Schema\\n    function tokenURI() external view returns (string);\\n}\\n```\\n\\n#### ERC-20 Token Metadata Schema\\n\\nThe resolved JSON of the `tokenURI` described in the ERC-20 Interface Extension section MUST conform to the following TypeScript interface:\\n\\n```typescript\\n/**\\n * Asset Metadata\\n */\\ninterface ERC20TokenMetadata {\\n    /**\\n     * Interoperability, to ',\n",
       "  'eip': 1046,\n",
       "  'title': 'tokenURI Interoperability',\n",
       "  'description': 'Extends ERC-20 with an ERC-721-like tokenURI, and extends ERC-721 and ERC-1155 with interoperability',\n",
       "  'author': 'Tommy Nicholas (@tomasienrbc), Matt Russo (@mateosu), John Zettler (@JohnZettler), Matt Condon (@shrugs), Gavin John (@Pandapip1)',\n",
       "  'discussions-to': 'https://ethereum-magicians.org/t/eip-1046-erc-20-metadata-extension/13036',\n",
       "  'status': 'Final',\n",
       "  'type': 'Standards Track',\n",
       "  'category': 'ERC',\n",
       "  'created': datetime.date(2018, 4, 13),\n",
       "  'requires': '20, 721, 1155',\n",
       "  'filename': 'ERCs-master/ERCS/erc-1046.md'},\n",
       " {'start': 0,\n",
       "  'chunk': '## Abstract\\n\\n[ERC-721](./eip-721.md) introduced a `tokenURI` function for non-fungible tokens to handle miscellaneous metadata such as:\\n\\n- thumbnail image\\n- title\\n- description\\n- special asset properties\\n- etc.\\n\\nThis ERC adds a `tokenURI` function to [ERC-20](./eip-20.md), and extends [ERC-721](./eip-721.md) and [ERC-1155](./eip-1155.md) to enable interoperability between all three types of token URI.\\n\\n## Motivation\\n\\nSee the note about the metadata extension in [ERC-721](./eip-721.md#rationale). The same arguments apply to ERC-20.\\n\\nBeing able to use similar mechanisms to extract metadata for ERC-20, ERC-721, ERC-1155, and future standards is useful for determining:\\n\\n- What type of token a contract is (if any);\\n- How to display a token to a user, either in an asset listing page or on a dedicated token page; and\\n- Determining the capabilities of the token\\n\\n## Specification\\n\\nThe key words \"MUST\", \"MUST NOT\", \"REQUIRED\", \"SHALL\", \"SHALL NOT\", \"SHOULD\", \"SHOULD NOT\", \"RECOMMENDED\", \"NOT RECOMMENDED\", \"MAY\", and \"OPTIONAL\" in this document are to be interpreted as described in RFC 2119 and RFC 8174.\\n\\n### Interoperability Metadata\\n\\nThe following TypeScript interface is used in later sections:\\n\\n```typescript\\n/**\\n * Interoperability metadata.\\n * This can be extended by other proposals.\\n * \\n * All fields MUST be optional.\\n * **Not every field has to be a boolean.** Any optional JSON-serializable object can be used by extensions.\\n */\\ninterface InteroperabilityMetadata {\\n    /**\\n     * This MUST be true if this is ERC-1046 Token Metadata, otherwise, this MUST be omitted.\\n     * Setting this to true indicates to wallets that the address should be treated as an ERC-20 token.\\n     **/\\n    erc1046?: boolean | undefined;\\n\\n    /**\\n     * This MUST be true if this is ERC-721 Token Metadata, otherwise, this MUST be omitted.\\n     * Setting this to true indicates to wallets that the address should be treated as an ERC-721 token.\\n     **/\\n    erc721?: boolean | undefined;\\n\\n    /**\\n     * ',\n",
       "  'eip': 1046,\n",
       "  'title': 'tokenURI Interoperability',\n",
       "  'description': 'Extends ERC-20 with an ERC-721-like tokenURI, and extends ERC-721 and ERC-1155 with interoperability',\n",
       "  'author': 'Tommy Nicholas (@tomasienrbc), Matt Russo (@mateosu), John Zettler (@JohnZettler), Matt Condon (@shrugs), Gavin John (@Pandapip1)',\n",
       "  'discussions-to': 'https://ethereum-magicians.org/t/eip-1046-erc-20-metadata-extension/13036',\n",
       "  'status': 'Final',\n",
       "  'type': 'Standards Track',\n",
       "  'category': 'ERC',\n",
       "  'created': datetime.date(2018, 4, 13),\n",
       "  'requires': '20, 721, 1155',\n",
       "  'filename': 'ERCs-master/ERCS/erc-1046.md'},\n",
       " {'start': 7000,\n",
       "  'chunk': \"` field in the metadata.\\n\\n## Rationale\\n\\nThis ERC makes adding metadata to ERC-20 tokens more straightforward for developers, with minimal to no disruption to the overall ecosystem. Using the same parameter name makes it easier to reuse code.\\n\\nAdditionally, the recommendations not to use ERC-20's `name`, `symbol`, and `decimals` functions save gas.\\n\\nBuilt-in interoperability is useful as otherwise it might not be easy to differentiate the type of the token. Interoperability could be done using [ERC-165](./eip-165.md), but static calls are time-inefficient for wallets and websites, and is generally inflexible. Instead, including interoperability data in the token URI increases flexibility while also giving a performance increase.\\n\\n## Backwards Compatibility\\n\\nThis EIP is fully backwards compatible as its implementation simply extends the functionality of ERC-20 tokens and is optional. Additionally, it makes backward compatible recommendations for ERC-721 and ERC-1155 tokens.\\n\\n## Security Considerations\\n\\n### Server-Side Request Forgery (SSRF)\\n\\nWallets should be careful about making arbitrary requests to URLs. As such, it is recommended for wallets to sanitize the URI by whitelisting specific schemes and ports. A vulnerable wallet could be tricked into, for example, modifying data on a locally-hosted redis database.\\n\\n## Copyright\\n\\nCopyright and related rights waived via [CC0](../LICENSE.md).\",\n",
       "  'eip': 1046,\n",
       "  'title': 'tokenURI Interoperability',\n",
       "  'description': 'Extends ERC-20 with an ERC-721-like tokenURI, and extends ERC-721 and ERC-1155 with interoperability',\n",
       "  'author': 'Tommy Nicholas (@tomasienrbc), Matt Russo (@mateosu), John Zettler (@JohnZettler), Matt Condon (@shrugs), Gavin John (@Pandapip1)',\n",
       "  'discussions-to': 'https://ethereum-magicians.org/t/eip-1046-erc-20-metadata-extension/13036',\n",
       "  'status': 'Final',\n",
       "  'type': 'Standards Track',\n",
       "  'category': 'ERC',\n",
       "  'created': datetime.date(2018, 4, 13),\n",
       "  'requires': '20, 721, 1155',\n",
       "  'filename': 'ERCs-master/ERCS/erc-1046.md'},\n",
       " {'start': 1000,\n",
       "  'chunk': 'OMMENDED\", \"MAY\", and \"OPTIONAL\" in this document are to be interpreted as described in RFC 2119 and RFC 8174.\\n\\n### Interoperability Metadata\\n\\nThe following TypeScript interface is used in later sections:\\n\\n```typescript\\n/**\\n * Interoperability metadata.\\n * This can be extended by other proposals.\\n * \\n * All fields MUST be optional.\\n * **Not every field has to be a boolean.** Any optional JSON-serializable object can be used by extensions.\\n */\\ninterface InteroperabilityMetadata {\\n    /**\\n     * This MUST be true if this is ERC-1046 Token Metadata, otherwise, this MUST be omitted.\\n     * Setting this to true indicates to wallets that the address should be treated as an ERC-20 token.\\n     **/\\n    erc1046?: boolean | undefined;\\n\\n    /**\\n     * This MUST be true if this is ERC-721 Token Metadata, otherwise, this MUST be omitted.\\n     * Setting this to true indicates to wallets that the address should be treated as an ERC-721 token.\\n     **/\\n    erc721?: boolean | undefined;\\n\\n    /**\\n     * This MUST be true if this is ERC-1155 Token Metadata, otherwise, this MUST be omitted.\\n     * Setting this to true indicates to wallets that the address should be treated as an ERC-1155 token.\\n     **/\\n    erc1155?: boolean | undefined;\\n}\\n```\\n\\n### ERC-20 Extension\\n\\n#### ERC-20 Interface Extension\\n\\nCompliant contracts MUST implement the following Solidity interface:\\n\\n```solidity\\npragma solidity ^0.8.0;\\n\\n/// @title  ERC-20 Metadata Extension\\ninterface ERC20TokenMetadata /* is ERC20 */ {\\n    /// @notice     Gets an ERC-721-like token URI\\n    /// @dev        The resolved data MUST be in JSON format and support ERC-1046\\'s ERC-20 Token Metadata Schema\\n    function tokenURI() external view returns (string);\\n}\\n```\\n\\n#### ERC-20 Token Metadata Schema\\n\\nThe resolved JSON of the `tokenURI` described in the ERC-20 Interface Extension section MUST conform to the following TypeScript interface:\\n\\n```typescript\\n/**\\n * Asset Metadata\\n */\\ninterface ERC20TokenMetadata {\\n    /**\\n     * Interoperability, to ',\n",
       "  'eip': 1046,\n",
       "  'title': 'tokenURI Interoperability',\n",
       "  'description': 'Extends ERC-20 with an ERC-721-like tokenURI, and extends ERC-721 and ERC-1155 with interoperability',\n",
       "  'author': 'Tommy Nicholas (@tomasienrbc), Matt Russo (@mateosu), John Zettler (@JohnZettler), Matt Condon (@shrugs), Gavin John (@Pandapip1)',\n",
       "  'discussions-to': 'https://ethereum-magicians.org/t/eip-1046-erc-20-metadata-extension/13036',\n",
       "  'status': 'Final',\n",
       "  'type': 'Standards Track',\n",
       "  'category': 'ERC',\n",
       "  'created': datetime.date(2018, 4, 13),\n",
       "  'requires': '20, 721, 1155',\n",
       "  'filename': 'ERCs-master/ERCS/erc-1046.md'},\n",
       " {'start': 0,\n",
       "  'chunk': '## Abstract\\n\\n[ERC-721](./eip-721.md) introduced a `tokenURI` function for non-fungible tokens to handle miscellaneous metadata such as:\\n\\n- thumbnail image\\n- title\\n- description\\n- special asset properties\\n- etc.\\n\\nThis ERC adds a `tokenURI` function to [ERC-20](./eip-20.md), and extends [ERC-721](./eip-721.md) and [ERC-1155](./eip-1155.md) to enable interoperability between all three types of token URI.\\n\\n## Motivation\\n\\nSee the note about the metadata extension in [ERC-721](./eip-721.md#rationale). The same arguments apply to ERC-20.\\n\\nBeing able to use similar mechanisms to extract metadata for ERC-20, ERC-721, ERC-1155, and future standards is useful for determining:\\n\\n- What type of token a contract is (if any);\\n- How to display a token to a user, either in an asset listing page or on a dedicated token page; and\\n- Determining the capabilities of the token\\n\\n## Specification\\n\\nThe key words \"MUST\", \"MUST NOT\", \"REQUIRED\", \"SHALL\", \"SHALL NOT\", \"SHOULD\", \"SHOULD NOT\", \"RECOMMENDED\", \"NOT RECOMMENDED\", \"MAY\", and \"OPTIONAL\" in this document are to be interpreted as described in RFC 2119 and RFC 8174.\\n\\n### Interoperability Metadata\\n\\nThe following TypeScript interface is used in later sections:\\n\\n```typescript\\n/**\\n * Interoperability metadata.\\n * This can be extended by other proposals.\\n * \\n * All fields MUST be optional.\\n * **Not every field has to be a boolean.** Any optional JSON-serializable object can be used by extensions.\\n */\\ninterface InteroperabilityMetadata {\\n    /**\\n     * This MUST be true if this is ERC-1046 Token Metadata, otherwise, this MUST be omitted.\\n     * Setting this to true indicates to wallets that the address should be treated as an ERC-20 token.\\n     **/\\n    erc1046?: boolean | undefined;\\n\\n    /**\\n     * This MUST be true if this is ERC-721 Token Metadata, otherwise, this MUST be omitted.\\n     * Setting this to true indicates to wallets that the address should be treated as an ERC-721 token.\\n     **/\\n    erc721?: boolean | undefined;\\n\\n    /**\\n     * ',\n",
       "  'eip': 1046,\n",
       "  'title': 'tokenURI Interoperability',\n",
       "  'description': 'Extends ERC-20 with an ERC-721-like tokenURI, and extends ERC-721 and ERC-1155 with interoperability',\n",
       "  'author': 'Tommy Nicholas (@tomasienrbc), Matt Russo (@mateosu), John Zettler (@JohnZettler), Matt Condon (@shrugs), Gavin John (@Pandapip1)',\n",
       "  'discussions-to': 'https://ethereum-magicians.org/t/eip-1046-erc-20-metadata-extension/13036',\n",
       "  'status': 'Final',\n",
       "  'type': 'Standards Track',\n",
       "  'category': 'ERC',\n",
       "  'created': datetime.date(2018, 4, 13),\n",
       "  'requires': '20, 721, 1155',\n",
       "  'filename': 'ERCs-master/ERCS/erc-1046.md'},\n",
       " {'start': 37000,\n",
       "  'chunk': 'ke how HTTP 200 has a different meaning from HTTP 201, ERC-1066 status codes can relay information between contract beyond simply pass or fail. They can be thought of as the edges in a graph that has smart contracts as nodes.\\n\\n### Fully `revert`able\\n\\n_This spec is fully compatible with `revert`-with-reason and does not intend to supplant it in any way._ Both by reverting with a common code, the developer can determine what went wrong from a set of known error states.\\n\\nFurther, by leveraging ERC-1066 and a translation table (such as in ERC-1444) in conjunction, developers and end users alike can receive fully automated human-readable error messages in the language and phrasing of their choice.\\n\\n### Nibble Order\\n\\nNibble order makes no difference to the machine, and is purely mnemonic. This design was originally in opposite order, but changed it for a few convenience factors. Since it\\'s a different scheme from HTTP, it may feel strange initially, but becomes very natural after a couple hours of use.\\n\\n#### Short Forms\\n\\nGeneric is `0x0*`, general codes are consistent with their integer representations\\n\\n```solidity\\nhex\"1\" == hex\"01\" == 1 // with casting\\n```\\n\\n#### Contract Categories\\n\\nMany applications will always be part of the same category. For instance, validation will generally be in the `0x10` range.\\n\\n```solidity\\ncontract Whitelist {\\n    mapping(address => bool) private whitelist;\\n    uint256 private deadline;\\n    byte constant private prefix = hex\"10\";\\n\\n    check(address _, address _user) returns (byte _status) {\\n        if (now >= deadline)  { return prefix | 5; }\\n        if (whitelist[_user]) { return prefix | 1; }\\n        return prefix;\\n    }\\n}\\n```\\n\\n#### Helpers\\n\\nThis above also means that working with app-specific enums is slightly easier, and also saves gas (fewer operations required).\\n\\n```solidity\\nenum Sleep {\\n    Awake,\\n    Asleep,\\n    BedOccupied,\\n    WindingDown\\n}\\n\\n// From the helper library\\n\\nfunction appCode(Sleep _state) returns (byte code) {\\n    return b',\n",
       "  'eip': 1066,\n",
       "  'title': 'Status Codes',\n",
       "  'author': 'Brooklyn Zelenka (@expede), Tom Carchrae (@carchrae), Gleb Naumenko (@naumenkogs)',\n",
       "  'discussions-to': 'https://ethereum-magicians.org/t/erc-1066-ethereum-status-codes-esc/',\n",
       "  'status': 'Stagnant',\n",
       "  'type': 'Standards Track',\n",
       "  'category': 'ERC',\n",
       "  'created': datetime.date(2018, 5, 5),\n",
       "  'filename': 'ERCs-master/ERCS/erc-1066.md'},\n",
       " {'start': 11000,\n",
       "  'chunk': 'f any new feature. The specification should be detailed enough to allow competing, interoperable implementations for any of the current Ethereum platforms (besu, erigon, ethereumjs, go-ethereum, nethermind, or others).\\n- Rationale - The rationale fleshes out the specification by describing what motivated the design and why particular design decisions were made. It should describe alternate designs that were considered and related work, e.g. how the feature is supported in other languages. The rationale should discuss important objections or concerns raised during discussion around the EIP.\\n- Backwards Compatibility *(optional)* - All EIPs that introduce backwards incompatibilities must include a section describing these incompatibilities and their consequences. The EIP must explain how the author proposes to deal with these incompatibilities. This section may be omitted if the proposal does not introduce any backwards incompatibilities, but this section must be included if backward incompatibilities exist.\\n- Test Cases *(optional)* - Test cases for an implementation are mandatory for EIPs that are affecting consensus changes. Tests should either be inlined in the EIP as data (such as input/expected output pairs) or included in `../assets/eip-###/<filename>`. This section may be omitted for non-Core proposals.\\n- Reference Implementation *(optional)* - An optional section that contains a reference/example implementation that people can use to assist in understanding or implementing this specification. This section may be omitted for all EIPs.\\n- Security Considerations - All EIPs must contain a section that discusses the security implications/considerations relevant to the proposed change. Include information that might be important for security discussions, surfaces risks and can be used throughout the life-cycle of the proposal. E.g. include security-relevant design decisions, concerns, important discussions, implementation-specific guidance and pitfalls, an outline ',\n",
       "  'eip': 1,\n",
       "  'title': 'EIP Purpose and Guidelines',\n",
       "  'status': 'Living',\n",
       "  'type': 'Meta',\n",
       "  'author': 'Martin Becze <mb@ethereum.org>, Hudson Jameson <hudson@ethereum.org>, et al.',\n",
       "  'created': datetime.date(2015, 10, 27),\n",
       "  'filename': 'ERCs-master/ERCS/eip-1.md'}]"
      ]
     },
     "execution_count": 36,
     "metadata": {},
     "output_type": "execute_result"
    }
   ],
   "source": [
    "final_results"
   ]
  },
  {
   "cell_type": "markdown",
   "id": "c24cdfd0",
   "metadata": {},
   "source": [
    "## 4. Agents and Tools"
   ]
  },
  {
   "cell_type": "code",
   "execution_count": null,
   "id": "730e7892",
   "metadata": {},
   "outputs": [],
   "source": [
    "from typing import List, Any\n",
    "\n",
    "def text_search(query: str) -> List[Any]:\n",
    "    \"\"\"\n",
    "    Perform a text-based search on the Ethereum ERC index.\n",
    "\n",
    "    Args:\n",
    "        query (str): The search query string.\n",
    "\n",
    "    Returns:\n",
    "        List[Any]: A list of up to 5 search results returned by the Ethereum ERC index.\n",
    "    \"\"\"\n",
    "    return index.search(query, num_results=5)"
   ]
  },
  {
   "cell_type": "code",
   "execution_count": 8,
   "id": "8bb5bb8e",
   "metadata": {},
   "outputs": [],
   "source": [
    "system_prompt = \"\"\"\n",
    "You are an expert in Computer Science and Distributed Ledger Technology, \n",
    "with an emphasis on the Ethereum blockchain.\n",
    "\n",
    "Use the reference material to answer the questions.\n",
    "\n",
    "If the search does not return relevant results, inform the user and provide\n",
    "general guidance.\n",
    "\"\"\""
   ]
  },
  {
   "cell_type": "code",
   "execution_count": null,
   "id": "47b8f48d",
   "metadata": {},
   "outputs": [],
   "source": [
    "from pydantic_ai import Agent\n",
    "\n",
    "agent = Agent(\n",
    "    name=\"ethereum_agent\",\n",
    "    instructions=system_prompt,\n",
    "    tools=[text_search],\n",
    "    model=\"gemini-2.5-flash\"\n",
    ")"
   ]
  },
  {
   "cell_type": "code",
   "execution_count": 12,
   "id": "db3e7503",
   "metadata": {},
   "outputs": [
    {
     "name": "stderr",
     "output_type": "stream",
     "text": [
      "INFO:google_genai.models:AFC is enabled with max remote calls: 10.\n",
      "INFO:httpx:HTTP Request: POST https://generativelanguage.googleapis.com/v1beta/models/gemini-2.5-flash:generateContent \"HTTP/1.1 200 OK\"\n",
      "INFO:google_genai.models:AFC is enabled with max remote calls: 10.\n",
      "INFO:httpx:HTTP Request: POST https://generativelanguage.googleapis.com/v1beta/models/gemini-2.5-flash:generateContent \"HTTP/1.1 200 OK\"\n"
     ]
    }
   ],
   "source": [
    "question = \"How to create a token on Ethereum blockchain?\"\n",
    "\n",
    "result = await agent.run(user_prompt=question)"
   ]
  },
  {
   "cell_type": "code",
   "execution_count": 14,
   "id": "1bb634ae",
   "metadata": {},
   "outputs": [
    {
     "name": "stdout",
     "output_type": "stream",
     "text": [
      "To create a token on the Ethereum blockchain, you generally need to deploy a smart contract that adheres to a token standard. The most common standard for fungible tokens is **ERC-20**, as described in EIP-20.\n",
      "\n",
      "The ERC-20 standard provides a common interface for tokens within smart contracts, enabling basic functionalities such as:\n",
      "\n",
      "*   **`name()`**: Returns the name of the token (e.g., \"MyToken\"). (Optional)\n",
      "*   **`symbol()`**: Returns the symbol of the token (e.g., \"HIX\"). (Optional)\n",
      "*   **`decimals()`**: Returns the number of decimals the token uses (e.g., `8` means to divide the token amount by `100000000` for user representation). (Optional)\n",
      "*   **`totalSupply()`**: Returns the total token supply.\n",
      "*   **`balanceOf(address _owner)`**: Returns the account balance of a given address.\n",
      "*   **`transfer(address _to, uint256 _value)`**: Transfers `_value` amount of tokens to address `_to`.\n",
      "*   **`transferFrom(address _from, address _to, uint256 _value)`**: Transfers `_value` amount of tokens from address `_from` to address `_to`. This is used for a withdraw workflow where a contract can transfer tokens on your behalf.\n",
      "*   **`approve(address _spender, uint256 _value)`**: Allows `_spender` to withdraw from your account multiple times, up to the `_value` amount.\n",
      "*   **`allowance(address _owner, address _spender)`**: Returns the amount which `_spender` is still allowed to withdraw from `_owner`.\n",
      "\n",
      "Additionally, ERC-20 contracts must trigger `Transfer` and `Approval` events for corresponding actions.\n",
      "\n",
      "Many ERC-20 compliant tokens are already deployed on the Ethereum network. You can find example implementations to help you get started:\n",
      "\n",
      "*   [OpenZeppelin ERC-20 implementation](https://github.com/OpenZeppelin/openzeppelin-contracts/blob/master/contracts/token/ERC20/ERC20.sol)\n",
      "*   [ConsenSys EIP-20 implementation](https://github.com/ConsenSys/Tokens/blob/master/contracts/eip20/EIP20.sol)\n",
      "\n",
      "To create your token, you would typically:\n",
      "1.  **Write or adapt a smart contract** (usually in Solidity) that implements the ERC-20 standard.\n",
      "2.  **Compile the contract**.\n",
      "3.  **Deploy the compiled contract** to the Ethereum blockchain using a tool like Remix, Truffle, or Hardhat, and a wallet like MetaMask.\n",
      "\n",
      "Keep in mind that deploying a contract incurs gas fees.\n"
     ]
    }
   ],
   "source": [
    "print(result.output, sep=\"\\n\")"
   ]
  },
  {
   "cell_type": "markdown",
   "id": "97bdb274",
   "metadata": {},
   "source": [
    "## 5. Evaluation"
   ]
  },
  {
   "cell_type": "markdown",
   "id": "f336f297",
   "metadata": {},
   "source": [
    "### 5.1 Logging"
   ]
  },
  {
   "cell_type": "code",
   "execution_count": 20,
   "id": "d95b5a55",
   "metadata": {},
   "outputs": [],
   "source": [
    "def log_entry(agent, messages, source=\"user\"):\n",
    "    tools = []\n",
    "\n",
    "    for ts in agent.toolsets:\n",
    "        tools.extend(ts.tools.keys())\n",
    "\n",
    "    dict_messages = ModelMessagesTypeAdapter.dump_python(messages)\n",
    "\n",
    "    return {\n",
    "        \"agent_name\": agent.name,\n",
    "        \"system_prompt\": agent._instructions,\n",
    "        \"provider\": agent.model.system,\n",
    "        \"model\": agent.model.model_name,\n",
    "        \"tools\": tools,\n",
    "        \"messages\": dict_messages,\n",
    "        \"source\": source\n",
    "    }"
   ]
  },
  {
   "cell_type": "code",
   "execution_count": 27,
   "id": "a3e355f9",
   "metadata": {},
   "outputs": [],
   "source": [
    "# Writing logs to a folder\n",
    "\n",
    "LOG_DIR = Path(\"logs\")\n",
    "LOG_DIR.mkdir(exist_ok=True)\n",
    "\n",
    "def serializer(obj):\n",
    "    if isinstance(obj, (datetime, date)):\n",
    "        return obj.isoformat()\n",
    "    raise TypeError(f\"Type {type(obj)} not serializable\")\n",
    "\n",
    "\n",
    "def log_interaction_to_file(agent, messages, source=\"user\"):\n",
    "    entry = log_entry(agent, messages, source)\n",
    "\n",
    "    ts = entry[\"messages\"][-1][\"timestamp\"]\n",
    "    ts_str = ts.strftime(\"%Y%m%d_%H%M%S\")\n",
    "    rand_hex = secrets.token_hex(3)\n",
    "\n",
    "    filename = f\"{agent.name}_{ts_str}_{rand_hex}.json\"\n",
    "    filepath = LOG_DIR / filename\n",
    "\n",
    "    with filepath.open(\"w\", encoding=\"utf-8\") as f_out:\n",
    "        json.dump(entry, f_out, indent=2, default=serializer)\n",
    "\n",
    "    return filepath"
   ]
  },
  {
   "cell_type": "code",
   "execution_count": null,
   "id": "ee9abea5",
   "metadata": {},
   "outputs": [
    {
     "name": "stderr",
     "output_type": "stream",
     "text": [
      "INFO:google_genai.models:AFC is enabled with max remote calls: 10.\n"
     ]
    },
    {
     "name": "stdout",
     "output_type": "stream",
     "text": [
      "##################################################\n",
      "Question: How to create an ERC-20 token?\n",
      "##################################################\n"
     ]
    },
    {
     "name": "stderr",
     "output_type": "stream",
     "text": [
      "INFO:httpx:HTTP Request: POST https://generativelanguage.googleapis.com/v1beta/models/gemini-2.5-flash:generateContent \"HTTP/1.1 200 OK\"\n",
      "INFO:google_genai.models:AFC is enabled with max remote calls: 10.\n",
      "INFO:httpx:HTTP Request: POST https://generativelanguage.googleapis.com/v1beta/models/gemini-2.5-flash:generateContent \"HTTP/1.1 200 OK\"\n"
     ]
    },
    {
     "name": "stdout",
     "output_type": "stream",
     "text": [
      "To create an ERC-20 token, you need to implement a smart contract that adheres to the ERC-20 standard. This standard defines a set of functions and events that an Ethereum token contract must implement.\n",
      "\n",
      "Several implementations of ERC-20 compliant tokens are available, each with different trade-offs in terms of gas efficiency and security. Popular and well-audited examples include:\n",
      "\n",
      "*   **OpenZeppelin implementation:** This is a widely used and recommended library for secure smart contract development.\n",
      "*   **ConsenSys implementation:** Another reputable implementation from ConsenSys.\n",
      "\n",
      "These implementations provide a solid foundation for creating your own ERC-20 token. You would typically use Solidity to write your smart contract, compile it, and then deploy it to the Ethereum blockchain.\n"
     ]
    },
    {
     "data": {
      "text/plain": [
       "PosixPath('logs/faq_agent_20250928_205900_dda0b9.json')"
      ]
     },
     "execution_count": 29,
     "metadata": {},
     "output_type": "execute_result"
    }
   ],
   "source": [
    "question = input()\n",
    "print(\"#\"*50)\n",
    "print(f\"Question: {question}\")\n",
    "print(\"#\"*50)\n",
    "\n",
    "result = await agent.run(user_prompt=question)\n",
    "\n",
    "print(result.output)\n",
    "log_interaction_to_file(agent, result.new_messages())"
   ]
  },
  {
   "cell_type": "code",
   "execution_count": 34,
   "id": "b7081d21",
   "metadata": {},
   "outputs": [],
   "source": [
    "async def ask_question(agent, question):\n",
    "    print(\"#\"*50)\n",
    "    print(f\"Question: {question}\")\n",
    "    print(\"#\"*50)\n",
    "\n",
    "    result = await agent.run(user_prompt=question)\n",
    "\n",
    "    print(result.output)\n",
    "    log_interaction_to_file(agent, result.new_messages())\n",
    "\n",
    "    return result.output"
   ]
  },
  {
   "cell_type": "markdown",
   "id": "8ec541ba",
   "metadata": {},
   "source": [
    "### 5.2 Adding References"
   ]
  },
  {
   "cell_type": "code",
   "execution_count": null,
   "id": "89626968",
   "metadata": {},
   "outputs": [],
   "source": [
    "system_prompt = \"\"\"\n",
    "You are an expert in Computer Science and Distributed Ledger Technology,  with an emphasis on the Ethereum blockchain.\n",
    "\n",
    "Use the search tool to find relevant information from the Ethereum ERC materials before answering questions.  \n",
    "\n",
    "If you can find specific information through search, use it to provide accurate answers.\n",
    "\n",
    "Always include references by citing the filename of the source material you used.  \n",
    "Format: [LINK TITLE](FULL_GITHUB_LINK)\n",
    "\n",
    "If the search doesn't return relevant results, let the user know and provide general guidance.\n",
    "\"\"\".strip()"
   ]
  },
  {
   "cell_type": "code",
   "execution_count": 31,
   "id": "6e3905fc",
   "metadata": {},
   "outputs": [],
   "source": [
    "# Create another version of agent, let's call it faq_agent_v2\n",
    "agent = Agent(\n",
    "    name=\"faq_agent_v2\",\n",
    "    instructions=system_prompt,\n",
    "    tools=[text_search],\n",
    "    model=\"gemini-2.5-flash\"\n",
    ")"
   ]
  },
  {
   "cell_type": "code",
   "execution_count": 36,
   "id": "260648f6",
   "metadata": {},
   "outputs": [
    {
     "name": "stderr",
     "output_type": "stream",
     "text": [
      "INFO:google_genai.models:AFC is enabled with max remote calls: 10.\n"
     ]
    },
    {
     "name": "stdout",
     "output_type": "stream",
     "text": [
      "##################################################\n",
      "Question: How to create an ERC-20 token?\n",
      "##################################################\n"
     ]
    },
    {
     "name": "stderr",
     "output_type": "stream",
     "text": [
      "INFO:httpx:HTTP Request: POST https://generativelanguage.googleapis.com/v1beta/models/gemini-2.5-flash:generateContent \"HTTP/1.1 200 OK\"\n",
      "INFO:google_genai.models:AFC is enabled with max remote calls: 10.\n",
      "INFO:httpx:HTTP Request: POST https://generativelanguage.googleapis.com/v1beta/models/gemini-2.5-flash:generateContent \"HTTP/1.1 200 OK\"\n"
     ]
    },
    {
     "name": "stdout",
     "output_type": "stream",
     "text": [
      "To create an ERC-20 token, you need to deploy a smart contract on the Ethereum blockchain that adheres to the ERC-20 Token Standard. This standard defines a common set of rules that all ERC-20 tokens must follow, allowing them to interact seamlessly with various applications, wallets, and decentralized exchanges.\n",
      "\n",
      "The core of creating an ERC-20 token involves implementing the following functions and events in your Solidity smart contract:\n",
      "\n",
      "### Required Functions\n",
      "\n",
      "*   **`totalSupply()`**: Returns the total token supply.\n",
      "*   **`balanceOf(address _owner)`**: Returns the account balance of a specified address.\n",
      "*   **`transfer(address _to, uint256 _value)`**: Transfers `_value` amount of tokens to a specified address and *must* trigger a `Transfer` event. This function should revert if the caller's account balance is insufficient. Transfers of 0 values should be treated as normal transfers and still fire the `Transfer` event.\n",
      "*   **`transferFrom(address _from, address _to, uint256 _value)`**: Transfers `_value` amount of tokens from one address (`_from`) to another (`_to`), and *must* trigger a `Transfer` event. This is typically used in a \"withdraw\" workflow, allowing a contract to transfer tokens on behalf of a user. The function should revert unless the `_from` account has authorized the sender via some mechanism (e.g., `approve`). Transfers of 0 values should be treated as normal transfers and still fire the `Transfer` event.\n",
      "*   **`approve(address _spender, uint256 _value)`**: Allows a `_spender` to withdraw tokens from your account multiple times, up to the `_value` amount. Calling this function again overwrites the current allowance. This function *must* trigger an `Approval` event. To prevent certain attack vectors, client interfaces should set the allowance to `0` before setting it to another value for the same spender, although the contract itself doesn't enforce this for backward compatibility.\n",
      "*   **`allowance(address _owner, address _spender)`**: Returns the amount which a `_spender` is still allowed to withdraw from an `_owner`.\n",
      "\n",
      "### Optional Functions (for improved usability)\n",
      "\n",
      "While not strictly required for compliance, these functions enhance user experience:\n",
      "\n",
      "*   **`name()`**: Returns the name of the token (e.g., \"MyToken\").\n",
      "*   **`symbol()`**: Returns the symbol of the token (e.g., \"HIX\").\n",
      "*   **`decimals()`**: Returns the number of decimals the token uses (e.g., `8` means to divide the token amount by `100000000` for user representation).\n",
      "\n",
      "### Required Events\n",
      "\n",
      "*   **`Transfer(address indexed _from, address indexed _to, uint256 _value)`**: Must trigger when tokens are transferred, including zero-value transfers. When new tokens are created, a `Transfer` event should be triggered with the `_from` address set to `0x0`.\n",
      "*   **`Approval(address indexed _owner, address indexed _spender, uint256 _value)`**: Must trigger on any successful call to `approve(address _spender, uint256 _value)`.\n",
      "\n",
      "### Implementation\n",
      "\n",
      "You can write your own Solidity contract that implements these specifications or use existing battle-tested implementations as a starting point. Popular and secure example implementations include:\n",
      "\n",
      "*   [OpenZeppelin implementation](https://github.com/ethereum/ERCs/blob/master/assets/eip-20/OpenZeppelin-ERC20.sol)\n",
      "*   [ConsenSys implementation](https://github.com/ethereum/ERCs/blob/master/assets/eip-20/Consensys-EIP20.sol)\n",
      "\n",
      "These examples provide robust and audited codebases that are widely used in the industry, saving you from writing all the code from scratch and reducing the risk of security vulnerabilities.\n",
      "\n",
      "Once you have your Solidity contract, you'll compile it and deploy it to the Ethereum network using tools like Remix, Hardhat, or Truffle.\n",
      "\n",
      "**Reference:**\n",
      "[Token Standard](https://github.com/ethereum/ERCs/blob/master/ERCS/erc-20.md)\n"
     ]
    },
    {
     "data": {
      "text/plain": [
       "'To create an ERC-20 token, you need to deploy a smart contract on the Ethereum blockchain that adheres to the ERC-20 Token Standard. This standard defines a common set of rules that all ERC-20 tokens must follow, allowing them to interact seamlessly with various applications, wallets, and decentralized exchanges.\\n\\nThe core of creating an ERC-20 token involves implementing the following functions and events in your Solidity smart contract:\\n\\n### Required Functions\\n\\n*   **`totalSupply()`**: Returns the total token supply.\\n*   **`balanceOf(address _owner)`**: Returns the account balance of a specified address.\\n*   **`transfer(address _to, uint256 _value)`**: Transfers `_value` amount of tokens to a specified address and *must* trigger a `Transfer` event. This function should revert if the caller\\'s account balance is insufficient. Transfers of 0 values should be treated as normal transfers and still fire the `Transfer` event.\\n*   **`transferFrom(address _from, address _to, uint256 _value)`**: Transfers `_value` amount of tokens from one address (`_from`) to another (`_to`), and *must* trigger a `Transfer` event. This is typically used in a \"withdraw\" workflow, allowing a contract to transfer tokens on behalf of a user. The function should revert unless the `_from` account has authorized the sender via some mechanism (e.g., `approve`). Transfers of 0 values should be treated as normal transfers and still fire the `Transfer` event.\\n*   **`approve(address _spender, uint256 _value)`**: Allows a `_spender` to withdraw tokens from your account multiple times, up to the `_value` amount. Calling this function again overwrites the current allowance. This function *must* trigger an `Approval` event. To prevent certain attack vectors, client interfaces should set the allowance to `0` before setting it to another value for the same spender, although the contract itself doesn\\'t enforce this for backward compatibility.\\n*   **`allowance(address _owner, address _spender)`**: Returns the amount which a `_spender` is still allowed to withdraw from an `_owner`.\\n\\n### Optional Functions (for improved usability)\\n\\nWhile not strictly required for compliance, these functions enhance user experience:\\n\\n*   **`name()`**: Returns the name of the token (e.g., \"MyToken\").\\n*   **`symbol()`**: Returns the symbol of the token (e.g., \"HIX\").\\n*   **`decimals()`**: Returns the number of decimals the token uses (e.g., `8` means to divide the token amount by `100000000` for user representation).\\n\\n### Required Events\\n\\n*   **`Transfer(address indexed _from, address indexed _to, uint256 _value)`**: Must trigger when tokens are transferred, including zero-value transfers. When new tokens are created, a `Transfer` event should be triggered with the `_from` address set to `0x0`.\\n*   **`Approval(address indexed _owner, address indexed _spender, uint256 _value)`**: Must trigger on any successful call to `approve(address _spender, uint256 _value)`.\\n\\n### Implementation\\n\\nYou can write your own Solidity contract that implements these specifications or use existing battle-tested implementations as a starting point. Popular and secure example implementations include:\\n\\n*   [OpenZeppelin implementation](https://github.com/ethereum/ERCs/blob/master/assets/eip-20/OpenZeppelin-ERC20.sol)\\n*   [ConsenSys implementation](https://github.com/ethereum/ERCs/blob/master/assets/eip-20/Consensys-EIP20.sol)\\n\\nThese examples provide robust and audited codebases that are widely used in the industry, saving you from writing all the code from scratch and reducing the risk of security vulnerabilities.\\n\\nOnce you have your Solidity contract, you\\'ll compile it and deploy it to the Ethereum network using tools like Remix, Hardhat, or Truffle.\\n\\n**Reference:**\\n[Token Standard](https://github.com/ethereum/ERCs/blob/master/ERCS/erc-20.md)'"
      ]
     },
     "execution_count": 36,
     "metadata": {},
     "output_type": "execute_result"
    }
   ],
   "source": [
    "result = await ask_question(agent, \"How to create an ERC-20 token?\")\n",
    "result"
   ]
  },
  {
   "cell_type": "markdown",
   "id": "7c2e6f3b",
   "metadata": {},
   "source": [
    "### 5.3 LLM as a Judge"
   ]
  },
  {
   "cell_type": "code",
   "execution_count": 38,
   "id": "41b3e323",
   "metadata": {},
   "outputs": [],
   "source": [
    "evaluation_prompt = \"\"\"\n",
    "Use this checklist to evaluate the quality of an AI agent's answer (<ANSWER>) to a user question (<QUESTION>).\n",
    "We also include the entire log (<LOG>) for analysis.\n",
    "\n",
    "For each item, check if the condition is met. \n",
    "\n",
    "Checklist:\n",
    "\n",
    "- instructions_follow: The agent followed the user's instructions (in <INSTRUCTIONS>)\n",
    "- instructions_avoid: The agent avoided doing things it was told not to do  \n",
    "- answer_relevant: The response directly addresses the user's question  \n",
    "- answer_clear: The answer is clear and correct  \n",
    "- answer_citations: The response includes proper citations or sources when required  \n",
    "- completeness: The response is complete and covers all key aspects of the request\n",
    "- tool_call_search: Is the search tool invoked? \n",
    "\n",
    "Output true/false for each check and provide a short explanation for your judgment.\n",
    "\"\"\".strip()"
   ]
  },
  {
   "cell_type": "code",
   "execution_count": 39,
   "id": "7afce44d",
   "metadata": {},
   "outputs": [],
   "source": [
    "class EvaluationCheck(BaseModel):\n",
    "    check_name: str\n",
    "    justification: str\n",
    "    check_pass: bool\n",
    "\n",
    "class EvaluationChecklist(BaseModel):\n",
    "    checklist: list[EvaluationCheck]\n",
    "    summary: str"
   ]
  },
  {
   "cell_type": "code",
   "execution_count": 40,
   "id": "4fffef9d",
   "metadata": {},
   "outputs": [],
   "source": [
    "eval_agent = Agent(\n",
    "    name=\"eval_agent\",\n",
    "    model=\"gemini-2.5-flash-lite\",\n",
    "    instructions=evaluation_prompt,\n",
    "    output_type=EvaluationChecklist\n",
    ")"
   ]
  },
  {
   "cell_type": "code",
   "execution_count": 41,
   "id": "a6310e83",
   "metadata": {},
   "outputs": [],
   "source": [
    "user_prompt_format = \"\"\"\n",
    "<INSTRUCTIONS>{instructions}</INSTRUCTIONS>\n",
    "<QUESTION>{question}</QUESTION>\n",
    "<ANSWER>{answer}</ANSWER>\n",
    "<LOG>{log}</LOG>\n",
    "\"\"\".strip()"
   ]
  },
  {
   "cell_type": "code",
   "execution_count": 42,
   "id": "0ea89959",
   "metadata": {},
   "outputs": [],
   "source": [
    "def load_log_file(log_file):\n",
    "    with open(log_file, \"r\") as f_in:\n",
    "        log_data = json.load(f_in)\n",
    "        log_data[\"log_file\"] = log_file\n",
    "        return log_data"
   ]
  },
  {
   "cell_type": "code",
   "execution_count": 43,
   "id": "1c921940",
   "metadata": {},
   "outputs": [],
   "source": [
    "log_record = load_log_file(\"./logs/faq_agent_v2_20250928_210612_516117.json\")\n",
    "\n",
    "instructions = log_record[\"system_prompt\"]\n",
    "question = log_record[\"messages\"][0][\"parts\"][0][\"content\"]\n",
    "answer = log_record[\"messages\"][-1][\"parts\"][0][\"content\"]\n",
    "log = json.dumps(log_record[\"messages\"])\n",
    "\n",
    "user_prompt = user_prompt_format.format(\n",
    "    instructions=instructions,\n",
    "    question=question,\n",
    "    answer=answer,\n",
    "    log=log\n",
    ")"
   ]
  },
  {
   "cell_type": "code",
   "execution_count": 44,
   "id": "179201d6",
   "metadata": {},
   "outputs": [
    {
     "name": "stderr",
     "output_type": "stream",
     "text": [
      "INFO:google_genai.models:AFC is enabled with max remote calls: 10.\n",
      "INFO:httpx:HTTP Request: POST https://generativelanguage.googleapis.com/v1beta/models/gemini-2.5-flash-lite:generateContent \"HTTP/1.1 200 OK\"\n"
     ]
    },
    {
     "name": "stdout",
     "output_type": "stream",
     "text": [
      "The user asked how to create an ERC-20 token. The agent successfully used the search tool to find information on the ERC-20 Token Standard. It then provided a comprehensive answer detailing the required functions, optional functions, and events that constitute an ERC-20 token. The answer also included references to example implementations from OpenZeppelin and ConsenSys, and a citation to the ERC-20 Token Standard document as requested.\n",
      "check_name='instructions_follow' justification='The agent followed all instructions, including using the search tool, providing accurate answers, and including citations.' check_pass=True\n",
      "check_name='instructions_avoid' justification='The agent did not avoid any instructions.' check_pass=True\n",
      "check_name='answer_relevant' justification=\"The answer directly addresses the user's question on how to create an ERC-20 token.\" check_pass=True\n",
      "check_name='answer_clear' justification='The answer is clear, well-structured, and provides a comprehensive explanation of the steps and components involved in creating an ERC-20 token.' check_pass=True\n",
      "check_name='answer_citations' justification='The answer includes a citation for the ERC-20 Token Standard, formatted as requested.' check_pass=True\n",
      "check_name='completeness' justification='The answer is complete, covering the required functions, optional functions, events, and implementation examples for creating an ERC-20 token.' check_pass=True\n",
      "check_name='tool_call_search' justification='The search tool was invoked to find relevant information.' check_pass=True\n"
     ]
    }
   ],
   "source": [
    "result = await eval_agent.run(user_prompt, output_type=EvaluationChecklist)\n",
    "\n",
    "checklist = result.output\n",
    "print(checklist.summary)\n",
    "\n",
    "for check in checklist.checklist:\n",
    "    print(check)"
   ]
  },
  {
   "cell_type": "code",
   "execution_count": 45,
   "id": "f703419d",
   "metadata": {},
   "outputs": [],
   "source": [
    "def simplify_log_messages(messages):\n",
    "    log_simplified = []\n",
    "\n",
    "    for m in messages:\n",
    "        parts = []\n",
    "    \n",
    "        for original_part in m[\"parts\"]:\n",
    "            part = original_part.copy()\n",
    "            kind = part[\"part_kind\"]\n",
    "    \n",
    "            if kind == \"user-prompt\":\n",
    "                del part[\"timestamp\"]\n",
    "            if kind == 'tool-call':\n",
    "                del part[\"tool_call_id\"]\n",
    "            if kind == \"tool-return\":\n",
    "                del part[\"tool_call_id\"]\n",
    "                del part[\"metadata\"]\n",
    "                del part[\"timestamp\"]\n",
    "                # Replace actual search results with placeholder to save tokens\n",
    "                part[\"content\"] = \"RETURN_RESULTS_REDACTED\"\n",
    "            if kind == \"text\":\n",
    "                del part[\"id\"]\n",
    "    \n",
    "            parts.append(part)\n",
    "    \n",
    "        message = {\n",
    "            \"kind\": m[\"kind\"],\n",
    "            \"parts\": parts\n",
    "        }\n",
    "    \n",
    "        log_simplified.append(message)\n",
    "    return log_simplified"
   ]
  },
  {
   "cell_type": "code",
   "execution_count": 46,
   "id": "6573799a",
   "metadata": {},
   "outputs": [],
   "source": [
    "async def evaluate_log_record(eval_agent, log_record):\n",
    "    messages = log_record[\"messages\"]\n",
    "\n",
    "    instructions = log_record[\"system_prompt\"]\n",
    "    question = messages[0][\"parts\"][0][\"content\"]\n",
    "    answer = messages[-1][\"parts\"][0][\"content\"]\n",
    "\n",
    "    log_simplified = simplify_log_messages(messages)\n",
    "    log = json.dumps(log_simplified)\n",
    "\n",
    "    user_prompt = user_prompt_format.format(\n",
    "        instructions=instructions,\n",
    "        question=question,\n",
    "        answer=answer,\n",
    "        log=log\n",
    "    )\n",
    "\n",
    "    result = await eval_agent.run(user_prompt, output_type=EvaluationChecklist)\n",
    "\n",
    "    return result.output "
   ]
  },
  {
   "cell_type": "code",
   "execution_count": 47,
   "id": "4d9a43f1",
   "metadata": {},
   "outputs": [
    {
     "name": "stderr",
     "output_type": "stream",
     "text": [
      "INFO:google_genai.models:AFC is enabled with max remote calls: 10.\n",
      "INFO:httpx:HTTP Request: POST https://generativelanguage.googleapis.com/v1beta/models/gemini-2.5-flash-lite:generateContent \"HTTP/1.1 200 OK\"\n"
     ]
    }
   ],
   "source": [
    "log_record = load_log_file('./logs/faq_agent_v2_20250928_210612_516117.json')\n",
    "eval1 = await evaluate_log_record(eval_agent, log_record)"
   ]
  },
  {
   "cell_type": "code",
   "execution_count": 48,
   "id": "5a3a0944",
   "metadata": {},
   "outputs": [
    {
     "name": "stdout",
     "output_type": "stream",
     "text": [
      "The user asked how to create an ERC-20 token. The agent successfully used the search tool to find relevant information on the ERC-20 Token Standard. It provided a comprehensive explanation of the required functions (totalSupply, balanceOf, transfer, transferFrom, approve, allowance) and events (Transfer, Approval) that must be implemented in a Solidity smart contract. The agent also suggested using existing battle-tested implementations like those from OpenZeppelin or ConsenSys and mentioned the deployment process using tools like Remix, Hardhat, or Truffle. A relevant citation in the specified format was included.\n",
      "check_name='instructions_follow' justification='The agent successfully followed the instructions by searching for information on how to create an ERC-20 token and providing a detailed explanation based on the search results.' check_pass=True\n",
      "check_name='instructions_avoid' justification='The agent avoided any actions it was instructed not to do.' check_pass=True\n",
      "check_name='answer_relevant' justification=\"The answer directly addresses the user's question about how to create an ERC-20 token.\" check_pass=True\n",
      "check_name='answer_clear' justification='The answer is clear, well-structured, and provides specific details about the functions, events, and implementation steps required for creating an ERC-20 token.' check_pass=True\n",
      "check_name='answer_citations' justification='The agent provided a citation in the requested format, linking to the relevant ERC-20 token standard documentation.' check_pass=True\n",
      "check_name='completeness' justification='The answer is complete, covering the essential functions, events, and implementation methods for creating an ERC-20 token, including links to example implementations.' check_pass=True\n",
      "check_name='tool_call_search' justification=\"The agent used the text_search tool as instructed to find information relevant to the user's query.\" check_pass=True\n"
     ]
    }
   ],
   "source": [
    "print(eval1.summary)\n",
    "\n",
    "for check in eval1.checklist:\n",
    "    print(check)"
   ]
  },
  {
   "cell_type": "markdown",
   "id": "1526bfb4",
   "metadata": {},
   "source": [
    "### 5.4 Data Generation"
   ]
  },
  {
   "cell_type": "code",
   "execution_count": 49,
   "id": "2fbf8801",
   "metadata": {},
   "outputs": [],
   "source": [
    "question_generation_prompt = \"\"\"\n",
    "You are helping to create test questions for an AI agent that answers questions about the Ethereum ERC documentation.\n",
    "\n",
    "Based on the provided data content, generate realistic questions that users might ask.\n",
    "\n",
    "The questions should:\n",
    "\n",
    "- Be natural and varied in style\n",
    "- Range from simple to complex\n",
    "- Include both specific technical questions and general course questions\n",
    "\n",
    "Generate one question for each record.\n",
    "\"\"\".strip()"
   ]
  },
  {
   "cell_type": "code",
   "execution_count": 50,
   "id": "978c326d",
   "metadata": {},
   "outputs": [],
   "source": [
    "class QuestionsList(BaseModel):\n",
    "    questions: list[str]\n",
    "\n",
    "question_generator = Agent(\n",
    "    name=\"question_generator\",\n",
    "    instructions=question_generation_prompt,\n",
    "    model='gemini-2.5-flash',\n",
    "    output_type=QuestionsList\n",
    ")"
   ]
  },
  {
   "cell_type": "code",
   "execution_count": 51,
   "id": "f00b5067",
   "metadata": {},
   "outputs": [
    {
     "name": "stderr",
     "output_type": "stream",
     "text": [
      "INFO:google_genai.models:AFC is enabled with max remote calls: 10.\n",
      "INFO:httpx:HTTP Request: POST https://generativelanguage.googleapis.com/v1beta/models/gemini-2.5-flash:generateContent \"HTTP/1.1 200 OK\"\n"
     ]
    }
   ],
   "source": [
    "sample = random.sample(erc_data, 10)\n",
    "prompt_docs = [d[\"content\"] for d in sample]\n",
    "prompt = json.dumps(prompt_docs)\n",
    "\n",
    "result = await question_generator.run(prompt)\n",
    "questions = result.output.questions"
   ]
  },
  {
   "cell_type": "code",
   "execution_count": 52,
   "id": "326f1d20",
   "metadata": {},
   "outputs": [
    {
     "data": {
      "text/plain": [
       "7"
      ]
     },
     "execution_count": 52,
     "metadata": {},
     "output_type": "execute_result"
    }
   ],
   "source": [
    "len(questions)"
   ]
  },
  {
   "cell_type": "code",
   "execution_count": 53,
   "id": "bfec9cd4",
   "metadata": {},
   "outputs": [
    {
     "data": {
      "text/plain": [
       "['How does ERC-4494 address the user experience issue of gasless approvals for ERC-721 tokens, and what specific functions does it introduce to achieve this?',\n",
       " 'What are the primary motivations behind ERC-3009, and how does it aim to improve upon existing ERC-20 transfer mechanisms, particularly concerning transaction flexibility and nonce management?',\n",
       " 'Explain the purpose of ERC-5247 and provide examples of scenarios where a smart contract executable proposal would be beneficial.',\n",
       " 'What problem does ERC-2477 aim to solve regarding token metadata, and which functions are central to its integrity verification mechanism?',\n",
       " 'Describe the core components and functionalities of the ERC-7390 standard for vanilla options, specifically highlighting how it handles multiple buyers and collateralization.',\n",
       " 'What is the main purpose of ERC-6150, and how does it model hierarchical relationships between NFTs using its core functions and event?',\n",
       " 'Explain the concept of MixHash within the EIP for Public Data Storage Proofs, detailing its structure and how it contributes to verifying public data.']"
      ]
     },
     "execution_count": 53,
     "metadata": {},
     "output_type": "execute_result"
    }
   ],
   "source": [
    "questions"
   ]
  },
  {
   "cell_type": "code",
   "execution_count": 54,
   "id": "73cbb614",
   "metadata": {},
   "outputs": [
    {
     "data": {
      "application/vnd.jupyter.widget-view+json": {
       "model_id": "2c3c0969e0bc4c2195d5164b14917759",
       "version_major": 2,
       "version_minor": 0
      },
      "text/plain": [
       "  0%|          | 0/7 [00:00<?, ?it/s]"
      ]
     },
     "metadata": {},
     "output_type": "display_data"
    },
    {
     "name": "stderr",
     "output_type": "stream",
     "text": [
      "INFO:google_genai.models:AFC is enabled with max remote calls: 10.\n"
     ]
    },
    {
     "name": "stdout",
     "output_type": "stream",
     "text": [
      "How does ERC-4494 address the user experience issue of gasless approvals for ERC-721 tokens, and what specific functions does it introduce to achieve this?\n"
     ]
    },
    {
     "name": "stderr",
     "output_type": "stream",
     "text": [
      "INFO:httpx:HTTP Request: POST https://generativelanguage.googleapis.com/v1beta/models/gemini-2.5-flash:generateContent \"HTTP/1.1 200 OK\"\n",
      "INFO:google_genai.models:AFC is enabled with max remote calls: 10.\n",
      "INFO:httpx:HTTP Request: POST https://generativelanguage.googleapis.com/v1beta/models/gemini-2.5-flash:generateContent \"HTTP/1.1 200 OK\"\n"
     ]
    },
    {
     "name": "stdout",
     "output_type": "stream",
     "text": [
      "ERC-4494 addresses the user experience issue of gasless approvals for ERC-721 tokens by extending the \"Permit\" approval flow, which was initially introduced for ERC-20 tokens in ERC-2612. This significantly improves user experience by allowing approvals to be granted via a signed message (structured according to ERC-712) rather than requiring a separate, gas-consuming transaction. Instead of the typical two-transaction process (one to approve and a second for the contract to pull the asset), a permit-style flow only requires the owner to sign a message and a single subsequent transaction for the asset to be pulled [ERCs-master/ERCS/erc-4494.md](https://github.com/ethereum/ERCs/blob/master/ERCS/erc-4494.md).\n",
      "\n",
      "To achieve this, ERC-4494 introduces three specific functions to the ERC-721 standard:\n",
      "\n",
      "1.  **`permit(address spender, uint256 tokenId, uint256 deadline, bytes memory sig)`**: This function allows the owner of an ERC-721 NFT to approve a `spender` for a specific `tokenId` by providing a signature (`sig`). The `deadline` parameter allows for an expiry timestamp for the permit, providing flexibility and security.\n",
      "2.  **`nonces(uint256 tokenId) external view returns(uint256)`**: This function returns the unique nonce associated with a given `tokenId`. The nonce is critical for replay protection and is incremented every time the NFT is transferred, ensuring that a signed permit can only be used once for a specific state of the token.\n",
      "3.  **`DOMAIN_SEPARATOR() external view returns(bytes32)`**: This function returns the EIP-712 domain separator. This bytes32 value is used in the structured hashing of messages for signatures, as defined by EIP-712, to prevent replay attacks across different DApps or chains [ERCs-master/ERCS/erc-4494.md](https://github.com/ethereum/ERCs/blob/master/ERCS/erc-4494.md).\n"
     ]
    },
    {
     "name": "stderr",
     "output_type": "stream",
     "text": [
      "INFO:google_genai.models:AFC is enabled with max remote calls: 10.\n"
     ]
    },
    {
     "name": "stdout",
     "output_type": "stream",
     "text": [
      "\n",
      "What are the primary motivations behind ERC-3009, and how does it aim to improve upon existing ERC-20 transfer mechanisms, particularly concerning transaction flexibility and nonce management?\n"
     ]
    },
    {
     "name": "stderr",
     "output_type": "stream",
     "text": [
      "INFO:httpx:HTTP Request: POST https://generativelanguage.googleapis.com/v1beta/models/gemini-2.5-flash:generateContent \"HTTP/1.1 200 OK\"\n",
      "INFO:google_genai.models:AFC is enabled with max remote calls: 10.\n",
      "INFO:httpx:HTTP Request: POST https://generativelanguage.googleapis.com/v1beta/models/gemini-2.5-flash:generateContent \"HTTP/1.1 200 OK\"\n"
     ]
    },
    {
     "name": "stdout",
     "output_type": "stream",
     "text": [
      "ERC-3009, titled \"Transfer With Authorization,\" is primarily motivated by the need to enhance the security and flexibility of token transfers, especially when involving third-party relayers or smart contracts. It aims to improve upon existing ERC-20 transfer mechanisms by:\n",
      "\n",
      "*   **Enabling Authorized Transfers:** ERC-3009 allows token owners to authorize a third party to initiate a transfer on their behalf using a signed message. This is achieved through functions like `transferWithAuthorization` and `receiveWithAuthorization`. This mechanism provides greater flexibility by decoupling the signing of a transaction from its execution, allowing for scenarios like gasless transactions where a relayer pays for the gas.\n",
      "*   **Mitigating Front-Running Risks:** The standard introduces the `receiveWithAuthorization` function, which is recommended when calling from other smart contracts. This is a crucial improvement to prevent front-running attacks where an attacker could extract a transfer authorization from the transaction pool and execute the transfer, potentially leading to unintended consequences like unprocessed or locked-up deposits. By requiring the caller to be the payee, `receiveWithAuthorization` adds a layer of security.\n",
      "*   **Flexible Nonce Management:** While not explicitly detailing a complex nonce management system for replay protection in the same way as Ethereum's transaction nonces, ERC-3009 implicitly addresses nonce management by suggesting that \"leading bytes of the nonce could [be dedicated] as the identifier to prevent cross-use\" if multiple contract functions accept receive authorizations. This allows for distinguishing different types of authorized operations, contributing to more robust and flexible transaction handling beyond the basic `transfer` and `approve/transferFrom` functions of ERC-20.\n",
      "\n",
      "In essence, ERC-3009 builds upon ERC-20 by introducing a more secure and flexible framework for delegated token transfers, moving towards a future where off-chain signed authorizations can more safely and efficiently interact with on-chain token movements.\n",
      "\n",
      "Reference: [ERC-3009: Transfer With Authorization](ERCs-master/ERCS/erc-3009.md)\n"
     ]
    },
    {
     "name": "stderr",
     "output_type": "stream",
     "text": [
      "INFO:google_genai.models:AFC is enabled with max remote calls: 10.\n"
     ]
    },
    {
     "name": "stdout",
     "output_type": "stream",
     "text": [
      "\n",
      "Explain the purpose of ERC-5247 and provide examples of scenarios where a smart contract executable proposal would be beneficial.\n"
     ]
    },
    {
     "name": "stderr",
     "output_type": "stream",
     "text": [
      "INFO:httpx:HTTP Request: POST https://generativelanguage.googleapis.com/v1beta/models/gemini-2.5-flash:generateContent \"HTTP/1.1 200 OK\"\n",
      "INFO:google_genai.models:AFC is enabled with max remote calls: 10.\n",
      "INFO:httpx:HTTP Request: POST https://generativelanguage.googleapis.com/v1beta/models/gemini-2.5-flash:generateContent \"HTTP/1.1 200 OK\"\n"
     ]
    },
    {
     "name": "stdout",
     "output_type": "stream",
     "text": [
      "ERC-5247, titled \"Smart Contract Executable Proposal Interface,\" defines a standard interface for creating and executing proposals directly on the Ethereum blockchain. The primary purpose of this ERC is to **separate the definition of the code to be executed from the actual execution process itself.**\n",
      "\n",
      "A smart contract executable proposal, as defined by ERC-5247, includes a series of function calls with details such as:\n",
      "\n",
      "*   **Target contract addresses:** The addresses of the contracts that the proposal intends to interact with.\n",
      "*   **Ether values:** The amount of Ether (if any) to be sent with each function call.\n",
      "*   **Gas limits:** The maximum gas to be used for each function call.\n",
      "*   **Calldatas:** The encoded function calls and their arguments.\n",
      "\n",
      "By standardizing this interface, ERC-5247 allows for proposals to be submitted, recorded, and then later executed on-chain, often after some form of approval or consensus.\n",
      "\n",
      "Here are examples of scenarios where a smart contract executable proposal would be beneficial:\n",
      "\n",
      "1.  **Decentralized Autonomous Organizations (DAOs):**\n",
      "    *   **Scenario:** A DAO wants to upgrade one of its core contracts, allocate funds to a new project, or change a protocol parameter.\n",
      "    *   **Benefit:** A member of the DAO can create an ERC-5247 compliant proposal outlining the exact on-chain transactions required (e.g., calling an `upgrade()` function on a proxy contract, transferring tokens, or modifying a state variable). This proposal can then be put to a vote among DAO members. Once the vote passes, the proposal can be executed directly, ensuring transparency and immutability of the approved actions.\n",
      "\n",
      "2.  **Delegated or Trustee Relationships:**\n",
      "    *   **Scenario:** An individual wants to grant limited authority to a trusted party (e.g., a financial advisor or a family member) to perform specific on-chain actions on their behalf, but only after explicit approval.\n",
      "    *   **Benefit:** The trusted party can compose a smart proposal for a particular action (e.g., transferring a specific amount of tokens to a whitelisted address, or interacting with a DeFi protocol). This proposal can then be sent to the individual for their review and explicit on-chain approval before being executed. This provides a secure and auditable way to manage delegated authority.\n",
      "\n",
      "3.  **Conditional Offers or Bilateral Agreements:**\n",
      "    *   **Scenario:** Person A wants to make a conditional offer to Person B, where Person B can accept the offer by executing a set of predefined on-chain actions.\n",
      "    *   **Benefit:** Person A can create an ERC-5247 proposal that, for example, offers to swap specific tokens if Person B sends a certain amount of another token to a particular address. Person B can then review the executable proposal and, if they agree to the terms, execute it, triggering the token swap automatically. This can be used for escrow-like arrangements or automated counter-offers.\n",
      "\n",
      "For further details, you can refer to the official ERC-5247 documentation: [Smart Contract Executable Proposal Interface](https://github.com/ethereum/ERCs/blob/master/ERCS/erc-5247.md)\n"
     ]
    },
    {
     "name": "stderr",
     "output_type": "stream",
     "text": [
      "INFO:google_genai.models:AFC is enabled with max remote calls: 10.\n"
     ]
    },
    {
     "name": "stdout",
     "output_type": "stream",
     "text": [
      "\n",
      "What problem does ERC-2477 aim to solve regarding token metadata, and which functions are central to its integrity verification mechanism?\n"
     ]
    },
    {
     "name": "stderr",
     "output_type": "stream",
     "text": [
      "INFO:httpx:HTTP Request: POST https://generativelanguage.googleapis.com/v1beta/models/gemini-2.5-flash:generateContent \"HTTP/1.1 200 OK\"\n",
      "INFO:google_genai.models:AFC is enabled with max remote calls: 10.\n",
      "INFO:httpx:HTTP Request: POST https://generativelanguage.googleapis.com/v1beta/models/gemini-2.5-flash:generateContent \"HTTP/1.1 200 OK\"\n"
     ]
    },
    {
     "name": "stdout",
     "output_type": "stream",
     "text": [
      "ERC-2477 aims to solve the problem of **lack of integrity verification for token metadata and its associated schemas** in existing token standards like ERC-721 and ERC-1155. While these standards provide URIs for metadata, there isn't a built-in mechanism to confirm that the metadata (or its defining schema) hasn't been altered or tampered with after it was initially referenced. This standard provides a method to ensure the trustworthiness and immutability of both the metadata and its schema, drawing inspiration from the World Wide Web's Sub-Resource Integrity (SRI) approach.\n",
      "\n",
      "The central functions for its integrity verification mechanism are:\n",
      "\n",
      "*   **`tokenURIIntegrity(uint id)`**: This function is used to verify the integrity of the token's metadata document, which is typically accessed via functions like `tokenURI(id)` (for ERC-721) or `uri(id)` (for ERC-1155). It returns a digest and the hash algorithm used for the verification.\n",
      "*   **`tokenURISchemaIntegrity(uint id)`**: This function verifies the integrity of the *schema* that defines the structure and content of the metadata document.\n",
      "\n",
      "Smart contracts implementing ERC-2477 **MUST** also implement the ERC-165 standard. The metadata document itself, conforming to ERC-2477, may include a `$schemaIntegrity` property to provide referential integrity to its schema document.\n",
      "\n",
      "Reference: [Token Metadata Integrity](ERCs-master/ERCS/erc-2477.md)\n"
     ]
    },
    {
     "name": "stderr",
     "output_type": "stream",
     "text": [
      "INFO:google_genai.models:AFC is enabled with max remote calls: 10.\n"
     ]
    },
    {
     "name": "stdout",
     "output_type": "stream",
     "text": [
      "\n",
      "Describe the core components and functionalities of the ERC-7390 standard for vanilla options, specifically highlighting how it handles multiple buyers and collateralization.\n"
     ]
    },
    {
     "name": "stderr",
     "output_type": "stream",
     "text": [
      "INFO:httpx:HTTP Request: POST https://generativelanguage.googleapis.com/v1beta/models/gemini-2.5-flash:generateContent \"HTTP/1.1 200 OK\"\n",
      "INFO:google_genai.models:AFC is enabled with max remote calls: 10.\n",
      "INFO:httpx:HTTP Request: POST https://generativelanguage.googleapis.com/v1beta/models/gemini-2.5-flash:generateContent \"HTTP/1.1 200 OK\"\n"
     ]
    },
    {
     "name": "stdout",
     "output_type": "stream",
     "text": [
      "The ERC-7390 standard defines an interface for creating, managing, and executing simple time-limited call/put (vanilla) options on the Ethereum blockchain. It aims to standardize options contracts to foster interoperability within the decentralized finance ecosystem [ERCs-master/ERCS/erc-7390.md](https://github.com/ethereum/ERCs/blob/master/ERCS/erc-7390.md).\n",
      "\n",
      "### Core Components and Functionalities\n",
      "\n",
      "ERC-7390 provides a comprehensive set of functions and events for seamless interactions with vanilla options. Instead of representing a single, expiring option, it can store multiple \"issuances,\" each identified by a unique ID. Each issuance can be bought, exercised, or canceled independently. The standard supports both European and American style options through the `exerciseWindowStart` and `exerciseWindowEnd` parameters. For a European option, these dates would typically be set closely around the expiration date, while for an American option, the `exerciseWindowStart` could be set to the current time, allowing immediate exercise [ERCs-master/ERCS/erc-7390.md](https://github.com/ethereum/ERCs/blob/master/ERCS/erc-7390.md).\n",
      "\n",
      "Key data structures include:\n",
      "\n",
      "*   **`VanillaOptionData`**: Defines the specifics of an option, such as:\n",
      "    *   `side`: `Call` or `Put`.\n",
      "    *   `underlyingToken`: The ERC-20 token being bought or sold.\n",
      "    *   `amount`: The quantity of the underlying token.\n",
      "    *   `strikeToken`: The ERC-20 token used for the strike price.\n",
      "    *   `strike`: The strike price.\n",
      "    *   `premiumToken`: The ERC-20 token used for the premium.\n",
      "    *   `premium`: The option's premium.\n",
      "    *   `exerciseWindowStart`: The earliest time an option can be exercised.\n",
      "    *   `exerciseWindowEnd`: The latest time an option can be exercised.\n",
      "    *   `allowed`: An optional array of addresses permitted to buy the option [ERCs-master/ERCS/erc-7390.md](https://github.com/ethereum/ERCs/blob/master/ERCS/erc-7390.md).\n",
      "*   **`OptionIssuance`**: Stores the `VanillaOptionData` along with the `writer`'s address, `exercisedAmount`, and `soldAmount` [ERCs-master/ERCS/erc-7390.md](https://github.com/ethereum/ERCs/blob/master/ERCS/erc-7390.md).\n",
      "\n",
      "The standard also defines events for actions like `Created`, `Bought`, `Exercised`, `Expired`, `Canceled`, `PremiumUpdated`, and `AllowedUpdated` [ERCs-master/ERCS/erc-7390.md](https://github.com/ethereum/ERCs/blob/master/ERCS/erc-7390.md).\n",
      "\n",
      "### Multiple Buyers\n",
      "\n",
      "ERC-7390 inherently supports multiple buyers for a single option issuance by requiring implementations to also implement **ERC-1155**. When a buyer purchases a fraction of an option issuance, they receive ERC-1155 tokens, referred to as \"redeem tokens,\" which represent their purchased fraction. These redeem tokens are fungible and can be exchanged between users, allowing a buyer to exercise only a portion of what they initially bought [ERCs-master/ERCS/erc-7390.md](https://github.com/ethereum/ERCs/blob/master/ERCS/erc-7390.md).\n",
      "\n",
      "### Collateralization\n",
      "\n",
      "Every option issuance under ERC-7390 is **collateralized**. This means the option writer must provide the necessary collateral to the smart contract *before* any buyer can purchase the option. The writer can retrieve their collateral if the option is not exercised within its specified exercise window. This mechanism ensures that the writer has the underlying assets available for settlement if the option is exercised [ERCs-master/ERCS/erc-7390.md](https://github.com/ethereum/ERCs/blob/master/ERCS/erc-7390.md).\n"
     ]
    },
    {
     "name": "stderr",
     "output_type": "stream",
     "text": [
      "INFO:google_genai.models:AFC is enabled with max remote calls: 10.\n"
     ]
    },
    {
     "name": "stdout",
     "output_type": "stream",
     "text": [
      "\n",
      "What is the main purpose of ERC-6150, and how does it model hierarchical relationships between NFTs using its core functions and event?\n"
     ]
    },
    {
     "name": "stderr",
     "output_type": "stream",
     "text": [
      "INFO:httpx:HTTP Request: POST https://generativelanguage.googleapis.com/v1beta/models/gemini-2.5-flash:generateContent \"HTTP/1.1 200 OK\"\n",
      "INFO:google_genai.models:AFC is enabled with max remote calls: 10.\n",
      "INFO:httpx:HTTP Request: POST https://generativelanguage.googleapis.com/v1beta/models/gemini-2.5-flash:generateContent \"HTTP/1.1 200 OK\"\n"
     ]
    },
    {
     "name": "stdout",
     "output_type": "stream",
     "text": [
      "ERC-6150 is an extension to EIP-721 that proposes **multi-layer filesystem-like hierarchical NFTs**. Its main purpose is to standardize the interface for these hierarchical NFTs, allowing for the creation and management of tree-like structures on the blockchain. This standard enables complete on-chain storage of hierarchy, management of relationships within a single contract, transferrable ownership of categories/directories as NFTs, and permissionless access to the hierarchical structure. [ERCs-master/ERCS/erc-6150.md](https://github.com/ethereum/ERCs/blob/master/ERCS/erc-6150.md)\n",
      "\n",
      "ERC-6150 models hierarchical relationships between NFTs by treating each NFT as a node in a tree structure, which can be a root, leaf, parent, or child node. [ERCs-master/ERCS/erc-6150.md](https://github.com/ethereum/ERCs/blob/master/ERCS/erc-6150.md)\n",
      "\n",
      "Its core functions and event include:\n",
      "\n",
      "*   **Functions:**\n",
      "    *   `parentOf(uint256 tokenId)`: Retrieves the parent NFT of a specified token.\n",
      "    *   `childrenOf(uint256 parentId)`: Returns all child NFTs of a given parent NFT.\n",
      "    *   `isRoot(uint256 tokenId)`: Checks if a specified NFT is a root node.\n",
      "    *   `isLeaf(uint256 tokenId)`: Checks if a specified NFT is a leaf node.\n",
      "    [ERCs-master/ERCS/erc-6150.md](https://github.com/ethereum/ERCs/blob/master/ERCS/erc-6150.md)\n",
      "\n",
      "*   **Event:**\n",
      "    *   `Minted(address minter, uint256 parentId, uint256 tokenId)`: This event is emitted to signify the parent and child relationship when a new NFT node is minted. If a root node is being minted, the `parentId` will be zero. [ERCs-master/ERCS/erc-6150.md](https://github.com/ethereum/ERCs/blob/master/ERCS/erc-6150.md)\n"
     ]
    },
    {
     "name": "stderr",
     "output_type": "stream",
     "text": [
      "INFO:google_genai.models:AFC is enabled with max remote calls: 10.\n"
     ]
    },
    {
     "name": "stdout",
     "output_type": "stream",
     "text": [
      "\n",
      "Explain the concept of MixHash within the EIP for Public Data Storage Proofs, detailing its structure and how it contributes to verifying public data.\n"
     ]
    },
    {
     "name": "stderr",
     "output_type": "stream",
     "text": [
      "INFO:httpx:HTTP Request: POST https://generativelanguage.googleapis.com/v1beta/models/gemini-2.5-flash:generateContent \"HTTP/1.1 200 OK\"\n",
      "INFO:google_genai.models:AFC is enabled with max remote calls: 10.\n",
      "INFO:httpx:HTTP Request: POST https://generativelanguage.googleapis.com/v1beta/models/gemini-2.5-flash:generateContent \"HTTP/1.1 200 OK\"\n"
     ]
    },
    {
     "name": "stdout",
     "output_type": "stream",
     "text": [
      "In the context of EIP-7585, \"MixHash and Public Data Storage Proofs,\" **MixHash** serves as a crucial identifier for public data within the Ethereum ecosystem. It's a fundamental element in enabling the verification and tracking of valuable public information.\n",
      "\n",
      "### Structure of MixHash\n",
      "\n",
      "MixHash is defined as a `bytes32` data type. While the EIP leaves room for future expansion with different `HashType` categories, its default and current recommended `HashType` is **SHA256**. This standardized structure ensures consistency and interoperability when referencing and verifying public data.\n",
      "\n",
      "### How MixHash Contributes to Verifying Public Data\n",
      "\n",
      "MixHash plays several key roles in the verification of public data:\n",
      "\n",
      "1.  **Public Data Identification and Value Tracking:** It allows the Ethereum ecosystem to confirm whether a specific MixHash corresponds to public data and helps in tracking the value associated with that data. This is essential for ensuring that storage proofs are generated for genuinely public and valuable information.\n",
      "\n",
      "2.  **`ERCPublicDataOwner` Interface:** This interface leverages MixHash to determine ownership of public data. It allows querying an `Owner` address associated with a given `mixHash`, returning the owner's address if identified as public data, or `0x0` otherwise. This provides a mechanism for on-chain verification of data ownership.\n",
      "\n",
      "    ```solidity\n",
      "    interface ERCPublicDataOwner {\n",
      "        function getPublicDataOwner(bytes32 mixHash) external view returns (address);\n",
      "    }\n",
      "    ```\n",
      "\n",
      "3.  **`ERC721MixHashVerify` Extension:** For the NFT ecosystem (ERC-721 and ERC-1155), an optional extension called `ERC721MixHashVerify` can be implemented. This interface explicitly associates an NFT with a MixHash, allowing for the verification of the relationship between a token and its underlying public data. It provides functions to check if an NFT's `tokenId` is a `MixHash` and to query the `MixHash` corresponding to a specific `tokenId`.\n",
      "\n",
      "4.  **Cross-Chain Value Anchor:** MixHash has the potential to become a new cross-chain value anchor. It can track the value of the same data, represented by MixHash, across different public blockchain networks using various models, thus facilitating the aggregation of cross-chain values.\n",
      "\n",
      "It's important to note that while MixHash is central to public data storage proofs, the EIP emphasizes the need to verify the public nature of MixHash in specific scenarios to prevent malicious actors from generating proofs for data they exclusively possess. The design is specifically geared towards **public data** and is not suitable for private data without significant adjustments due to security considerations.\n",
      "\n",
      "**References:**\n",
      "*   [MixHash and Public Data Storage Proofs](ERCs-master/ERCS/erc-7585.md)\n",
      "\n"
     ]
    }
   ],
   "source": [
    "for q in tqdm(questions):\n",
    "    print(q)\n",
    "\n",
    "    result = await agent.run(user_prompt=q)\n",
    "    print(result.output)\n",
    "\n",
    "    log_interaction_to_file(\n",
    "        agent,\n",
    "        result.new_messages(),\n",
    "        source='ai-generated'\n",
    "    )\n",
    "    time.sleep(5)\n",
    "    print()"
   ]
  },
  {
   "cell_type": "code",
   "execution_count": 56,
   "id": "ee56bc00",
   "metadata": {},
   "outputs": [],
   "source": [
    "eval_set = []\n",
    "\n",
    "for log_file in LOG_DIR.glob(\"*.json\"):\n",
    "    if \"faq_agent_v2\" not in log_file.name:\n",
    "        continue\n",
    "\n",
    "    log_record = load_log_file(log_file)\n",
    "    if log_record[\"source\"] != \"ai-generated\":\n",
    "        continue\n",
    "\n",
    "    eval_set.append(log_record)"
   ]
  },
  {
   "cell_type": "code",
   "execution_count": 58,
   "id": "e6a027a1",
   "metadata": {},
   "outputs": [
    {
     "data": {
      "application/vnd.jupyter.widget-view+json": {
       "model_id": "75740a3e8d4944178765a4624d4858ef",
       "version_major": 2,
       "version_minor": 0
      },
      "text/plain": [
       "  0%|          | 0/7 [00:00<?, ?it/s]"
      ]
     },
     "metadata": {},
     "output_type": "display_data"
    },
    {
     "name": "stderr",
     "output_type": "stream",
     "text": [
      "INFO:google_genai.models:AFC is enabled with max remote calls: 10.\n",
      "INFO:httpx:HTTP Request: POST https://generativelanguage.googleapis.com/v1beta/models/gemini-2.5-flash-lite:generateContent \"HTTP/1.1 200 OK\"\n",
      "INFO:google_genai.models:AFC is enabled with max remote calls: 10.\n",
      "INFO:httpx:HTTP Request: POST https://generativelanguage.googleapis.com/v1beta/models/gemini-2.5-flash-lite:generateContent \"HTTP/1.1 200 OK\"\n",
      "INFO:google_genai.models:AFC is enabled with max remote calls: 10.\n",
      "INFO:httpx:HTTP Request: POST https://generativelanguage.googleapis.com/v1beta/models/gemini-2.5-flash-lite:generateContent \"HTTP/1.1 200 OK\"\n",
      "INFO:google_genai.models:AFC is enabled with max remote calls: 10.\n",
      "INFO:httpx:HTTP Request: POST https://generativelanguage.googleapis.com/v1beta/models/gemini-2.5-flash-lite:generateContent \"HTTP/1.1 200 OK\"\n",
      "INFO:google_genai.models:AFC is enabled with max remote calls: 10.\n",
      "INFO:httpx:HTTP Request: POST https://generativelanguage.googleapis.com/v1beta/models/gemini-2.5-flash-lite:generateContent \"HTTP/1.1 200 OK\"\n",
      "INFO:google_genai.models:AFC is enabled with max remote calls: 10.\n",
      "INFO:httpx:HTTP Request: POST https://generativelanguage.googleapis.com/v1beta/models/gemini-2.5-flash-lite:generateContent \"HTTP/1.1 200 OK\"\n",
      "INFO:google_genai.models:AFC is enabled with max remote calls: 10.\n",
      "INFO:httpx:HTTP Request: POST https://generativelanguage.googleapis.com/v1beta/models/gemini-2.5-flash-lite:generateContent \"HTTP/1.1 200 OK\"\n"
     ]
    }
   ],
   "source": [
    "eval_results = []\n",
    "\n",
    "for log_record in tqdm(eval_set):\n",
    "    eval_result = await evaluate_log_record(eval_agent, log_record)\n",
    "    eval_results.append((log_record, eval_result))\n",
    "    time.sleep(10)"
   ]
  },
  {
   "cell_type": "code",
   "execution_count": 59,
   "id": "eeeeaba1",
   "metadata": {},
   "outputs": [],
   "source": [
    "# Convert data to be suitable to use Pandas\n",
    "\n",
    "rows = []\n",
    "\n",
    "for log_record, eval_result in eval_results:\n",
    "    messages = log_record[\"messages\"]\n",
    "\n",
    "    row = {\n",
    "        \"file\": log_record[\"log_file\"].name,\n",
    "        \"question\": messages[0][\"parts\"][0][\"content\"],\n",
    "        \"answer\": messages[-1][\"parts\"][0][\"content\"],\n",
    "    }\n",
    "\n",
    "    checks = {c.check_name: c.check_pass for c in eval_result.checklist}\n",
    "    row.update(checks)\n",
    "\n",
    "    rows.append(row)"
   ]
  },
  {
   "cell_type": "code",
   "execution_count": 60,
   "id": "eb03e937",
   "metadata": {},
   "outputs": [],
   "source": [
    "df_evals = pd.DataFrame(rows)"
   ]
  },
  {
   "cell_type": "code",
   "execution_count": 61,
   "id": "50ff0729",
   "metadata": {},
   "outputs": [
    {
     "data": {
      "text/plain": [
       "instructions_follow    1.0\n",
       "instructions_avoid     1.0\n",
       "answer_relevant        1.0\n",
       "answer_clear           1.0\n",
       "answer_citations       1.0\n",
       "completeness           1.0\n",
       "tool_call_search       1.0\n",
       "dtype: float64"
      ]
     },
     "execution_count": 61,
     "metadata": {},
     "output_type": "execute_result"
    }
   ],
   "source": [
    "df_evals.mean(numeric_only=True)"
   ]
  },
  {
   "cell_type": "code",
   "execution_count": null,
   "id": "28eca9db",
   "metadata": {},
   "outputs": [],
   "source": []
  }
 ],
 "metadata": {
  "kernelspec": {
   "display_name": "ethereum-erc-rag",
   "language": "python",
   "name": "python3"
  },
  "language_info": {
   "codemirror_mode": {
    "name": "ipython",
    "version": 3
   },
   "file_extension": ".py",
   "mimetype": "text/x-python",
   "name": "python",
   "nbconvert_exporter": "python",
   "pygments_lexer": "ipython3",
   "version": "3.13.7"
  }
 },
 "nbformat": 4,
 "nbformat_minor": 5
}
