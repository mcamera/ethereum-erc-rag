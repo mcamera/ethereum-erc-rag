{
 "cells": [
  {
   "cell_type": "markdown",
   "id": "c98d8869",
   "metadata": {},
   "source": [
    "# Ethereum Request for Comments (ERCs) AI Agent"
   ]
  },
  {
   "cell_type": "markdown",
   "id": "25a76c10",
   "metadata": {},
   "source": [
    "## 1. Ingest and Index Documents"
   ]
  },
  {
   "cell_type": "code",
   "execution_count": 29,
   "id": "bccfa56e",
   "metadata": {},
   "outputs": [],
   "source": [
    "import io\n",
    "import logging\n",
    "import zipfile\n",
    "\n",
    "import frontmatter\n",
    "import requests\n",
    "\n",
    "logging.basicConfig(level=logging.INFO)\n",
    "logger = logging.getLogger(__name__)"
   ]
  },
  {
   "cell_type": "code",
   "execution_count": 31,
   "id": "44ff300a",
   "metadata": {},
   "outputs": [],
   "source": [
    "def read_repo_data(repo_owner, repo_name):\n",
    "    \"\"\"\n",
    "    Download and parse all markdown files from a GitHub repository.\n",
    "\n",
    "    Args:\n",
    "        repo_owner: GitHub username or organization\n",
    "        repo_name: Repository name\n",
    "\n",
    "    Returns:\n",
    "        List of dictionaries containing file content and metadata\n",
    "    \"\"\"\n",
    "    prefix = \"https://github.com\"\n",
    "    url = f\"{prefix}/{repo_owner}/{repo_name}/archive/refs/heads/master.zip\"\n",
    "    resp = requests.get(url)\n",
    "\n",
    "    if resp.status_code != 200:\n",
    "        raise Exception(f\"Failed to download repository: {resp.status_code}\")\n",
    "\n",
    "    repository_data = []\n",
    "    zf = zipfile.ZipFile(io.BytesIO(resp.content))\n",
    "\n",
    "    for file_info in zf.infolist():\n",
    "        filename = file_info.filename\n",
    "        filename_lower = filename.lower()\n",
    "\n",
    "        if not ((filename_lower.endswith(\".md\")) and (filename_lower.startswith(\"ercs-master/ercs\"))):\n",
    "            continue\n",
    "\n",
    "        try:\n",
    "            with zf.open(file_info) as f_in:\n",
    "                content = f_in.read().decode(\"utf-8\", errors=\"ignore\")\n",
    "                post = frontmatter.loads(content)\n",
    "                data = post.to_dict()\n",
    "                data[\"filename\"] = filename\n",
    "                repository_data.append(data)\n",
    "        except Exception as e:\n",
    "            logger.error(f\"Error processing {filename}: {e}\")\n",
    "            continue\n",
    "\n",
    "    zf.close()\n",
    "\n",
    "    return repository_data"
   ]
  },
  {
   "cell_type": "code",
   "execution_count": 32,
   "id": "eaba7796",
   "metadata": {},
   "outputs": [],
   "source": [
    "erc_data = read_repo_data(\"ethereum\", \"ERCs\")"
   ]
  },
  {
   "cell_type": "code",
   "execution_count": 33,
   "id": "363fbb37",
   "metadata": {},
   "outputs": [
    {
     "data": {
      "text/plain": [
       "540"
      ]
     },
     "execution_count": 33,
     "metadata": {},
     "output_type": "execute_result"
    }
   ],
   "source": [
    "len(erc_data)"
   ]
  },
  {
   "cell_type": "code",
   "execution_count": 36,
   "id": "63bd63dc",
   "metadata": {},
   "outputs": [
    {
     "data": {
      "text/plain": [
       "{'eip': 1,\n",
       " 'title': 'EIP Purpose and Guidelines',\n",
       " 'status': 'Living',\n",
       " 'type': 'Meta',\n",
       " 'author': 'Martin Becze <mb@ethereum.org>, Hudson Jameson <hudson@ethereum.org>, et al.',\n",
       " 'created': datetime.date(2015, 10, 27),\n",
       " 'content': '## What is an EIP?\\n\\nEIP stands for Ethereum Improvement Proposal. An EIP is a design document providing information to the Ethereum community, or describing a new feature for Ethereum or its processes or environment. The EIP should provide a concise technical specification of the feature and a rationale for the feature. The EIP author is responsible for building consensus within the community and documenting dissenting opinions.\\n\\n## EIP Rationale\\n\\nWe intend EIPs to be the primary mechanisms for proposing new features, for collecting community technical input on an issue, and for documenting the design decisions that have gone into Ethereum. Because the EIPs are maintained as text files in a versioned repository, their revision history is the historical record of the feature proposal.\\n\\nFor Ethereum implementers, EIPs are a convenient way to track the progress of their implementation. Ideally each implementation maintainer would list the EIPs that they have implemented. This will give end users a convenient way to know the current status of a given implementation or library.\\n\\n## EIP Types\\n\\nThere are three types of EIP:\\n\\n- A **Standards Track EIP** describes any change that affects most or all Ethereum implementations, such as—a change to the network protocol, a change in block or transaction validity rules, proposed application standards/conventions, or any change or addition that affects the interoperability of applications using Ethereum. Standards Track EIPs consist of three parts—a design document, an implementation, and (if warranted) an update to the [formal specification](https://github.com/ethereum/yellowpaper). Furthermore, Standards Track EIPs can be broken down into the following categories:\\n  - **Core**: improvements requiring a consensus fork (e.g. [EIP-5](./eip-5.md), [EIP-101](./eip-101.md)), as well as changes that are not necessarily consensus critical but may be relevant to [“core dev” discussions](https://github.com/ethereum/pm) (for example, [EIP-90], and the miner/node strategy changes 2, 3, and 4 of [EIP-86](./eip-86.md)).\\n  - **Networking**: includes improvements around [devp2p](https://github.com/ethereum/devp2p/blob/readme-spec-links/rlpx.md) ([EIP-8](./eip-8.md)) and [Light Ethereum Subprotocol](https://ethereum.org/en/developers/docs/nodes-and-clients/#light-node), as well as proposed improvements to network protocol specifications of [whisper](https://github.com/ethereum/go-ethereum/issues/16013#issuecomment-364639309) and [swarm](https://github.com/ethereum/go-ethereum/pull/2959).\\n  - **Interface**: includes improvements around language-level standards like method names ([EIP-6](./eip-6.md)) and [contract ABIs](https://docs.soliditylang.org/en/develop/abi-spec.html).\\n  - **ERC**: application-level standards and conventions, including contract standards such as token standards ([ERC-20](./eip-20.md)), name registries ([ERC-137](./eip-137.md)), URI schemes, library/package formats, and wallet formats.\\n\\n- A **Meta EIP** describes a process surrounding Ethereum or proposes a change to (or an event in) a process. Process EIPs are like Standards Track EIPs but apply to areas other than the Ethereum protocol itself. They may propose an implementation, but not to Ethereum\\'s codebase; they often require community consensus; unlike Informational EIPs, they are more than recommendations, and users are typically not free to ignore them. Examples include procedures, guidelines, changes to the decision-making process, and changes to the tools or environment used in Ethereum development. Any meta-EIP is also considered a Process EIP.\\n\\n- An **Informational EIP** describes an Ethereum design issue, or provides general guidelines or information to the Ethereum community, but does not propose a new feature. Informational EIPs do not necessarily represent Ethereum community consensus or a recommendation, so users and implementers are free to ignore Informational EIPs or follow their advice.\\n\\nIt is highly recommended that a single EIP contain a single key proposal or new idea. The more focused the EIP, the more successful it tends to be. A change to one client doesn\\'t require an EIP; a change that affects multiple clients, or defines a standard for multiple apps to use, does.\\n\\nAn EIP must meet certain minimum criteria. It must be a clear and complete description of the proposed enhancement. The enhancement must represent a net improvement. The proposed implementation, if applicable, must be solid and must not complicate the protocol unduly.\\n\\n### Special requirements for Core EIPs\\n\\nIf a **Core** EIP mentions or proposes changes to the EVM (Ethereum Virtual Machine), it should refer to the instructions by their mnemonics and define the opcodes of those mnemonics at least once. A preferred way is the following:\\n\\n```\\nREVERT (0xfe)\\n```\\n\\n## EIP Work Flow\\n\\n### Shepherding an EIP\\n\\nParties involved in the process are you, the champion or *EIP author*, the [*EIP editors*](#eip-editors), and the [*Ethereum Core Developers*](https://github.com/ethereum/pm).\\n\\nBefore you begin writing a formal EIP, you should vet your idea. Ask the Ethereum community first if an idea is original to avoid wasting time on something that will be rejected based on prior research. It is thus recommended to open a discussion thread on [the Ethereum Magicians forum](https://ethereum-magicians.org/) to do this.\\n\\nOnce the idea has been vetted, your next responsibility will be to present (by means of an EIP) the idea to the reviewers and all interested parties, invite editors, developers, and the community to give feedback on the aforementioned channels. You should try and gauge whether the interest in your EIP is commensurate with both the work involved in implementing it and how many parties will have to conform to it. For example, the work required for implementing a Core EIP will be much greater than for an ERC and the EIP will need sufficient interest from the Ethereum client teams. Negative community feedback will be taken into consideration and may prevent your EIP from moving past the Draft stage.\\n\\n### Core EIPs\\n\\nFor Core EIPs, given that they require client implementations to be considered **Final** (see \"EIPs Process\" below), you will need to either provide an implementation for clients or convince clients to implement your EIP.\\n\\nThe best way to get client implementers to review your EIP is to present it on an AllCoreDevs call. You can request to do so by posting a comment linking your EIP on an [AllCoreDevs agenda GitHub Issue](https://github.com/ethereum/pm/issues).  \\n\\nThe AllCoreDevs call serves as a way for client implementers to do three things. First, to discuss the technical merits of EIPs. Second, to gauge what other clients will be implementing. Third, to coordinate EIP implementation for network upgrades.\\n\\nThese calls generally result in a \"rough consensus\" around what EIPs should be implemented. This \"rough consensus\" rests on the assumptions that EIPs are not contentious enough to cause a network split and that they are technically sound.\\n\\n:warning: The EIPs process and AllCoreDevs call were not designed to address contentious non-technical issues, but, due to the lack of other ways to address these, often end up entangled in them. This puts the burden on client implementers to try and gauge community sentiment, which hinders the technical coordination function of EIPs and AllCoreDevs calls. If you are shepherding an EIP, you can make the process of building community consensus easier by making sure that [the Ethereum Magicians forum](https://ethereum-magicians.org/) thread for your EIP includes or links to as much of the community discussion as possible and that various stakeholders are well-represented.\\n\\n*In short, your role as the champion is to write the EIP using the style and format described below, shepherd the discussions in the appropriate forums, and build community consensus around the idea.*\\n\\n### EIP Process\\n\\nThe following is the standardization process for all EIPs in all tracks:\\n\\n![EIP Status Diagram](../assets/eip-1/EIP-process-update.jpg)\\n\\n**Idea** - An idea that is pre-draft. This is not tracked within the EIP Repository.\\n\\n**Draft** - The first formally tracked stage of an EIP in development. An EIP is merged by an EIP Editor into the EIP repository when properly formatted.\\n\\n**Review** - An EIP Author marks an EIP as ready for and requesting Peer Review.\\n\\n**Last Call** - This is the final review window for an EIP before moving to `Final`. An EIP editor will assign `Last Call` status and set a review end date (`last-call-deadline`), typically 14 days later.\\n\\nIf this period results in necessary normative changes it will revert the EIP to `Review`.\\n\\n**Final** - This EIP represents the final standard. A Final EIP exists in a state of finality and should only be updated to correct errata and add non-normative clarifications.\\n\\nA PR moving an EIP from Last Call to Final SHOULD contain no changes other than the status update. Any content or editorial proposed change SHOULD be separate from this status-updating PR and committed prior to it.\\n\\n**Stagnant** - Any EIP in `Draft` or `Review` or `Last Call` if inactive for a period of 6 months or greater is moved to `Stagnant`. An EIP may be resurrected from this state by Authors or EIP Editors through moving it back to `Draft` or its earlier status. If not resurrected, a proposal may stay forever in this status.\\n\\n>*EIP Authors are notified of any algorithmic change to the status of their EIP*\\n\\n**Withdrawn** - The EIP Author(s) have withdrawn the proposed EIP. This state has finality and can no longer be resurrected using this EIP number. If the idea is pursued at later date it is considered a new proposal.\\n\\n**Living** - A special status for EIPs that are designed to be continually updated and not reach a state of finality. This includes most notably EIP-1.\\n\\n## What belongs in a successful EIP?\\n\\nEach EIP should have the following parts:\\n\\n- Preamble - RFC 822 style headers containing metadata about the EIP, including the EIP number, a short descriptive title (limited to a maximum of 44 characters), a description (limited to a maximum of 140 characters), and the author details. Irrespective of the category, the title and description should not include EIP number. See [below](./eip-1.md#eip-header-preamble) for details.\\n- Abstract - Abstract is a multi-sentence (short paragraph) technical summary. This should be a very terse and human-readable version of the specification section. Someone should be able to read only the abstract to get the gist of what this specification does.\\n- Motivation *(optional)* - A motivation section is critical for EIPs that want to change the Ethereum protocol. It should clearly explain why the existing protocol specification is inadequate to address the problem that the EIP solves. This section may be omitted if the motivation is evident.\\n- Specification - The technical specification should describe the syntax and semantics of any new feature. The specification should be detailed enough to allow competing, interoperable implementations for any of the current Ethereum platforms (besu, erigon, ethereumjs, go-ethereum, nethermind, or others).\\n- Rationale - The rationale fleshes out the specification by describing what motivated the design and why particular design decisions were made. It should describe alternate designs that were considered and related work, e.g. how the feature is supported in other languages. The rationale should discuss important objections or concerns raised during discussion around the EIP.\\n- Backwards Compatibility *(optional)* - All EIPs that introduce backwards incompatibilities must include a section describing these incompatibilities and their consequences. The EIP must explain how the author proposes to deal with these incompatibilities. This section may be omitted if the proposal does not introduce any backwards incompatibilities, but this section must be included if backward incompatibilities exist.\\n- Test Cases *(optional)* - Test cases for an implementation are mandatory for EIPs that are affecting consensus changes. Tests should either be inlined in the EIP as data (such as input/expected output pairs) or included in `../assets/eip-###/<filename>`. This section may be omitted for non-Core proposals.\\n- Reference Implementation *(optional)* - An optional section that contains a reference/example implementation that people can use to assist in understanding or implementing this specification. This section may be omitted for all EIPs.\\n- Security Considerations - All EIPs must contain a section that discusses the security implications/considerations relevant to the proposed change. Include information that might be important for security discussions, surfaces risks and can be used throughout the life-cycle of the proposal. E.g. include security-relevant design decisions, concerns, important discussions, implementation-specific guidance and pitfalls, an outline of threats and risks and how they are being addressed. EIP submissions missing the \"Security Considerations\" section will be rejected. An EIP cannot proceed to status \"Final\" without a Security Considerations discussion deemed sufficient by the reviewers.\\n- Copyright Waiver - All EIPs must be in the public domain. The copyright waiver MUST link to the license file and use the following wording: `Copyright and related rights waived via [CC0](../LICENSE.md).`\\n\\n## EIP Formats and Templates\\n\\nEIPs should be written in [markdown](https://github.com/adam-p/markdown-here/wiki/Markdown-Cheatsheet) format. There is a [template](https://github.com/ethereum/EIPs/blob/master/eip-template.md) to follow.\\n\\n## EIP Header Preamble\\n\\nEach EIP must begin with an [RFC 822](https://www.ietf.org/rfc/rfc822.txt) style header preamble, preceded and followed by three hyphens (`---`). This header is also termed [\"front matter\" by Jekyll](https://jekyllrb.com/docs/front-matter/). The headers must appear in the following order.\\n\\n`eip`: *EIP number*\\n\\n`title`: *The EIP title is a few words, not a complete sentence*\\n\\n`description`: *Description is one full (short) sentence*\\n\\n`author`: *The list of the author\\'s or authors\\' name(s) and/or username(s), or name(s) and email(s). Details are below.*\\n\\n`discussions-to`: *The url pointing to the official discussion thread*\\n\\n`status`: *Draft, Review, Last Call, Final, Stagnant, Withdrawn, Living*\\n\\n`last-call-deadline`: *The date last call period ends on* (Optional field, only needed when status is `Last Call`)\\n\\n`type`: *One of `Standards Track`, `Meta`, or `Informational`*\\n\\n`category`: *One of `Core`, `Networking`, `Interface`, or `ERC`* (Optional field, only needed for `Standards Track` EIPs)\\n\\n`created`: *Date the EIP was created on*\\n\\n`requires`: *EIP number(s)* (Optional field)\\n\\n`withdrawal-reason`: *A sentence explaining why the EIP was withdrawn.* (Optional field, only needed when status is `Withdrawn`)\\n\\nHeaders that permit lists must separate elements with commas.\\n\\nHeaders requiring dates will always do so in the format of ISO 8601 (yyyy-mm-dd).\\n\\n### `author` header\\n\\nThe `author` header lists the names, email addresses or usernames of the authors/owners of the EIP. Those who prefer anonymity may use a username only, or a first name and a username. The format of the `author` header value must be:\\n\\n> Random J. User &lt;address@dom.ain&gt;\\n\\nor\\n\\n> Random J. User (@username)\\n\\nor\\n\\n> Random J. User (@username) &lt;address@dom.ain&gt;\\n\\nif the email address and/or GitHub username is included, and\\n\\n> Random J. User\\n\\nif neither the email address nor the GitHub username are given.\\n\\nAt least one author must use a GitHub username, in order to get notified on change requests and have the capability to approve or reject them.\\n\\n### `discussions-to` header\\n\\nWhile an EIP is a draft, a `discussions-to` header will indicate the URL where the EIP is being discussed.\\n\\nThe preferred discussion URL is a topic on [Ethereum Magicians](https://ethereum-magicians.org/). The URL cannot point to Github pull requests, any URL which is ephemeral, and any URL which can get locked over time (i.e. Reddit topics).\\n\\n### `type` header\\n\\nThe `type` header specifies the type of EIP: Standards Track, Meta, or Informational. If the track is Standards please include the subcategory (core, networking, interface, or ERC).\\n\\n### `category` header\\n\\nThe `category` header specifies the EIP\\'s category. This is required for standards-track EIPs only.\\n\\n### `created` header\\n\\nThe `created` header records the date that the EIP was assigned a number. Both headers should be in yyyy-mm-dd format, e.g. 2001-08-14.\\n\\n### `requires` header\\n\\nEIPs may have a `requires` header, indicating the EIP numbers that this EIP depends on. If such a dependency exists, this field is required.\\n\\nA `requires` dependency is created when the current EIP cannot be understood or implemented without a concept or technical element from another EIP. Merely mentioning another EIP does not necessarily create such a dependency.\\n\\n## Linking to External Resources\\n\\nOther than the specific exceptions listed below, links to external resources **SHOULD NOT** be included. External resources may disappear, move, or change unexpectedly.\\n\\nThe process governing permitted external resources is described in [EIP-5757](./eip-5757.md).\\n\\n### Execution Client Specifications\\n\\nLinks to the Ethereum Execution Client Specifications may be included using normal markdown syntax, such as:\\n\\n```markdown\\n[Ethereum Execution Client Specifications](https://github.com/ethereum/execution-specs/blob/9a1f22311f517401fed6c939a159b55600c454af/README.md)\\n```\\n\\nWhich renders to:\\n\\n[Ethereum Execution Client Specifications](https://github.com/ethereum/execution-specs/blob/9a1f22311f517401fed6c939a159b55600c454af/README.md)\\n\\nPermitted Execution Client Specifications URLs must anchor to a specific commit, and so must match this regular expression:\\n\\n```regex\\n^(https://github.com/ethereum/execution-specs/(blob|commit)/[0-9a-f]{40}/.*|https://github.com/ethereum/execution-specs/tree/[0-9a-f]{40}/.*)$\\n```\\n\\n### Execution Specification Tests\\n\\nLinks to the Ethereum Execution Specification Tests (EEST) may be included using normal markdown syntax, such as:\\n\\n```markdown\\n[Ethereum Execution Specification Tests](https://github.com/ethereum/execution-spec-tests/blob/c9b9307ff320c9bb0ecb9a951aeab0da4d9d1684/README.md)\\n```\\n\\nWhich renders to:\\n\\n[Ethereum Execution Specification Tests](https://github.com/ethereum/execution-spec-tests/blob/c9b9307ff320c9bb0ecb9a951aeab0da4d9d1684/README.md)\\n\\nPermitted Execution Specification Tests URLs must anchor to a specific commit, and so must match one of these regular expressions:\\n\\n```regex\\n^https://(www\\\\.)?github\\\\.com/ethereum/execution-spec-tests/(blob|tree)/[a-f0-9]{40}/.+$\\n```\\n\\n```regex\\n^https://(www\\\\.)?github\\\\.com/ethereum/execution-spec-tests/commit/[a-f0-9]{40}$\\n```\\n\\n### Consensus Layer Specifications\\n\\nLinks to specific commits of files within the Ethereum Consensus Layer Specifications may be included using normal markdown syntax, such as:\\n\\n```markdown\\n[Beacon Chain](https://github.com/ethereum/consensus-specs/blob/26695a9fdb747ecbe4f0bb9812fedbc402e5e18c/specs/sharding/beacon-chain.md)\\n```\\n\\nWhich renders to:\\n\\n[Beacon Chain](https://github.com/ethereum/consensus-specs/blob/26695a9fdb747ecbe4f0bb9812fedbc402e5e18c/specs/sharding/beacon-chain.md)\\n\\nPermitted Consensus Layer Specifications URLs must anchor to a specific commit, and so must match this regular expression:\\n\\n```regex\\n^https://github.com/ethereum/consensus-specs/(blob|commit)/[0-9a-f]{40}/.*$\\n```\\n\\n### Networking Specifications\\n\\nLinks to specific commits of files within the Ethereum Networking Specifications may be included using normal markdown syntax, such as:\\n\\n```markdown\\n[Ethereum Wire Protocol](https://github.com/ethereum/devp2p/blob/40ab248bf7e017e83cc9812a4e048446709623e8/caps/eth.md)\\n```\\n\\nWhich renders as:\\n\\n[Ethereum Wire Protocol](https://github.com/ethereum/devp2p/blob/40ab248bf7e017e83cc9812a4e048446709623e8/caps/eth.md)\\n\\nPermitted Networking Specifications URLs must anchor to a specific commit, and so must match this regular expression:\\n\\n```regex\\n^https://github.com/ethereum/devp2p/(blob|commit)/[0-9a-f]{40}/.*$\\n```\\n\\n### Portal Specifications\\n\\nLinks to specific commits of files within the Ethereum Portal Specifications may be included using normal markdown syntax, such as:\\n\\n```markdown\\n[Portal Wire Protocol](https://github.com/ethereum/portal-network-specs/blob/5e321567b67bded7527355be714993c24371de1a/portal-wire-protocol.md)\\n```\\n\\nWhich renders as:\\n\\n[Portal Wire Protocol](https://github.com/ethereum/portal-network-specs/blob/5e321567b67bded7527355be714993c24371de1a/portal-wire-protocol.md)\\n\\nPermitted Networking Specifications URLs must anchor to a specific commit, and so must match this regular expression:\\n\\n```regex\\n^https://github.com/ethereum/portal-network-specs/(blob|commit)/[0-9a-f]{40}/.*$\\n```\\n\\n### World Wide Web Consortium (W3C)\\n\\nLinks to a W3C \"Recommendation\" status specification may be included using normal markdown syntax. For example, the following link would be allowed:\\n\\n```markdown\\n[Secure Contexts](https://www.w3.org/TR/2021/CRD-secure-contexts-20210918/)\\n```\\n\\nWhich renders as:\\n\\n[Secure Contexts](https://www.w3.org/TR/2021/CRD-secure-contexts-20210918/)\\n\\nPermitted W3C recommendation URLs MUST anchor to a specification in the technical reports namespace with a date, and so MUST match this regular expression:\\n\\n```regex\\n^https://www\\\\.w3\\\\.org/TR/[0-9][0-9][0-9][0-9]/.*$\\n```\\n\\n### Web Hypertext Application Technology Working Group (WHATWG)\\n\\nLinks to WHATWG specifications may be included using normal markdown syntax, such as:\\n\\n```markdown\\n[HTML](https://html.spec.whatwg.org/commit-snapshots/578def68a9735a1e36610a6789245ddfc13d24e0/)\\n```\\n\\nWhich renders as:\\n\\n[HTML](https://html.spec.whatwg.org/commit-snapshots/578def68a9735a1e36610a6789245ddfc13d24e0/)\\n\\nPermitted WHATWG specification URLs must anchor to a specification defined in the `spec` subdomain (idea specifications are not allowed) and to a commit snapshot, and so must match this regular expression:\\n\\n```regex\\n^https:\\\\/\\\\/[a-z]*\\\\.spec\\\\.whatwg\\\\.org/commit-snapshots/[0-9a-f]{40}/$\\n```\\n\\nAlthough not recommended by WHATWG, EIPs must anchor to a particular commit so that future readers can refer to the exact version of the living standard that existed at the time the EIP was finalized. This gives readers sufficient information to maintain compatibility, if they so choose, with the version referenced by the EIP and the current living standard.\\n\\n### Internet Engineering Task Force (IETF)\\n\\nLinks to an IETF Request For Comment (RFC) specification may be included using normal markdown syntax, such as:\\n\\n```markdown\\n[RFC 8446](https://www.rfc-editor.org/rfc/rfc8446)\\n```\\n\\nWhich renders as:\\n\\n[RFC 8446](https://www.rfc-editor.org/rfc/rfc8446)\\n\\nPermitted IETF specification URLs MUST anchor to a specification with an assigned RFC number (meaning cannot reference internet drafts), and so MUST match this regular expression:\\n\\n```regex\\n^https:\\\\/\\\\/www.rfc-editor.org\\\\/rfc\\\\/.*$\\n```\\n\\n### Bitcoin Improvement Proposal\\n\\nLinks to Bitcoin Improvement Proposals may be included using normal markdown syntax, such as:\\n\\n```markdown\\n[BIP 38](https://github.com/bitcoin/bips/blob/3db736243cd01389a4dfd98738204df1856dc5b9/bip-0038.mediawiki)\\n```\\n\\nWhich renders to:\\n\\n[BIP 38](https://github.com/bitcoin/bips/blob/3db736243cd01389a4dfd98738204df1856dc5b9/bip-0038.mediawiki)\\n\\nPermitted Bitcoin Improvement Proposal URLs must anchor to a specific commit, and so must match this regular expression:\\n\\n```regex\\n^(https://github.com/bitcoin/bips/blob/[0-9a-f]{40}/bip-[0-9]+\\\\.mediawiki)$\\n```\\n\\n### National Vulnerability Database (NVD)\\n\\nLinks to the Common Vulnerabilities and Exposures (CVE) system as published by the National Institute of Standards and Technology (NIST) may be included, provided they are qualified by the date of the most recent change, using the following syntax:\\n\\n```markdown\\n[CVE-2023-29638 (2023-10-17T10:14:15)](https://nvd.nist.gov/vuln/detail/CVE-2023-29638)\\n```\\n\\nWhich renders to:\\n\\n[CVE-2023-29638 (2023-10-17T10:14:15)](https://nvd.nist.gov/vuln/detail/CVE-2023-29638)\\n\\n### Chain Agnostic Improvement Proposals (CAIPs)\\n\\nLinks to a Chain Agnostic Improvement Proposals (CAIPs) specification may be included using normal markdown syntax, such as:\\n\\n```markdown\\n[CAIP 10](https://github.com/ChainAgnostic/CAIPs/blob/5dd3a2f541d399a82bb32590b52ca4340b09f08b/CAIPs/caip-10.md)\\n```\\n\\nWhich renders to:\\n\\n[CAIP 10](https://github.com/ChainAgnostic/CAIPs/blob/5dd3a2f541d399a82bb32590b52ca4340b09f08b/CAIPs/caip-10.md)\\n\\nPermitted Chain Agnostic URLs must anchor to a specific commit, and so must match this regular expression:\\n\\n```regex\\n^(https://github.com/ChainAgnostic/CAIPs/blob/[0-9a-f]{40}/CAIPs/caip-[0-9]+\\\\.md)$\\n```\\n\\n### Ethereum Yellow Paper\\n\\nLinks to the Ethereum Yellow Paper may be included using normal markdown syntax, such as:\\n\\n```markdown\\n[Ethereum Yellow Paper](https://github.com/ethereum/yellowpaper/blob/9c601d6a58c44928d4f2b837c0350cec9d9259ed/paper.pdf)\\n```\\n\\nWhich renders to:\\n\\n[Ethereum Yellow Paper](https://github.com/ethereum/yellowpaper/blob/9c601d6a58c44928d4f2b837c0350cec9d9259ed/paper.pdf)\\n\\nPermitted Yellow Paper URLs must anchor to a specific commit, and so must match this regular expression:\\n\\n```regex\\n^(https://github\\\\.com/ethereum/yellowpaper/blob/[0-9a-f]{40}/paper\\\\.pdf)$\\n```\\n\\n### Execution Client Specification Tests\\n\\nLinks to the Ethereum Execution Client Specification Tests may be included using normal markdown syntax, such as:\\n\\n```markdown\\n[Ethereum Execution Client Specification Tests](https://github.com/ethereum/execution-spec-tests/blob/d5a3188f122912e137aa2e21ed2a1403e806e424/README.md)\\n```\\n\\nWhich renders to:\\n\\n[Ethereum Execution Client Specification Tests](https://github.com/ethereum/execution-spec-tests/blob/d5a3188f122912e137aa2e21ed2a1403e806e424/README.md)\\n\\nPermitted Execution Client Specification Tests URLs must anchor to a specific commit, and so must match this regular expression:\\n\\n```regex\\n^(https://github.com/ethereum/execution-spec-tests/(blob|commit)/[0-9a-f]{40}/.*|https://github.com/ethereum/execution-spec-tests/tree/[0-9a-f]{40}/.*)$\\n```\\n\\n### Digital Object Identifier System\\n\\nLinks qualified with a Digital Object Identifier (DOI) may be included using the following syntax:\\n\\n````markdown\\nThis is a sentence with a footnote.[^1]\\n\\n[^1]:\\n    ```csl-json\\n    {\\n      \"type\": \"article\",\\n      \"id\": 1,\\n      \"author\": [\\n        {\\n          \"family\": \"Jameson\",\\n          \"given\": \"Hudson\"\\n        }\\n      ],\\n      \"DOI\": \"00.0000/a00000-000-0000-y\",\\n      \"title\": \"An Interesting Article\",\\n      \"original-date\": {\\n        \"date-parts\": [\\n          [2022, 12, 31]\\n        ]\\n      },\\n      \"URL\": \"https://sly-hub.invalid/00.0000/a00000-000-0000-y\",\\n      \"custom\": {\\n        \"additional-urls\": [\\n          \"https://example.com/an-interesting-article.pdf\"\\n        ]\\n      }\\n    }\\n    ```\\n````\\n\\nWhich renders to:\\n\\n<!-- markdownlint-capture -->\\n<!-- markdownlint-disable code-block-style -->\\n\\nThis is a sentence with a footnote.[^1]\\n\\n[^1]:\\n    ```csl-json\\n    {\\n      \"type\": \"article\",\\n      \"id\": 1,\\n      \"author\": [\\n        {\\n          \"family\": \"Jameson\",\\n          \"given\": \"Hudson\"\\n        }\\n      ],\\n      \"DOI\": \"00.0000/a00000-000-0000-y\",\\n      \"title\": \"An Interesting Article\",\\n      \"original-date\": {\\n        \"date-parts\": [\\n          [2022, 12, 31]\\n        ]\\n      },\\n      \"URL\": \"https://sly-hub.invalid/00.0000/a00000-000-0000-y\",\\n      \"custom\": {\\n        \"additional-urls\": [\\n          \"https://example.com/an-interesting-article.pdf\"\\n        ]\\n      }\\n    }\\n    ```\\n\\n<!-- markdownlint-restore -->\\n\\nSee the [Citation Style Language Schema](https://resource.citationstyles.org/schema/v1.0/input/json/csl-data.json) for the supported fields. In addition to passing validation against that schema, references must include a DOI and at least one URL.\\n\\nThe top-level URL field must resolve to a copy of the referenced document which can be viewed at zero cost. Values under `additional-urls` must also resolve to a copy of the referenced document, but may charge a fee.\\n\\n### Execution API Specification\\n\\nLinks to the Ethereum Execution API Specification may be included using normal markdown syntax, such as:\\n\\n```markdown\\n[Ethereum Execution API Specification](https://github.com/ethereum/execution-apis/blob/dd00287101e368752ba264950585dde4b61cdc17/README.md)\\n```\\n\\nWhich renders to:\\n\\n[Ethereum Execution API Specification](https://github.com/ethereum/execution-apis/blob/dd00287101e368752ba264950585dde4b61cdc17/README.md)\\n\\nPermitted Execution API Specification URLs must anchor to a specific commit, and so must match this regular expression:\\n\\n```regex\\n^(https://github.com/ethereum/execution-apis/(blob|commit)/[0-9a-f]{40}/.*|https://github.com/ethereum/execution-apis/tree/[0-9a-f]{40}/.*)$\\n```\\n\\n## Linking to other EIPs\\n\\nReferences to other EIPs should follow the format `EIP-N` where `N` is the EIP number you are referring to.  Each EIP that is referenced in an EIP **MUST** be accompanied by a relative markdown link the first time it is referenced, and **MAY** be accompanied by a link on subsequent references.  The link **MUST** always be done via relative paths so that the links work in this GitHub repository, forks of this repository, the main EIPs site, mirrors of the main EIP site, etc.  For example, you would link to this EIP as `./eip-1.md`.\\n\\n## Auxiliary Files\\n\\nImages, diagrams and auxiliary files should be included in a subdirectory of the `assets` folder for that EIP as follows: `assets/eip-N` (where **N** is to be replaced with the EIP number). When linking to an image in the EIP, use relative links such as `../assets/eip-1/image.png`.\\n\\n## Transferring EIP Ownership\\n\\nIt occasionally becomes necessary to transfer ownership of EIPs to a new champion. In general, we\\'d like to retain the original author as a co-author of the transferred EIP, but that\\'s really up to the original author. A good reason to transfer ownership is because the original author no longer has the time or interest in updating it or following through with the EIP process, or has fallen off the face of the \\'net (i.e. is unreachable or isn\\'t responding to email). A bad reason to transfer ownership is because you don\\'t agree with the direction of the EIP. We try to build consensus around an EIP, but if that\\'s not possible, you can always submit a competing EIP.\\n\\nIf you are interested in assuming ownership of an EIP, send a message asking to take over, addressed to both the original author and the EIP editor. If the original author doesn\\'t respond to the email in a timely manner, the EIP editor will make a unilateral decision (it\\'s not like such decisions can\\'t be reversed :)).\\n\\n## EIP Editors\\n\\nThe current EIP editors are\\n\\n- Matt Garnett (@lightclient)\\n- Sam Wilson (@SamWilsn)\\n- Zainan Victor Zhou (@xinbenlv)\\n- Gajinder Singh (@g11tech)\\n\\nEmeritus EIP editors are\\n\\n- Alex Beregszaszi (@axic)\\n- Casey Detrio (@cdetrio)\\n- Gavin John (@Pandapip1)\\n- Greg Colvin (@gcolvin)\\n- Hudson Jameson (@Souptacular)\\n- Martin Becze (@wanderer)\\n- Micah Zoltu (@MicahZoltu)\\n- Nick Johnson (@arachnid)\\n- Nick Savers (@nicksavers)\\n- Vitalik Buterin (@vbuterin)\\n\\nIf you would like to become an EIP editor, please check [EIP-5069](./eip-5069.md).\\n\\n## EIP Editor Responsibilities\\n\\nFor each new EIP that comes in, an editor does the following:\\n\\n- Read the EIP to check if it is ready: sound and complete. The ideas must make technical sense, even if they don\\'t seem likely to get to final status.\\n- The title should accurately describe the content.\\n- Check the EIP for language (spelling, grammar, sentence structure, etc.), markup (GitHub flavored Markdown), code style\\n\\nIf the EIP isn\\'t ready, the editor will send it back to the author for revision, with specific instructions.\\n\\nOnce the EIP is ready for the repository, the EIP editor will:\\n\\n- Assign an EIP number (generally incremental; editors can reassign if number sniping is suspected)\\n- Merge the corresponding [pull request](https://github.com/ethereum/EIPs/pulls)\\n- Send a message back to the EIP author with the next step.\\n\\nMany EIPs are written and maintained by developers with write access to the Ethereum codebase. The EIP editors monitor EIP changes, and correct any structure, grammar, spelling, or markup mistakes we see.\\n\\nThe editors don\\'t pass judgment on EIPs. We merely do the administrative & editorial part.\\n\\n## Style Guide\\n\\n### Titles\\n\\nThe `title` field in the preamble:\\n\\n- Should not include the word \"standard\" or any variation thereof; and\\n- Should not include the EIP\\'s number.\\n\\n### Descriptions\\n\\nThe `description` field in the preamble:\\n\\n- Should not include the word \"standard\" or any variation thereof; and\\n- Should not include the EIP\\'s number.\\n\\n### EIP numbers\\n\\nWhen referring to an EIP with a `category` of `ERC`, it must be written in the hyphenated form `ERC-X` where `X` is that EIP\\'s assigned number. When referring to EIPs with any other `category`, it must be written in the hyphenated form `EIP-X` where `X` is that EIP\\'s assigned number.\\n\\n### RFC 2119 and RFC 8174\\n\\nEIPs are encouraged to follow [RFC 2119](https://www.ietf.org/rfc/rfc2119.html) and [RFC 8174](https://www.ietf.org/rfc/rfc8174.html) for terminology and to insert the following at the beginning of the Specification section:\\n\\n> The key words \"MUST\", \"MUST NOT\", \"REQUIRED\", \"SHALL\", \"SHALL NOT\", \"SHOULD\", \"SHOULD NOT\", \"RECOMMENDED\", \"NOT RECOMMENDED\", \"MAY\", and \"OPTIONAL\" in this document are to be interpreted as described in RFC 2119 and RFC 8174.\\n\\n## History\\n\\nThis document was derived heavily from [Bitcoin\\'s BIP-0001](https://github.com/bitcoin/bips) written by Amir Taaki which in turn was derived from [Python\\'s PEP-0001](https://peps.python.org/). In many places text was simply copied and modified. Although the PEP-0001 text was written by Barry Warsaw, Jeremy Hylton, and David Goodger, they are not responsible for its use in the Ethereum Improvement Process, and should not be bothered with technical questions specific to Ethereum or the EIP. Please direct all comments to the EIP editors.\\n\\n## Copyright\\n\\nCopyright and related rights waived via [CC0](../LICENSE.md).',\n",
       " 'filename': 'ERCs-master/ERCS/eip-1.md'}"
      ]
     },
     "execution_count": 36,
     "metadata": {},
     "output_type": "execute_result"
    }
   ],
   "source": [
    "erc_data[0]"
   ]
  },
  {
   "cell_type": "code",
   "execution_count": 69,
   "id": "f0d27bd5",
   "metadata": {},
   "outputs": [
    {
     "data": {
      "text/plain": [
       "{'eip': 1387,\n",
       " 'title': 'Merkle Tree Attestations with Privacy enabled',\n",
       " 'author': 'Weiwu Zhang <a@colourful.land>, James Sangalli <j.l.sangalli@gmail.com>',\n",
       " 'discussions-to': 'https://github.com/ethereum/EIPs/issues/1387',\n",
       " 'status': 'Stagnant',\n",
       " 'type': 'Standards Track',\n",
       " 'category': 'ERC',\n",
       " 'created': datetime.date(2018, 9, 8),\n",
       " 'content': '### Introduction\\n\\nIt\\'s often needed that an Ethereum smart contract must verify a claim (I live in Australia) attested by a valid attester.\\n\\nFor example, an ICO contract might require that the participant, Alice, lives in Australia before she participates. Alice\\'s claim of residency could come from a local Justice of the Peace who could attest that \"Alice is a resident of Australia in NSW\".\\n\\nUnlike previous attempts, we assume that the attestation is signed and issued off the blockchain in a Merkle Tree format. Only a part of the Merkle tree is revealed by Alice at each use. Therefore we avoid the privacy problem often associated with issuing attestations on chain. We also assume that Alice has multiple signed Merkle Trees for the same factual claim to avoid her transactions being linkable.\\n\\n## Purpose\\nThis ERC provides an interface and reference implementation for smart contracts that need users to provide an attestation and validate it.\\n\\n### Draft implementation\\n```solidity\\ncontract MerkleTreeAttestationInterface {\\n    struct Attestation\\n    {\\n        bytes32[] merklePath;\\n        bool valid;\\n        uint8 v;\\n        bytes32 r;\\n        bytes32 s;\\n        address attester;\\n        address recipient;\\n        bytes32 salt;\\n        bytes32 key;\\n        bytes32 val;\\n    }\\n\\n    function validate(Attestation attestation) public returns(bool);\\n}\\n\\n```\\n### Relevant implementation examples\\n[Here](https://github.com/alpha-wallet/blockchain-attestation/blob/master/ethereum/lib/MerkleTreeAttestation.sol) is an example implementation of the MerkleTreeAttestationInterface\\n[Here](https://github.com/alpha-wallet/blockchain-attestation/blob/master/ethereum/example-james-squire/james-squire.sol) is an example service which would use such a merkle tree attestation\\n\\n### Related ERC\\'s\\n#1388 #1386',\n",
       " 'filename': 'ERCs-master/ERCS/erc-1387.md'}"
      ]
     },
     "execution_count": 69,
     "metadata": {},
     "output_type": "execute_result"
    }
   ],
   "source": [
    "erc_data[30]"
   ]
  },
  {
   "cell_type": "code",
   "execution_count": 70,
   "id": "163d5745",
   "metadata": {},
   "outputs": [
    {
     "name": "stdout",
     "output_type": "stream",
     "text": [
      "ERCs-master/ERCS/eip-1.md\n",
      "ERCs-master/ERCS/erc-1046.md\n",
      "ERCs-master/ERCS/erc-1056.md\n",
      "ERCs-master/ERCS/erc-1062.md\n",
      "ERCs-master/ERCS/erc-1066.md\n",
      "ERCs-master/ERCS/erc-1077.md\n",
      "ERCs-master/ERCS/erc-1078.md\n",
      "ERCs-master/ERCS/erc-1080.md\n",
      "ERCs-master/ERCS/erc-1081.md\n",
      "ERCs-master/ERCS/erc-1123.md\n",
      "ERCs-master/ERCS/erc-1129.md\n",
      "ERCs-master/ERCS/erc-1132.md\n",
      "ERCs-master/ERCS/erc-1154.md\n",
      "ERCs-master/ERCS/erc-1155.md\n",
      "ERCs-master/ERCS/erc-1167.md\n",
      "ERCs-master/ERCS/erc-1175.md\n",
      "ERCs-master/ERCS/erc-1178.md\n",
      "ERCs-master/ERCS/erc-1185.md\n",
      "ERCs-master/ERCS/erc-1191.md\n",
      "ERCs-master/ERCS/erc-1202.md\n",
      "ERCs-master/ERCS/erc-1203.md\n",
      "ERCs-master/ERCS/erc-1207.md\n",
      "ERCs-master/ERCS/erc-1261.md\n",
      "ERCs-master/ERCS/erc-1271.md\n",
      "ERCs-master/ERCS/erc-1319.md\n",
      "ERCs-master/ERCS/erc-1328.md\n",
      "ERCs-master/ERCS/erc-1337.md\n",
      "ERCs-master/ERCS/erc-1363.md\n",
      "ERCs-master/ERCS/erc-137.md\n",
      "ERCs-master/ERCS/erc-1386.md\n",
      "ERCs-master/ERCS/erc-1387.md\n",
      "ERCs-master/ERCS/erc-1388.md\n",
      "ERCs-master/ERCS/erc-1417.md\n",
      "ERCs-master/ERCS/erc-1438.md\n",
      "ERCs-master/ERCS/erc-1444.md\n",
      "ERCs-master/ERCS/erc-1450.md\n",
      "ERCs-master/ERCS/erc-1462.md\n",
      "ERCs-master/ERCS/erc-1484.md\n",
      "ERCs-master/ERCS/erc-1491.md\n",
      "ERCs-master/ERCS/erc-1504.md\n",
      "ERCs-master/ERCS/erc-1523.md\n",
      "ERCs-master/ERCS/erc-1538.md\n",
      "ERCs-master/ERCS/erc-1577.md\n",
      "ERCs-master/ERCS/erc-1581.md\n",
      "ERCs-master/ERCS/erc-1592.md\n",
      "ERCs-master/ERCS/erc-1613.md\n",
      "ERCs-master/ERCS/erc-1616.md\n",
      "ERCs-master/ERCS/erc-162.md\n",
      "ERCs-master/ERCS/erc-1620.md\n",
      "ERCs-master/ERCS/erc-1633.md\n",
      "ERCs-master/ERCS/erc-165.md\n",
      "ERCs-master/ERCS/erc-1710.md\n",
      "ERCs-master/ERCS/erc-173.md\n",
      "ERCs-master/ERCS/erc-1753.md\n",
      "ERCs-master/ERCS/erc-1761.md\n",
      "ERCs-master/ERCS/erc-1775.md\n",
      "ERCs-master/ERCS/erc-181.md\n",
      "ERCs-master/ERCS/erc-1812.md\n",
      "ERCs-master/ERCS/erc-1820.md\n",
      "ERCs-master/ERCS/erc-1822.md\n",
      "ERCs-master/ERCS/erc-1844.md\n",
      "ERCs-master/ERCS/erc-190.md\n",
      "ERCs-master/ERCS/erc-1900.md\n",
      "ERCs-master/ERCS/erc-191.md\n",
      "ERCs-master/ERCS/erc-1921.md\n",
      "ERCs-master/ERCS/erc-1922.md\n",
      "ERCs-master/ERCS/erc-1923.md\n",
      "ERCs-master/ERCS/erc-1948.md\n",
      "ERCs-master/ERCS/erc-1967.md\n",
      "ERCs-master/ERCS/erc-1973.md\n",
      "ERCs-master/ERCS/erc-1996.md\n",
      "ERCs-master/ERCS/erc-20.md\n",
      "ERCs-master/ERCS/erc-2009.md\n",
      "ERCs-master/ERCS/erc-2018.md\n",
      "ERCs-master/ERCS/erc-2019.md\n",
      "ERCs-master/ERCS/erc-2020.md\n",
      "ERCs-master/ERCS/erc-2021.md\n",
      "ERCs-master/ERCS/erc-205.md\n",
      "ERCs-master/ERCS/erc-2098.md\n",
      "ERCs-master/ERCS/erc-2135.md\n",
      "ERCs-master/ERCS/erc-2157.md\n",
      "ERCs-master/ERCS/erc-2193.md\n",
      "ERCs-master/ERCS/erc-223.md\n",
      "ERCs-master/ERCS/erc-2266.md\n",
      "ERCs-master/ERCS/erc-2304.md\n",
      "ERCs-master/ERCS/erc-2309.md\n",
      "ERCs-master/ERCS/erc-2333.md\n",
      "ERCs-master/ERCS/erc-2334.md\n",
      "ERCs-master/ERCS/erc-2335.md\n",
      "ERCs-master/ERCS/erc-2386.md\n",
      "ERCs-master/ERCS/erc-2390.md\n",
      "ERCs-master/ERCS/erc-2400.md\n",
      "ERCs-master/ERCS/erc-2470.md\n",
      "ERCs-master/ERCS/erc-2477.md\n",
      "ERCs-master/ERCS/erc-2494.md\n",
      "ERCs-master/ERCS/erc-2520.md\n",
      "ERCs-master/ERCS/erc-2525.md\n",
      "ERCs-master/ERCS/erc-2535.md\n",
      "ERCs-master/ERCS/erc-2544.md\n",
      "ERCs-master/ERCS/erc-2569.md\n",
      "ERCs-master/ERCS/erc-2612.md\n",
      "ERCs-master/ERCS/erc-2615.md\n",
      "ERCs-master/ERCS/erc-2645.md\n",
      "ERCs-master/ERCS/erc-2678.md\n",
      "ERCs-master/ERCS/erc-2680.md\n",
      "ERCs-master/ERCS/erc-2746.md\n",
      "ERCs-master/ERCS/erc-2767.md\n",
      "ERCs-master/ERCS/erc-2770.md\n",
      "ERCs-master/ERCS/erc-2771.md\n",
      "ERCs-master/ERCS/erc-2848.md\n",
      "ERCs-master/ERCS/erc-2876.md\n",
      "ERCs-master/ERCS/erc-2917.md\n",
      "ERCs-master/ERCS/erc-2942.md\n",
      "ERCs-master/ERCS/erc-2980.md\n",
      "ERCs-master/ERCS/erc-2981.md\n",
      "ERCs-master/ERCS/erc-3000.md\n",
      "ERCs-master/ERCS/erc-3005.md\n",
      "ERCs-master/ERCS/erc-3009.md\n",
      "ERCs-master/ERCS/erc-3135.md\n",
      "ERCs-master/ERCS/erc-3156.md\n",
      "ERCs-master/ERCS/erc-3224.md\n",
      "ERCs-master/ERCS/erc-3234.md\n",
      "ERCs-master/ERCS/erc-3386.md\n",
      "ERCs-master/ERCS/erc-3440.md\n",
      "ERCs-master/ERCS/erc-3448.md\n",
      "ERCs-master/ERCS/erc-3450.md\n",
      "ERCs-master/ERCS/erc-3475.md\n",
      "ERCs-master/ERCS/erc-3525.md\n",
      "ERCs-master/ERCS/erc-3561.md\n",
      "ERCs-master/ERCS/erc-3569.md\n",
      "ERCs-master/ERCS/erc-3589.md\n",
      "ERCs-master/ERCS/erc-3643.md\n",
      "ERCs-master/ERCS/erc-3668.md\n",
      "ERCs-master/ERCS/erc-3722.md\n",
      "ERCs-master/ERCS/erc-3754.md\n",
      "ERCs-master/ERCS/erc-3770.md\n",
      "ERCs-master/ERCS/erc-3772.md\n",
      "ERCs-master/ERCS/erc-4337.md\n",
      "ERCs-master/ERCS/erc-4341.md\n",
      "ERCs-master/ERCS/erc-4353.md\n",
      "ERCs-master/ERCS/erc-4361.md\n",
      "ERCs-master/ERCS/erc-4393.md\n",
      "ERCs-master/ERCS/erc-4400.md\n",
      "ERCs-master/ERCS/erc-4430.md\n",
      "ERCs-master/ERCS/erc-4494.md\n",
      "ERCs-master/ERCS/erc-4519.md\n",
      "ERCs-master/ERCS/erc-4521.md\n",
      "ERCs-master/ERCS/erc-4524.md\n",
      "ERCs-master/ERCS/erc-4527.md\n",
      "ERCs-master/ERCS/erc-4546.md\n",
      "ERCs-master/ERCS/erc-4626.md\n",
      "ERCs-master/ERCS/erc-4671.md\n",
      "ERCs-master/ERCS/erc-4675.md\n",
      "ERCs-master/ERCS/erc-4799.md\n",
      "ERCs-master/ERCS/erc-4804.md\n",
      "ERCs-master/ERCS/erc-4824.md\n",
      "ERCs-master/ERCS/erc-4834.md\n",
      "ERCs-master/ERCS/erc-4883.md\n",
      "ERCs-master/ERCS/erc-4885.md\n",
      "ERCs-master/ERCS/erc-4886.md\n",
      "ERCs-master/ERCS/erc-4906.md\n",
      "ERCs-master/ERCS/erc-4907.md\n",
      "ERCs-master/ERCS/erc-4910.md\n",
      "ERCs-master/ERCS/erc-4931.md\n",
      "ERCs-master/ERCS/erc-4944.md\n",
      "ERCs-master/ERCS/erc-4950.md\n",
      "ERCs-master/ERCS/erc-4955.md\n",
      "ERCs-master/ERCS/erc-4972.md\n",
      "ERCs-master/ERCS/erc-4973.md\n",
      "ERCs-master/ERCS/erc-4974.md\n",
      "ERCs-master/ERCS/erc-4987.md\n",
      "ERCs-master/ERCS/erc-5005.md\n",
      "ERCs-master/ERCS/erc-5006.md\n",
      "ERCs-master/ERCS/erc-5007.md\n",
      "ERCs-master/ERCS/erc-5008.md\n",
      "ERCs-master/ERCS/erc-5018.md\n",
      "ERCs-master/ERCS/erc-5023.md\n",
      "ERCs-master/ERCS/erc-5050.md\n",
      "ERCs-master/ERCS/erc-5058.md\n",
      "ERCs-master/ERCS/erc-5094.md\n",
      "ERCs-master/ERCS/erc-5095.md\n",
      "ERCs-master/ERCS/erc-5114.md\n",
      "ERCs-master/ERCS/erc-5115.md\n",
      "ERCs-master/ERCS/erc-5131.md\n",
      "ERCs-master/ERCS/erc-5139.md\n",
      "ERCs-master/ERCS/erc-5143.md\n",
      "ERCs-master/ERCS/erc-5164.md\n",
      "ERCs-master/ERCS/erc-5169.md\n",
      "ERCs-master/ERCS/erc-5173.md\n",
      "ERCs-master/ERCS/erc-5185.md\n",
      "ERCs-master/ERCS/erc-5187.md\n",
      "ERCs-master/ERCS/erc-5189.md\n",
      "ERCs-master/ERCS/erc-5192.md\n",
      "ERCs-master/ERCS/erc-5202.md\n",
      "ERCs-master/ERCS/erc-5216.md\n",
      "ERCs-master/ERCS/erc-5218.md\n",
      "ERCs-master/ERCS/erc-5219.md\n",
      "ERCs-master/ERCS/erc-5247.md\n",
      "ERCs-master/ERCS/erc-5252.md\n",
      "ERCs-master/ERCS/erc-5267.md\n",
      "ERCs-master/ERCS/erc-5269.md\n",
      "ERCs-master/ERCS/erc-5289.md\n",
      "ERCs-master/ERCS/erc-5298.md\n",
      "ERCs-master/ERCS/erc-5313.md\n",
      "ERCs-master/ERCS/erc-5334.md\n",
      "ERCs-master/ERCS/erc-5375.md\n",
      "ERCs-master/ERCS/erc-5380.md\n",
      "ERCs-master/ERCS/erc-5409.md\n",
      "ERCs-master/ERCS/erc-5437.md\n",
      "ERCs-master/ERCS/erc-5453.md\n",
      "ERCs-master/ERCS/erc-5484.md\n",
      "ERCs-master/ERCS/erc-5485.md\n",
      "ERCs-master/ERCS/erc-5489.md\n",
      "ERCs-master/ERCS/erc-5496.md\n",
      "ERCs-master/ERCS/erc-55.md\n",
      "ERCs-master/ERCS/erc-5501.md\n",
      "ERCs-master/ERCS/erc-5505.md\n",
      "ERCs-master/ERCS/erc-5507.md\n",
      "ERCs-master/ERCS/erc-5516.md\n",
      "ERCs-master/ERCS/erc-5521.md\n",
      "ERCs-master/ERCS/erc-5528.md\n",
      "ERCs-master/ERCS/erc-5539.md\n",
      "ERCs-master/ERCS/erc-5553.md\n",
      "ERCs-master/ERCS/erc-5554.md\n",
      "ERCs-master/ERCS/erc-5559.md\n",
      "ERCs-master/ERCS/erc-5560.md\n",
      "ERCs-master/ERCS/erc-5564.md\n",
      "ERCs-master/ERCS/erc-5568.md\n",
      "ERCs-master/ERCS/erc-5570.md\n",
      "ERCs-master/ERCS/erc-5573.md\n",
      "ERCs-master/ERCS/erc-5585.md\n",
      "ERCs-master/ERCS/erc-5604.md\n",
      "ERCs-master/ERCS/erc-5606.md\n",
      "ERCs-master/ERCS/erc-5615.md\n",
      "ERCs-master/ERCS/erc-5625.md\n",
      "ERCs-master/ERCS/erc-5630.md\n",
      "ERCs-master/ERCS/erc-5633.md\n",
      "ERCs-master/ERCS/erc-5635.md\n",
      "ERCs-master/ERCS/erc-5639.md\n",
      "ERCs-master/ERCS/erc-5643.md\n",
      "ERCs-master/ERCS/erc-5646.md\n",
      "ERCs-master/ERCS/erc-5679.md\n",
      "ERCs-master/ERCS/erc-5700.md\n",
      "ERCs-master/ERCS/erc-5719.md\n",
      "ERCs-master/ERCS/erc-5725.md\n",
      "ERCs-master/ERCS/erc-5727.md\n",
      "ERCs-master/ERCS/erc-5732.md\n",
      "ERCs-master/ERCS/erc-5744.md\n",
      "ERCs-master/ERCS/erc-5750.md\n",
      "ERCs-master/ERCS/erc-5753.md\n",
      "ERCs-master/ERCS/erc-5773.md\n",
      "ERCs-master/ERCS/erc-5791.md\n",
      "ERCs-master/ERCS/erc-5805.md\n",
      "ERCs-master/ERCS/erc-5827.md\n",
      "ERCs-master/ERCS/erc-5850.md\n",
      "ERCs-master/ERCS/erc-5851.md\n",
      "ERCs-master/ERCS/erc-5883.md\n",
      "ERCs-master/ERCS/erc-5902.md\n",
      "ERCs-master/ERCS/erc-5982.md\n",
      "ERCs-master/ERCS/erc-600.md\n",
      "ERCs-master/ERCS/erc-601.md\n",
      "ERCs-master/ERCS/erc-6047.md\n",
      "ERCs-master/ERCS/erc-6059.md\n",
      "ERCs-master/ERCS/erc-6065.md\n",
      "ERCs-master/ERCS/erc-6066.md\n",
      "ERCs-master/ERCS/erc-6093.md\n",
      "ERCs-master/ERCS/erc-6105.md\n",
      "ERCs-master/ERCS/erc-6120.md\n",
      "ERCs-master/ERCS/erc-6123.md\n",
      "ERCs-master/ERCS/erc-6147.md\n",
      "ERCs-master/ERCS/erc-6150.md\n",
      "ERCs-master/ERCS/erc-6170.md\n",
      "ERCs-master/ERCS/erc-6220.md\n",
      "ERCs-master/ERCS/erc-6224.md\n",
      "ERCs-master/ERCS/erc-6229.md\n",
      "ERCs-master/ERCS/erc-6239.md\n",
      "ERCs-master/ERCS/erc-6268.md\n",
      "ERCs-master/ERCS/erc-6315.md\n",
      "ERCs-master/ERCS/erc-6327.md\n",
      "ERCs-master/ERCS/erc-634.md\n",
      "ERCs-master/ERCS/erc-6353.md\n",
      "ERCs-master/ERCS/erc-6357.md\n",
      "ERCs-master/ERCS/erc-6358.md\n",
      "ERCs-master/ERCS/erc-6366.md\n",
      "ERCs-master/ERCS/erc-6372.md\n",
      "ERCs-master/ERCS/erc-6381.md\n",
      "ERCs-master/ERCS/erc-6384.md\n",
      "ERCs-master/ERCS/erc-6454.md\n",
      "ERCs-master/ERCS/erc-6464.md\n",
      "ERCs-master/ERCS/erc-6492.md\n",
      "ERCs-master/ERCS/erc-6506.md\n",
      "ERCs-master/ERCS/erc-6538.md\n",
      "ERCs-master/ERCS/erc-6551.md\n",
      "ERCs-master/ERCS/erc-6596.md\n",
      "ERCs-master/ERCS/erc-6604.md\n",
      "ERCs-master/ERCS/erc-6617.md\n",
      "ERCs-master/ERCS/erc-6662.md\n",
      "ERCs-master/ERCS/erc-6672.md\n",
      "ERCs-master/ERCS/erc-6682.md\n",
      "ERCs-master/ERCS/erc-67.md\n",
      "ERCs-master/ERCS/erc-6734.md\n",
      "ERCs-master/ERCS/erc-6735.md\n",
      "ERCs-master/ERCS/erc-6785.md\n",
      "ERCs-master/ERCS/erc-6786.md\n",
      "ERCs-master/ERCS/erc-6787.md\n",
      "ERCs-master/ERCS/erc-6806.md\n",
      "ERCs-master/ERCS/erc-6808.md\n",
      "ERCs-master/ERCS/erc-6809.md\n",
      "ERCs-master/ERCS/erc-681.md\n",
      "ERCs-master/ERCS/erc-6821.md\n",
      "ERCs-master/ERCS/erc-6823.md\n",
      "ERCs-master/ERCS/erc-6860.md\n",
      "ERCs-master/ERCS/erc-6864.md\n",
      "ERCs-master/ERCS/erc-6865.md\n",
      "ERCs-master/ERCS/erc-6900.md\n",
      "ERCs-master/ERCS/erc-6909.md\n",
      "ERCs-master/ERCS/erc-6932.md\n",
      "ERCs-master/ERCS/erc-6944.md\n",
      "ERCs-master/ERCS/erc-6956.md\n",
      "ERCs-master/ERCS/erc-6960.md\n",
      "ERCs-master/ERCS/erc-6981.md\n",
      "ERCs-master/ERCS/erc-6982.md\n",
      "ERCs-master/ERCS/erc-6997.md\n",
      "ERCs-master/ERCS/erc-7007.md\n",
      "ERCs-master/ERCS/erc-7015.md\n",
      "ERCs-master/ERCS/erc-7053.md\n",
      "ERCs-master/ERCS/erc-7066.md\n",
      "ERCs-master/ERCS/erc-7085.md\n",
      "ERCs-master/ERCS/erc-7087.md\n",
      "ERCs-master/ERCS/erc-7092.md\n",
      "ERCs-master/ERCS/erc-7093.md\n",
      "ERCs-master/ERCS/erc-7144.md\n",
      "ERCs-master/ERCS/erc-7160.md\n",
      "ERCs-master/ERCS/erc-7196.md\n",
      "ERCs-master/ERCS/erc-7201.md\n",
      "ERCs-master/ERCS/erc-7204.md\n",
      "ERCs-master/ERCS/erc-7208.md\n",
      "ERCs-master/ERCS/erc-721.md\n",
      "ERCs-master/ERCS/erc-7231.md\n",
      "ERCs-master/ERCS/erc-7246.md\n",
      "ERCs-master/ERCS/erc-725.md\n",
      "ERCs-master/ERCS/erc-7254.md\n",
      "ERCs-master/ERCS/erc-7272.md\n",
      "ERCs-master/ERCS/erc-7280.md\n",
      "ERCs-master/ERCS/erc-7291.md\n",
      "ERCs-master/ERCS/erc-7303.md\n",
      "ERCs-master/ERCS/erc-7390.md\n",
      "ERCs-master/ERCS/erc-7399.md\n",
      "ERCs-master/ERCS/erc-7401.md\n",
      "ERCs-master/ERCS/erc-7405.md\n",
      "ERCs-master/ERCS/erc-7406.md\n",
      "ERCs-master/ERCS/erc-7409.md\n",
      "ERCs-master/ERCS/erc-7410.md\n",
      "ERCs-master/ERCS/erc-7412.md\n",
      "ERCs-master/ERCS/erc-7417.md\n",
      "ERCs-master/ERCS/erc-7425.md\n",
      "ERCs-master/ERCS/erc-7432.md\n",
      "ERCs-master/ERCS/erc-7439.md\n",
      "ERCs-master/ERCS/erc-7444.md\n",
      "ERCs-master/ERCS/erc-7484.md\n",
      "ERCs-master/ERCS/erc-7496.md\n",
      "ERCs-master/ERCS/erc-7498.md\n",
      "ERCs-master/ERCS/erc-7506.md\n",
      "ERCs-master/ERCS/erc-7507.md\n",
      "ERCs-master/ERCS/erc-7508.md\n",
      "ERCs-master/ERCS/erc-7509.md\n",
      "ERCs-master/ERCS/erc-7510.md\n",
      "ERCs-master/ERCS/erc-7511.md\n",
      "ERCs-master/ERCS/erc-7512.md\n",
      "ERCs-master/ERCS/erc-7513.md\n",
      "ERCs-master/ERCS/erc-7517.md\n",
      "ERCs-master/ERCS/erc-7518.md\n",
      "ERCs-master/ERCS/erc-7521.md\n",
      "ERCs-master/ERCS/erc-7522.md\n",
      "ERCs-master/ERCS/erc-7524.md\n",
      "ERCs-master/ERCS/erc-7527.md\n",
      "ERCs-master/ERCS/erc-7528.md\n",
      "ERCs-master/ERCS/erc-7529.md\n",
      "ERCs-master/ERCS/erc-7531.md\n",
      "ERCs-master/ERCS/erc-7533.md\n",
      "ERCs-master/ERCS/erc-7535.md\n",
      "ERCs-master/ERCS/erc-7538.md\n",
      "ERCs-master/ERCS/erc-7540.md\n",
      "ERCs-master/ERCS/erc-7546.md\n",
      "ERCs-master/ERCS/erc-7548.md\n",
      "ERCs-master/ERCS/erc-7555.md\n",
      "ERCs-master/ERCS/erc-7561.md\n",
      "ERCs-master/ERCS/erc-7562.md\n",
      "ERCs-master/ERCS/erc-7564.md\n",
      "ERCs-master/ERCS/erc-7565.md\n",
      "ERCs-master/ERCS/erc-7566.md\n",
      "ERCs-master/ERCS/erc-7572.md\n",
      "ERCs-master/ERCS/erc-7573.md\n",
      "ERCs-master/ERCS/erc-7575.md\n",
      "ERCs-master/ERCS/erc-7578.md\n",
      "ERCs-master/ERCS/erc-7579.md\n",
      "ERCs-master/ERCS/erc-7580.md\n",
      "ERCs-master/ERCS/erc-7582.md\n",
      "ERCs-master/ERCS/erc-7585.md\n",
      "ERCs-master/ERCS/erc-7586.md\n",
      "ERCs-master/ERCS/erc-7588.md\n",
      "ERCs-master/ERCS/erc-7589.md\n",
      "ERCs-master/ERCS/erc-7590.md\n",
      "ERCs-master/ERCS/erc-7595.md\n",
      "ERCs-master/ERCS/erc-7597.md\n",
      "ERCs-master/ERCS/erc-7598.md\n",
      "ERCs-master/ERCS/erc-7603.md\n",
      "ERCs-master/ERCS/erc-7604.md\n",
      "ERCs-master/ERCS/erc-7613.md\n",
      "ERCs-master/ERCS/erc-7615.md\n",
      "ERCs-master/ERCS/erc-7617.md\n",
      "ERCs-master/ERCS/erc-7618.md\n",
      "ERCs-master/ERCS/erc-7621.md\n",
      "ERCs-master/ERCS/erc-7627.md\n",
      "ERCs-master/ERCS/erc-7628.md\n",
      "ERCs-master/ERCS/erc-7629.md\n",
      "ERCs-master/ERCS/erc-7631.md\n",
      "ERCs-master/ERCS/erc-7632.md\n",
      "ERCs-master/ERCS/erc-7634.md\n",
      "ERCs-master/ERCS/erc-7638.md\n",
      "ERCs-master/ERCS/erc-7641.md\n",
      "ERCs-master/ERCS/erc-7644.md\n",
      "ERCs-master/ERCS/erc-7649.md\n",
      "ERCs-master/ERCS/erc-7651.md\n",
      "ERCs-master/ERCS/erc-7652.md\n",
      "ERCs-master/ERCS/erc-7654.md\n",
      "ERCs-master/ERCS/erc-7656.md\n",
      "ERCs-master/ERCS/erc-7662.md\n",
      "ERCs-master/ERCS/erc-7673.md\n",
      "ERCs-master/ERCS/erc-7674.md\n",
      "ERCs-master/ERCS/erc-7677.md\n",
      "ERCs-master/ERCS/erc-7679.md\n",
      "ERCs-master/ERCS/erc-7681.md\n",
      "ERCs-master/ERCS/erc-7682.md\n",
      "ERCs-master/ERCS/erc-7683.md\n",
      "ERCs-master/ERCS/erc-7694.md\n",
      "ERCs-master/ERCS/erc-7695.md\n",
      "ERCs-master/ERCS/erc-7699.md\n",
      "ERCs-master/ERCS/erc-7700.md\n",
      "ERCs-master/ERCS/erc-7710.md\n",
      "ERCs-master/ERCS/erc-7715.md\n",
      "ERCs-master/ERCS/erc-7720.md\n",
      "ERCs-master/ERCS/erc-7721.md\n",
      "ERCs-master/ERCS/erc-7722.md\n",
      "ERCs-master/ERCS/erc-7726.md\n",
      "ERCs-master/ERCS/erc-7729.md\n",
      "ERCs-master/ERCS/erc-7730.md\n",
      "ERCs-master/ERCS/erc-7734.md\n",
      "ERCs-master/ERCS/erc-7738.md\n",
      "ERCs-master/ERCS/erc-7739.md\n",
      "ERCs-master/ERCS/erc-7741.md\n",
      "ERCs-master/ERCS/erc-7743.md\n",
      "ERCs-master/ERCS/erc-7744.md\n",
      "ERCs-master/ERCS/erc-7746.md\n",
      "ERCs-master/ERCS/erc-7750.md\n",
      "ERCs-master/ERCS/erc-7751.md\n",
      "ERCs-master/ERCS/erc-7754.md\n",
      "ERCs-master/ERCS/erc-7758.md\n",
      "ERCs-master/ERCS/erc-7760.md\n",
      "ERCs-master/ERCS/erc-7765.md\n",
      "ERCs-master/ERCS/erc-7766.md\n",
      "ERCs-master/ERCS/erc-7769.md\n",
      "ERCs-master/ERCS/erc-777.md\n",
      "ERCs-master/ERCS/erc-7770.md\n",
      "ERCs-master/ERCS/erc-7774.md\n",
      "ERCs-master/ERCS/erc-7776.md\n",
      "ERCs-master/ERCS/erc-7777.md\n",
      "ERCs-master/ERCS/erc-7779.md\n",
      "ERCs-master/ERCS/erc-7780.md\n",
      "ERCs-master/ERCS/erc-7785.md\n",
      "ERCs-master/ERCS/erc-7786.md\n",
      "ERCs-master/ERCS/erc-7787.md\n",
      "ERCs-master/ERCS/erc-7794.md\n",
      "ERCs-master/ERCS/erc-7795.md\n",
      "ERCs-master/ERCS/erc-7796.md\n",
      "ERCs-master/ERCS/erc-7802.md\n",
      "ERCs-master/ERCS/erc-7803.md\n",
      "ERCs-master/ERCS/erc-7806.md\n",
      "ERCs-master/ERCS/erc-7811.md\n",
      "ERCs-master/ERCS/erc-7812.md\n",
      "ERCs-master/ERCS/erc-7813.md\n",
      "ERCs-master/ERCS/erc-7818.md\n",
      "ERCs-master/ERCS/erc-7820.md\n",
      "ERCs-master/ERCS/erc-7821.md\n",
      "ERCs-master/ERCS/erc-7828.md\n",
      "ERCs-master/ERCS/erc-7829.md\n",
      "ERCs-master/ERCS/erc-7831.md\n",
      "ERCs-master/ERCS/erc-7832.md\n",
      "ERCs-master/ERCS/erc-7836.md\n",
      "ERCs-master/ERCS/erc-7837.md\n",
      "ERCs-master/ERCS/erc-7845.md\n",
      "ERCs-master/ERCS/erc-7846.md\n",
      "ERCs-master/ERCS/erc-7847.md\n",
      "ERCs-master/ERCS/erc-7856.md\n",
      "ERCs-master/ERCS/erc-7857.md\n",
      "ERCs-master/ERCS/erc-7858.md\n",
      "ERCs-master/ERCS/erc-7861.md\n",
      "ERCs-master/ERCS/erc-7866.md\n",
      "ERCs-master/ERCS/erc-7871.md\n",
      "ERCs-master/ERCS/erc-7878.md\n",
      "ERCs-master/ERCS/erc-7884.md\n",
      "ERCs-master/ERCS/erc-7887.md\n",
      "ERCs-master/ERCS/erc-7888.md\n",
      "ERCs-master/ERCS/erc-7891.md\n",
      "ERCs-master/ERCS/erc-7893.md\n",
      "ERCs-master/ERCS/erc-7895.md\n",
      "ERCs-master/ERCS/erc-7897.md\n",
      "ERCs-master/ERCS/erc-7902.md\n",
      "ERCs-master/ERCS/erc-7908.md\n",
      "ERCs-master/ERCS/erc-7913.md\n",
      "ERCs-master/ERCS/erc-7920.md\n",
      "ERCs-master/ERCS/erc-7929.md\n",
      "ERCs-master/ERCS/erc-7930.md\n",
      "ERCs-master/ERCS/erc-7936.md\n",
      "ERCs-master/ERCS/erc-7943.md\n",
      "ERCs-master/ERCS/erc-7946.md\n",
      "ERCs-master/ERCS/erc-7947.md\n",
      "ERCs-master/ERCS/erc-7950.md\n",
      "ERCs-master/ERCS/erc-7955.md\n",
      "ERCs-master/ERCS/erc-7964.md\n",
      "ERCs-master/ERCS/erc-7965.md\n",
      "ERCs-master/ERCS/erc-7968.md\n",
      "ERCs-master/ERCS/erc-7969.md\n",
      "ERCs-master/ERCS/erc-7985.md\n",
      "ERCs-master/ERCS/erc-8001.md\n",
      "ERCs-master/ERCS/erc-8004.md\n",
      "ERCs-master/ERCS/erc-801.md\n",
      "ERCs-master/ERCS/erc-820.md\n",
      "ERCs-master/ERCS/erc-823.md\n",
      "ERCs-master/ERCS/erc-831.md\n",
      "ERCs-master/ERCS/erc-838.md\n",
      "ERCs-master/ERCS/erc-875.md\n",
      "ERCs-master/ERCS/erc-884.md\n",
      "ERCs-master/ERCS/erc-897.md\n",
      "ERCs-master/ERCS/erc-900.md\n",
      "ERCs-master/ERCS/erc-902.md\n",
      "ERCs-master/ERCS/erc-918.md\n",
      "ERCs-master/ERCS/erc-926.md\n",
      "ERCs-master/ERCS/erc-927.md\n",
      "ERCs-master/ERCS/erc-998.md\n"
     ]
    }
   ],
   "source": [
    "for record in erc_data:\n",
    "    print(record['filename'])"
   ]
  },
  {
   "cell_type": "markdown",
   "id": "02cc6461",
   "metadata": {},
   "source": [
    "## 2. Chunking and Intelligent Processing for Data"
   ]
  },
  {
   "cell_type": "markdown",
   "id": "b4ce418c",
   "metadata": {},
   "source": [
    "### 2.1 Splitting by Paragraphs"
   ]
  },
  {
   "cell_type": "code",
   "execution_count": 113,
   "id": "8b1e7345",
   "metadata": {},
   "outputs": [],
   "source": [
    "import re\n",
    "import textwrap\n",
    "\n",
    "text = erc_data[45]['content']\n",
    "paragraphs = re.split(r\"\\n\\s*\\n\", text.strip())"
   ]
  },
  {
   "cell_type": "code",
   "execution_count": 114,
   "id": "2631fc6c",
   "metadata": {},
   "outputs": [
    {
     "data": {
      "text/plain": [
       "60"
      ]
     },
     "execution_count": 114,
     "metadata": {},
     "output_type": "execute_result"
    }
   ],
   "source": [
    "len(paragraphs)"
   ]
  },
  {
   "cell_type": "code",
   "execution_count": 115,
   "id": "eed13322",
   "metadata": {},
   "outputs": [
    {
     "data": {
      "text/plain": [
       "'## Simple Summary\\nMake smart contracts (e.g. dapps) accessible to non-ether users by allowing contracts to accept \"[collect-calls](https://en.wikipedia.org/wiki/Collect_call)\", paying for incoming calls. \\nLet contracts \"listen\" on publicly accessible channels (e.g. web URL or a whisper address). \\nIncentivize nodes to run \"gas stations\" to facilitate this. \\nRequire no network changes, and minimal contract changes.'"
      ]
     },
     "execution_count": 115,
     "metadata": {},
     "output_type": "execute_result"
    }
   ],
   "source": [
    "paragraphs[0]"
   ]
  },
  {
   "cell_type": "code",
   "execution_count": 116,
   "id": "cc02f5c0",
   "metadata": {},
   "outputs": [
    {
     "name": "stdout",
     "output_type": "stream",
     "text": [
      "## Simple Summary Make smart contracts (e.g. dapps) accessible to non-ether users by allowing\n",
      "contracts to accept \"[collect-calls](https://en.wikipedia.org/wiki/Collect_call)\", paying for\n",
      "incoming calls.  Let contracts \"listen\" on publicly accessible channels (e.g. web URL or a whisper\n",
      "address).  Incentivize nodes to run \"gas stations\" to facilitate this.  Require no network changes,\n",
      "and minimal contract changes.\n"
     ]
    }
   ],
   "source": [
    "print(textwrap.fill(paragraphs[0], width=100))"
   ]
  },
  {
   "cell_type": "code",
   "execution_count": 117,
   "id": "ca7e96fc",
   "metadata": {},
   "outputs": [
    {
     "name": "stdout",
     "output_type": "stream",
     "text": [
      "## Abstract Communicating with dapps currently requires paying ETH for gas, which limits dapp\n",
      "adoption to ether users.  Therefore, contract owners may wish to pay for the gas to increase user\n",
      "acquisition, or let their users pay for gas with fiat money.  Alternatively, a 3rd party may wish to\n",
      "subsidize the gas costs of certain contracts.  Solutions such as described in\n",
      "[EIP-1077](./eip-1077.md) could allow transactions from addresses that hold no ETH.\n"
     ]
    }
   ],
   "source": [
    "print(textwrap.fill(paragraphs[1], width=100))"
   ]
  },
  {
   "cell_type": "code",
   "execution_count": 120,
   "id": "34616d9d",
   "metadata": {},
   "outputs": [
    {
     "name": "stdout",
     "output_type": "stream",
     "text": [
      "A working implementation of the [**gas stations network**](https://github.com/tabookey-dev/tabookey-\n",
      "gasless) is being developed by **TabooKey**. It consists of `RelayHub`, `RelayRecipient`, `web3\n",
      "hooks`, an implementation of a gas station inside `geth`, and sample dapps using the gas stations\n",
      "network.\n"
     ]
    }
   ],
   "source": [
    "print(textwrap.fill(paragraphs[58], width=100))"
   ]
  },
  {
   "cell_type": "code",
   "execution_count": 121,
   "id": "0527f9a4",
   "metadata": {},
   "outputs": [
    {
     "name": "stdout",
     "output_type": "stream",
     "text": [
      "## Copyright Copyright and related rights waived via [CC0](../LICENSE.md).\n"
     ]
    }
   ],
   "source": [
    "print(textwrap.fill(paragraphs[59], width=100))"
   ]
  },
  {
   "cell_type": "markdown",
   "id": "a5917a4f",
   "metadata": {},
   "source": [
    "The spliting by paragraphs doens't make sense because the text subject is lost."
   ]
  },
  {
   "cell_type": "markdown",
   "id": "c6a1428f",
   "metadata": {},
   "source": [
    "### 2.2 Sliding Window Chunking"
   ]
  },
  {
   "cell_type": "code",
   "execution_count": 37,
   "id": "54118c3d",
   "metadata": {},
   "outputs": [],
   "source": [
    "def sliding_window(seq, size, step):\n",
    "    if size <= 0 or step <= 0:\n",
    "        raise ValueError(\"size and step must be positive\")\n",
    "\n",
    "    n = len(seq)\n",
    "    result = []\n",
    "    for i in range(0, n, step):\n",
    "        chunk = seq[i:i+size]\n",
    "        result.append({'start': i, 'chunk': chunk})\n",
    "        if i + size >= n:\n",
    "            break\n",
    "\n",
    "    return result"
   ]
  },
  {
   "cell_type": "code",
   "execution_count": 38,
   "id": "67a851cb",
   "metadata": {},
   "outputs": [],
   "source": [
    "erc_data_chunks = []\n",
    "\n",
    "for doc in erc_data:\n",
    "    doc_copy = doc.copy()\n",
    "    doc_content = doc_copy.pop('content')\n",
    "    chunks = sliding_window(doc_content, 2000, 1000)\n",
    "    for chunk in chunks:\n",
    "        chunk.update(doc_copy)\n",
    "    erc_data_chunks.extend(chunks)"
   ]
  },
  {
   "cell_type": "code",
   "execution_count": 39,
   "id": "98d03c80",
   "metadata": {},
   "outputs": [
    {
     "data": {
      "text/plain": [
       "7022"
      ]
     },
     "execution_count": 39,
     "metadata": {},
     "output_type": "execute_result"
    }
   ],
   "source": [
    "len(erc_data_chunks)"
   ]
  },
  {
   "cell_type": "code",
   "execution_count": 92,
   "id": "7b638bfe",
   "metadata": {},
   "outputs": [
    {
     "data": {
      "text/plain": [
       "{'start': 0,\n",
       " 'chunk': '## What is an EIP?\\n\\nEIP stands for Ethereum Improvement Proposal. An EIP is a design document providing information to the Ethereum community, or describing a new feature for Ethereum or its processes or environment. The EIP should provide a concise technical specification of the feature and a rationale for the feature. The EIP author is responsible for building consensus within the community and documenting dissenting opinions.\\n\\n## EIP Rationale\\n\\nWe intend EIPs to be the primary mechanisms for proposing new features, for collecting community technical input on an issue, and for documenting the design decisions that have gone into Ethereum. Because the EIPs are maintained as text files in a versioned repository, their revision history is the historical record of the feature proposal.\\n\\nFor Ethereum implementers, EIPs are a convenient way to track the progress of their implementation. Ideally each implementation maintainer would list the EIPs that they have implemented. This will give end users a convenient way to know the current status of a given implementation or library.\\n\\n## EIP Types\\n\\nThere are three types of EIP:\\n\\n- A **Standards Track EIP** describes any change that affects most or all Ethereum implementations, such as—a change to the network protocol, a change in block or transaction validity rules, proposed application standards/conventions, or any change or addition that affects the interoperability of applications using Ethereum. Standards Track EIPs consist of three parts—a design document, an implementation, and (if warranted) an update to the [formal specification](https://github.com/ethereum/yellowpaper). Furthermore, Standards Track EIPs can be broken down into the following categories:\\n  - **Core**: improvements requiring a consensus fork (e.g. [EIP-5](./eip-5.md), [EIP-101](./eip-101.md)), as well as changes that are not necessarily consensus critical but may be relevant to [“core dev” discussions](https://github.com/ethereum/pm) (for example, [EIP-9',\n",
       " 'eip': 1,\n",
       " 'title': 'EIP Purpose and Guidelines',\n",
       " 'status': 'Living',\n",
       " 'type': 'Meta',\n",
       " 'author': 'Martin Becze <mb@ethereum.org>, Hudson Jameson <hudson@ethereum.org>, et al.',\n",
       " 'created': datetime.date(2015, 10, 27),\n",
       " 'filename': 'ERCs-master/ERCS/eip-1.md'}"
      ]
     },
     "execution_count": 92,
     "metadata": {},
     "output_type": "execute_result"
    }
   ],
   "source": [
    "erc_data_chunks[0]"
   ]
  },
  {
   "cell_type": "code",
   "execution_count": 93,
   "id": "0fa259d4",
   "metadata": {},
   "outputs": [
    {
     "data": {
      "text/plain": [
       "2000"
      ]
     },
     "execution_count": 93,
     "metadata": {},
     "output_type": "execute_result"
    }
   ],
   "source": [
    "len(erc_data_chunks[0][\"chunk\"])"
   ]
  },
  {
   "cell_type": "code",
   "execution_count": 96,
   "id": "0f7953c3",
   "metadata": {},
   "outputs": [
    {
     "name": "stdout",
     "output_type": "stream",
     "text": [
      "## What is an EIP?\n",
      "\n",
      "EIP stands for Ethereum Improvement Proposal. An EIP is a design document providing information to the Ethereum community, or describing a new feature for Ethereum or its processes or environment. The EIP should provide a concise technical specification of the feature and a rationale for the feature. The EIP author is responsible for building consensus within the community and documenting dissenting opinions.\n",
      "\n",
      "## EIP Rationale\n",
      "\n",
      "We intend EIPs to be the primary mechanisms for proposing new features, for collecting community technical input on an issue, and for documenting the design decisions that have gone into Ethereum. Because the EIPs are maintained as text files in a versioned repository, their revision history is the historical record of the feature proposal.\n",
      "\n",
      "For Ethereum implementers, EIPs are a convenient way to track the progress of their implementation. Ideally each implementation maintainer would list the EIPs that they have implemented. This will give end users a convenient way to know the current status of a given implementation or library.\n",
      "\n",
      "## EIP Types\n",
      "\n",
      "There are three types of EIP:\n",
      "\n",
      "- A **Standards Track EIP** describes any change that affects most or all Ethereum implementations, such as—a change to the network protocol, a change in block or transaction validity rules, proposed application standards/conventions, or any change or addition that affects the interoperability of applications using Ethereum. Standards Track EIPs consist of three parts—a design document, an implementation, and (if warranted) an update to the [formal specification](https://github.com/ethereum/yellowpaper). Furthermore, Standards Track EIPs can be broken down into the following categories:\n",
      "  - **Core**: improvements requiring a consensus fork (e.g. [EIP-5](./eip-5.md), [EIP-101](./eip-101.md)), as well as changes that are not necessarily consensus critical but may be relevant to [“core dev” discussions](https://github.com/ethereum/pm) (for example, [EIP-9\n"
     ]
    }
   ],
   "source": [
    "print(erc_data_chunks[0][\"chunk\"], sep=\"\\n\")"
   ]
  },
  {
   "cell_type": "code",
   "execution_count": 81,
   "id": "9653636f",
   "metadata": {},
   "outputs": [
    {
     "name": "stdout",
     "output_type": "stream",
     "text": [
      "d users a convenient way to know the current status of a given implementation or library.\n",
      "\n",
      "## EIP Types\n",
      "\n",
      "There are three types of EIP:\n",
      "\n",
      "- A **Standards Track EIP** describes any change that affects most or all Ethereum implementations, such as—a change to the network protocol, a change in block or transaction validity rules, proposed application standards/conventions, or any change or addition that affects the interoperability of applications using Ethereum. Standards Track EIPs consist of three parts—a design document, an implementation, and (if warranted) an update to the [formal specification](https://github.com/ethereum/yellowpaper). Furthermore, Standards Track EIPs can be broken down into the following categories:\n",
      "  - **Core**: improvements requiring a consensus fork (e.g. [EIP-5](./eip-5.md), [EIP-101](./eip-101.md)), as well as changes that are not necessarily consensus critical but may be relevant to [“core dev” discussions](https://github.com/ethereum/pm) (for example, [EIP-90], and the miner/node strategy changes 2, 3, and 4 of [EIP-86](./eip-86.md)).\n",
      "  - **Networking**: includes improvements around [devp2p](https://github.com/ethereum/devp2p/blob/readme-spec-links/rlpx.md) ([EIP-8](./eip-8.md)) and [Light Ethereum Subprotocol](https://ethereum.org/en/developers/docs/nodes-and-clients/#light-node), as well as proposed improvements to network protocol specifications of [whisper](https://github.com/ethereum/go-ethereum/issues/16013#issuecomment-364639309) and [swarm](https://github.com/ethereum/go-ethereum/pull/2959).\n",
      "  - **Interface**: includes improvements around language-level standards like method names ([EIP-6](./eip-6.md)) and [contract ABIs](https://docs.soliditylang.org/en/develop/abi-spec.html).\n",
      "  - **ERC**: application-level standards and conventions, including contract standards such as token standards ([ERC-20](./eip-20.md)), name registries ([ERC-137](./eip-137.md)), URI schemes, library/package formats, and wallet formats.\n",
      "\n",
      "- A **Meta EIP** de\n"
     ]
    }
   ],
   "source": [
    "print(erc_data_chunks[1][\"chunk\"], sep=\"\\n\")"
   ]
  },
  {
   "cell_type": "code",
   "execution_count": 82,
   "id": "2dc09e49",
   "metadata": {},
   "outputs": [
    {
     "name": "stdout",
     "output_type": "stream",
     "text": [
      "0], and the miner/node strategy changes 2, 3, and 4 of [EIP-86](./eip-86.md)).\n",
      "  - **Networking**: includes improvements around [devp2p](https://github.com/ethereum/devp2p/blob/readme-spec-links/rlpx.md) ([EIP-8](./eip-8.md)) and [Light Ethereum Subprotocol](https://ethereum.org/en/developers/docs/nodes-and-clients/#light-node), as well as proposed improvements to network protocol specifications of [whisper](https://github.com/ethereum/go-ethereum/issues/16013#issuecomment-364639309) and [swarm](https://github.com/ethereum/go-ethereum/pull/2959).\n",
      "  - **Interface**: includes improvements around language-level standards like method names ([EIP-6](./eip-6.md)) and [contract ABIs](https://docs.soliditylang.org/en/develop/abi-spec.html).\n",
      "  - **ERC**: application-level standards and conventions, including contract standards such as token standards ([ERC-20](./eip-20.md)), name registries ([ERC-137](./eip-137.md)), URI schemes, library/package formats, and wallet formats.\n",
      "\n",
      "- A **Meta EIP** describes a process surrounding Ethereum or proposes a change to (or an event in) a process. Process EIPs are like Standards Track EIPs but apply to areas other than the Ethereum protocol itself. They may propose an implementation, but not to Ethereum's codebase; they often require community consensus; unlike Informational EIPs, they are more than recommendations, and users are typically not free to ignore them. Examples include procedures, guidelines, changes to the decision-making process, and changes to the tools or environment used in Ethereum development. Any meta-EIP is also considered a Process EIP.\n",
      "\n",
      "- An **Informational EIP** describes an Ethereum design issue, or provides general guidelines or information to the Ethereum community, but does not propose a new feature. Informational EIPs do not necessarily represent Ethereum community consensus or a recommendation, so users and implementers are free to ignore Informational EIPs or follow their advice.\n",
      "\n",
      "It is highly recommended tha\n"
     ]
    }
   ],
   "source": [
    "print(erc_data_chunks[2][\"chunk\"], sep=\"\\n\")"
   ]
  },
  {
   "cell_type": "markdown",
   "id": "f38a3b76",
   "metadata": {},
   "source": [
    "It's clear that the chunking strategy didn't work well for this dataset. The chunks often start or end in the middle of sentences, making them less coherent. A better approach would be to split the text at natural boundaries, such as paragraphs or sentences, rather than using fixed character counts. This would help maintain the context and meaning of the content within each chunk."
   ]
  },
  {
   "cell_type": "markdown",
   "id": "ca8e0279",
   "metadata": {},
   "source": [
    "### 2.3 Splitting by Sections"
   ]
  },
  {
   "cell_type": "code",
   "execution_count": 97,
   "id": "b159e1c8",
   "metadata": {},
   "outputs": [],
   "source": [
    "import re\n",
    "\n",
    "def split_markdown_by_level(text, level=2):\n",
    "    \"\"\"\n",
    "    Split markdown text by a specific header level.\n",
    "    \n",
    "    :param text: Markdown text as a string\n",
    "    :param level: Header level to split on\n",
    "    :return: List of sections as strings\n",
    "    \"\"\"\n",
    "    # This regex matches markdown headers\n",
    "    # For level 2, it matches lines starting with \"## \"\n",
    "    header_pattern = r'^(#{' + str(level) + r'} )(.+)$'\n",
    "    pattern = re.compile(header_pattern, re.MULTILINE)\n",
    "\n",
    "    # Split and keep the headers\n",
    "    parts = pattern.split(text)\n",
    "    \n",
    "    sections = []\n",
    "    for i in range(1, len(parts), 3):\n",
    "        # We step by 3 because regex.split() with\n",
    "        # capturing groups returns:\n",
    "        # [before_match, group1, group2, after_match, ...]\n",
    "        # here group1 is \"## \", group2 is the header text\n",
    "        header = parts[i] + parts[i+1]  # \"## \" + \"Title\"\n",
    "        header = header.strip()\n",
    "\n",
    "        # Get the content after this header\n",
    "        content = \"\"\n",
    "        if i+2 < len(parts):\n",
    "            content = parts[i+2].strip()\n",
    "\n",
    "        if content:\n",
    "            section = f'{header}\\n\\n{content}'\n",
    "        else:\n",
    "            section = header\n",
    "        sections.append(section)\n",
    "    \n",
    "    return sections"
   ]
  },
  {
   "cell_type": "code",
   "execution_count": 99,
   "id": "5281169d",
   "metadata": {},
   "outputs": [],
   "source": [
    "erc_data_chunks_sections = []\n",
    "\n",
    "for doc in erc_data:\n",
    "    doc_copy = doc.copy()\n",
    "    doc_content = doc_copy.pop('content')\n",
    "    sections = split_markdown_by_level(doc_content, level=2)\n",
    "    for section in sections:\n",
    "        section_doc = doc_copy.copy()\n",
    "        section_doc['section'] = section\n",
    "        erc_data_chunks_sections.append(section_doc)"
   ]
  },
  {
   "cell_type": "code",
   "execution_count": 100,
   "id": "008ec849",
   "metadata": {},
   "outputs": [
    {
     "data": {
      "text/plain": [
       "4141"
      ]
     },
     "execution_count": 100,
     "metadata": {},
     "output_type": "execute_result"
    }
   ],
   "source": [
    "len(erc_data_chunks_sections)"
   ]
  },
  {
   "cell_type": "code",
   "execution_count": 101,
   "id": "ba32fbbf",
   "metadata": {},
   "outputs": [
    {
     "data": {
      "text/plain": [
       "{'eip': 1,\n",
       " 'title': 'EIP Purpose and Guidelines',\n",
       " 'status': 'Living',\n",
       " 'type': 'Meta',\n",
       " 'author': 'Martin Becze <mb@ethereum.org>, Hudson Jameson <hudson@ethereum.org>, et al.',\n",
       " 'created': datetime.date(2015, 10, 27),\n",
       " 'filename': 'ERCs-master/ERCS/eip-1.md',\n",
       " 'section': '## What is an EIP?\\n\\nEIP stands for Ethereum Improvement Proposal. An EIP is a design document providing information to the Ethereum community, or describing a new feature for Ethereum or its processes or environment. The EIP should provide a concise technical specification of the feature and a rationale for the feature. The EIP author is responsible for building consensus within the community and documenting dissenting opinions.'}"
      ]
     },
     "execution_count": 101,
     "metadata": {},
     "output_type": "execute_result"
    }
   ],
   "source": [
    "erc_data_chunks_sections[0]"
   ]
  },
  {
   "cell_type": "code",
   "execution_count": 103,
   "id": "0920158e",
   "metadata": {},
   "outputs": [],
   "source": [
    "import textwrap"
   ]
  },
  {
   "cell_type": "code",
   "execution_count": 104,
   "id": "38c3c8f3",
   "metadata": {},
   "outputs": [
    {
     "name": "stdout",
     "output_type": "stream",
     "text": [
      "## What is an EIP?  EIP stands for Ethereum Improvement Proposal. An EIP is a design document\n",
      "providing information to the Ethereum community, or describing a new feature for Ethereum or its\n",
      "processes or environment. The EIP should provide a concise technical specification of the feature\n",
      "and a rationale for the feature. The EIP author is responsible for building consensus within the\n",
      "community and documenting dissenting opinions.\n"
     ]
    }
   ],
   "source": [
    "print(textwrap.fill(erc_data_chunks_sections[0][\"section\"], width=100))"
   ]
  },
  {
   "cell_type": "code",
   "execution_count": 106,
   "id": "8e2ff2ed",
   "metadata": {},
   "outputs": [
    {
     "name": "stdout",
     "output_type": "stream",
     "text": [
      "## EIP Rationale  We intend EIPs to be the primary mechanisms for proposing new features, for\n",
      "collecting community technical input on an issue, and for documenting the design decisions that have\n",
      "gone into Ethereum. Because the EIPs are maintained as text files in a versioned repository, their\n",
      "revision history is the historical record of the feature proposal.  For Ethereum implementers, EIPs\n",
      "are a convenient way to track the progress of their implementation. Ideally each implementation\n",
      "maintainer would list the EIPs that they have implemented. This will give end users a convenient way\n",
      "to know the current status of a given implementation or library.\n"
     ]
    }
   ],
   "source": [
    "print(textwrap.fill(erc_data_chunks_sections[1][\"section\"], width=100))"
   ]
  },
  {
   "cell_type": "code",
   "execution_count": 107,
   "id": "589eaa7c",
   "metadata": {},
   "outputs": [
    {
     "name": "stdout",
     "output_type": "stream",
     "text": [
      "## EIP Work Flow  ### Shepherding an EIP  Parties involved in the process are you, the champion or\n",
      "*EIP author*, the [*EIP editors*](#eip-editors), and the [*Ethereum Core\n",
      "Developers*](https://github.com/ethereum/pm).  Before you begin writing a formal EIP, you should vet\n",
      "your idea. Ask the Ethereum community first if an idea is original to avoid wasting time on\n",
      "something that will be rejected based on prior research. It is thus recommended to open a discussion\n",
      "thread on [the Ethereum Magicians forum](https://ethereum-magicians.org/) to do this.  Once the idea\n",
      "has been vetted, your next responsibility will be to present (by means of an EIP) the idea to the\n",
      "reviewers and all interested parties, invite editors, developers, and the community to give feedback\n",
      "on the aforementioned channels. You should try and gauge whether the interest in your EIP is\n",
      "commensurate with both the work involved in implementing it and how many parties will have to\n",
      "conform to it. For example, the work required for implementing a Core EIP will be much greater than\n",
      "for an ERC and the EIP will need sufficient interest from the Ethereum client teams. Negative\n",
      "community feedback will be taken into consideration and may prevent your EIP from moving past the\n",
      "Draft stage.  ### Core EIPs  For Core EIPs, given that they require client implementations to be\n",
      "considered **Final** (see \"EIPs Process\" below), you will need to either provide an implementation\n",
      "for clients or convince clients to implement your EIP.  The best way to get client implementers to\n",
      "review your EIP is to present it on an AllCoreDevs call. You can request to do so by posting a\n",
      "comment linking your EIP on an [AllCoreDevs agenda GitHub\n",
      "Issue](https://github.com/ethereum/pm/issues).    The AllCoreDevs call serves as a way for client\n",
      "implementers to do three things. First, to discuss the technical merits of EIPs. Second, to gauge\n",
      "what other clients will be implementing. Third, to coordinate EIP implementation for network\n",
      "upgrades.  These calls generally result in a \"rough consensus\" around what EIPs should be\n",
      "implemented. This \"rough consensus\" rests on the assumptions that EIPs are not contentious enough to\n",
      "cause a network split and that they are technically sound.  :warning: The EIPs process and\n",
      "AllCoreDevs call were not designed to address contentious non-technical issues, but, due to the lack\n",
      "of other ways to address these, often end up entangled in them. This puts the burden on client\n",
      "implementers to try and gauge community sentiment, which hinders the technical coordination function\n",
      "of EIPs and AllCoreDevs calls. If you are shepherding an EIP, you can make the process of building\n",
      "community consensus easier by making sure that [the Ethereum Magicians forum](https://ethereum-\n",
      "magicians.org/) thread for your EIP includes or links to as much of the community discussion as\n",
      "possible and that various stakeholders are well-represented.  *In short, your role as the champion\n",
      "is to write the EIP using the style and format described below, shepherd the discussions in the\n",
      "appropriate forums, and build community consensus around the idea.*  ### EIP Process  The following\n",
      "is the standardization process for all EIPs in all tracks:  ![EIP Status\n",
      "Diagram](../assets/eip-1/EIP-process-update.jpg)  **Idea** - An idea that is pre-draft. This is not\n",
      "tracked within the EIP Repository.  **Draft** - The first formally tracked stage of an EIP in\n",
      "development. An EIP is merged by an EIP Editor into the EIP repository when properly formatted.\n",
      "**Review** - An EIP Author marks an EIP as ready for and requesting Peer Review.  **Last Call** -\n",
      "This is the final review window for an EIP before moving to `Final`. An EIP editor will assign `Last\n",
      "Call` status and set a review end date (`last-call-deadline`), typically 14 days later.  If this\n",
      "period results in necessary normative changes it will revert the EIP to `Review`.  **Final** - This\n",
      "EIP represents the final standard. A Final EIP exists in a state of finality and should only be\n",
      "updated to correct errata and add non-normative clarifications.  A PR moving an EIP from Last Call\n",
      "to Final SHOULD contain no changes other than the status update. Any content or editorial proposed\n",
      "change SHOULD be separate from this status-updating PR and committed prior to it.  **Stagnant** -\n",
      "Any EIP in `Draft` or `Review` or `Last Call` if inactive for a period of 6 months or greater is\n",
      "moved to `Stagnant`. An EIP may be resurrected from this state by Authors or EIP Editors through\n",
      "moving it back to `Draft` or its earlier status. If not resurrected, a proposal may stay forever in\n",
      "this status.  >*EIP Authors are notified of any algorithmic change to the status of their EIP*\n",
      "**Withdrawn** - The EIP Author(s) have withdrawn the proposed EIP. This state has finality and can\n",
      "no longer be resurrected using this EIP number. If the idea is pursued at later date it is\n",
      "considered a new proposal.  **Living** - A special status for EIPs that are designed to be\n",
      "continually updated and not reach a state of finality. This includes most notably EIP-1.\n"
     ]
    }
   ],
   "source": [
    "print(textwrap.fill(erc_data_chunks_sections[3][\"section\"], width=100))"
   ]
  },
  {
   "cell_type": "code",
   "execution_count": 108,
   "id": "7ec4158c",
   "metadata": {},
   "outputs": [
    {
     "name": "stdout",
     "output_type": "stream",
     "text": [
      "## EIP Work Flow\n",
      "\n",
      "### Shepherding an EIP\n",
      "\n",
      "Parties involved in the process are you, the champion or *EIP author*, the [*EIP editors*](#eip-editors), and the [*Ethereum Core Developers*](https://github.com/ethereum/pm).\n",
      "\n",
      "Before you begin writing a formal EIP, you should vet your idea. Ask the Ethereum community first if an idea is original to avoid wasting time on something that will be rejected based on prior research. It is thus recommended to open a discussion thread on [the Ethereum Magicians forum](https://ethereum-magicians.org/) to do this.\n",
      "\n",
      "Once the idea has been vetted, your next responsibility will be to present (by means of an EIP) the idea to the reviewers and all interested parties, invite editors, developers, and the community to give feedback on the aforementioned channels. You should try and gauge whether the interest in your EIP is commensurate with both the work involved in implementing it and how many parties will have to conform to it. For example, the work required for implementing a Core EIP will be much greater than for an ERC and the EIP will need sufficient interest from the Ethereum client teams. Negative community feedback will be taken into consideration and may prevent your EIP from moving past the Draft stage.\n",
      "\n",
      "### Core EIPs\n",
      "\n",
      "For Core EIPs, given that they require client implementations to be considered **Final** (see \"EIPs Process\" below), you will need to either provide an implementation for clients or convince clients to implement your EIP.\n",
      "\n",
      "The best way to get client implementers to review your EIP is to present it on an AllCoreDevs call. You can request to do so by posting a comment linking your EIP on an [AllCoreDevs agenda GitHub Issue](https://github.com/ethereum/pm/issues).  \n",
      "\n",
      "The AllCoreDevs call serves as a way for client implementers to do three things. First, to discuss the technical merits of EIPs. Second, to gauge what other clients will be implementing. Third, to coordinate EIP implementation for network upgrades.\n",
      "\n",
      "These calls generally result in a \"rough consensus\" around what EIPs should be implemented. This \"rough consensus\" rests on the assumptions that EIPs are not contentious enough to cause a network split and that they are technically sound.\n",
      "\n",
      ":warning: The EIPs process and AllCoreDevs call were not designed to address contentious non-technical issues, but, due to the lack of other ways to address these, often end up entangled in them. This puts the burden on client implementers to try and gauge community sentiment, which hinders the technical coordination function of EIPs and AllCoreDevs calls. If you are shepherding an EIP, you can make the process of building community consensus easier by making sure that [the Ethereum Magicians forum](https://ethereum-magicians.org/) thread for your EIP includes or links to as much of the community discussion as possible and that various stakeholders are well-represented.\n",
      "\n",
      "*In short, your role as the champion is to write the EIP using the style and format described below, shepherd the discussions in the appropriate forums, and build community consensus around the idea.*\n",
      "\n",
      "### EIP Process\n",
      "\n",
      "The following is the standardization process for all EIPs in all tracks:\n",
      "\n",
      "![EIP Status Diagram](../assets/eip-1/EIP-process-update.jpg)\n",
      "\n",
      "**Idea** - An idea that is pre-draft. This is not tracked within the EIP Repository.\n",
      "\n",
      "**Draft** - The first formally tracked stage of an EIP in development. An EIP is merged by an EIP Editor into the EIP repository when properly formatted.\n",
      "\n",
      "**Review** - An EIP Author marks an EIP as ready for and requesting Peer Review.\n",
      "\n",
      "**Last Call** - This is the final review window for an EIP before moving to `Final`. An EIP editor will assign `Last Call` status and set a review end date (`last-call-deadline`), typically 14 days later.\n",
      "\n",
      "If this period results in necessary normative changes it will revert the EIP to `Review`.\n",
      "\n",
      "**Final** - This EIP represents the final standard. A Final EIP exists in a state of finality and should only be updated to correct errata and add non-normative clarifications.\n",
      "\n",
      "A PR moving an EIP from Last Call to Final SHOULD contain no changes other than the status update. Any content or editorial proposed change SHOULD be separate from this status-updating PR and committed prior to it.\n",
      "\n",
      "**Stagnant** - Any EIP in `Draft` or `Review` or `Last Call` if inactive for a period of 6 months or greater is moved to `Stagnant`. An EIP may be resurrected from this state by Authors or EIP Editors through moving it back to `Draft` or its earlier status. If not resurrected, a proposal may stay forever in this status.\n",
      "\n",
      ">*EIP Authors are notified of any algorithmic change to the status of their EIP*\n",
      "\n",
      "**Withdrawn** - The EIP Author(s) have withdrawn the proposed EIP. This state has finality and can no longer be resurrected using this EIP number. If the idea is pursued at later date it is considered a new proposal.\n",
      "\n",
      "**Living** - A special status for EIPs that are designed to be continually updated and not reach a state of finality. This includes most notably EIP-1.\n"
     ]
    }
   ],
   "source": [
    "print(erc_data_chunks_sections[3][\"section\"], sep=\"\\n\")"
   ]
  },
  {
   "cell_type": "code",
   "execution_count": 122,
   "id": "6f01f0d2",
   "metadata": {},
   "outputs": [
    {
     "data": {
      "text/plain": [
       "5057"
      ]
     },
     "execution_count": 122,
     "metadata": {},
     "output_type": "execute_result"
    }
   ],
   "source": [
    "len(erc_data_chunks_sections[3][\"section\"])"
   ]
  },
  {
   "cell_type": "markdown",
   "id": "224d54bc",
   "metadata": {},
   "source": [
    "I think it worked well, but I need to verify more cases. The last section seens to be big."
   ]
  },
  {
   "cell_type": "markdown",
   "id": "5a5ba37e",
   "metadata": {},
   "source": []
  },
  {
   "cell_type": "markdown",
   "id": "0ab9da0c",
   "metadata": {},
   "source": [
    "### 2.4 Intelligent Chunking with LLM"
   ]
  },
  {
   "cell_type": "code",
   "execution_count": 7,
   "id": "3557bc5d",
   "metadata": {},
   "outputs": [
    {
     "name": "stdout",
     "output_type": "stream",
     "text": [
      "✅ Google AI configured successfully!\n"
     ]
    }
   ],
   "source": [
    "import google.generativeai as genai\n",
    "import os\n",
    "\n",
    "from dotenv import load_dotenv\n",
    "\n",
    "load_dotenv()\n",
    "\n",
    "try:\n",
    "    api_key = os.getenv(\"GOOGLE_API_KEY\")\n",
    "    if not api_key:\n",
    "        raise ValueError(\"The environment variable GOOGLE_API_KEY was not found.\")\n",
    "    \n",
    "    genai.configure(api_key=api_key)\n",
    "    print(\"✅ Google AI configured successfully!\")\n",
    "\n",
    "except ValueError as e:\n",
    "    logger.error(e)"
   ]
  },
  {
   "cell_type": "code",
   "execution_count": 8,
   "id": "2c5ebd55",
   "metadata": {},
   "outputs": [],
   "source": [
    "def llm(prompt, model='gemini-2.5-flash'):\n",
    "    \"\"\"\n",
    "    Sends a prompt to the Gemini model and returns the response as text.\n",
    "\n",
    "    Args:\n",
    "        prompt (str): The text to send to the model.\n",
    "        model (str): The Gemini model name to use.\n",
    "                     'gemini-1.5-flash' is a great fast and capable option.\n",
    "\n",
    "    Returns:\n",
    "        str: The generated text response from the model.\n",
    "    \"\"\"\n",
    "    model_instance = genai.GenerativeModel(model)\n",
    "\n",
    "    response = model_instance.generate_content(prompt)\n",
    "    \n",
    "    return response.text"
   ]
  },
  {
   "cell_type": "code",
   "execution_count": 9,
   "id": "92c380cd",
   "metadata": {},
   "outputs": [],
   "source": [
    "prompt_template = \"\"\"\n",
    "    Split the provided document into logical sections that make sense for a Q&A system.\n",
    "    \n",
    "    Each section should be self-contained and cover a specific topic or concept.\n",
    "    \n",
    "    <DOCUMENT>\n",
    "    {document}\n",
    "    </DOCUMENT>\n",
    "    \n",
    "    Use this format:\n",
    "    \n",
    "    ## Section Name\n",
    "    \n",
    "    Section content with all relevant details\n",
    "    \n",
    "    ---\n",
    "    \n",
    "    ## Another Section Name\n",
    "    \n",
    "    Another section content\n",
    "    \n",
    "    ---\n",
    "\"\"\".strip()\n"
   ]
  },
  {
   "cell_type": "code",
   "execution_count": null,
   "id": "65c6b493",
   "metadata": {},
   "outputs": [],
   "source": [
    "def intelligent_chunking(text):\n",
    "    prompt = prompt_template.format(document=text)\n",
    "    response = llm(prompt)\n",
    "    sections = response.split('---')\n",
    "    sections = [s.strip() for s in sections if s.strip()]\n",
    "\n",
    "    return sections"
   ]
  },
  {
   "cell_type": "code",
   "execution_count": 21,
   "id": "38293e28",
   "metadata": {},
   "outputs": [
    {
     "data": {
      "application/vnd.jupyter.widget-view+json": {
       "model_id": "361b59ee1f79450abca9a3daf38855f1",
       "version_major": 2,
       "version_minor": 0
      },
      "text/plain": [
       "  0%|          | 0/10 [00:00<?, ?it/s]"
      ]
     },
     "metadata": {},
     "output_type": "display_data"
    }
   ],
   "source": [
    "from tqdm.auto import tqdm\n",
    "\n",
    "erc_data_ai_chunks = []\n",
    "\n",
    "for doc in tqdm(erc_data[:10]):  # Limiting to first 10 documents for cost and time control\n",
    "    doc_copy = doc.copy()\n",
    "    doc_content = doc_copy.pop('content')\n",
    "\n",
    "    sections = intelligent_chunking(doc_content)\n",
    "    for section in sections:\n",
    "        count += 1\n",
    "        section_doc = doc_copy.copy()\n",
    "        section_doc['section'] = section\n",
    "        erc_data_ai_chunks.append(section_doc)"
   ]
  },
  {
   "cell_type": "code",
   "execution_count": 22,
   "id": "ae2bd175",
   "metadata": {},
   "outputs": [
    {
     "data": {
      "text/plain": [
       "256"
      ]
     },
     "execution_count": 22,
     "metadata": {},
     "output_type": "execute_result"
    }
   ],
   "source": [
    "len(erc_data_ai_chunks)"
   ]
  },
  {
   "cell_type": "code",
   "execution_count": 23,
   "id": "c40a0f79",
   "metadata": {},
   "outputs": [
    {
     "data": {
      "text/plain": [
       "{'eip': 1,\n",
       " 'title': 'EIP Purpose and Guidelines',\n",
       " 'status': 'Living',\n",
       " 'type': 'Meta',\n",
       " 'author': 'Martin Becze <mb@ethereum.org>, Hudson Jameson <hudson@ethereum.org>, et al.',\n",
       " 'created': datetime.date(2015, 10, 27),\n",
       " 'filename': 'ERCs-master/ERCS/eip-1.md',\n",
       " 'section': '## What is an EIP?\\n\\nAn EIP, or Ethereum Improvement Proposal, is a design document that provides information to the Ethereum community or describes a new feature for Ethereum, its processes, or environment. It should contain a concise technical specification of the feature and its rationale. The EIP author is responsible for building community consensus and documenting dissenting opinions.'}"
      ]
     },
     "execution_count": 23,
     "metadata": {},
     "output_type": "execute_result"
    }
   ],
   "source": [
    "erc_data_ai_chunks[0]"
   ]
  },
  {
   "cell_type": "code",
   "execution_count": 24,
   "id": "a950a23e",
   "metadata": {},
   "outputs": [
    {
     "data": {
      "text/plain": [
       "{'eip': 1,\n",
       " 'title': 'EIP Purpose and Guidelines',\n",
       " 'status': 'Living',\n",
       " 'type': 'Meta',\n",
       " 'author': 'Martin Becze <mb@ethereum.org>, Hudson Jameson <hudson@ethereum.org>, et al.',\n",
       " 'created': datetime.date(2015, 10, 27),\n",
       " 'filename': 'ERCs-master/ERCS/eip-1.md',\n",
       " 'section': \"## EIP Rationale and Purpose\\n\\nEIPs are intended to be the primary mechanism for proposing new features, gathering technical input from the community, and documenting Ethereum's design decisions. Since EIPs are maintained as text files in a versioned repository, their revision history serves as a historical record of feature proposals. For Ethereum implementers, EIPs offer a convenient way to track implementation progress, allowing them to list implemented EIPs for end-users to check the status of a given implementation or library.\"}"
      ]
     },
     "execution_count": 24,
     "metadata": {},
     "output_type": "execute_result"
    }
   ],
   "source": [
    "erc_data_ai_chunks[1]"
   ]
  },
  {
   "cell_type": "code",
   "execution_count": 25,
   "id": "8499e8ba",
   "metadata": {},
   "outputs": [
    {
     "data": {
      "text/plain": [
       "{'eip': 1,\n",
       " 'title': 'EIP Purpose and Guidelines',\n",
       " 'status': 'Living',\n",
       " 'type': 'Meta',\n",
       " 'author': 'Martin Becze <mb@ethereum.org>, Hudson Jameson <hudson@ethereum.org>, et al.',\n",
       " 'created': datetime.date(2015, 10, 27),\n",
       " 'filename': 'ERCs-master/ERCS/eip-1.md',\n",
       " 'section': '## EIP Types\\n\\nThere are three main types of EIPs, each serving a distinct purpose:\\n\\n*   **Standards Track EIP**: Describes changes affecting most or all Ethereum implementations. This includes network protocol changes, block/transaction validity rules, application standards, or any change impacting interoperability. Standards Track EIPs comprise a design document, an implementation, and sometimes an update to the formal specification. They are further categorized into:\\n    *   **Core**: Improvements requiring a consensus fork or relevant to \"core dev\" discussions (e.g., EIP-5, EIP-101). If a Core EIP proposes changes to the EVM, it must refer to instructions by their mnemonics and define their opcodes (e.g., `REVERT (0xfe)`).\\n    *   **Networking**: Improvements related to devp2p, Light Ethereum Subprotocol, whisper, and swarm network protocol specifications (e.g., EIP-8).\\n    *   **Interface**: Improvements concerning language-level standards like method names (e.g., EIP-6) and contract ABIs.\\n    *   **ERC**: Application-level standards and conventions, including token standards (e.g., ERC-20), name registries (e.g., ERC-137), URI schemes, library/package formats, and wallet formats.\\n*   **Meta EIP**: Describes a process surrounding Ethereum or proposes a change to an existing process or an event within it. These apply to areas outside the Ethereum protocol itself, may require community consensus, and are typically not optional to ignore. Examples include procedures, guidelines, changes to decision-making processes, and changes to development tools or environment. Any meta-EIP is also considered a Process EIP.\\n*   **Informational EIP**: Describes an Ethereum design issue, or provides general guidelines or information, but does not propose a new feature. Informational EIPs do not necessarily represent community consensus or a recommendation; users and implementers are free to ignore or follow their advice.\\n\\n**General EIP Criteria:**\\nIt is highly recommended that a single EIP focuses on a single key proposal or idea. An EIP must be a clear, complete description of the proposed enhancement, represent a net improvement, and its proposed implementation (if applicable) must be solid and not unduly complicate the protocol. A change affecting multiple clients or defining a standard for multiple applications requires an EIP, whereas a change to only one client does not.'}"
      ]
     },
     "execution_count": 25,
     "metadata": {},
     "output_type": "execute_result"
    }
   ],
   "source": [
    "erc_data_ai_chunks[2]"
   ]
  },
  {
   "cell_type": "code",
   "execution_count": 26,
   "id": "dae98a3b",
   "metadata": {},
   "outputs": [
    {
     "data": {
      "text/plain": [
       "{'eip': 1,\n",
       " 'title': 'EIP Purpose and Guidelines',\n",
       " 'status': 'Living',\n",
       " 'type': 'Meta',\n",
       " 'author': 'Martin Becze <mb@ethereum.org>, Hudson Jameson <hudson@ethereum.org>, et al.',\n",
       " 'created': datetime.date(2015, 10, 27),\n",
       " 'filename': 'ERCs-master/ERCS/eip-1.md',\n",
       " 'section': \"## EIP Work Flow: Shepherding an EIP\\n\\nThe EIP work flow involves the EIP author (champion), EIP editors, and Ethereum Core Developers.\\n\\n1.  **Vetting the Idea**: Before writing a formal EIP, authors should vet their idea by opening a discussion thread on the Ethereum Magicians forum to check for originality and avoid redundant work.\\n2.  **Presenting the Idea and Gathering Feedback**: Once vetted, the author presents the idea via an EIP to reviewers and interested parties, inviting feedback from editors, developers, and the community. Authors should gauge if community interest justifies the implementation work and the number of parties required to conform. Negative community feedback can prevent an EIP from advancing past the Draft stage.\\n3.  **Community Consensus**: The champion's role is to write the EIP in the prescribed format, lead discussions in appropriate forums, and build community consensus around the idea.\"}"
      ]
     },
     "execution_count": 26,
     "metadata": {},
     "output_type": "execute_result"
    }
   ],
   "source": [
    "erc_data_ai_chunks[3]"
   ]
  },
  {
   "cell_type": "code",
   "execution_count": 27,
   "id": "1c3ff66a",
   "metadata": {},
   "outputs": [
    {
     "name": "stdout",
     "output_type": "stream",
     "text": [
      "## EIP Work Flow: Shepherding an EIP\n",
      "\n",
      "The EIP work flow involves the EIP author (champion), EIP editors, and Ethereum Core Developers.\n",
      "\n",
      "1.  **Vetting the Idea**: Before writing a formal EIP, authors should vet their idea by opening a discussion thread on the Ethereum Magicians forum to check for originality and avoid redundant work.\n",
      "2.  **Presenting the Idea and Gathering Feedback**: Once vetted, the author presents the idea via an EIP to reviewers and interested parties, inviting feedback from editors, developers, and the community. Authors should gauge if community interest justifies the implementation work and the number of parties required to conform. Negative community feedback can prevent an EIP from advancing past the Draft stage.\n",
      "3.  **Community Consensus**: The champion's role is to write the EIP in the prescribed format, lead discussions in appropriate forums, and build community consensus around the idea.\n"
     ]
    }
   ],
   "source": [
    "print(erc_data_ai_chunks[3][\"section\"], sep=\"\\n\")"
   ]
  },
  {
   "cell_type": "code",
   "execution_count": 28,
   "id": "707adbb9",
   "metadata": {},
   "outputs": [
    {
     "data": {
      "text/plain": [
       "929"
      ]
     },
     "execution_count": 28,
     "metadata": {},
     "output_type": "execute_result"
    }
   ],
   "source": [
    "len(erc_data_ai_chunks[3][\"section\"])"
   ]
  },
  {
   "cell_type": "markdown",
   "id": "3a0978be",
   "metadata": {},
   "source": [
    "The result using AI seems to have been smaller than the previous method. Did we lose a lot of information?"
   ]
  },
  {
   "cell_type": "markdown",
   "id": "9109a864",
   "metadata": {},
   "source": []
  }
 ],
 "metadata": {
  "kernelspec": {
   "display_name": "ethereum-erc-rag",
   "language": "python",
   "name": "python3"
  },
  "language_info": {
   "codemirror_mode": {
    "name": "ipython",
    "version": 3
   },
   "file_extension": ".py",
   "mimetype": "text/x-python",
   "name": "python",
   "nbconvert_exporter": "python",
   "pygments_lexer": "ipython3",
   "version": "3.13.7"
  }
 },
 "nbformat": 4,
 "nbformat_minor": 5
}
